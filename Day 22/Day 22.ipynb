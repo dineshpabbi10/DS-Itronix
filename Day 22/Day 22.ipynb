{
 "cells": [
  {
   "cell_type": "markdown",
   "metadata": {},
   "source": [
    "## Pandas Day 22"
   ]
  },
  {
   "cell_type": "code",
   "execution_count": 1,
   "metadata": {},
   "outputs": [],
   "source": [
    "import pandas as pd\n",
    "import numpy as np"
   ]
  },
  {
   "cell_type": "code",
   "execution_count": 3,
   "metadata": {},
   "outputs": [],
   "source": [
    "## Minor axis = columns\n",
    "## Major Axis = Rows"
   ]
  },
  {
   "cell_type": "code",
   "execution_count": 6,
   "metadata": {},
   "outputs": [],
   "source": [
    "a = pd.DataFrame({\"A\":[1,2,3],\"B\":[\"a\",'b','c'],\"C\":[\"DI\",\"KU\",\"BH\"]})\n",
    "b = pd.DataFrame({\"A\":[1,2,3],\"B\":[\"a\",'b','c']})                                                    "
   ]
  },
  {
   "cell_type": "code",
   "execution_count": 7,
   "metadata": {},
   "outputs": [
    {
     "name": "stderr",
     "output_type": "stream",
     "text": [
      "c:\\users\\dell\\appdata\\local\\programs\\python\\python36\\lib\\site-packages\\IPython\\core\\interactiveshell.py:3267: FutureWarning: \n",
      "Panel is deprecated and will be removed in a future version.\n",
      "The recommended way to represent these types of 3-dimensional data are with a MultiIndex on a DataFrame, via the Panel.to_frame() method\n",
      "Alternatively, you can use the xarray package http://xarray.pydata.org/en/stable/.\n",
      "Pandas provides a `.to_xarray()` method to help automate this conversion.\n",
      "\n",
      "  exec(code_obj, self.user_global_ns, self.user_ns)\n",
      "c:\\users\\dell\\appdata\\local\\programs\\python\\python36\\lib\\site-packages\\pandas\\core\\panel.py:154: FutureWarning: Sorting because non-concatenation axis is not aligned. A future version\n",
      "of pandas will change to not sort by default.\n",
      "\n",
      "To accept the future behavior, pass 'sort=False'.\n",
      "\n",
      "To retain the current behavior and silence the warning, pass 'sort=True'.\n",
      "\n",
      "  minor_axis=minor_axis, copy=copy, dtype=dtype)\n"
     ]
    }
   ],
   "source": [
    "t = {\"item1\":a,\"item2\":b}\n",
    "p = pd.Panel(t)"
   ]
  },
  {
   "cell_type": "code",
   "execution_count": 8,
   "metadata": {},
   "outputs": [
    {
     "name": "stdout",
     "output_type": "stream",
     "text": [
      "<class 'pandas.core.panel.Panel'>\n",
      "Dimensions: 2 (items) x 3 (major_axis) x 3 (minor_axis)\n",
      "Items axis: item1 to item2\n",
      "Major_axis axis: 0 to 2\n",
      "Minor_axis axis: A to C\n"
     ]
    }
   ],
   "source": [
    "print(p)"
   ]
  },
  {
   "cell_type": "code",
   "execution_count": 9,
   "metadata": {},
   "outputs": [
    {
     "name": "stdout",
     "output_type": "stream",
     "text": [
      "   A  B   C\n",
      "0  1  a  DI\n",
      "1  2  b  KU\n",
      "2  3  c  BH\n"
     ]
    }
   ],
   "source": [
    "print(p[\"item1\"])"
   ]
  },
  {
   "cell_type": "code",
   "execution_count": 10,
   "metadata": {},
   "outputs": [
    {
     "name": "stdout",
     "output_type": "stream",
     "text": [
      "   A  B    C\n",
      "0  1  a  NaN\n",
      "1  2  b  NaN\n",
      "2  3  c  NaN\n"
     ]
    }
   ],
   "source": [
    "print(p[\"item2\"])"
   ]
  },
  {
   "cell_type": "code",
   "execution_count": 11,
   "metadata": {},
   "outputs": [
    {
     "name": "stdout",
     "output_type": "stream",
     "text": [
      "<class 'pandas.core.panel.Panel'>\n",
      "Dimensions: 2 (items) x 3 (major_axis) x 3 (minor_axis)\n",
      "Items axis: item1 to item2\n",
      "Major_axis axis: 0 to 2\n",
      "Minor_axis axis: A to C\n"
     ]
    }
   ],
   "source": [
    "print(p)"
   ]
  },
  {
   "cell_type": "code",
   "execution_count": 24,
   "metadata": {},
   "outputs": [
    {
     "ename": "ValueError",
     "evalue": "DataFrame constructor not properly called!",
     "output_type": "error",
     "traceback": [
      "\u001b[1;31m---------------------------------------------------------------------------\u001b[0m",
      "\u001b[1;31mValueError\u001b[0m                                Traceback (most recent call last)",
      "\u001b[1;32m<ipython-input-24-1a38d65fc4f4>\u001b[0m in \u001b[0;36m<module>\u001b[1;34m\u001b[0m\n\u001b[1;32m----> 1\u001b[1;33m \u001b[0mprint\u001b[0m\u001b[1;33m(\u001b[0m\u001b[0mpd\u001b[0m\u001b[1;33m.\u001b[0m\u001b[0mDataFrame\u001b[0m\u001b[1;33m(\u001b[0m\u001b[1;32mlambda\u001b[0m \u001b[0mx\u001b[0m\u001b[1;33m:\u001b[0m\u001b[0mp\u001b[0m\u001b[1;33m[\u001b[0m\u001b[0mx\u001b[0m\u001b[1;33m]\u001b[0m\u001b[1;33m,\u001b[0m\u001b[0mnp\u001b[0m\u001b[1;33m.\u001b[0m\u001b[0masarray\u001b[0m\u001b[1;33m(\u001b[0m\u001b[0mp\u001b[0m\u001b[1;33m.\u001b[0m\u001b[0mkeys\u001b[0m\u001b[1;33m(\u001b[0m\u001b[1;33m)\u001b[0m\u001b[1;33m)\u001b[0m\u001b[1;33m)\u001b[0m\u001b[1;33m)\u001b[0m\u001b[1;33m\u001b[0m\u001b[1;33m\u001b[0m\u001b[0m\n\u001b[0m",
      "\u001b[1;32mc:\\users\\dell\\appdata\\local\\programs\\python\\python36\\lib\\site-packages\\pandas\\core\\frame.py\u001b[0m in \u001b[0;36m__init__\u001b[1;34m(self, data, index, columns, dtype, copy)\u001b[0m\n\u001b[0;32m    420\u001b[0m                                          dtype=values.dtype, copy=False)\n\u001b[0;32m    421\u001b[0m             \u001b[1;32melse\u001b[0m\u001b[1;33m:\u001b[0m\u001b[1;33m\u001b[0m\u001b[1;33m\u001b[0m\u001b[0m\n\u001b[1;32m--> 422\u001b[1;33m                 \u001b[1;32mraise\u001b[0m \u001b[0mValueError\u001b[0m\u001b[1;33m(\u001b[0m\u001b[1;34m'DataFrame constructor not properly called!'\u001b[0m\u001b[1;33m)\u001b[0m\u001b[1;33m\u001b[0m\u001b[1;33m\u001b[0m\u001b[0m\n\u001b[0m\u001b[0;32m    423\u001b[0m \u001b[1;33m\u001b[0m\u001b[0m\n\u001b[0;32m    424\u001b[0m         \u001b[0mNDFrame\u001b[0m\u001b[1;33m.\u001b[0m\u001b[0m__init__\u001b[0m\u001b[1;33m(\u001b[0m\u001b[0mself\u001b[0m\u001b[1;33m,\u001b[0m \u001b[0mmgr\u001b[0m\u001b[1;33m,\u001b[0m \u001b[0mfastpath\u001b[0m\u001b[1;33m=\u001b[0m\u001b[1;32mTrue\u001b[0m\u001b[1;33m)\u001b[0m\u001b[1;33m\u001b[0m\u001b[1;33m\u001b[0m\u001b[0m\n",
      "\u001b[1;31mValueError\u001b[0m: DataFrame constructor not properly called!"
     ]
    }
   ],
   "source": [
    "# print(pd.DataFrame(lambda x:p[x],np.asarray(p.keys())))"
   ]
  },
  {
   "cell_type": "code",
   "execution_count": 25,
   "metadata": {},
   "outputs": [
    {
     "name": "stdout",
     "output_type": "stream",
     "text": [
      "      name  age  Rating\n",
      "0    Kunal   21    4.23\n",
      "1   Dinesh   21    5.40\n",
      "2  Nishant   21    3.40\n",
      "3  Bharpur   21    2.30\n",
      "\n",
      "Sum of Age  84\n",
      "\n",
      "Mean of Age 21.0\n",
      "\n",
      "Std of Age 0.0\n",
      "\n",
      "Count of Age 4\n",
      "\n",
      "Minimum Age 21\n",
      "\n",
      "Maximum Age 21\n",
      "\n",
      "Product of age 194481\n",
      "\n",
      "Median of Age 21.0\n",
      "\n",
      "Commulative Sum of Age 0    21\n",
      "1    42\n",
      "2    63\n",
      "3    84\n",
      "Name: age, dtype: int64\n",
      "\n",
      "Commulative Product of Age 0        21\n",
      "1       441\n",
      "2      9261\n",
      "3    194481\n",
      "Name: age, dtype: int64\n",
      "\n"
     ]
    }
   ],
   "source": [
    "d = {\n",
    "    \"name\": pd.Series(['Kunal','Dinesh','Nishant','Bharpur']),\n",
    "    \"age\": pd.Series([21,21,21,21]),\n",
    "    \"Rating\": pd.Series([4.23,5.4,3.4,2.3])\n",
    "}\n",
    "\n",
    "df = pd.DataFrame(d)\n",
    "print(df)\n",
    "print()\n",
    "print(\"Sum of Age \",df.age.sum())\n",
    "print()\n",
    "print(\"Mean of Age\",df.age.mean())\n",
    "print()\n",
    "print(\"Std of Age\",df.age.std())\n",
    "print()\n",
    "print(\"Count of Age\",df.age.count())\n",
    "print()\n",
    "print(\"Minimum Age\",df.age.min())\n",
    "print()\n",
    "print(\"Maximum Age\",df.age.max())\n",
    "print()\n",
    "print(\"Product of age\",df.age.prod())\n",
    "print()\n",
    "print(\"Median of Age\",df.age.median())\n",
    "print()\n",
    "print(\"Commulative Sum of Age\",df.age.cumsum())\n",
    "print()\n",
    "print(\"Commulative Product of Age\",df.age.cumprod())\n",
    "print()\n",
    "\n"
   ]
  },
  {
   "cell_type": "markdown",
   "metadata": {},
   "source": [
    "### Sorting"
   ]
  },
  {
   "cell_type": "code",
   "execution_count": 39,
   "metadata": {},
   "outputs": [
    {
     "name": "stdout",
     "output_type": "stream",
     "text": [
      "       col1      col2\n",
      "1  1.367212  0.273736\n",
      "4 -1.315892  2.140544\n",
      "2 -1.262588 -0.611285\n",
      "3  0.482629  0.732535\n",
      "6 -0.385028  1.020326\n",
      "5  2.133901  1.274017\n",
      "8  0.171874 -0.351267\n",
      "7  0.186605 -0.632884\n",
      "9  1.146044 -0.433967\n",
      "0 -0.001631  0.116339\n"
     ]
    }
   ],
   "source": [
    "data = pd.DataFrame(np.random.randn(10,2),index = [1,4,2,3,6,5,8,7,9,0],columns = ['col1','col2'])\n",
    "print(data)"
   ]
  },
  {
   "cell_type": "code",
   "execution_count": 40,
   "metadata": {},
   "outputs": [
    {
     "name": "stdout",
     "output_type": "stream",
     "text": [
      "       col1      col2\n",
      "0 -0.001631  0.116339\n",
      "1  1.367212  0.273736\n",
      "2 -1.262588 -0.611285\n",
      "3  0.482629  0.732535\n",
      "4 -1.315892  2.140544\n",
      "5  2.133901  1.274017\n",
      "6 -0.385028  1.020326\n",
      "7  0.186605 -0.632884\n",
      "8  0.171874 -0.351267\n",
      "9  1.146044 -0.433967\n"
     ]
    }
   ],
   "source": [
    "a = data.sort_index()\n",
    "print(a)"
   ]
  },
  {
   "cell_type": "code",
   "execution_count": 41,
   "metadata": {},
   "outputs": [
    {
     "name": "stdout",
     "output_type": "stream",
     "text": [
      "       col1      col2\n",
      "9  1.146044 -0.433967\n",
      "8  0.171874 -0.351267\n",
      "7  0.186605 -0.632884\n",
      "6 -0.385028  1.020326\n",
      "5  2.133901  1.274017\n",
      "4 -1.315892  2.140544\n",
      "3  0.482629  0.732535\n",
      "2 -1.262588 -0.611285\n",
      "1  1.367212  0.273736\n",
      "0 -0.001631  0.116339\n"
     ]
    }
   ],
   "source": [
    "b = data.sort_index(ascending=False)\n",
    "print(b)"
   ]
  },
  {
   "cell_type": "code",
   "execution_count": 42,
   "metadata": {},
   "outputs": [
    {
     "name": "stdout",
     "output_type": "stream",
     "text": [
      "       col1      col2\n",
      "4 -1.315892  2.140544\n",
      "2 -1.262588 -0.611285\n",
      "6 -0.385028  1.020326\n",
      "0 -0.001631  0.116339\n",
      "8  0.171874 -0.351267\n",
      "7  0.186605 -0.632884\n",
      "3  0.482629  0.732535\n",
      "9  1.146044 -0.433967\n",
      "1  1.367212  0.273736\n",
      "5  2.133901  1.274017\n"
     ]
    }
   ],
   "source": [
    "c = data.sort_values(by=\"col1\",kind = \"mergesort\") # Kinds: Mergesort,QuickSort,Heapsort\n",
    "print(c)"
   ]
  },
  {
   "cell_type": "markdown",
   "metadata": {},
   "source": [
    "### String Operations"
   ]
  },
  {
   "cell_type": "code",
   "execution_count": 45,
   "metadata": {},
   "outputs": [
    {
     "name": "stdout",
     "output_type": "stream",
     "text": [
      "0    Katrina\n",
      "1      Raman\n",
      "2    Jessica\n",
      "3     Albert\n",
      "4       1234\n",
      "5      Smith\n",
      "dtype: object\n",
      "\n",
      "0    katrina\n",
      "1      raman\n",
      "2    jessica\n",
      "3     albert\n",
      "4       1234\n",
      "5      smith\n",
      "dtype: object\n",
      "\n",
      "0    KATRINA\n",
      "1      RAMAN\n",
      "2    JESSICA\n",
      "3     ALBERT\n",
      "4       1234\n",
      "5      SMITH\n",
      "dtype: object\n",
      "\n",
      "0    7\n",
      "1    5\n",
      "2    7\n",
      "3    6\n",
      "4    4\n",
      "5    5\n",
      "dtype: int64\n",
      "\n",
      "0     True\n",
      "1     True\n",
      "2     True\n",
      "3    False\n",
      "4    False\n",
      "5    False\n",
      "dtype: bool\n",
      "\n",
      "0    K@trin@\n",
      "1      R@m@n\n",
      "2    Jessic@\n",
      "3     Albert\n",
      "4       1234\n",
      "5      Smith\n",
      "dtype: object\n",
      "\n",
      "0    KatrinaKatrina\n",
      "1        RamanRaman\n",
      "2    JessicaJessica\n",
      "3      AlbertAlbert\n",
      "4          12341234\n",
      "5        SmithSmith\n",
      "dtype: object\n",
      "\n",
      "0    2\n",
      "1    2\n",
      "2    1\n",
      "3    0\n",
      "4    0\n",
      "5    0\n",
      "dtype: int64\n",
      "\n",
      "0    False\n",
      "1    False\n",
      "2    False\n",
      "3    False\n",
      "4    False\n",
      "5     True\n",
      "dtype: bool\n",
      "\n",
      "0    False\n",
      "1    False\n",
      "2    False\n",
      "3     True\n",
      "4    False\n",
      "5    False\n",
      "dtype: bool\n",
      "\n",
      "0    5\n",
      "1    4\n",
      "2   -1\n",
      "3   -1\n",
      "4   -1\n",
      "5   -1\n",
      "dtype: int64\n",
      "\n",
      "0     []\n",
      "1     []\n",
      "2    [e]\n",
      "3    [e]\n",
      "4     []\n",
      "5     []\n",
      "dtype: object\n",
      "\n",
      "0    kATRINA\n",
      "1      rAMAN\n",
      "2    jESSICA\n",
      "3     aLBERT\n",
      "4       1234\n",
      "5      sMITH\n",
      "dtype: object\n",
      "\n",
      "0    False\n",
      "1    False\n",
      "2    False\n",
      "3    False\n",
      "4    False\n",
      "5    False\n",
      "dtype: bool\n",
      "\n",
      "0    False\n",
      "1    False\n",
      "2    False\n",
      "3    False\n",
      "4    False\n",
      "5    False\n",
      "dtype: bool\n",
      "\n",
      "0    False\n",
      "1    False\n",
      "2    False\n",
      "3    False\n",
      "4     True\n",
      "5    False\n",
      "dtype: bool\n"
     ]
    }
   ],
   "source": [
    "s = pd.Series(['Katrina','Raman','Jessica','Albert','1234','Smith'])\n",
    "print (s)\n",
    "print()\n",
    "print (s.str.lower())\n",
    "print()\n",
    "print (s.str.upper())\n",
    "print()\n",
    "print (s.str.len())\n",
    "print()\n",
    "print (s.str.contains('a'))\n",
    "print()\n",
    "print (s.str.replace('a','@'))\n",
    "print()\n",
    "print (s.str.repeat(2))\n",
    "print()\n",
    "print (s.str.count('a'))\n",
    "print()\n",
    "print (s.str. startswith ('S'))\n",
    "print()\n",
    "print (s.str.endswith('t'))\n",
    "print()\n",
    "print (s.str.find('n'))\n",
    "print()\n",
    "print (s.str.findall('e'))\n",
    "print()\n",
    "print (s.str.swapcase())\n",
    "print()\n",
    "print (s.str.islower())\n",
    "print()\n",
    "print (s.str.isupper())\n",
    "print()\n",
    "print (s.str.isnumeric())"
   ]
  },
  {
   "cell_type": "markdown",
   "metadata": {},
   "source": [
    "### Setting and Getting Options"
   ]
  },
  {
   "cell_type": "code",
   "execution_count": 46,
   "metadata": {},
   "outputs": [
    {
     "name": "stdout",
     "output_type": "stream",
     "text": [
      "60\n",
      "20\n",
      "80\n",
      "30\n",
      "60\n"
     ]
    }
   ],
   "source": [
    "print (pd.get_option(\"display.max_rows\"))\n",
    "print (pd.get_option(\"display.max_columns\"))\n",
    "\n",
    "pd.set_option(\"display.max_rows\",80)\n",
    "print (pd.get_option(\"display.max_rows\"))\n",
    "\n",
    "pd.set_option(\"display.max_columns\",30)\n",
    "print (pd.get_option(\"display.max_columns\"))\n",
    "\n",
    "pd.reset_option(\"display.max_rows\")\n",
    "print (pd.get_option(\"display.max_rows\"))"
   ]
  },
  {
   "cell_type": "markdown",
   "metadata": {},
   "source": [
    "### Indexing in Pandas"
   ]
  },
  {
   "cell_type": "markdown",
   "metadata": {},
   "source": [
    "#### Indexing\tDescription \n",
    "- .loc()\tLabel based\n",
    "- .iloc()\tInteger based\n",
    "- .ix()\tBoth Label and Integer based\n"
   ]
  },
  {
   "cell_type": "code",
   "execution_count": 54,
   "metadata": {},
   "outputs": [
    {
     "name": "stdout",
     "output_type": "stream",
     "text": [
      "          A         B         C         D         E\n",
      "a  1.256430 -1.062555  1.085256 -1.897440  1.555424\n",
      "b -1.224385  0.252329  0.571332  0.416108  0.590845\n",
      "c -0.342794 -0.099671  0.846163 -0.289181  0.543275\n",
      "d -0.484246  0.531083  0.251189  0.823238  1.620425\n",
      "e  0.462535 -0.247102  2.021907  1.195391  1.279873\n",
      "f  0.410860  0.081339  0.280267 -0.680470  1.250572\n",
      "g -0.046882 -0.190329  0.382096 -0.080298 -1.007098\n",
      "h -1.038418 -1.302711 -1.013485  0.208268 -0.486630\n",
      "i  1.503846 -0.990114 -0.631490 -1.171235  1.674035\n",
      "j  0.002172 -0.021871  0.297310  1.396721 -0.103070\n",
      "a    1.256430\n",
      "b   -1.224385\n",
      "c   -0.342794\n",
      "d   -0.484246\n",
      "e    0.462535\n",
      "f    0.410860\n",
      "g   -0.046882\n",
      "h   -1.038418\n",
      "i    1.503846\n",
      "j    0.002172\n",
      "Name: A, dtype: float64\n",
      "          A         B         C\n",
      "a  1.256430 -1.062555  1.085256\n",
      "b -1.224385  0.252329  0.571332\n",
      "c -0.342794 -0.099671  0.846163\n",
      "d -0.484246  0.531083  0.251189\n",
      "e  0.462535 -0.247102  2.021907\n",
      "f  0.410860  0.081339  0.280267\n",
      "g -0.046882 -0.190329  0.382096\n",
      "h -1.038418 -1.302711 -1.013485\n",
      "i  1.503846 -0.990114 -0.631490\n",
      "j  0.002172 -0.021871  0.297310\n",
      "          A         C\n",
      "a  1.256430  1.085256\n",
      "b -1.224385  0.571332\n",
      "c -0.342794  0.846163\n",
      "d -0.484246  0.251189\n",
      "e  0.462535  2.021907\n",
      "f  0.410860  0.280267\n",
      "g -0.046882  0.382096\n",
      "h -1.038418 -1.013485\n",
      "i  1.503846 -0.631490\n",
      "j  0.002172  0.297310\n",
      "          A         C\n",
      "a  1.256430  1.085256\n",
      "b -1.224385  0.571332\n",
      "f  0.410860  0.280267\n",
      "h -1.038418 -1.013485\n",
      "          A         B         C         D         E\n",
      "a  1.256430 -1.062555  1.085256 -1.897440  1.555424\n",
      "b -1.224385  0.252329  0.571332  0.416108  0.590845\n",
      "c -0.342794 -0.099671  0.846163 -0.289181  0.543275\n",
      "d -0.484246  0.531083  0.251189  0.823238  1.620425\n",
      "e  0.462535 -0.247102  2.021907  1.195391  1.279873\n",
      "f  0.410860  0.081339  0.280267 -0.680470  1.250572\n",
      "g -0.046882 -0.190329  0.382096 -0.080298 -1.007098\n",
      "h -1.038418 -1.302711 -1.013485  0.208268 -0.486630\n",
      "       A      B     C      D     E\n",
      "a   True  False  True  False  True\n",
      "b  False   True  True   True  True\n",
      "          A         B         C         D         E\n",
      "a  1.256430 -1.062555  1.085256 -1.897440  1.555424\n",
      "b -1.224385  0.252329  0.571332  0.416108  0.590845\n",
      "c -0.342794 -0.099671  0.846163 -0.289181  0.543275\n",
      "d -0.484246  0.531083  0.251189  0.823238  1.620425\n",
      "          C         D\n",
      "b  0.571332  0.416108\n",
      "c  0.846163 -0.289181\n",
      "d  0.251189  0.823238\n",
      "e  2.021907  1.195391\n",
      "\n",
      "Slicing through list of values\n",
      "\n",
      "          B         D\n",
      "b  0.252329  0.416108\n",
      "d  0.531083  0.823238\n",
      "f  0.081339 -0.680470\n",
      "          A         B         C         D         E\n",
      "b -1.224385  0.252329  0.571332  0.416108  0.590845\n",
      "c -0.342794 -0.099671  0.846163 -0.289181  0.543275\n",
      "          B         C\n",
      "a -1.062555  1.085256\n",
      "b  0.252329  0.571332\n",
      "c -0.099671  0.846163\n",
      "d  0.531083  0.251189\n",
      "e -0.247102  2.021907\n",
      "f  0.081339  0.280267\n",
      "g -0.190329  0.382096\n",
      "h -1.302711 -1.013485\n",
      "i -0.990114 -0.631490\n",
      "j -0.021871  0.297310\n",
      "          A         B         C         D         E\n",
      "a  1.256430 -1.062555  1.085256 -1.897440  1.555424\n",
      "b -1.224385  0.252329  0.571332  0.416108  0.590845\n",
      "c -0.342794 -0.099671  0.846163 -0.289181  0.543275\n",
      "d -0.484246  0.531083  0.251189  0.823238  1.620425\n",
      "a    1.256430\n",
      "b   -1.224385\n",
      "c   -0.342794\n",
      "d   -0.484246\n",
      "e    0.462535\n",
      "f    0.410860\n",
      "g   -0.046882\n",
      "h   -1.038418\n",
      "i    1.503846\n",
      "j    0.002172\n",
      "Name: A, dtype: float64\n",
      "a    1.256430\n",
      "b   -1.224385\n",
      "c   -0.342794\n",
      "d   -0.484246\n",
      "e    0.462535\n",
      "f    0.410860\n",
      "g   -0.046882\n",
      "h   -1.038418\n",
      "i    1.503846\n",
      "j    0.002172\n",
      "Name: A, dtype: float64\n",
      "          A         B\n",
      "a  1.256430 -1.062555\n",
      "b -1.224385  0.252329\n",
      "c -0.342794 -0.099671\n",
      "d -0.484246  0.531083\n",
      "e  0.462535 -0.247102\n",
      "f  0.410860  0.081339\n",
      "g -0.046882 -0.190329\n",
      "h -1.038418 -1.302711\n",
      "i  1.503846 -0.990114\n",
      "j  0.002172 -0.021871\n",
      "a   -1.062555\n",
      "b    0.252329\n",
      "c   -0.099671\n",
      "d    0.531083\n",
      "e   -0.247102\n",
      "f    0.081339\n",
      "g   -0.190329\n",
      "h   -1.302711\n",
      "i   -0.990114\n",
      "j   -0.021871\n",
      "Name: B, dtype: float64\n",
      "          A         C         B\n",
      "a  1.256430  1.085256 -1.062555\n",
      "c -0.342794  0.846163 -0.099671\n",
      "d -0.484246  0.251189  0.531083\n"
     ]
    },
    {
     "name": "stderr",
     "output_type": "stream",
     "text": [
      "c:\\users\\dell\\appdata\\local\\programs\\python\\python36\\lib\\site-packages\\ipykernel_launcher.py:30: DeprecationWarning: \n",
      ".ix is deprecated. Please use\n",
      ".loc for label based indexing or\n",
      ".iloc for positional indexing\n",
      "\n",
      "See the documentation here:\n",
      "http://pandas.pydata.org/pandas-docs/stable/indexing.html#ix-indexer-is-deprecated\n",
      "c:\\users\\dell\\appdata\\local\\programs\\python\\python36\\lib\\site-packages\\ipykernel_launcher.py:31: DeprecationWarning: \n",
      ".ix is deprecated. Please use\n",
      ".loc for label based indexing or\n",
      ".iloc for positional indexing\n",
      "\n",
      "See the documentation here:\n",
      "http://pandas.pydata.org/pandas-docs/stable/indexing.html#ix-indexer-is-deprecated\n"
     ]
    }
   ],
   "source": [
    "\n",
    "import pandas as pd\n",
    "import numpy as np\n",
    "\n",
    "df = pd.DataFrame(np.random.randn(10,5), index =['a','b','c','d','e','f','g','h','i','j'], columns = ['A','B','C','D','E'])\n",
    "print (df)\n",
    "#select all rows for a specific column\n",
    "print (df.loc[:,'A'])\n",
    "print (df.loc[:,'A':'C'])\n",
    "print (df.loc[:,['A','C']])\n",
    "\n",
    "# Select few rows for multiple columns, say list[]\n",
    "print (df.loc[['a','b','f','h'],['A','C']])\n",
    "print (df.loc['a':'h'])\n",
    "\n",
    "# for getting values with a boolean array\n",
    "print (df.loc[['a','b']]>0)\n",
    "\n",
    "# select all rows for a specific column\n",
    "print (df.iloc[:4])\n",
    "# Integer slicing\n",
    "print (df.iloc[1:5, 2:4])\n",
    "\n",
    "print (\"\\nSlicing through list of values\\n\")\n",
    "print (df.iloc[[1, 3, 5], [1, 3]])\n",
    "print (df.iloc[1:3, :])\n",
    "print (df.iloc[:,1:3])\n",
    "\n",
    "# Integer slicing with ix - Hybrid\n",
    "print (df.ix[:4])\n",
    "print (df.ix[:,'A'])\n",
    "\n",
    "#Note:each operation can be performed on the DataFrame object. \n",
    "print (df['A'])\n",
    "print (df[['A','B']])\n",
    "#Columns can be selected using the attribute operator '.'\n",
    "print (df.B)\n",
    "\n",
    "#reindex the DataFrame\n",
    "df_reindexed = df.reindex(index=['a','c','d'], columns=['A', 'C', 'B'])\n",
    "print (df_reindexed)"
   ]
  },
  {
   "cell_type": "markdown",
   "metadata": {},
   "source": [
    "###  ReIndex"
   ]
  },
  {
   "cell_type": "code",
   "execution_count": 62,
   "metadata": {},
   "outputs": [
    {
     "name": "stdout",
     "output_type": "stream",
     "text": [
      "\n",
      "Data Frame1\n",
      "        col1      col2      col3\n",
      "0  0.422279 -0.629533  0.107360\n",
      "1 -0.490089  1.307023 -1.018162\n",
      "2  0.032124  1.830020  1.602062\n",
      "3  0.197657 -0.087912  2.440728\n",
      "4  0.198523  0.257174  0.617627\n",
      "5 -0.513548  0.862318  1.365041\n",
      "6  0.112817  0.600233  0.779806\n",
      "7 -1.515176  0.804934  2.741438\n",
      "8  1.180355  1.274781  0.319309\n",
      "9  0.368550 -1.367241 -1.424610\n",
      "\n",
      "Data Frame2\n",
      "        col1      col2      col3\n",
      "0  0.261666  0.326895 -0.219107\n",
      "1  0.494894  1.243693  0.716995\n",
      "2 -0.748606 -1.927809 -1.202289\n",
      "3  0.340838 -0.186283 -2.119435\n",
      "4 -0.808930 -0.226532 -2.089747\n",
      "5  1.822316 -0.558720 -1.447709\n",
      "6  1.172627  0.092825  0.833960\n",
      "\n",
      "New Data Frame\n",
      "        col1      col2      col3\n",
      "0  0.422279 -0.629533  0.107360\n",
      "1 -0.490089  1.307023 -1.018162\n",
      "2  0.032124  1.830020  1.602062\n",
      "3  0.197657 -0.087912  2.440728\n",
      "4  0.198523  0.257174  0.617627\n",
      "5 -0.513548  0.862318  1.365041\n",
      "6  0.112817  0.600233  0.779806\n",
      "\n",
      "Data Frame1\n",
      "        col1      col2      col3\n",
      "0  0.785104  1.180582  1.377794\n",
      "1  0.379477 -1.282543  1.888352\n",
      "2 -0.358688  0.081536  1.098190\n",
      "3 -1.309467 -1.829160  0.724651\n",
      "4  0.773361 -0.302017  0.170770\n",
      "5 -0.211781 -0.495063 -1.163002\n",
      "\n",
      "Data Frame2\n",
      "        col1      col2      col3\n",
      "0  1.945184  0.806281 -0.062670\n",
      "1  1.109183  0.779886  0.171631\n",
      "       col1      col2      col3\n",
      "0  1.945184  0.806281 -0.062670\n",
      "1  1.109183  0.779886  0.171631\n",
      "2       NaN       NaN       NaN\n",
      "3       NaN       NaN       NaN\n",
      "4       NaN       NaN       NaN\n",
      "5       NaN       NaN       NaN\n",
      "Data Frame with Forward Fill:\n",
      "\n",
      "Forward Fill\n",
      "        col1      col2      col3\n",
      "0  1.945184  0.806281 -0.062670\n",
      "1  1.109183  0.779886  0.171631\n",
      "2  1.109183  0.779886  0.171631\n",
      "3  1.109183  0.779886  0.171631\n",
      "4  1.109183  0.779886  0.171631\n",
      "5  1.109183  0.779886  0.171631\n",
      "\n",
      "Backward Fill\n",
      "        col1      col2      col3\n",
      "0  1.945184  0.806281 -0.062670\n",
      "1  1.109183  0.779886  0.171631\n",
      "2       NaN       NaN       NaN\n",
      "3       NaN       NaN       NaN\n",
      "4       NaN       NaN       NaN\n",
      "5       NaN       NaN       NaN\n",
      "\n",
      "Nearest Fill\n",
      "        col1      col2      col3\n",
      "0  1.945184  0.806281 -0.062670\n",
      "1  1.109183  0.779886  0.171631\n",
      "2  1.109183  0.779886  0.171631\n",
      "3  1.109183  0.779886  0.171631\n",
      "4  1.109183  0.779886  0.171631\n",
      "5  1.109183  0.779886  0.171631\n",
      "Data Frame with Forward Fill limiting to 1:\n",
      "       col1      col2      col3\n",
      "0  1.945184  0.806281 -0.062670\n",
      "1  1.109183  0.779886  0.171631\n",
      "2  1.109183  0.779886  0.171631\n",
      "3  1.109183  0.779886  0.171631\n",
      "4       NaN       NaN       NaN\n",
      "5       NaN       NaN       NaN\n",
      "\n",
      "Renaming Rows and Columns\n",
      "\n",
      "       col1      col2      col3\n",
      "0 -0.417402 -1.582754  0.324418\n",
      "1  0.983679  1.658095 -0.717610\n",
      "2 -0.164497  1.706447 -2.347486\n",
      "3 -0.251176 -2.110745  2.898097\n",
      "4  0.319236 -1.145263  0.798985\n",
      "5  0.278847 -0.876293  0.697656\n",
      "After renaming the rows and columns:\n",
      "             c1        c2      col3\n",
      "Apple -0.417402 -1.582754  0.324418\n",
      "Kiwi   0.983679  1.658095 -0.717610\n",
      "Mango -0.164497  1.706447 -2.347486\n",
      "3     -0.251176 -2.110745  2.898097\n",
      "4      0.319236 -1.145263  0.798985\n",
      "5      0.278847 -0.876293  0.697656\n"
     ]
    }
   ],
   "source": [
    "df1 = pd.DataFrame(np.random.randn(10,3),columns=['col1','col2','col3'])\n",
    "df2 = pd.DataFrame(np.random.randn(7,3),columns=['col1','col2','col3'])\n",
    "print (\"\\nData Frame1\\n\",df1)\n",
    "print (\"\\nData Frame2\\n\",df2)\n",
    "df1 = df1.reindex_like(df2)\n",
    "print (\"\\nNew Data Frame\\n\",df1)\n",
    "\n",
    "#Note : Here, the df1 DataFrame is altered and reindexed like df2. The column names should be matched or else NAN will be added for the entire column label.\n",
    "\n",
    "df1 = pd.DataFrame(np.random.randn(6,3),columns=['col1','col2','col3'])\n",
    "df2 = pd.DataFrame(np.random.randn(2,3),columns=['col1','col2','col3'])\n",
    "print (\"\\nData Frame1\\n\",df1)\n",
    "print (\"\\nData Frame2\\n\",df2)\n",
    "# Padding NAN's\n",
    "print (df2.reindex_like(df1))\n",
    "\n",
    "# Now Fill the NAN's with preceding Values\n",
    "print (\"Data Frame with Forward Fill:\")\n",
    "print (\"\\nForward Fill\\n\",df2.reindex_like(df1,method='ffill'))\n",
    "print (\"\\nBackward Fill\\n\",df2.reindex_like(df1,method='backfill'))\n",
    "print (\"\\nNearest Fill\\n\",df2.reindex_like(df1,method='nearest'))\n",
    "\n",
    "print (\"Data Frame with Forward Fill limiting to 1:\")\n",
    "print (df2.reindex_like(df1,method='ffill',limit=2))\n",
    "\n",
    "print (\"\\nRenaming Rows and Columns\\n\")\n",
    "df1 = pd.DataFrame(np.random.randn(6,3),columns=['col1','col2','col3'])\n",
    "print (df1)\n",
    "\n",
    "print (\"After renaming the rows and columns:\")\n",
    "print (df1.rename(columns={'col1' : 'c1', 'col2' : 'c2'},\n",
    "index = {0 : 'Apple', 1 : 'Kiwi', 2 : 'Mango'}))"
   ]
  },
  {
   "cell_type": "code",
   "execution_count": null,
   "metadata": {},
   "outputs": [],
   "source": []
  }
 ],
 "metadata": {
  "kernelspec": {
   "display_name": "Python 3",
   "language": "python",
   "name": "python3"
  },
  "language_info": {
   "codemirror_mode": {
    "name": "ipython",
    "version": 3
   },
   "file_extension": ".py",
   "mimetype": "text/x-python",
   "name": "python",
   "nbconvert_exporter": "python",
   "pygments_lexer": "ipython3",
   "version": "3.6.8"
  }
 },
 "nbformat": 4,
 "nbformat_minor": 2
}
