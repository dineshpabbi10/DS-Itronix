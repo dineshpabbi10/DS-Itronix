{
 "cells": [
  {
   "cell_type": "markdown",
   "metadata": {},
   "source": [
    "# DAY 3"
   ]
  },
  {
   "cell_type": "markdown",
   "metadata": {},
   "source": [
    "#### Functions\n",
    "- With argument\n",
    "- Without Argument\n",
    "- With Return \n",
    "- Without Return"
   ]
  },
  {
   "cell_type": "markdown",
   "metadata": {},
   "source": [
    "# Mail using Gmail"
   ]
  },
  {
   "cell_type": "code",
   "execution_count": 10,
   "metadata": {},
   "outputs": [],
   "source": [
    "def bulkmail():\n",
    "    from smtplib import SMTP\n",
    "    server = SMTP('smtp.gmail.com',587)\n",
    "    server.starttls()\n",
    "    server.login(\"swiftsnoop@gmail.com\",\"cohesiveforce\")\n",
    "    msg = \"This is a test\"\n",
    "    server.sendmail(\"swiftsnoop@gmail.com\",\"dineshpabbi10@gmail.com\",msg)\n",
    "    server.quit()\n",
    "bulkmail()"
   ]
  },
  {
   "cell_type": "markdown",
   "metadata": {},
   "source": [
    "# SMS From Python"
   ]
  },
  {
   "cell_type": "code",
   "execution_count": 20,
   "metadata": {},
   "outputs": [
    {
     "name": "stdout",
     "output_type": "stream",
     "text": [
      "SM28183537463f487d9555dfc07a4f84a2\n"
     ]
    }
   ],
   "source": [
    "from twilio.rest import Client\n",
    "\n",
    "# Your Account SID from twilio.com/console\n",
    "account_sid = \"ACb86e5e98a88a7f04aaab4adc8320c3bc\"\n",
    "# Your Auth Token from twilio.com/console\n",
    "auth_token  = \"d5618944ff5724070623fcaf478ed1cc\"\n",
    "\n",
    "client = Client(account_sid, auth_token)\n",
    "\n",
    "message = client.messages.create(\n",
    "    to=\"+917009253106\", \n",
    "    from_=\"+18646893493\",\n",
    "    body=\"Hello from Dinesh!\")\n",
    "\n",
    "print(message.sid)"
   ]
  },
  {
   "cell_type": "code",
   "execution_count": 21,
   "metadata": {},
   "outputs": [
    {
     "name": "stdout",
     "output_type": "stream",
     "text": [
      "SM2dd8f4c417d84b16a993fb918eefe303\n"
     ]
    }
   ],
   "source": [
    "import random\n",
    "a = random.randint(1000,9999)\n",
    "otp = \"Your OTP is \"+ str(a)\n",
    "from twilio.rest import Client\n",
    "\n",
    "# Your Account SID from twilio.com/console\n",
    "account_sid = \"ACb86e5e98a88a7f04aaab4adc8320c3bc\"\n",
    "# Your Auth Token from twilio.com/console\n",
    "auth_token  = \"d5618944ff5724070623fcaf478ed1cc\"\n",
    "\n",
    "client = Client(account_sid, auth_token)\n",
    "\n",
    "message = client.messages.create(\n",
    "    to=\"+917009253106\", \n",
    "    from_=\"+18646893493\",\n",
    "    body=otp)\n",
    "\n",
    "print(message.sid)\n"
   ]
  }
 ],
 "metadata": {
  "kernelspec": {
   "display_name": "Python 3",
   "language": "python",
   "name": "python3"
  },
  "language_info": {
   "codemirror_mode": {
    "name": "ipython",
    "version": 3
   },
   "file_extension": ".py",
   "mimetype": "text/x-python",
   "name": "python",
   "nbconvert_exporter": "python",
   "pygments_lexer": "ipython3",
   "version": "3.6.8"
  }
 },
 "nbformat": 4,
 "nbformat_minor": 2
}
