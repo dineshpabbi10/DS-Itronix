{
 "cells": [
  {
   "cell_type": "markdown",
   "metadata": {},
   "source": [
    "## Assignment 6"
   ]
  },
  {
   "cell_type": "code",
   "execution_count": 5,
   "metadata": {},
   "outputs": [],
   "source": [
    "import MySQLdb"
   ]
  },
  {
   "cell_type": "code",
   "execution_count": 8,
   "metadata": {},
   "outputs": [],
   "source": [
    "db = MySQLdb.connect(host=\"localhost\",user=\"root\",passwd=\"\",db=\"pratice\")\n",
    "cursor = db.cursor()\n",
    "# cursor.execute(\"CREATE TABLE ASSIGNMENT(name varchar(30),email varchar(30),password varchar(30),phone varchar(10),city varchar(30))\")"
   ]
  },
  {
   "cell_type": "code",
   "execution_count": 9,
   "metadata": {},
   "outputs": [],
   "source": [
    "def sendOTP():\n",
    "    import random\n",
    "    a = random.randint(1000,9999)\n",
    "    otp = \"Your OTP is \"+ str(a)\n",
    "    from twilio.rest import Client\n",
    "\n",
    "    # Your Account SID from twilio.com/console\n",
    "    account_sid = \"ACb86e5e98a88a7f04aaab4adc8320c3bc\"\n",
    "    # Your Auth Token from twilio.com/console\n",
    "    auth_token  = \"d5618944ff5724070623fcaf478ed1cc\"\n",
    "\n",
    "    client = Client(account_sid, auth_token)\n",
    "\n",
    "    message = client.messages.create(\n",
    "        to=\"+917009253106\", \n",
    "        from_=\"+18646893493\",\n",
    "        body=otp)\n",
    "\n",
    "    print(message.sid)\n",
    "    return a\n",
    "\n",
    "def call():\n",
    "    from twilio.rest import Client\n",
    "\n",
    "    # Your Account SID from twilio.com/console\n",
    "    account_sid = \"ACb86e5e98a88a7f04aaab4adc8320c3bc\"\n",
    "    # Your Auth Token from twilio.com/console\n",
    "    auth_token  = \"d5618944ff5724070623fcaf478ed1cc\"\n",
    "    client = Client(account_sid, auth_token)\n",
    "\n",
    "    call = client.calls.create(\n",
    "        to=\"+917009253106\", \n",
    "        from_=\"+18646893493\",\n",
    "        url=\"http://demo.twilio.com/docs/voice.xml\"\n",
    "    )\n",
    "\n",
    "    print(call.sid)"
   ]
  },
  {
   "cell_type": "code",
   "execution_count": 10,
   "metadata": {},
   "outputs": [],
   "source": [
    "def signin():\n",
    "    t = 0\n",
    "    x= True\n",
    "    while x:\n",
    "        email = input(\"Enter the email\\n\")\n",
    "        password = input(\"Enter the password\\n\")\n",
    "        \n",
    "        ## Fetch from Database\n",
    "        \n",
    "        cursor.execute(\"SELECT * FROM ASSIGNMENT WHERE email = %s and password = %s\",(email,password))\n",
    "        l = cursor.fetchall()\n",
    "        if(len(l)==0):\n",
    "            exit(1)\n",
    "        else:\n",
    "            l = l[0]\n",
    "        \n",
    "        \n",
    "        ## Logic\n",
    "            if email == l[1] and password == l[2]:\n",
    "                print(\"You entered correct email and password please check otp!\\n\")\n",
    "                otp = sendOTP()\n",
    "                print(otp)\n",
    "                o = int(input(\"Enter the OTP please\\n\"))\n",
    "                if otp == o:\n",
    "                    print(\"Login successfull\")\n",
    "                    x = False\n",
    "                else:\n",
    "                    print(\"Incorrect OTP entered\")\n",
    "\n",
    "            else:\n",
    "                print(\"You entered wrong email or password\")\n",
    "                t+=1\n",
    "                if(t>=3):\n",
    "                    m = input(\"Have you forgot password? Enter yes or no\")\n",
    "                    if m == \"yes\":\n",
    "                        forgot()\n",
    "                        x = False\n",
    "                    else:\n",
    "                        print(\"Do you wish to try again?\")\n",
    "                        m = input()\n",
    "                        if m == \"yes\":\n",
    "                            x = True\n",
    "                        else:\n",
    "                            x = False"
   ]
  },
  {
   "cell_type": "code",
   "execution_count": 17,
   "metadata": {},
   "outputs": [],
   "source": [
    "def signup():\n",
    "    name = input(\"Enter your name\\n\")\n",
    "    email = input(\"Enter the email\\n\")\n",
    "    password = input(\"Enter the password\\n\")\n",
    "    phone = input(\"Enter your phone number\")\n",
    "    city = input(\"Enter your ciy\\n\")\n",
    "    cursor.execute(\"\"\"INSERT INTO ASSIGNMENT(name,email,password,phone,city)\n",
    "                   VALUES(%s,%s,%s,%s,%s)\"\"\",(name,email,password,phone,city))\n",
    "    db.commit()\n",
    "    print(\"Signup Complete\")\n",
    "    \n",
    "    "
   ]
  },
  {
   "cell_type": "code",
   "execution_count": 12,
   "metadata": {},
   "outputs": [],
   "source": [
    "def forgot():\n",
    "    email = input(\"Enter your Email\\n\")\n",
    "    phone = input(\"Enter your Phone\\n\")\n",
    "    \n",
    "    ## Fetching\n",
    "    \n",
    "    cursor.execute(\"SELECT * FROM ASSIGNMENT WHERE email = %s and phone = %s\",(email,phone))\n",
    "    l = cursor.fetchall()\n",
    "    if(len(l)==0):\n",
    "        print(\"No user Data\")\n",
    "    else:\n",
    "        l = l[0]\n",
    "        print(l)\n",
    "\n",
    "        ##LOGIC\n",
    "\n",
    "        print(\"enter the OTP you recieved\")\n",
    "        otp = sendOTP()\n",
    "        print(otp)\n",
    "        o = int(input())\n",
    "        if o == otp:\n",
    "            print(\"OTP is correct\")\n",
    "            password = input(\"Enter new password\\n\")\n",
    "            cursor.execute(\"UPDATE ASSIGNMENT SET password = %s where email = %s and phone = %s\",(password,email,phone))\n",
    "            db.commit()\n",
    "            print(\"Password Changed!\")\n",
    "        else:\n",
    "            print(\"Wrong OTP entered\")\n"
   ]
  },
  {
   "cell_type": "code",
   "execution_count": 15,
   "metadata": {},
   "outputs": [],
   "source": [
    "def welcome():\n",
    "    print(\"Plese enter your choice:\")\n",
    "    print(\"1: Login\")\n",
    "    print(\"2: Signup\")\n",
    "    print(\"3: Forget Password\")\n",
    "    i = input(\"\\n\")\n",
    "    if i == \"1\":\n",
    "        signin()\n",
    "    elif i==\"2\":\n",
    "        signup()\n",
    "    elif i==\"3\":\n",
    "        forgot()\n",
    "    else:\n",
    "        print(\"Wrong choice entered\")"
   ]
  },
  {
   "cell_type": "code",
   "execution_count": 14,
   "metadata": {},
   "outputs": [
    {
     "name": "stdout",
     "output_type": "stream",
     "text": [
      "Enter your name\n",
      "Dinesh\n",
      "Enter the email\n",
      "dineshpabbi10@gmail.com\n",
      "Enter the password\n",
      "welcome\n",
      "Enter your phone number7009253106\n",
      "Enter your ciy\n",
      "Phagwara\n"
     ]
    }
   ],
   "source": [
    "signup()"
   ]
  },
  {
   "cell_type": "code",
   "execution_count": 16,
   "metadata": {},
   "outputs": [],
   "source": [
    "db.commit()"
   ]
  },
  {
   "cell_type": "code",
   "execution_count": 26,
   "metadata": {},
   "outputs": [
    {
     "name": "stdout",
     "output_type": "stream",
     "text": [
      "Enter the email\n",
      "dineshpabbi10@gmail.com\n",
      "Enter the password\n",
      "welcome\n",
      "(('Dinesh', 'dineshpabbi10@gmail.com', 'welcome', '7009253106', 'Phagwara'),)\n",
      "You entered correct email and password please check otp!\n",
      "\n",
      "SM0c81a4e9094347ab9f750397ff497516\n",
      "3209\n",
      "Enter the OTP please\n",
      "3209\n",
      "Login successfull\n"
     ]
    }
   ],
   "source": [
    "signin()"
   ]
  },
  {
   "cell_type": "code",
   "execution_count": 45,
   "metadata": {},
   "outputs": [
    {
     "name": "stdout",
     "output_type": "stream",
     "text": [
      "Enter your Email\n",
      "din\n",
      "Enter your Phone\n",
      "e\n",
      "()\n",
      "enter the OTP you recieved\n",
      "SM05b9ea5f46884f68b3481249cc1de2b2\n",
      "9087\n",
      "9087\n",
      "OTP is correct\n",
      "Enter new password\n",
      "2\n",
      "Password Changed!\n"
     ]
    }
   ],
   "source": [
    "forgot()"
   ]
  },
  {
   "cell_type": "code",
   "execution_count": 16,
   "metadata": {},
   "outputs": [
    {
     "name": "stdout",
     "output_type": "stream",
     "text": [
      "Plese enter your choice:\n",
      "1: Login\n",
      "2: Signup\n",
      "3: Forget Password\n",
      "\n",
      "2\n",
      "Enter your name\n",
      "Kunal Verma\n",
      "Enter the email\n",
      "vkunal1996@gmail.com\n",
      "Enter the password\n",
      "welcome123\n",
      "Enter your phone number9888542761\n",
      "Enter your ciy\n",
      "Jalandhar\n"
     ]
    }
   ],
   "source": [
    "welcome()"
   ]
  },
  {
   "cell_type": "code",
   "execution_count": 18,
   "metadata": {},
   "outputs": [
    {
     "name": "stdout",
     "output_type": "stream",
     "text": [
      "Plese enter your choice:\n",
      "1: Login\n",
      "2: Signup\n",
      "3: Forget Password\n",
      "\n",
      "1\n",
      "Enter the email\n",
      "vkunal1996@gmail.com\n",
      "Enter the password\n",
      "welcome123\n",
      "You entered correct email and password please check otp!\n",
      "\n",
      "SM8ab262be0253405297fb2a1842e5a70e\n",
      "9473\n",
      "Enter the OTP please\n",
      "9473\n",
      "Login successfull\n"
     ]
    }
   ],
   "source": [
    "welcome()"
   ]
  },
  {
   "cell_type": "code",
   "execution_count": null,
   "metadata": {},
   "outputs": [],
   "source": []
  }
 ],
 "metadata": {
  "kernelspec": {
   "display_name": "Python 3",
   "language": "python",
   "name": "python3"
  },
  "language_info": {
   "codemirror_mode": {
    "name": "ipython",
    "version": 3
   },
   "file_extension": ".py",
   "mimetype": "text/x-python",
   "name": "python",
   "nbconvert_exporter": "python",
   "pygments_lexer": "ipython3",
   "version": "3.6.8"
  }
 },
 "nbformat": 4,
 "nbformat_minor": 2
}
