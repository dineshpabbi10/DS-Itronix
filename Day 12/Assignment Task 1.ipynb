{
 "cells": [
  {
   "cell_type": "markdown",
   "metadata": {},
   "source": [
    "### Assignment 1"
   ]
  },
  {
   "cell_type": "raw",
   "metadata": {},
   "source": [
    "In a school, there are total 20 students numbered from 1 to 20. You’re given three lists named ‘C’, ‘F’, and ‘H’, representing students who play cricket, football, and hockey, respectively. Based on this information, find out and print the following: \n",
    "Students who play all the three sports\n",
    "Students who play both cricket and football but don’t play hockey\n",
    "Students who play exactly two of the sports\n",
    "Students who don’t play any of the three sports"
   ]
  },
  {
   "cell_type": "markdown",
   "metadata": {},
   "source": [
    "### Input 1:\n",
    "\n",
    "[2, 5, 9, 12, 13, 15, 16, 17, 18, 19]\n",
    "[2, 4, 5, 6, 7, 9, 13, 16, 20]\n",
    "[1, 2, 5, 9, 10, 11, 12, 13, 15, 20] \n",
    "\n",
    "### Output 1:\n",
    "\n",
    "[2, 5, 9, 13]\n",
    "[16]\n",
    "[12, 15, 16, 20]\n",
    "[3, 8, 14]"
   ]
  },
  {
   "cell_type": "code",
   "execution_count": 40,
   "metadata": {},
   "outputs": [
    {
     "name": "stdout",
     "output_type": "stream",
     "text": [
      "[2, 5, 9, 13]\n",
      "\n",
      "[16]\n",
      "\n",
      "[12, 15, 16, 20]\n",
      "\n",
      "[3, 8, 14]\n",
      "\n"
     ]
    }
   ],
   "source": [
    "def playallthree(C,F,H):\n",
    "    return list(set(C) & set(F) & set (H))\n",
    "\n",
    "def playCFnotH(C,F,H):\n",
    "    list1=(set(C) & set(F))\n",
    "    l=[ value for value in list1 if value not in H]\n",
    "    return l\n",
    "def playexactlytwo(C,F,H):\n",
    "    list1=(set(C) & set(F))\n",
    "    l1=[value for value in list1 if value not in H]\n",
    "    \n",
    "    list2=(set(F) & set(H))\n",
    "    l2=[value for value in list2 if value not in C]\n",
    "    \n",
    "    list3=(set(H) & set(C))\n",
    "    l3=[value for value in list3 if value not in F]\n",
    "    return l1+l2+l3\n",
    "    \n",
    "def playnosports(C,F,H):\n",
    "    i=1\n",
    "    l=[]\n",
    "    for i in range(21):\n",
    "        if(i not in C and i not in F and i not in H):\n",
    "            if i==0:\n",
    "                pass\n",
    "            else:\n",
    "                l.append(i)\n",
    "    return l\n",
    "C=[2, 5, 9, 12, 13, 15, 16, 17, 18, 19]\n",
    "F=[2, 4, 5, 6, 7, 9, 13, 16, 20] \n",
    "H=[1, 2, 5, 9, 10, 11, 12, 13, 15, 20]\n",
    "\n",
    "playall=[]\n",
    "playall=playallthree(C,F,H)\n",
    "playall.sort()\n",
    "print(playall)\n",
    "print()\n",
    "\n",
    "playCandFonly=[]\n",
    "playCandFonly=playCFnotH(C,F,H)\n",
    "playCandFonly.sort()\n",
    "print(playCandFonly)\n",
    "print()\n",
    "\n",
    "playexactlytwosports=[]\n",
    "playexactlytwosports=playexactlytwo(C,F,H)\n",
    "playexactlytwosports.sort()\n",
    "print(playexactlytwosports)\n",
    "print()\n",
    "\n",
    "playnosport=[]\n",
    "playnosport=playnosports(C,F,H)\n",
    "playnosport.sort()\n",
    "print(playnosport)\n",
    "print()"
   ]
  },
  {
   "cell_type": "raw",
   "metadata": {},
   "source": [
    "1.) What will the output be of ((500//7) % 5) ** 3?\n",
    "2.) How will you extract ‘love’ from the string S = “I love Python”?\n",
    "3.) If you have a list L = [1, 2, 3], what will the output of L * 2 be?\n",
    "4.) If you have a list L = [[1, 2, 3], [4, 5, 6], [7, 8, 9, 10]], what will the output of L[2: ] be?\n",
    "5.) If you have a tuple T = (3, 5, 7, 11), what will the output of T.append(9) be?\n",
    "6.) Given a number ‘n’, output its factorial using reduce().\n",
    "Note: Make sure you handle the edge case of zero. As you know, 0! = 1"
   ]
  },
  {
   "cell_type": "raw",
   "metadata": {},
   "source": [
    "1.) 1\n",
    "2.) print(s[2:6])\n",
    "3.) [1,2,3,1,2,3]\n",
    "4.) [[7,8,9,10]]\n",
    "5.) Error"
   ]
  },
  {
   "cell_type": "code",
   "execution_count": 94,
   "metadata": {},
   "outputs": [
    {
     "name": "stdout",
     "output_type": "stream",
     "text": [
      "Enter the Number7\n",
      "5040\n"
     ]
    }
   ],
   "source": [
    "# 6.)\n",
    "from functools import reduce\n",
    "global i\n",
    "def factorial(a,b):\n",
    "    if a==0:\n",
    "        a=1\n",
    "    return a*b\n",
    "\n",
    "num=int(input(\"Enter the Number\"))\n",
    "if num==0:\n",
    "    print(\"1\")\n",
    "else:\n",
    "    l=[]\n",
    "    for i in range(num+1):\n",
    "            l.append(i)\n",
    "    fact=reduce(factorial,l[1:])\n",
    "    print(fact)"
   ]
  }
 ],
 "metadata": {
  "kernelspec": {
   "display_name": "Python 3",
   "language": "python",
   "name": "python3"
  },
  "language_info": {
   "codemirror_mode": {
    "name": "ipython",
    "version": 3
   },
   "file_extension": ".py",
   "mimetype": "text/x-python",
   "name": "python",
   "nbconvert_exporter": "python",
   "pygments_lexer": "ipython3",
   "version": "3.7.1"
  }
 },
 "nbformat": 4,
 "nbformat_minor": 2
}
