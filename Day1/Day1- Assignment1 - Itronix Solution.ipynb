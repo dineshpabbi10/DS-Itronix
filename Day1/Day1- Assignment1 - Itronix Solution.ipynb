{
 "cells": [
  {
   "cell_type": "markdown",
   "metadata": {},
   "source": [
    "# Check if the number is +ve or not"
   ]
  },
  {
   "cell_type": "code",
   "execution_count": 3,
   "metadata": {},
   "outputs": [
    {
     "name": "stdout",
     "output_type": "stream",
     "text": [
      "Please Enter the Number0\n",
      "0  is neutral\n"
     ]
    }
   ],
   "source": [
    "num=int(input(\"Please Enter the Number \"))\n",
    "if(num>0):\n",
    "    print(num,\" is a positive number\")\n",
    "elif(num<0):\n",
    "    print(num,\" is a negative number\")\n",
    "else:\n",
    "    print(num,\" is neutral\")"
   ]
  },
  {
   "cell_type": "markdown",
   "metadata": {},
   "source": [
    "# Greatest Numbers between two numbers."
   ]
  },
  {
   "cell_type": "code",
   "execution_count": 5,
   "metadata": {},
   "outputs": [
    {
     "name": "stdout",
     "output_type": "stream",
     "text": [
      " Please Enter first Number 34\n",
      " Please Enter Second Number 12\n",
      "34  is greater than  12\n"
     ]
    }
   ],
   "source": [
    "a=int(input(\" Please Enter first Number \"))\n",
    "b=int(input(\" Please Enter Second Number \"))\n",
    "if a>b:\n",
    "    print(a,\" is greater than \",b)\n",
    "else:\n",
    "    print(b,\" is greater than \",a)"
   ]
  },
  {
   "cell_type": "markdown",
   "metadata": {},
   "source": [
    "# Greatest Between three Numbers."
   ]
  },
  {
   "cell_type": "code",
   "execution_count": 10,
   "metadata": {},
   "outputs": [
    {
     "name": "stdout",
     "output_type": "stream",
     "text": [
      "Please Enter first Number -10\n",
      "Please Enter Second Number -9\n",
      "Please Enter third Number -8\n",
      "-8  is greatest\n"
     ]
    }
   ],
   "source": [
    "a=int(input(\"Please Enter first Number \"))\n",
    "b=int(input(\"Please Enter Second Number \"))\n",
    "c=int(input(\"Please Enter third Number \"))\n",
    "if a>b:\n",
    "    if a>c:\n",
    "        print(a,\" is greatest\")\n",
    "    else:\n",
    "        print(c, \"is greatest\")\n",
    "elif b>c:\n",
    "    if b>a:\n",
    "        print(b,\" is greatest\")\n",
    "    else:\n",
    "        print(a, \"is greatest\")\n",
    "elif c>a:\n",
    "    if c>b:\n",
    "        print(c,\" is greatest\")\n",
    "    else:\n",
    "        print(b, \"is greatest\")\n"
   ]
  },
  {
   "cell_type": "markdown",
   "metadata": {},
   "source": [
    "# Check if number is Even or Odd."
   ]
  },
  {
   "cell_type": "code",
   "execution_count": 12,
   "metadata": {},
   "outputs": [
    {
     "name": "stdout",
     "output_type": "stream",
     "text": [
      "Please Enter the Number99\n",
      "99  is Odd Number\n"
     ]
    }
   ],
   "source": [
    "num=int(input(\"Please Enter the Number\"))\n",
    "if num % 2 ==0:\n",
    "    print(num,\" is Even Number\")\n",
    "else:\n",
    "    print(num,\" is Odd Number\")"
   ]
  },
  {
   "cell_type": "markdown",
   "metadata": {},
   "source": [
    "# Check if number is Even or Odd (No Modulo Operator)"
   ]
  },
  {
   "cell_type": "code",
   "execution_count": 15,
   "metadata": {},
   "outputs": [
    {
     "name": "stdout",
     "output_type": "stream",
     "text": [
      "Please Enter the Number20\n",
      "20  is Even Number\n"
     ]
    }
   ],
   "source": [
    "num=int(input(\"Please Enter the Number\"))\n",
    "if num & 1 ==0:\n",
    "    print(num,\" is Even Number\")\n",
    "else:\n",
    "    print(num,\" is Odd Number\")"
   ]
  },
  {
   "cell_type": "markdown",
   "metadata": {},
   "source": [
    "# Check if number is even or odd only if number >6"
   ]
  },
  {
   "cell_type": "code",
   "execution_count": 19,
   "metadata": {},
   "outputs": [
    {
     "name": "stdout",
     "output_type": "stream",
     "text": [
      "Please Enter the Number19\n",
      "19  is Odd Number\n"
     ]
    }
   ],
   "source": [
    "num=int(input(\"Please Enter the Number\"))\n",
    "if num<6:\n",
    "    print(\"Invalid Number\")\n",
    "else:\n",
    "    if num & 1 ==0:\n",
    "        print(num,\" is Even Number\")\n",
    "    else:\n",
    "        print(num,\" is Odd Number\")"
   ]
  }
 ],
 "metadata": {
  "kernelspec": {
   "display_name": "Python 3",
   "language": "python",
   "name": "python3"
  },
  "language_info": {
   "codemirror_mode": {
    "name": "ipython",
    "version": 3
   },
   "file_extension": ".py",
   "mimetype": "text/x-python",
   "name": "python",
   "nbconvert_exporter": "python",
   "pygments_lexer": "ipython3",
   "version": "3.7.1"
  }
 },
 "nbformat": 4,
 "nbformat_minor": 2
}
