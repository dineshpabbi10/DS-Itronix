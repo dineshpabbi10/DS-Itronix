{
 "cells": [
  {
   "cell_type": "markdown",
   "metadata": {},
   "source": [
    "# File Handling\n",
    "\n",
    "\n",
    "### Open\n",
    "### Close\n",
    "### Read\n",
    "### Write\n",
    "\n",
    "### Modes -> r,w,a,r+,w+,a+, (rb,wb,ab)-> binary files"
   ]
  },
  {
   "cell_type": "code",
   "execution_count": 4,
   "metadata": {},
   "outputs": [],
   "source": [
    "fo=open(\"abc.txt\",\"w\")\n",
    "fo.write(\"Hello World\")\n",
    "fo.close()\n",
    "\n",
    "## r-> will find if dile exists\n",
    "## w-> will create file and open in write mode\n",
    "## a-> will append existing file\n",
    "\n",
    "##Modes with + sign can create files if not exists"
   ]
  },
  {
   "cell_type": "code",
   "execution_count": 6,
   "metadata": {},
   "outputs": [],
   "source": [
    "def createFile():\n",
    "    b=input(\"Enter the File Name\")\n",
    "    fo=open(b,\"w\")\n",
    "    fo.write(\"Hello\")\n",
    "    fo.close()\n",
    "def readFile():\n",
    "    c=fo.open(b,\"r\")\n",
    "    print(c)"
   ]
  },
  {
   "cell_type": "code",
   "execution_count": 13,
   "metadata": {},
   "outputs": [
    {
     "name": "stdout",
     "output_type": "stream",
     "text": [
      "HelloHelloHelloHelloHello\n",
      "\n",
      "25\n"
     ]
    }
   ],
   "source": [
    "fo =open(\"hello.txt\",\"a+\")\n",
    "fo.write(\"Hello\")\n",
    "\n",
    "fo.seek(0,0)   ## in C we use fseek function to point cursor to starting\n",
    "a=fo.read()\n",
    "\n",
    "b=fo.read(10) ## 10 Characters from starting   ## in Python we use fo.seek(postion,whens) whesn-> 0 for start 1 for current 2 for end\n",
    "print(a)\n",
    "print(b)\n",
    "\n",
    "l=fo.tell()  ## return the length of the file ## can be used to read the contents from the end\n",
    "print(l)\n",
    "fo.close()"
   ]
  },
  {
   "cell_type": "markdown",
   "metadata": {},
   "source": [
    "## Press 1 for signup\n",
    "## Press 2 for login\n",
    "\n",
    "## signup()-> Name,Email,Pass,Phone No, City -> goes to filename -> filename= email name\n",
    "## login()-> Enter Email id, Enter Password compare with second and third line -> Send OTP -> OTP correct then access granted\n",
    "\n",
    "## FogetPassword()-> Enter Email, Phone number, -> Send OTP -> Change password in the file."
   ]
  },
  {
   "cell_type": "code",
   "execution_count": 5,
   "metadata": {},
   "outputs": [],
   "source": [
    "def signup():\n",
    "    username=input(\"Enter the Name \")\n",
    "    email=input(\"Enter the Email \")\n",
    "    password=input(\"Enter the Password \")\n",
    "    phone=input(\"Enter the Phone Number \")\n",
    "    city=input(\"Enter the City \")\n",
    "    \n",
    "    fo=open(email+\".txt\",\"w\")\n",
    "    fo.write(username+\"\\n\"+email+\"\\n\"+password+\"\\n\"+phone+\"\\n\"+city)\n",
    "    fo.close()\n",
    "    print(\"Sign up Succesfull\")"
   ]
  },
  {
   "cell_type": "code",
   "execution_count": 8,
   "metadata": {},
   "outputs": [],
   "source": [
    "def login():\n",
    "    import random\n",
    "    from twilio.rest import Client\n",
    "    email=input(\"Enter the Email Address \")\n",
    "    password=input(\"Enter the Password \")\n",
    "    data=[]\n",
    "    fo=open(email+\".txt\",\"r\")\n",
    "    data=fo.readlines()\n",
    "    ##print(data)\n",
    "    e=data[1]\n",
    "    p=data[2]\n",
    "    e=e[:-1]\n",
    "    p=p[:-1]\n",
    "    if e==email and p==password:\n",
    "        a=random.randint(1000,9999)\n",
    "        otp=\"Your Otp is \"+str(a)\n",
    "        print(a)\n",
    "        account_sid = 'AC2b08c61d97f3d464d4aac842d88d3233'\n",
    "        auth_token = 'c6ad75fd7a1dc89e50c0df942d140958'\n",
    "        client = Client(account_sid, auth_token)\n",
    "        message = client.messages.create(\n",
    "                  body=otp,\n",
    "                  from_='+14403067092',\n",
    "                  to='+918699973170',\n",
    "            )\n",
    "\n",
    "        print(\"OTP Sent\")\n",
    "        code=int(input(\"Please Enter the OTP\"))\n",
    "        i=1\n",
    "        while i<=3:\n",
    "            if code==a:\n",
    "                print(\"Login SuccessFul\")\n",
    "                print(\"Exiting Application\")\n",
    "                break\n",
    "            else:\n",
    "                i+=1\n",
    "                code=int(input(\"Please Enter the OTP\"))\n",
    "        if i==4:\n",
    "            print(\"OTP Authentication Failed. Exiting Application\")\n",
    "    else:\n",
    "        print(\"Invalid Username or Password\")\n",
    "    fo.close()"
   ]
  },
  {
   "cell_type": "code",
   "execution_count": 9,
   "metadata": {},
   "outputs": [],
   "source": [
    "def forgetpassword():\n",
    "    import random\n",
    "    from twilio.rest import Client\n",
    "    \n",
    "    email=input(\"Please Enter the Email \")\n",
    "    phone=input(\"Please Enter the Phone Number \")\n",
    "    \n",
    "    data=[]\n",
    "    fo=open(email+\".txt\",\"r\")\n",
    "    data=fo.readlines()\n",
    "    e=data[1]\n",
    "    ph=data[3]\n",
    "    e=e[:-1]\n",
    "    ph=ph[:-1]\n",
    "    fo.close()\n",
    "    if e==email and ph==phone:\n",
    "        a=random.randint(1000,9999)\n",
    "        otp=\"Your Otp is \"+str(a)\n",
    "        print(a)\n",
    "        account_sid = 'AC2b08c61d97f3d464d4aac842d88d3233'\n",
    "        auth_token = 'c6ad75fd7a1dc89e50c0df942d140958'\n",
    "        client = Client(account_sid, auth_token)\n",
    "        message = client.messages.create(\n",
    "                  body=otp,\n",
    "                  from_='+14403067092',\n",
    "                  to='+918699973170',\n",
    "            )\n",
    "\n",
    "        print(\"OTP Sent\")\n",
    "        code=int(input(\"Please Enter the OTP \"))\n",
    "        i=1\n",
    "        while i<=3:\n",
    "            if code==a:\n",
    "                fo=open(email+\".txt\",\"w\")\n",
    "                newpassword=input(\"Please Enter the new Password \")\n",
    "                data[2]=newpassword+\"\\n\"\n",
    "                fo.writelines(data)\n",
    "                fo.close()\n",
    "                print(\"Password Changed Successfully\")\n",
    "                answer=input(\"Do you want to Login? y/n\")\n",
    "                if answer==\"n\":\n",
    "                    break\n",
    "                elif answer==\"y\":\n",
    "                    login()\n",
    "                    break\n",
    "            else:\n",
    "                i+=1\n",
    "                code=int(input(\"Please Enter the OTP\"))\n",
    "            if i==4:\n",
    "                print(\"Authentication Failed\")\n",
    "    else:\n",
    "        print(\"Invalid Username or Password\")\n",
    "    fo.close()\n",
    "    "
   ]
  },
  {
   "cell_type": "code",
   "execution_count": 6,
   "metadata": {},
   "outputs": [
    {
     "name": "stdout",
     "output_type": "stream",
     "text": [
      "Enter the Name abc\n",
      "Enter the Email abc\n",
      "Enter the Password abc\n",
      "Enter the Phone Number abc\n",
      "Enter the City abc\n",
      "Sign up Succesfull\n"
     ]
    }
   ],
   "source": [
    "signup()"
   ]
  },
  {
   "cell_type": "code",
   "execution_count": 78,
   "metadata": {},
   "outputs": [
    {
     "name": "stdout",
     "output_type": "stream",
     "text": [
      "Enter the Email Address abc\n",
      "Enter the Password abc\n",
      "7678\n",
      "OTP Sent\n",
      "Please Enter the OTP7678\n",
      "Login SuccessFul\n",
      "Exiting Application\n",
      "OTP Authentication Failed. Exiting Application\n"
     ]
    }
   ],
   "source": [
    "login()"
   ]
  },
  {
   "cell_type": "code",
   "execution_count": 11,
   "metadata": {},
   "outputs": [
    {
     "name": "stdout",
     "output_type": "stream",
     "text": [
      "Please Enter the Email abc\n",
      "Please Enter the Phone Number abc\n",
      "9082\n",
      "OTP Sent\n",
      "Please Enter the OTP 9082\n",
      "Please Enter the new Password the\n",
      "Password Changed Successfully\n",
      "Do you want to Login? y/ny\n",
      "Enter the Email Address abc\n",
      "Enter the Password the\n",
      "9319\n",
      "OTP Sent\n",
      "Please Enter the OTP9319\n",
      "Login SuccessFul\n",
      "Exiting Application\n"
     ]
    }
   ],
   "source": [
    "forgetpassword()"
   ]
  }
 ],
 "metadata": {
  "kernelspec": {
   "display_name": "Python 3",
   "language": "python",
   "name": "python3"
  },
  "language_info": {
   "codemirror_mode": {
    "name": "ipython",
    "version": 3
   },
   "file_extension": ".py",
   "mimetype": "text/x-python",
   "name": "python",
   "nbconvert_exporter": "python",
   "pygments_lexer": "ipython3",
   "version": "3.6.7"
  }
 },
 "nbformat": 4,
 "nbformat_minor": 2
}
