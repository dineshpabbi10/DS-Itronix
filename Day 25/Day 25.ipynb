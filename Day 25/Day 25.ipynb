{
 "cells": [
  {
   "cell_type": "markdown",
   "metadata": {},
   "source": [
    "## Day25"
   ]
  },
  {
   "cell_type": "code",
   "execution_count": 1,
   "metadata": {},
   "outputs": [],
   "source": [
    "## importing the dependencies\n",
    "import numpy as np\n",
    "import pandas as pd\n",
    "import matplotlib.pyplot as plt"
   ]
  },
  {
   "cell_type": "code",
   "execution_count": 15,
   "metadata": {},
   "outputs": [],
   "source": [
    "ball_data = pd.read_csv(r\"C:\\Users\\dell\\Itronix\\Datasets\\Ball_by_Ball.csv\")\n",
    "match_data = pd.read_csv(r\"C:\\Users\\dell\\Itronix\\Datasets\\Match.csv\")\n",
    "player_data = pd.read_csv(r\"C:\\Users\\dell\\Itronix\\Datasets\\Player.csv\")\n",
    "player_match_data = pd.read_csv(r\"C:\\Users\\dell\\Itronix\\Datasets\\Player_Match.csv\")\n",
    "season_data = pd.read_csv(r\"C:\\Users\\dell\\Itronix\\Datasets\\Season.csv\")\n",
    "team_data = pd.read_csv(r\"C:\\Users\\dell\\Itronix\\Datasets\\Team.csv\")"
   ]
  },
  {
   "cell_type": "markdown",
   "metadata": {},
   "source": [
    "### Number of Matches in Each Stadium"
   ]
  },
  {
   "cell_type": "code",
   "execution_count": 121,
   "metadata": {},
   "outputs": [
    {
     "name": "stdout",
     "output_type": "stream",
     "text": [
      "                                                    Matches\n",
      "Venue_Name                                                 \n",
      "Barabati Stadium                                          7\n",
      "Brabourne Stadium                                        11\n",
      "Buffalo Park                                              3\n",
      "De Beers Diamond Oval                                     3\n",
      "Dr DY Patil Sports Academy                               17\n",
      "Dr. Y.S. Rajasekhara Reddy ACA-VDCA Cricket Sta...       11\n",
      "Dubai International Cricket Stadium                       7\n",
      "Eden Gardens                                             54\n",
      "Feroz Shah Kotla                                         53\n",
      "Green Park                                                2\n",
      "Himachal Pradesh Cricket Association Stadium              9\n",
      "Holkar Cricket Stadium                                    2\n",
      "JSCA International Stadium Complex                        7\n",
      "Kingsmead                                                15\n",
      "M Chinnaswamy Stadium                                    58\n",
      "MA Chidambaram Stadium, Chepauk                          48\n",
      "Maharashtra Cricket Association Stadium                   8\n",
      "Nehru Stadium                                             5\n",
      "New Wanderers Stadium                                     8\n",
      "Newlands                                                  7\n",
      "OUTsurance Oval                                           2\n",
      "Punjab Cricket Association IS Bindra Stadium, M...        7\n",
      "Punjab Cricket Association Stadium, Mohali               35\n",
      "Rajiv Gandhi International Stadium, Uppal                41\n",
      "Sardar Patel Stadium, Motera                             12\n",
      "Saurashtra Cricket Association Stadium                    5\n",
      "Sawai Mansingh Stadium                                   33\n",
      "Shaheed Veer Narayan Singh International Stadium          6\n",
      "Sharjah Cricket Stadium                                   6\n",
      "Sheikh Zayed Stadium                                      7\n",
      "St George's Park                                          7\n",
      "Subrata Roy Sahara Stadium                               17\n",
      "SuperSport Park                                          12\n",
      "Vidarbha Cricket Association Stadium, Jamtha              3\n",
      "Wankhede Stadium                                         49\n"
     ]
    }
   ],
   "source": [
    "m = match_data.loc[:,\"Venue_Name\"]\n",
    "m = pd.DataFrame(m)\n",
    "m= m.groupby(\"Venue_Name\",as_index=False)\n",
    "m = m[[\"Venue_Name\"]].agg(['count']).rename(columns={'count': 'Matches'})\n",
    "m.columns = m.columns.droplevel(0)\n",
    "print(m)\n",
    "# print(m)\n",
    "# print(type(m))\n",
    "# m = "
   ]
  },
  {
   "cell_type": "markdown",
   "metadata": {},
   "source": [
    "## Man Of the Match"
   ]
  },
  {
   "cell_type": "code",
   "execution_count": 163,
   "metadata": {},
   "outputs": [],
   "source": [
    "winner = match_data.loc[:,[\"Match_Date\",\"Season_Id\",\"Match_Winner_Id\"]]\n",
    "winner = winner.groupby(\"Season_Id\",as_index = False)\n",
    "temp = team_data.loc[:,[\"Team_Id\",\"Team_Name\"]]"
   ]
  },
  {
   "cell_type": "code",
   "execution_count": 176,
   "metadata": {
    "scrolled": true
   },
   "outputs": [
    {
     "name": "stdout",
     "output_type": "stream",
     "text": [
      "Winner of Season  1 : 5   Rajasthan Royals\n",
      "Winner of Season  2 : 8   Deccan Chargers\n",
      "Winner of Season  3 : 3   Chennai Super Kings\n",
      "Winner of Season  4 : 3   Chennai Super Kings\n",
      "Winner of Season  5 : 1   Kolkata Knight Riders\n",
      "Winner of Season  6 : 7   Mumbai Indians\n",
      "Winner of Season  7 : 1   Kolkata Knight Riders\n",
      "Winner of Season  8 : 7   Mumbai Indians\n",
      "Winner of Season  9 : 11   Sunrisers Hyderabad\n"
     ]
    }
   ],
   "source": [
    "for i,j in winner:\n",
    "    \n",
    "    w = int(winner.get_group(i).iloc[-1,2])\n",
    "    print(\"Winner of Season \",i,\":\",w,\" \",temp.iloc[w-1,1])\n"
   ]
  },
  {
   "cell_type": "markdown",
   "metadata": {},
   "source": [
    "## Man of the Match Count By Players"
   ]
  },
  {
   "cell_type": "code",
   "execution_count": 226,
   "metadata": {},
   "outputs": [],
   "source": [
    "motm = pd.DataFrame(match_data[\"Man_Of_The_Match_Id\"])\n",
    "motm = motm.groupby(\"Man_Of_The_Match_Id\")[\"Man_Of_The_Match_Id\"].count().sort_values(ascending = False)"
   ]
  },
  {
   "cell_type": "code",
   "execution_count": 227,
   "metadata": {},
   "outputs": [
    {
     "name": "stdout",
     "output_type": "stream",
     "text": [
      "Man_Of_The_Match_Id\n",
      "162.0    17\n",
      "31.0     16\n",
      "110.0    15\n",
      "187.0    14\n",
      "21.0     13\n",
      "57.0     13\n",
      "20.0     12\n",
      "19.0     12\n",
      "85.0     12\n",
      "40.0     12\n",
      "8.0      11\n",
      "41.0     11\n",
      "147.0    10\n",
      "9.0      10\n",
      "32.0     10\n",
      "100.0     9\n",
      "136.0     9\n",
      "133.0     8\n",
      "221.0     8\n",
      "35.0      7\n",
      "53.0      7\n",
      "334.0     6\n",
      "232.0     6\n",
      "73.0      6\n",
      "185.0     6\n",
      "104.0     6\n",
      "50.0      6\n",
      "208.0     6\n",
      "1.0       5\n",
      "46.0      5\n",
      "         ..\n",
      "125.0     1\n",
      "131.0     1\n",
      "132.0     1\n",
      "135.0     1\n",
      "137.0     1\n",
      "144.0     1\n",
      "149.0     1\n",
      "157.0     1\n",
      "161.0     1\n",
      "458.0     1\n",
      "178.0     1\n",
      "183.0     1\n",
      "186.0     1\n",
      "188.0     1\n",
      "191.0     1\n",
      "192.0     1\n",
      "196.0     1\n",
      "197.0     1\n",
      "201.0     1\n",
      "207.0     1\n",
      "210.0     1\n",
      "211.0     1\n",
      "214.0     1\n",
      "216.0     1\n",
      "223.0     1\n",
      "224.0     1\n",
      "230.0     1\n",
      "231.0     1\n",
      "233.0     1\n",
      "175.0     1\n",
      "Name: Man_Of_The_Match_Id, Length: 187, dtype: int64\n"
     ]
    }
   ],
   "source": [
    "print(motm)"
   ]
  },
  {
   "cell_type": "markdown",
   "metadata": {},
   "source": [
    "## Second Method"
   ]
  },
  {
   "cell_type": "code",
   "execution_count": 245,
   "metadata": {},
   "outputs": [],
   "source": [
    "motm = pd.DataFrame(match_data[\"Man_Of_The_Match_Id\"])\n",
    "motm = motm.groupby(\"Man_Of_The_Match_Id\")\n",
    "l = []\n",
    "for i,j in motm:\n",
    "    l.append([i,player_data.iloc[int(i),1],len(j)])\n",
    "    "
   ]
  },
  {
   "cell_type": "code",
   "execution_count": 246,
   "metadata": {},
   "outputs": [],
   "source": [
    "l = pd.DataFrame(l,columns=[\"Player Id\",\"Player Name\",\"MOTM WON\"])"
   ]
  },
  {
   "cell_type": "code",
   "execution_count": 251,
   "metadata": {},
   "outputs": [
    {
     "data": {
      "text/html": [
       "<div>\n",
       "<style scoped>\n",
       "    .dataframe tbody tr th:only-of-type {\n",
       "        vertical-align: middle;\n",
       "    }\n",
       "\n",
       "    .dataframe tbody tr th {\n",
       "        vertical-align: top;\n",
       "    }\n",
       "\n",
       "    .dataframe thead th {\n",
       "        text-align: right;\n",
       "    }\n",
       "</style>\n",
       "<table border=\"1\" class=\"dataframe\">\n",
       "  <thead>\n",
       "    <tr style=\"text-align: right;\">\n",
       "      <th></th>\n",
       "      <th>Player Id</th>\n",
       "      <th>Player Name</th>\n",
       "      <th>MOTM WON</th>\n",
       "    </tr>\n",
       "  </thead>\n",
       "  <tbody>\n",
       "    <tr>\n",
       "      <th>90</th>\n",
       "      <td>162.0</td>\n",
       "      <td>MC Henriques</td>\n",
       "      <td>17</td>\n",
       "    </tr>\n",
       "    <tr>\n",
       "      <th>21</th>\n",
       "      <td>31.0</td>\n",
       "      <td>SR Watson</td>\n",
       "      <td>16</td>\n",
       "    </tr>\n",
       "    <tr>\n",
       "      <th>67</th>\n",
       "      <td>110.0</td>\n",
       "      <td>LPC Silva</td>\n",
       "      <td>15</td>\n",
       "    </tr>\n",
       "    <tr>\n",
       "      <th>98</th>\n",
       "      <td>187.0</td>\n",
       "      <td>RJ Harris</td>\n",
       "      <td>14</td>\n",
       "    </tr>\n",
       "    <tr>\n",
       "      <th>36</th>\n",
       "      <td>57.0</td>\n",
       "      <td>SB Styris</td>\n",
       "      <td>13</td>\n",
       "    </tr>\n",
       "  </tbody>\n",
       "</table>\n",
       "</div>"
      ],
      "text/plain": [
       "    Player Id   Player Name  MOTM WON\n",
       "90      162.0  MC Henriques        17\n",
       "21       31.0     SR Watson        16\n",
       "67      110.0     LPC Silva        15\n",
       "98      187.0     RJ Harris        14\n",
       "36       57.0     SB Styris        13"
      ]
     },
     "execution_count": 251,
     "metadata": {},
     "output_type": "execute_result"
    }
   ],
   "source": [
    "l = l.sort_values(by=\"MOTM WON\",ascending=False)\n",
    "l.head(n=5)"
   ]
  },
  {
   "cell_type": "code",
   "execution_count": 253,
   "metadata": {},
   "outputs": [
    {
     "data": {
      "image/png": "[encoded data removed]",
      "text/plain": [
       "<Figure size 1080x1080 with 1 Axes>"
      ]
     },
     "metadata": {},
     "output_type": "display_data"
    }
   ],
   "source": [
    "plt.style.use(\"seaborn\")\n",
    "plt.figure(figsize=(15,15))\n",
    "plt.bar(l.iloc[:10,1],l.iloc[:10,2])\n",
    "plt.show()"
   ]
  },
  {
   "cell_type": "code",
   "execution_count": 231,
   "metadata": {},
   "outputs": [
    {
     "name": "stdout",
     "output_type": "stream",
     "text": [
      "99\n"
     ]
    }
   ],
   "source": []
  },
  {
   "cell_type": "code",
   "execution_count": null,
   "metadata": {},
   "outputs": [],
   "source": []
  }
 ],
 "metadata": {
  "kernelspec": {
   "display_name": "Python 3",
   "language": "python",
   "name": "python3"
  },
  "language_info": {
   "codemirror_mode": {
    "name": "ipython",
    "version": 3
   },
   "file_extension": ".py",
   "mimetype": "text/x-python",
   "name": "python",
   "nbconvert_exporter": "python",
   "pygments_lexer": "ipython3",
   "version": "3.6.8"
  }
 },
 "nbformat": 4,
 "nbformat_minor": 2
}
