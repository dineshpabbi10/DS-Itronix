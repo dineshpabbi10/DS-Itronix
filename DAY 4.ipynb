{
 "cells": [
  {
   "cell_type": "markdown",
   "metadata": {},
   "source": [
    "## File Handling\n",
    "- r\n",
    "- w\n",
    "- a\n",
    "- r+\n",
    "- w+\n",
    "- a+\n",
    "- rb\n",
    "- wb"
   ]
  },
  {
   "cell_type": "code",
   "execution_count": 8,
   "metadata": {},
   "outputs": [],
   "source": [
    "f = open(\"abc.text\",\"w\")\n",
    "f.write(\"Nishant is a Coder\")\n",
    "f.close()"
   ]
  },
  {
   "cell_type": "code",
   "execution_count": 10,
   "metadata": {},
   "outputs": [
    {
     "name": "stdout",
     "output_type": "stream",
     "text": [
      "Nishant is a good buoy\n"
     ]
    }
   ],
   "source": [
    "with open(\"abc.text\",\"r\") as f:\n",
    "    c = f.read()\n",
    "    print(c)"
   ]
  },
  {
   "cell_type": "code",
   "execution_count": 11,
   "metadata": {},
   "outputs": [
    {
     "name": "stdout",
     "output_type": "stream",
     "text": [
      "\n"
     ]
    }
   ],
   "source": [
    "with open(\"hello.txt\",\"a+\") as f:\n",
    "    f.write(\"Hello ji , we are studying at itronix !\")\n",
    "    c = f.read() ## Didnt read because cursor was at the end\n",
    "    print(c)"
   ]
  },
  {
   "cell_type": "code",
   "execution_count": 13,
   "metadata": {},
   "outputs": [
    {
     "name": "stdout",
     "output_type": "stream",
     "text": [
      "Hello ji , we are studying at itronix !Today, we are studyig file handling\n",
      "Today, we are studyig file handling\n"
     ]
    }
   ],
   "source": [
    "with open(\"hello.txt\",\"a+\") as f:\n",
    "    f.write(\"\\nToday, we are studyig file handling\")\n",
    "    f.seek(0,0) ## 0 stands for starting , 1 for current and 2 for end but 2 is not supported in python 3\n",
    "    c = f.read()\n",
    "    print(c)"
   ]
  },
  {
   "cell_type": "code",
   "execution_count": 14,
   "metadata": {},
   "outputs": [
    {
     "name": "stdout",
     "output_type": "stream",
     "text": [
      "\n",
      "Today, we\n"
     ]
    }
   ],
   "source": [
    "with open(\"hello2.txt\",\"a+\") as f:\n",
    "    f.write(\"\\nToday, we are studyig file handling\")\n",
    "    f.seek(0,0) ## 0 stands for starting , 1 for current and 2 for end but 2 is not supported in python 3\n",
    "    c = f.read(10) ## read ten characters\n",
    "    print(c)"
   ]
  },
  {
   "cell_type": "code",
   "execution_count": 16,
   "metadata": {},
   "outputs": [
    {
     "name": "stdout",
     "output_type": "stream",
     "text": [
      "74\n",
      "\n",
      "Today, we are studyig file handling\n",
      "Today, we are studyig file handling\n"
     ]
    }
   ],
   "source": [
    "with open(\"hello3.txt\",\"a+\") as f:\n",
    "    f.write(\"\\nToday, we are studyig file handling\")\n",
    "    l =  f.tell()\n",
    "    f.seek(0,0) ## 0 stands for starting , 1 for current and 2 for end but 2 is not supported in python 3\n",
    "    print(l)\n",
    "    c = f.read()\n",
    "    print(c)"
   ]
  },
  {
   "cell_type": "code",
   "execution_count": null,
   "metadata": {},
   "outputs": [],
   "source": []
  }
 ],
 "metadata": {
  "kernelspec": {
   "display_name": "Python 3",
   "language": "python",
   "name": "python3"
  },
  "language_info": {
   "codemirror_mode": {
    "name": "ipython",
    "version": 3
   },
   "file_extension": ".py",
   "mimetype": "text/x-python",
   "name": "python",
   "nbconvert_exporter": "python",
   "pygments_lexer": "ipython3",
   "version": "3.6.8"
  }
 },
 "nbformat": 4,
 "nbformat_minor": 2
}
