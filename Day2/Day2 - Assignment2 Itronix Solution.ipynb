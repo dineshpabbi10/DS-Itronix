{
 "cells": [
  {
   "cell_type": "markdown",
   "metadata": {},
   "source": [
    "#    Print N Numbers"
   ]
  },
  {
   "cell_type": "code",
   "execution_count": 19,
   "metadata": {},
   "outputs": [
    {
     "name": "stdout",
     "output_type": "stream",
     "text": [
      "Enter the Number10\n",
      "1 2 3 4 5 6 7 8 9 10 "
     ]
    }
   ],
   "source": [
    "n=int(input(\"Enter the Number\"))\n",
    "for i in range(1,n+1):\n",
    "    print(i,end=\" \")"
   ]
  },
  {
   "cell_type": "markdown",
   "metadata": {},
   "source": [
    "# Sum of N Numbers."
   ]
  },
  {
   "cell_type": "code",
   "execution_count": 2,
   "metadata": {},
   "outputs": [
    {
     "name": "stdout",
     "output_type": "stream",
     "text": [
      "Enter the Number10\n",
      "Sum is  55\n"
     ]
    }
   ],
   "source": [
    "sum=0\n",
    "n=int(input(\"Enter the Number\"))\n",
    "for i in range(1,n+1):\n",
    "    sum+=i\n",
    "print(\"Sum is \",sum)"
   ]
  },
  {
   "cell_type": "markdown",
   "metadata": {},
   "source": [
    "# Factorial of Given Number."
   ]
  },
  {
   "cell_type": "code",
   "execution_count": 3,
   "metadata": {},
   "outputs": [
    {
     "name": "stdout",
     "output_type": "stream",
     "text": [
      "Enter the Number5\n",
      "Factorial is  120\n"
     ]
    }
   ],
   "source": [
    "factorial=1\n",
    "n=int(input(\"Enter the Number\"))\n",
    "for i in range(n,1,-1):\n",
    "    factorial*=i\n",
    "print(\"Factorial is \",factorial)"
   ]
  },
  {
   "cell_type": "markdown",
   "metadata": {},
   "source": [
    "# SUM of the Digits."
   ]
  },
  {
   "cell_type": "code",
   "execution_count": 11,
   "metadata": {},
   "outputs": [
    {
     "name": "stdout",
     "output_type": "stream",
     "text": [
      "Please Enter the Number123\n",
      "Sum of the Digits are  6\n"
     ]
    }
   ],
   "source": [
    "n=int(input(\"Please Enter the Number\"))\n",
    "sumf=0\n",
    "temp=0\n",
    "while n!=0:\n",
    "    temp=n%10\n",
    "    sumf+=temp\n",
    "    n=n//10\n",
    "print(\"Sum of the Digits are \",sumf)"
   ]
  },
  {
   "cell_type": "markdown",
   "metadata": {},
   "source": [
    "# Reverse of the Digits."
   ]
  },
  {
   "cell_type": "code",
   "execution_count": 13,
   "metadata": {},
   "outputs": [
    {
     "name": "stdout",
     "output_type": "stream",
     "text": [
      "Please Enter the Number123\n",
      "Reverse of the Digits are  321\n"
     ]
    }
   ],
   "source": [
    "n=int(input(\"Please Enter the Number\"))\n",
    "rev=0\n",
    "\n",
    "while n!=0:\n",
    "    rev=rev*10+ n%10\n",
    "    n=n//10\n",
    "print(\"Reverse of the Digits are \",rev)"
   ]
  },
  {
   "cell_type": "markdown",
   "metadata": {},
   "source": [
    "# Palindrome Checker"
   ]
  },
  {
   "cell_type": "code",
   "execution_count": 16,
   "metadata": {},
   "outputs": [
    {
     "name": "stdout",
     "output_type": "stream",
     "text": [
      "Please Enter the Number123\n",
      "It is not a Palindrome Number\n"
     ]
    }
   ],
   "source": [
    "n=int(input(\"Please Enter the Number\"))\n",
    "rev=0\n",
    "temp=n\n",
    "while n!=0:\n",
    "    rev=rev*10+ n%10\n",
    "    n=n//10\n",
    "if rev is temp:\n",
    "    print(\"It is a palindrome Number\")\n",
    "else:\n",
    "    print(\"It is not a Palindrome Number\")"
   ]
  },
  {
   "cell_type": "markdown",
   "metadata": {},
   "source": [
    "# Fibonacci Series upto n"
   ]
  },
  {
   "cell_type": "code",
   "execution_count": 21,
   "metadata": {},
   "outputs": [
    {
     "name": "stdout",
     "output_type": "stream",
     "text": [
      "Please Enter the Number10\n",
      "0 1 1 2 3 5 8 13 21 34 55 "
     ]
    }
   ],
   "source": [
    "a=0\n",
    "b=1\n",
    "c=a+b\n",
    "n=int(input(\"Please Enter the Number\"))\n",
    "print(a,end=\" \")\n",
    "print(b,end=\" \")\n",
    "print(c,end=\" \")\n",
    "for i in range(3,n+1):\n",
    "    a=b\n",
    "    b=c\n",
    "    c=a+b\n",
    "    print(c,end=\" \")\n"
   ]
  },
  {
   "cell_type": "markdown",
   "metadata": {},
   "source": [
    "# Patterns"
   ]
  },
  {
   "cell_type": "code",
   "execution_count": 183,
   "metadata": {},
   "outputs": [
    {
     "name": "stdout",
     "output_type": "stream",
     "text": [
      "Please Enter the Number5\n",
      "1 \n",
      "1 2 \n",
      "1 2 3 \n",
      "1 2 3 4 \n",
      "1 2 3 4 5 \n",
      "\n",
      "5 4 3 2 1 \n",
      "4 3 2 1 \n",
      "3 2 1 \n",
      "2 1 \n",
      "1 \n",
      "\n",
      "1 \n",
      "2 3 \n",
      "4 5 6 \n",
      "7 8 9 10 \n",
      "11 12 13 14 15 \n",
      "\n",
      "     1\n",
      "    121\n",
      "   12321\n",
      "  1234321\n",
      " 123454321\n",
      "\n",
      "     *\n",
      "    ***\n",
      "   *****\n",
      "  *******\n",
      " *********\n",
      "\n",
      "* * * * * * * * * \n",
      "* * * *   * * * * \n",
      "* * *       * * * \n",
      "* *           * * \n",
      "*               * \n",
      "\n",
      "5 4 3 2 1 2 3 4 5 \n",
      "4 3 2 1   1 2 3 4 \n",
      "3 2 1       1 2 3 \n",
      "2 1           1 2 \n",
      "1               1 \n",
      "\n",
      "          *\n",
      "        * * * \n",
      "      * * * * * \n",
      "    * * * * * * * \n",
      "  * * * * * * * * * \n",
      "    * * * * * * * \n",
      "      * * * * * \n",
      "        * * * \n",
      "          * \n",
      "\n",
      "\n",
      "* * * * * * * * * \n",
      "* * * *   * * * * \n",
      "* * *       * * * \n",
      "* *           * * \n",
      "*               * \n",
      "* *           * * \n",
      "* * *       * * * \n",
      "* * * *   * * * * \n",
      "* * * * * * * * * "
     ]
    }
   ],
   "source": [
    "n=int(input(\"Please Enter the Number\"))\n",
    "for i in range(1,n+1):\n",
    "    for j in range(1,i+1):\n",
    "        print(j,end=\" \")\n",
    "    print()\n",
    "#Reverse Pattern\n",
    "print()\n",
    "for i in range(n,0,-1):\n",
    "    for j in range(i,0,-1):\n",
    "        print(j,end=\" \")\n",
    "    print()\n",
    "print()\n",
    "\n",
    "k=1\n",
    "for i in range(1,n+1):\n",
    "    for j in range(1,i+1):\n",
    "        print(k,end=\" \")\n",
    "        k+=1\n",
    "    print()\n",
    "print()\n",
    "\n",
    "#Pascal's Triangle\n",
    "\n",
    "r=1\n",
    "for i in range(n,0,-1):\n",
    "    print(end=\" \")\n",
    "print(\"1\")\n",
    "for i in range(n,1,-1):\n",
    "    for k in range(i,1,-1):\n",
    "        print(end=\" \")\n",
    "    for j in range(1,r+2):\n",
    "        print(j,end=\"\")\n",
    "\n",
    "    for j in range(r,0,-1):\n",
    "        print(j,end=\"\")\n",
    "    r+=1\n",
    "    \n",
    "    print()\n",
    "    \n",
    "print()\n",
    "\n",
    "r=1\n",
    "for i in range(n,0,-1):\n",
    "    print(end=\" \")\n",
    "print(\"*\")\n",
    "for i in range(n,1,-1):\n",
    "    for k in range(i,1,-1):\n",
    "        print(end=\" \")\n",
    "    for j in range(1,r+2):\n",
    "        print(\"*\",end=\"\")\n",
    "\n",
    "    for j in range(r,0,-1):\n",
    "        print(\"*\",end=\"\")\n",
    "    r+=1\n",
    "    \n",
    "    print()\n",
    "    \n",
    "print()\n",
    "\n",
    "#Half diamond\n",
    "k=1\n",
    "temp=n\n",
    "for i in range(1,2*n):\n",
    "    print(\"*\",end=\" \")\n",
    "print()\n",
    "for i in range(n,1,-1):\n",
    "    for j in range(i-1,0,-1):\n",
    "        print(\"*\",end=\" \")\n",
    "    for j in range(1,2*k):\n",
    "        print(end=\" \")\n",
    "    for j in range(1,2*k):\n",
    "        print(end=\" \")\n",
    "    for j in range(i-1,0,-1):\n",
    "        print(\"*\",end=\" \")\n",
    "    k+=1\n",
    "    print()\n",
    "\n",
    "print()\n",
    "   \n",
    "\n",
    "k=1\n",
    "temp=2\n",
    "for i in range(n,0,-1):\n",
    "    print(i,end=\" \")\n",
    "for i in range(2,n+1):\n",
    "    print(i,end=\" \")\n",
    "print()\n",
    "for i in range(n,1,-1):\n",
    "    for j in range(i-1,0,-1):\n",
    "        print(j,end=\" \")\n",
    "    for j in range(1,2*k):\n",
    "        print(end=\" \")\n",
    "    for j in range(1,2*k):\n",
    "        print(end=\" \")\n",
    "    for j in range(1,i):\n",
    "        print(j,end=\" \")\n",
    "    k+=1\n",
    "    print()\n",
    "\n",
    "    #Full Diamond\n",
    "print()\n",
    "\n",
    "r=1\n",
    "for i in range(2*n,0,-1):\n",
    "    print(end=\" \")\n",
    "print(\"*\")\n",
    "for i in range(n,1,-1):\n",
    "    for k in range(i,1,-1):\n",
    "        print(end=\"  \")\n",
    "    for j in range(1,r+2):\n",
    "        print(\"*\",end=\" \")\n",
    "\n",
    "    for j in range(r,0,-1):\n",
    "        print(\"*\",end=\" \")\n",
    "    r+=1\n",
    "    \n",
    "    print()\n",
    "r=n-1\n",
    "for i in range(1,n):\n",
    "    for j in range(1,i+2):\n",
    "        print(end=\"  \")\n",
    "    for j in range((2*r)-1,0,-1):\n",
    "        print(\"*\",end=\" \")\n",
    "    r-=1\n",
    "    print()\n",
    "print()\n",
    "\n",
    "#Empty Diamond\n",
    "print()\n",
    "   \n",
    "\n",
    "k=1\n",
    "temp=2\n",
    "for i in range(n,0,-1):\n",
    "    print(\"*\",end=\" \")\n",
    "for i in range(2,n+1):\n",
    "    print(\"*\",end=\" \")\n",
    "print()\n",
    "for i in range(n,1,-1):\n",
    "    for j in range(i-1,0,-1):\n",
    "        print(\"*\",end=\" \")\n",
    "    for j in range(1,2*k):\n",
    "        print(end=\" \")\n",
    "    for j in range(1,2*k):\n",
    "        print(end=\" \")\n",
    "    for j in range(1,i):\n",
    "        print(\"*\",end=\" \")\n",
    "    k+=1\n",
    "    print()\n",
    "r=n-2\n",
    "for i in range(2,n):\n",
    "    for j in range(1,i+1):\n",
    "        print(\"*\",end=\" \")\n",
    "    for j in range(2*r,1,-1):\n",
    "        print(end=\"  \")\n",
    "    #for j in range(2*r,0,-1):\n",
    "     #   print(end=\" \")\n",
    "    r-=1\n",
    "    for j in range(1,i+1):\n",
    "        print(\"*\",end=\" \")\n",
    "    print()\n",
    "for i in range(n,0,-1):\n",
    "    print(\"*\",end=\" \")\n",
    "for i in range(2,n+1):\n",
    "    print(\"*\",end=\" \") \n",
    "    \n",
    "    "
   ]
  },
  {
   "cell_type": "code",
   "execution_count": null,
   "metadata": {},
   "outputs": [],
   "source": []
  }
 ],
 "metadata": {
  "kernelspec": {
   "display_name": "Python 3",
   "language": "python",
   "name": "python3"
  },
  "language_info": {
   "codemirror_mode": {
    "name": "ipython",
    "version": 3
   },
   "file_extension": ".py",
   "mimetype": "text/x-python",
   "name": "python",
   "nbconvert_exporter": "python",
   "pygments_lexer": "ipython3",
   "version": "3.6.7"
  }
 },
 "nbformat": 4,
 "nbformat_minor": 2
}
