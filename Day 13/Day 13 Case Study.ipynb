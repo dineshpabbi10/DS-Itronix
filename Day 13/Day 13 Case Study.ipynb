{
 "cells": [
  {
   "cell_type": "markdown",
   "metadata": {},
   "source": [
    "# Day 13 Case Study"
   ]
  },
  {
   "cell_type": "code",
   "execution_count": 1,
   "metadata": {},
   "outputs": [],
   "source": [
    "import numpy as np"
   ]
  },
  {
   "cell_type": "code",
   "execution_count": null,
   "metadata": {},
   "outputs": [],
   "source": [
    "a = np.genfromtxt(\"data.csv\",delimiter=',',dtype = str)\n",
    "print(a)\n",
    "print(a[0][2])\n",
    "print(a.shape))\n",
    "cond  = a[,4] == 'Male'\n",
    "print(a[cond])\n",
    "male = a[cond]\n",
    "np.savetxt(\"male.txt\",male,delimiter=\",\"fmt='%s')\n",
    "# np.save(\"male.txt\",male)"
   ]
  }
 ],
 "metadata": {
  "kernelspec": {
   "display_name": "Python 3",
   "language": "python",
   "name": "python3"
  },
  "language_info": {
   "codemirror_mode": {
    "name": "ipython",
    "version": 3
   },
   "file_extension": ".py",
   "mimetype": "text/x-python",
   "name": "python",
   "nbconvert_exporter": "python",
   "pygments_lexer": "ipython3",
   "version": "3.6.8"
  }
 },
 "nbformat": 4,
 "nbformat_minor": 2
}
