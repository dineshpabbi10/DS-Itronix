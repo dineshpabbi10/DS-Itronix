{
 "cells": [
  {
   "cell_type": "markdown",
   "metadata": {},
   "source": [
    "# Functions"
   ]
  },
  {
   "cell_type": "code",
   "execution_count": 3,
   "metadata": {},
   "outputs": [
    {
     "name": "stdout",
     "output_type": "stream",
     "text": [
      "11\n"
     ]
    }
   ],
   "source": [
    "def sum (a,b):\n",
    "    return a+b\n",
    "print(sum(5,6))"
   ]
  },
  {
   "cell_type": "markdown",
   "metadata": {},
   "source": [
    "# Send email using Python"
   ]
  },
  {
   "cell_type": "code",
   "execution_count": 2,
   "metadata": {},
   "outputs": [
    {
     "data": {
      "text/plain": [
       "(221, b'2.0.0 closing connection u186sm106431604pfu.51 - gsmtp')"
      ]
     },
     "execution_count": 2,
     "metadata": {},
     "output_type": "execute_result"
    }
   ],
   "source": [
    "import smtplib\n",
    "serveranyvariable = smtplib.SMTP('smtp.gmail.com',587)\n",
    "serveranyvariable.starttls()\n",
    "serveranyvariable.login(\"swiftsnoop@gmail.com\",\"XXXXXXXXXX\")\n",
    "msg=\"Test Email using python\"\n",
    "serveranyvariable.sendmail(\"swiftsnoop@gmail.com\",\"vkunal1996@gmail.com\",msg)\n",
    "serveranyvariable.quit()"
   ]
  },
  {
   "cell_type": "markdown",
   "metadata": {},
   "source": [
    "# Send email with subject and attachment using python"
   ]
  },
  {
   "cell_type": "code",
   "execution_count": 9,
   "metadata": {},
   "outputs": [
    {
     "name": "stdout",
     "output_type": "stream",
     "text": [
      "Email Sent\n"
     ]
    }
   ],
   "source": [
    "import smtplib\n",
    "from email.mime.multipart import MIMEMultipart\n",
    "from email.mime.text import MIMEText\n",
    "from email.mime.base import MIMEBase\n",
    "from email import encoders\n",
    "\n",
    "\n",
    "serverVariable=smtplib.SMTP('smtp.gmail.com',587)\n",
    "serverVariable.starttls()\n",
    "serverVariable.login(\"swiftsnoop@gmail.com\",\"XXXXXXXXX\")\n",
    "body=\"Hi this is a sample email Sender Module for Testing\\nRegards\\nKunal Verma\"\n",
    "subject=\"Test Email using Python\"\n",
    "\n",
    "msg=MIMEMultipart()\n",
    "msg['From']= \"swiftnoop@gmail.com\"\n",
    "msg['To']= \"vkunal1996@gmail.com\"\n",
    "msg['Subject']=subject\n",
    "\n",
    "msg.attach(MIMEText(body,'plain'))\n",
    "\n",
    "\n",
    "filename = \"testimage.jpg\"\n",
    "attachment = open(\"/home/kunalverma/Itronix Solutions/testimage.jpg\", \"rb\") \n",
    "\n",
    "# instance of MIMEBase and named as p \n",
    "p = MIMEBase('application', 'octet-stream') \n",
    "  \n",
    "# To change the payload into encoded form \n",
    "p.set_payload((attachment).read()) \n",
    "  \n",
    "# encode into base64 \n",
    "encoders.encode_base64(p) \n",
    "   \n",
    "p.add_header('Content-Disposition', \"attachment; filename= %s\" % filename) \n",
    "  \n",
    "# attach the instance 'p' to instance 'msg' \n",
    "msg.attach(p) \n",
    "\n",
    "\n",
    "text=msg.as_string()\n",
    "\n",
    "serverVariable.sendmail(\"swiftsnoop@gmail.com\",\"vkunal1996@gmail.com\",text)\n",
    "\n",
    "serverVariable.quit()\n",
    "\n",
    "print(\"Email Sent\")"
   ]
  },
  {
   "cell_type": "markdown",
   "metadata": {},
   "source": [
    "# Send Message using twilio in python"
   ]
  },
  {
   "cell_type": "code",
   "execution_count": 12,
   "metadata": {},
   "outputs": [
    {
     "name": "stdout",
     "output_type": "stream",
     "text": [
      "CAe70b43102daa9cdeae9bcc94d77b26b1\n",
      "SM8838154b674a412bad5fb75b73a1f318\n"
     ]
    },
    {
     "data": {
      "text/plain": [
       "'Send ho gya pr aya ni hje tak..on the way... ponch jayega 2-3 salan tak'"
      ]
     },
     "execution_count": 12,
     "metadata": {},
     "output_type": "execute_result"
    }
   ],
   "source": [
    "from twilio.rest import Client\n",
    "\n",
    "import random\n",
    "# Your Account Sid and Auth Token from twilio.com/console\n",
    "account_sid = 'AC2b08c61d97f3d464d4aac842d88d3233'\n",
    "auth_token = 'c6ad75fd7a1dc89e50c0df942d140958'\n",
    "client = Client(account_sid, auth_token)\n",
    "\n",
    "call = client.calls.create(\n",
    "         from_='+14403067092',\n",
    "         to='+918699973170',\n",
    "         url=\"http://demo.twilio.com/docs/voice.xml\"\n",
    "     )\n",
    "\n",
    "print(call.sid)\n",
    "\n",
    "# Send OTP to phone\n",
    "a=random.randint(1000,9999)\n",
    "otp=\"Your Otp is \"+str(a)\n",
    "message = client.messages.create(\n",
    "         body=otp,\n",
    "         from_='+14403067092',\n",
    "         to='+918699973170',\n",
    "     )\n",
    "\n",
    "print(message.sid)\n",
    "\n",
    "\"\"\"Send ho gya pr aya ni hje tak..on the way... ponch jayega 2-3 salan tak\"\"\""
   ]
  },
  {
   "cell_type": "markdown",
   "metadata": {},
   "source": [
    "# Signup -> Login-> ask for OTP -> Check OTP -> Login succesfull"
   ]
  },
  {
   "cell_type": "code",
   "execution_count": 6,
   "metadata": {},
   "outputs": [
    {
     "name": "stdout",
     "output_type": "stream",
     "text": [
      "Please Enter the username vkunal1996\n",
      "Please Enter the Password abcdef\n",
      "Account has been Created Succesfully\n",
      "Do you Wish to login?(y/n)y\n",
      "Please Enter the username vkunal1996\n",
      "Please Enter the Password abcdef\n",
      "OTP is  1585\n",
      "OTP Sent to the Registered Contact Number\n",
      "Please Enter the OTP 1484\n",
      "Invalid OTP\n",
      "Please Enter the OTP 1585\n",
      "Login SuccessFull\n",
      "Exiting Application\n"
     ]
    }
   ],
   "source": [
    "from twilio.rest import Client\n",
    "import random\n",
    "\"\"\" Sign up Module \"\"\"\n",
    "\n",
    "username=input(\"Please Enter the username \")\n",
    "password=input(\"Please Enter the Password \")\n",
    "\n",
    "print(\"Account has been Created Succesfully\")\n",
    "approval=input(\"Do you Wish to login?(y/n)\")\n",
    "\n",
    "\"\"\"Login Module\"\"\"\n",
    "\n",
    "if approval is 'n':\n",
    "    exit()\n",
    "elif approval is 'y':\n",
    "    loginusername=input(\"Please Enter the username \")\n",
    "    loginpassword=input(\"Please Enter the Password \")\n",
    "    if loginpassword == password and loginusername == username:\n",
    "       \n",
    "    \n",
    "        \"\"\"Otp Generation\"\"\"\n",
    "        \n",
    "        \n",
    "        a=random.randint(1000,9999)\n",
    "        print(\"OTP is \",a)\n",
    "        otp=\"Dear \"+loginusername+\" Your Otp is \"+str(a)\n",
    "        \n",
    "        \n",
    "        \n",
    "        \"\"\"Sending Otp to registered Mobile\"\"\"\n",
    "        \n",
    "        \n",
    "        account_sid = 'AC191c4af117808f7e138459b90d28fd6e'\n",
    "        auth_token = '4e83b66b9b3f88d1743e536cd955b321'\n",
    "        client = Client(account_sid, auth_token)\n",
    "        message = client.messages.create(\n",
    "                 body=otp,\n",
    "                 from_='+19842070224',\n",
    "                 to='+917696478008',\n",
    "             )\n",
    "\n",
    "        print(\"OTP Sent to the Registered Contact Number\")\n",
    "        \n",
    "        \n",
    "        \n",
    "        \"\"\"Verification Module \"\"\"\n",
    "        \n",
    "        \n",
    "        \n",
    "        enterOTP=int(input(\"Please Enter the OTP \"))\n",
    "        while True:\n",
    "            if enterOTP == a:\n",
    "                print(\"Login SuccessFull\")\n",
    "                print(\"Exiting Application\")\n",
    "                break\n",
    "            else:\n",
    "                print(\"Invalid OTP\")\n",
    "                enterOTP=int(input(\"Please Enter the OTP \"))\n",
    "\n",
    "            \n",
    "            \n",
    "    else:\n",
    "        print(\"Invalid Username or Password. Exiting Application\")\n",
    "        exit()\n",
    "\n",
    "        \n",
    "\n"
   ]
  }
 ],
 "metadata": {
  "kernelspec": {
   "display_name": "Python 3",
   "language": "python",
   "name": "python3"
  },
  "language_info": {
   "codemirror_mode": {
    "name": "ipython",
    "version": 3
   },
   "file_extension": ".py",
   "mimetype": "text/x-python",
   "name": "python",
   "nbconvert_exporter": "python",
   "pygments_lexer": "ipython3",
   "version": "3.6.7"
  }
 },
 "nbformat": 4,
 "nbformat_minor": 2
}
