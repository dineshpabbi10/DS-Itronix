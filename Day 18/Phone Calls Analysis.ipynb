{
 "cells": [
  {
   "cell_type": "markdown",
   "metadata": {},
   "source": [
    "<center><h1 style=\"font-family=sarif; color:gray;\">Mobile Usage Analysis</h1></center>"
   ]
  },
  {
   "cell_type": "code",
   "execution_count": 1,
   "metadata": {},
   "outputs": [],
   "source": [
    "import numpy as np\n",
    "import pandas as pd\n",
    "import collections"
   ]
  },
  {
   "cell_type": "code",
   "execution_count": 2,
   "metadata": {},
   "outputs": [
    {
     "name": "stdout",
     "output_type": "stream",
     "text": [
      "[['index' 'date' 'duration' ... 'month' 'network' 'network_type']\n",
      " ['0' '15/10/14 06:58' '34.429' ... '2014-11' 'data' 'data']\n",
      " ['1' '15/10/14 06:58' '13' ... '2014-11' 'Vodafone' 'mobile']\n",
      " ...\n",
      " ['827' '13/03/15 06:58' '34.429' ... '2015-03' 'data' 'data']\n",
      " ['828' '14/03/15 00:13' '1' ... '2015-03' 'world' 'world']\n",
      " ['829' '14/03/15 00:16' '1' ... '2015-03' 'world' 'world']]\n"
     ]
    }
   ],
   "source": [
    "loaddata=np.genfromtxt('/home/kunalverma/Itronix Solutions/dummy/phone_data.csv',delimiter=',', dtype=str)\n",
    "print(loaddata)\n",
    "data=loaddata[1:,]"
   ]
  },
  {
   "cell_type": "code",
   "execution_count": 3,
   "metadata": {},
   "outputs": [
    {
     "name": "stdout",
     "output_type": "stream",
     "text": [
      "[['0' '15/10/14 06:58' '34.429' ... '2014-11' 'data' 'data']\n",
      " ['1' '15/10/14 06:58' '13' ... '2014-11' 'Vodafone' 'mobile']\n",
      " ['2' '15/10/14 14:46' '23' ... '2014-11' 'Meteor' 'mobile']\n",
      " ...\n",
      " ['827' '13/03/15 06:58' '34.429' ... '2015-03' 'data' 'data']\n",
      " ['828' '14/03/15 00:13' '1' ... '2015-03' 'world' 'world']\n",
      " ['829' '14/03/15 00:16' '1' ... '2015-03' 'world' 'world']]\n"
     ]
    }
   ],
   "source": [
    "print(data)"
   ]
  },
  {
   "cell_type": "markdown",
   "metadata": {},
   "source": [
    "<img src=\"image.png\"/>"
   ]
  },
  {
   "cell_type": "markdown",
   "metadata": {},
   "source": [
    "### Longest Phone Call and Total Seconds."
   ]
  },
  {
   "cell_type": "code",
   "execution_count": 4,
   "metadata": {},
   "outputs": [
    {
     "name": "stdout",
     "output_type": "stream",
     "text": [
      "Longest Call Made   10528\n",
      "Total Seconds Talked :  92321.0\n"
     ]
    }
   ],
   "source": [
    "callindex=np.where(data[...,3]==\"call\")\n",
    "duration=np.array(data[callindex],dtype=str)\n",
    "callduration=np.array(duration[:,2],dtype=float)\n",
    "\n",
    "#Longest Call Made\n",
    "print(\"Longest Call Made  \",duration[np.argmax(callduration)][2])\n",
    "\n",
    "#Total Seconds Recorded\n",
    "\n",
    "print(\"Total Seconds Talked : \",np.sum(callduration))"
   ]
  },
  {
   "cell_type": "markdown",
   "metadata": {},
   "source": [
    "### Monthwise Number of Each Enteries"
   ]
  },
  {
   "cell_type": "code",
   "execution_count": 5,
   "metadata": {},
   "outputs": [
    {
     "name": "stdout",
     "output_type": "stream",
     "text": [
      "[['0' '2014-10' '34.429' ... '2014-11' 'data' 'data']\n",
      " ['1' '2014-10' '13' ... '2014-11' 'Vodafone' 'mobile']\n",
      " ['2' '2014-10' '23' ... '2014-11' 'Meteor' 'mobile']\n",
      " ...\n",
      " ['827' '2015-03' '34.429' ... '2015-03' 'data' 'data']\n",
      " ['828' '2015-03' '1' ... '2015-03' 'world' 'world']\n",
      " ['829' '2015-03' '1' ... '2015-03' 'world' 'world']]\n"
     ]
    }
   ],
   "source": [
    "newdata=loaddata[1:,]\n",
    "a=pd.to_datetime(newdata[...,1])\n",
    "date=np.array(a,dtype=np.datetime64)\n",
    "date=date.astype('datetime64[M]')\n",
    "newdata[...,1]=date.astype('datetime64[M]')\n",
    "print(newdata)"
   ]
  },
  {
   "cell_type": "code",
   "execution_count": 6,
   "metadata": {},
   "outputs": [
    {
     "name": "stdout",
     "output_type": "stream",
     "text": [
      "['2014-11', '2014-12', '2015-01', '2015-02', '2015-03']\n"
     ]
    }
   ],
   "source": [
    "month=np.array(newdata[...,4],dtype=str)\n",
    "month=list(set(month))\n",
    "month.sort()\n",
    "print(month)"
   ]
  },
  {
   "cell_type": "code",
   "execution_count": 7,
   "metadata": {},
   "outputs": [
    {
     "name": "stdout",
     "output_type": "stream",
     "text": [
      "[['1' '2014-10' '13' ... '2014-11' 'Vodafone' 'mobile']\n",
      " ['2' '2014-10' '23' ... '2014-11' 'Meteor' 'mobile']\n",
      " ['3' '2014-10' '4' ... '2014-11' 'Tesco' 'mobile']\n",
      " ...\n",
      " ['809' '2015-03' '1325' ... '2015-03' 'Vodafone' 'mobile']\n",
      " ['810' '2015-03' '768' ... '2015-03' 'Three' 'mobile']\n",
      " ['816' '2015-04' '10528' ... '2015-03' 'landline' 'landline']]\n"
     ]
    }
   ],
   "source": [
    "calldata=np.array(newdata[newdata[...,3]==\"call\"])\n",
    "print(calldata)"
   ]
  },
  {
   "cell_type": "code",
   "execution_count": 8,
   "metadata": {},
   "outputs": [
    {
     "name": "stdout",
     "output_type": "stream",
     "text": [
      "[['11' '2014-10' '1' ... '2014-11' 'Meteor' 'mobile']\n",
      " ['12' '2014-10' '1' ... '2014-11' 'Meteor' 'mobile']\n",
      " ['14' '2014-10' '1' ... '2014-11' 'Tesco' 'mobile']\n",
      " ...\n",
      " ['826' '2015-03' '1' ... '2015-03' 'Vodafone' 'mobile']\n",
      " ['828' '2015-03' '1' ... '2015-03' 'world' 'world']\n",
      " ['829' '2015-03' '1' ... '2015-03' 'world' 'world']]\n"
     ]
    }
   ],
   "source": [
    "smsdata=np.array(newdata[newdata[...,3]==\"sms\"])\n",
    "print(smsdata)"
   ]
  },
  {
   "cell_type": "code",
   "execution_count": 9,
   "metadata": {},
   "outputs": [
    {
     "name": "stdout",
     "output_type": "stream",
     "text": [
      "[['0' '2014-10' '34.429' ... '2014-11' 'data' 'data']\n",
      " ['6' '2014-10' '34.429' ... '2014-11' 'data' 'data']\n",
      " ['13' '2014-10' '34.429' ... '2014-11' 'data' 'data']\n",
      " ...\n",
      " ['823' '2015-11' '34.429' ... '2015-03' 'data' 'data']\n",
      " ['824' '2015-12' '34.429' ... '2015-03' 'data' 'data']\n",
      " ['827' '2015-03' '34.429' ... '2015-03' 'data' 'data']]\n"
     ]
    }
   ],
   "source": [
    "netdata=np.array(newdata[newdata[...,3]==\"data\"])\n",
    "print(netdata)"
   ]
  },
  {
   "cell_type": "code",
   "execution_count": 10,
   "metadata": {},
   "outputs": [],
   "source": [
    "def enteries(month):\n",
    "    callsmade=np.where(np.logical_and(calldata[...,4]==month,calldata[...,3]==\"call\"))\n",
    "    smssent=np.where(np.logical_and(smsdata[...,4]==month,smsdata[...,3]==\"sms\"))\n",
    "    netused=np.where(np.logical_and(netdata[...,4]==month,netdata[...,3]==\"data\"))\n",
    "    print(\"Calls Enteries \",len(calldata[callsmade]))\n",
    "    print()\n",
    "    print(\"Sms Enteries   \",len(smsdata[smssent]))\n",
    "    print()\n",
    "    print(\"Data Enteries  \",len(netdata[netused]))"
   ]
  },
  {
   "cell_type": "code",
   "execution_count": 11,
   "metadata": {},
   "outputs": [
    {
     "name": "stdout",
     "output_type": "stream",
     "text": [
      "In 2014-11\n",
      "\n",
      "Calls Enteries  107\n",
      "\n",
      "Sms Enteries    94\n",
      "\n",
      "Data Enteries   29\n",
      "\n",
      "\n",
      "In 2014-12\n",
      "\n",
      "Calls Enteries  79\n",
      "\n",
      "Sms Enteries    48\n",
      "\n",
      "Data Enteries   30\n",
      "\n",
      "\n",
      "In 2015-01\n",
      "\n",
      "Calls Enteries  88\n",
      "\n",
      "Sms Enteries    86\n",
      "\n",
      "Data Enteries   31\n",
      "\n",
      "\n",
      "In 2015-02\n",
      "\n",
      "Calls Enteries  67\n",
      "\n",
      "Sms Enteries    39\n",
      "\n",
      "Data Enteries   31\n",
      "\n",
      "\n",
      "In 2015-03\n",
      "\n",
      "Calls Enteries  47\n",
      "\n",
      "Sms Enteries    25\n",
      "\n",
      "Data Enteries   29\n",
      "\n",
      "\n"
     ]
    }
   ],
   "source": [
    "for i in range(len(month)):\n",
    "    print(\"In {}\".format(month[i]))\n",
    "    print()\n",
    "    enteries(month[i])\n",
    "    print()\n",
    "    print()"
   ]
  },
  {
   "cell_type": "markdown",
   "metadata": {},
   "source": [
    "### First Entery of Each Month"
   ]
  },
  {
   "cell_type": "code",
   "execution_count": 78,
   "metadata": {},
   "outputs": [
    {
     "name": "stdout",
     "output_type": "stream",
     "text": [
      "['0' '2014-10' '34.429' 'data' '2014-11' 'data' 'data']\n",
      "['228' '2014-11' '34.429' 'data' '2014-12' 'data' 'data']\n",
      "['381' '2014-12' '34.429' 'data' '2015-01' 'data' 'data']\n",
      "['577' '2015-01' '34.429' 'data' '2015-02' 'data' 'data']\n",
      "['729' '2015-12' '69' 'call' '2015-03' 'landline' 'landline']\n"
     ]
    }
   ],
   "source": [
    "for i in month:\n",
    "    a=np.array(newdata[newdata[...,4]==i])\n",
    "    print(a[0])\n"
   ]
  },
  {
   "cell_type": "markdown",
   "metadata": {},
   "source": [
    "### Sum of the Duration Per month."
   ]
  },
  {
   "cell_type": "code",
   "execution_count": 17,
   "metadata": {},
   "outputs": [],
   "source": [
    "def sumofdurations(month):\n",
    "    callsmade=np.where(np.logical_and(calldata[...,4]==month,calldata[...,3]==\"call\"))\n",
    "    smssent=np.where(np.logical_and(smsdata[...,4]==month,smsdata[...,3]==\"sms\"))\n",
    "    netused=np.where(np.logical_and(netdata[...,4]==month,netdata[...,3]==\"data\"))\n",
    "    \n",
    "    calldurations=np.array(calldata[callsmade,2],dtype=float)\n",
    "    smscounter=np.array(smsdata[smssent,2],dtype=float)\n",
    "    datacounter=np.array(netdata[netused,2],dtype=float)\n",
    "    \n",
    "    print(\"Total Seconds of Calls : \",np.sum(calldurations[0]),\" seconds\")\n",
    "    print()\n",
    "    print(\"Calls Enteries         : \",len(calldata[callsmade]))\n",
    "    print()\n",
    "    print(\"Total Sms Sent         : \",np.sum(smscounter[0]))\n",
    "    print()\n",
    "    print(\"Total Data used        : \",np.sum(datacounter[0]),\" mb/seconds.\")\n",
    "    print()"
   ]
  },
  {
   "cell_type": "code",
   "execution_count": 19,
   "metadata": {},
   "outputs": [
    {
     "name": "stdout",
     "output_type": "stream",
     "text": [
      "In 2014-11\n",
      "\n",
      "Total Seconds of Calls :  25547.0  seconds\n",
      "\n",
      "Calls Enteries         :  107\n",
      "\n",
      "Total Sms Sent         :  94.0\n",
      "\n",
      "Total Data used        :  998.4409999999999  mb/seconds.\n",
      "\n",
      "\n",
      "In 2014-12\n",
      "\n",
      "Total Seconds of Calls :  13561.0  seconds\n",
      "\n",
      "Calls Enteries         :  79\n",
      "\n",
      "Total Sms Sent         :  48.0\n",
      "\n",
      "Total Data used        :  1032.87  mb/seconds.\n",
      "\n",
      "\n",
      "In 2015-01\n",
      "\n",
      "Total Seconds of Calls :  17070.0  seconds\n",
      "\n",
      "Calls Enteries         :  88\n",
      "\n",
      "Total Sms Sent         :  86.0\n",
      "\n",
      "Total Data used        :  1067.299  mb/seconds.\n",
      "\n",
      "\n",
      "In 2015-02\n",
      "\n",
      "Total Seconds of Calls :  14416.0  seconds\n",
      "\n",
      "Calls Enteries         :  67\n",
      "\n",
      "Total Sms Sent         :  39.0\n",
      "\n",
      "Total Data used        :  1067.299  mb/seconds.\n",
      "\n",
      "\n",
      "In 2015-03\n",
      "\n",
      "Total Seconds of Calls :  21727.0  seconds\n",
      "\n",
      "Calls Enteries         :  47\n",
      "\n",
      "Total Sms Sent         :  25.0\n",
      "\n",
      "Total Data used        :  998.4409999999999  mb/seconds.\n",
      "\n",
      "\n"
     ]
    }
   ],
   "source": [
    "for i in month:\n",
    "    print(\"In {}\".format(i))\n",
    "    print()\n",
    "    sumofdurations(i)\n",
    "    print()"
   ]
  },
  {
   "cell_type": "markdown",
   "metadata": {},
   "source": [
    "## Monthwise - Each Company Record"
   ]
  },
  {
   "cell_type": "code",
   "execution_count": 33,
   "metadata": {},
   "outputs": [
    {
     "name": "stdout",
     "output_type": "stream",
     "text": [
      "['Meteor', 'Tesco', 'Three', 'Vodafone', 'data', 'landline', 'special', 'voicemail', 'world']\n"
     ]
    }
   ],
   "source": [
    "companies=np.array(newdata[...,5],dtype=str)\n",
    "companies=list(set(companies))\n",
    "companies.sort()\n",
    "print(companies)"
   ]
  },
  {
   "cell_type": "code",
   "execution_count": 108,
   "metadata": {},
   "outputs": [],
   "source": [
    "def calls(month,company):\n",
    "    ncalldata=np.where(np.logical_and(np.logical_and(newdata[...,3]=='call',newdata[...,4]==month),newdata[...,5]==company))\n",
    "    callsum=np.array(newdata[ncalldata,2],dtype=float)\n",
    "    print(\"In {} Calls in Seconds to {} : {} seconds \".format(month,company,np.sum(callsum)))"
   ]
  },
  {
   "cell_type": "code",
   "execution_count": 109,
   "metadata": {},
   "outputs": [],
   "source": [
    "def sms(month,company):\n",
    "    nsmsdata=np.where(np.logical_and(np.logical_and(newdata[...,3]=='sms',newdata[...,4]==month),newdata[...,5]==company))\n",
    "    smssum=np.array(newdata[nsmsdata,2],dtype=float)\n",
    "    print(\"In {} sms to {} : {} units \".format(month,company,np.sum(smssum)))"
   ]
  },
  {
   "cell_type": "code",
   "execution_count": 110,
   "metadata": {},
   "outputs": [],
   "source": [
    "def data(month,company):\n",
    "    ndatadata=np.where(np.logical_and(np.logical_and(newdata[...,3]=='data',newdata[...,4]==month),newdata[...,5]==company))\n",
    "    datasum=np.array(newdata[ndatadata,2],dtype=float)\n",
    "    print(\"In {} data used to {} : {} mb \".format(month,company,np.sum(datasum)))"
   ]
  },
  {
   "cell_type": "code",
   "execution_count": 111,
   "metadata": {},
   "outputs": [
    {
     "name": "stdout",
     "output_type": "stream",
     "text": [
      "In 2014-11 Calls in Seconds to Meteor : 1521.0 seconds \n",
      "In 2014-11 Calls in Seconds to Tesco : 4045.0 seconds \n",
      "In 2014-11 Calls in Seconds to Three : 12458.0 seconds \n",
      "In 2014-11 Calls in Seconds to Vodafone : 4316.0 seconds \n",
      "In 2014-11 Calls in Seconds to data : 0.0 seconds \n",
      "In 2014-11 Calls in Seconds to landline : 2906.0 seconds \n",
      "In 2014-11 Calls in Seconds to special : 0.0 seconds \n",
      "In 2014-11 Calls in Seconds to voicemail : 301.0 seconds \n",
      "In 2014-11 Calls in Seconds to world : 0.0 seconds \n",
      "In 2014-12 Calls in Seconds to Meteor : 2010.0 seconds \n",
      "In 2014-12 Calls in Seconds to Tesco : 1819.0 seconds \n",
      "In 2014-12 Calls in Seconds to Three : 6316.0 seconds \n",
      "In 2014-12 Calls in Seconds to Vodafone : 1302.0 seconds \n",
      "In 2014-12 Calls in Seconds to data : 0.0 seconds \n",
      "In 2014-12 Calls in Seconds to landline : 1424.0 seconds \n",
      "In 2014-12 Calls in Seconds to special : 0.0 seconds \n",
      "In 2014-12 Calls in Seconds to voicemail : 690.0 seconds \n",
      "In 2014-12 Calls in Seconds to world : 0.0 seconds \n",
      "In 2015-01 Calls in Seconds to Meteor : 2207.0 seconds \n",
      "In 2015-01 Calls in Seconds to Tesco : 2904.0 seconds \n",
      "In 2015-01 Calls in Seconds to Three : 6445.0 seconds \n",
      "In 2015-01 Calls in Seconds to Vodafone : 3626.0 seconds \n",
      "In 2015-01 Calls in Seconds to data : 0.0 seconds \n",
      "In 2015-01 Calls in Seconds to landline : 1603.0 seconds \n",
      "In 2015-01 Calls in Seconds to special : 0.0 seconds \n",
      "In 2015-01 Calls in Seconds to voicemail : 285.0 seconds \n",
      "In 2015-01 Calls in Seconds to world : 0.0 seconds \n",
      "In 2015-02 Calls in Seconds to Meteor : 1188.0 seconds \n",
      "In 2015-02 Calls in Seconds to Tesco : 4087.0 seconds \n",
      "In 2015-02 Calls in Seconds to Three : 6279.0 seconds \n",
      "In 2015-02 Calls in Seconds to Vodafone : 1864.0 seconds \n",
      "In 2015-02 Calls in Seconds to data : 0.0 seconds \n",
      "In 2015-02 Calls in Seconds to landline : 730.0 seconds \n",
      "In 2015-02 Calls in Seconds to special : 0.0 seconds \n",
      "In 2015-02 Calls in Seconds to voicemail : 268.0 seconds \n",
      "In 2015-02 Calls in Seconds to world : 0.0 seconds \n",
      "In 2015-03 Calls in Seconds to Meteor : 274.0 seconds \n",
      "In 2015-03 Calls in Seconds to Tesco : 973.0 seconds \n",
      "In 2015-03 Calls in Seconds to Three : 4966.0 seconds \n",
      "In 2015-03 Calls in Seconds to Vodafone : 3513.0 seconds \n",
      "In 2015-03 Calls in Seconds to data : 0.0 seconds \n",
      "In 2015-03 Calls in Seconds to landline : 11770.0 seconds \n",
      "In 2015-03 Calls in Seconds to special : 0.0 seconds \n",
      "In 2015-03 Calls in Seconds to voicemail : 231.0 seconds \n",
      "In 2015-03 Calls in Seconds to world : 0.0 seconds \n",
      "\n",
      "In 2014-11 sms to Meteor : 10.0 units \n",
      "In 2014-11 sms to Tesco : 3.0 units \n",
      "In 2014-11 sms to Three : 25.0 units \n",
      "In 2014-11 sms to Vodafone : 55.0 units \n",
      "In 2014-11 sms to data : 0.0 units \n",
      "In 2014-11 sms to landline : 0.0 units \n",
      "In 2014-11 sms to special : 1.0 units \n",
      "In 2014-11 sms to voicemail : 0.0 units \n",
      "In 2014-11 sms to world : 0.0 units \n",
      "In 2014-12 sms to Meteor : 12.0 units \n",
      "In 2014-12 sms to Tesco : 1.0 units \n",
      "In 2014-12 sms to Three : 13.0 units \n",
      "In 2014-12 sms to Vodafone : 18.0 units \n",
      "In 2014-12 sms to data : 0.0 units \n",
      "In 2014-12 sms to landline : 0.0 units \n",
      "In 2014-12 sms to special : 0.0 units \n",
      "In 2014-12 sms to voicemail : 0.0 units \n",
      "In 2014-12 sms to world : 4.0 units \n",
      "In 2015-01 sms to Meteor : 10.0 units \n",
      "In 2015-01 sms to Tesco : 3.0 units \n",
      "In 2015-01 sms to Three : 33.0 units \n",
      "In 2015-01 sms to Vodafone : 40.0 units \n",
      "In 2015-01 sms to data : 0.0 units \n",
      "In 2015-01 sms to landline : 0.0 units \n",
      "In 2015-01 sms to special : 0.0 units \n",
      "In 2015-01 sms to voicemail : 0.0 units \n",
      "In 2015-01 sms to world : 0.0 units \n",
      "In 2015-02 sms to Meteor : 1.0 units \n",
      "In 2015-02 sms to Tesco : 2.0 units \n",
      "In 2015-02 sms to Three : 11.0 units \n",
      "In 2015-02 sms to Vodafone : 23.0 units \n",
      "In 2015-02 sms to data : 0.0 units \n",
      "In 2015-02 sms to landline : 0.0 units \n",
      "In 2015-02 sms to special : 2.0 units \n",
      "In 2015-02 sms to voicemail : 0.0 units \n",
      "In 2015-02 sms to world : 0.0 units \n",
      "In 2015-03 sms to Meteor : 0.0 units \n",
      "In 2015-03 sms to Tesco : 4.0 units \n",
      "In 2015-03 sms to Three : 5.0 units \n",
      "In 2015-03 sms to Vodafone : 13.0 units \n",
      "In 2015-03 sms to data : 0.0 units \n",
      "In 2015-03 sms to landline : 0.0 units \n",
      "In 2015-03 sms to special : 0.0 units \n",
      "In 2015-03 sms to voicemail : 0.0 units \n",
      "In 2015-03 sms to world : 3.0 units \n",
      "\n",
      "In 2014-11 data used to Meteor : 0.0 mb \n",
      "In 2014-11 data used to Tesco : 0.0 mb \n",
      "In 2014-11 data used to Three : 0.0 mb \n",
      "In 2014-11 data used to Vodafone : 0.0 mb \n",
      "In 2014-11 data used to data : 998.4409999999999 mb \n",
      "In 2014-11 data used to landline : 0.0 mb \n",
      "In 2014-11 data used to special : 0.0 mb \n",
      "In 2014-11 data used to voicemail : 0.0 mb \n",
      "In 2014-11 data used to world : 0.0 mb \n",
      "In 2014-12 data used to Meteor : 0.0 mb \n",
      "In 2014-12 data used to Tesco : 0.0 mb \n",
      "In 2014-12 data used to Three : 0.0 mb \n",
      "In 2014-12 data used to Vodafone : 0.0 mb \n",
      "In 2014-12 data used to data : 1032.87 mb \n",
      "In 2014-12 data used to landline : 0.0 mb \n",
      "In 2014-12 data used to special : 0.0 mb \n",
      "In 2014-12 data used to voicemail : 0.0 mb \n",
      "In 2014-12 data used to world : 0.0 mb \n",
      "In 2015-01 data used to Meteor : 0.0 mb \n",
      "In 2015-01 data used to Tesco : 0.0 mb \n",
      "In 2015-01 data used to Three : 0.0 mb \n",
      "In 2015-01 data used to Vodafone : 0.0 mb \n",
      "In 2015-01 data used to data : 1067.299 mb \n",
      "In 2015-01 data used to landline : 0.0 mb \n",
      "In 2015-01 data used to special : 0.0 mb \n",
      "In 2015-01 data used to voicemail : 0.0 mb \n",
      "In 2015-01 data used to world : 0.0 mb \n",
      "In 2015-02 data used to Meteor : 0.0 mb \n",
      "In 2015-02 data used to Tesco : 0.0 mb \n",
      "In 2015-02 data used to Three : 0.0 mb \n",
      "In 2015-02 data used to Vodafone : 0.0 mb \n",
      "In 2015-02 data used to data : 1067.299 mb \n",
      "In 2015-02 data used to landline : 0.0 mb \n",
      "In 2015-02 data used to special : 0.0 mb \n",
      "In 2015-02 data used to voicemail : 0.0 mb \n",
      "In 2015-02 data used to world : 0.0 mb \n",
      "In 2015-03 data used to Meteor : 0.0 mb \n",
      "In 2015-03 data used to Tesco : 0.0 mb \n",
      "In 2015-03 data used to Three : 0.0 mb \n",
      "In 2015-03 data used to Vodafone : 0.0 mb \n",
      "In 2015-03 data used to data : 998.4409999999999 mb \n",
      "In 2015-03 data used to landline : 0.0 mb \n",
      "In 2015-03 data used to special : 0.0 mb \n",
      "In 2015-03 data used to voicemail : 0.0 mb \n",
      "In 2015-03 data used to world : 0.0 mb \n"
     ]
    }
   ],
   "source": [
    "# Monthwise Companiwise Call Records: \n",
    "\n",
    "for i in month:\n",
    "    for j in companies:\n",
    "        calls(i,j)\n",
    "print()   \n",
    "# Monthwise Companiwise sms Records:\n",
    "for i in month:\n",
    "    for j in companies:\n",
    "        sms(i,j)\n",
    "print()    \n",
    "\n",
    "# Monthwise Companiwise data Records:\n",
    "for i in month:\n",
    "    for j in companies:\n",
    "        data(i,j)"
   ]
  },
  {
   "cell_type": "markdown",
   "metadata": {},
   "source": [
    "## DeviceType- Each Record"
   ]
  },
  {
   "cell_type": "code",
   "execution_count": 82,
   "metadata": {},
   "outputs": [
    {
     "name": "stdout",
     "output_type": "stream",
     "text": [
      "['data', 'landline', 'mobile', 'special', 'voicemail', 'world']\n"
     ]
    }
   ],
   "source": [
    "device=np.array(newdata[...,6],dtype=str)\n",
    "device=list(set(device))\n",
    "device.sort()\n",
    "print(device)"
   ]
  },
  {
   "cell_type": "code",
   "execution_count": 118,
   "metadata": {},
   "outputs": [],
   "source": [
    "def callsondevice(month,device):\n",
    "    ncalldata=np.where(np.logical_and(np.logical_and(newdata[...,3]=='call',newdata[...,4]==month),newdata[...,6]==device))\n",
    "    callsum=np.array(newdata[ncalldata,2],dtype=float)\n",
    "    print(\"Calls Enteries : \",len(callsum[0]))\n",
    "\n",
    "def smsondevice(month,device):\n",
    "    nsmsdata=np.where(np.logical_and(np.logical_and(newdata[...,3]=='sms',newdata[...,4]==month),newdata[...,5]==device))\n",
    "    smssum=np.array(newdata[nsmsdata,2],dtype=float)\n",
    "    print(\"Sms   Enteries  : \",len(smssum[0]))\n",
    "    \n",
    "def dataondevice(month,device):\n",
    "    ndatadata=np.where(np.logical_and(np.logical_and(newdata[...,3]=='data',newdata[...,4]==month),newdata[...,5]==device))\n",
    "    datasum=np.array(newdata[ndatadata,2],dtype=float)\n",
    "    print(\"Data  Enteries  : \",len(datasum[0]))"
   ]
  },
  {
   "cell_type": "code",
   "execution_count": 119,
   "metadata": {},
   "outputs": [
    {
     "name": "stdout",
     "output_type": "stream",
     "text": [
      "In  2014-11\n",
      "data\n",
      "Calls Enteries :  0\n",
      "Sms   Enteries  :  0\n",
      "Data  Enteries  :  29\n",
      "\n",
      "landline\n",
      "Calls Enteries :  5\n",
      "Sms   Enteries  :  0\n",
      "Data  Enteries  :  0\n",
      "\n",
      "mobile\n",
      "Calls Enteries :  96\n",
      "Sms   Enteries  :  0\n",
      "Data  Enteries  :  0\n",
      "\n",
      "special\n",
      "Calls Enteries :  0\n",
      "Sms   Enteries  :  1\n",
      "Data  Enteries  :  0\n",
      "\n",
      "voicemail\n",
      "Calls Enteries :  6\n",
      "Sms   Enteries  :  0\n",
      "Data  Enteries  :  0\n",
      "\n",
      "world\n",
      "Calls Enteries :  0\n",
      "Sms   Enteries  :  0\n",
      "Data  Enteries  :  0\n",
      "\n",
      "In  2014-12\n",
      "data\n",
      "Calls Enteries :  0\n",
      "Sms   Enteries  :  0\n",
      "Data  Enteries  :  30\n",
      "\n",
      "landline\n",
      "Calls Enteries :  7\n",
      "Sms   Enteries  :  0\n",
      "Data  Enteries  :  0\n",
      "\n",
      "mobile\n",
      "Calls Enteries :  64\n",
      "Sms   Enteries  :  0\n",
      "Data  Enteries  :  0\n",
      "\n",
      "special\n",
      "Calls Enteries :  0\n",
      "Sms   Enteries  :  0\n",
      "Data  Enteries  :  0\n",
      "\n",
      "voicemail\n",
      "Calls Enteries :  8\n",
      "Sms   Enteries  :  0\n",
      "Data  Enteries  :  0\n",
      "\n",
      "world\n",
      "Calls Enteries :  0\n",
      "Sms   Enteries  :  4\n",
      "Data  Enteries  :  0\n",
      "\n",
      "In  2015-01\n",
      "data\n",
      "Calls Enteries :  0\n",
      "Sms   Enteries  :  0\n",
      "Data  Enteries  :  31\n",
      "\n",
      "landline\n",
      "Calls Enteries :  11\n",
      "Sms   Enteries  :  0\n",
      "Data  Enteries  :  0\n",
      "\n",
      "mobile\n",
      "Calls Enteries :  74\n",
      "Sms   Enteries  :  0\n",
      "Data  Enteries  :  0\n",
      "\n",
      "special\n",
      "Calls Enteries :  0\n",
      "Sms   Enteries  :  0\n",
      "Data  Enteries  :  0\n",
      "\n",
      "voicemail\n",
      "Calls Enteries :  3\n",
      "Sms   Enteries  :  0\n",
      "Data  Enteries  :  0\n",
      "\n",
      "world\n",
      "Calls Enteries :  0\n",
      "Sms   Enteries  :  0\n",
      "Data  Enteries  :  0\n",
      "\n",
      "In  2015-02\n",
      "data\n",
      "Calls Enteries :  0\n",
      "Sms   Enteries  :  0\n",
      "Data  Enteries  :  31\n",
      "\n",
      "landline\n",
      "Calls Enteries :  8\n",
      "Sms   Enteries  :  0\n",
      "Data  Enteries  :  0\n",
      "\n",
      "mobile\n",
      "Calls Enteries :  53\n",
      "Sms   Enteries  :  0\n",
      "Data  Enteries  :  0\n",
      "\n",
      "special\n",
      "Calls Enteries :  0\n",
      "Sms   Enteries  :  2\n",
      "Data  Enteries  :  0\n",
      "\n",
      "voicemail\n",
      "Calls Enteries :  6\n",
      "Sms   Enteries  :  0\n",
      "Data  Enteries  :  0\n",
      "\n",
      "world\n",
      "Calls Enteries :  0\n",
      "Sms   Enteries  :  0\n",
      "Data  Enteries  :  0\n",
      "\n",
      "In  2015-03\n",
      "data\n",
      "Calls Enteries :  0\n",
      "Sms   Enteries  :  0\n",
      "Data  Enteries  :  29\n",
      "\n",
      "landline\n",
      "Calls Enteries :  11\n",
      "Sms   Enteries  :  0\n",
      "Data  Enteries  :  0\n",
      "\n",
      "mobile\n",
      "Calls Enteries :  32\n",
      "Sms   Enteries  :  0\n",
      "Data  Enteries  :  0\n",
      "\n",
      "special\n",
      "Calls Enteries :  0\n",
      "Sms   Enteries  :  0\n",
      "Data  Enteries  :  0\n",
      "\n",
      "voicemail\n",
      "Calls Enteries :  4\n",
      "Sms   Enteries  :  0\n",
      "Data  Enteries  :  0\n",
      "\n",
      "world\n",
      "Calls Enteries :  0\n",
      "Sms   Enteries  :  3\n",
      "Data  Enteries  :  0\n",
      "\n"
     ]
    }
   ],
   "source": [
    "for i in month:\n",
    "    print(\"In \",i)\n",
    "    for j in device:\n",
    "        print(j)\n",
    "        callsondevice(i,j)\n",
    "        smsondevice(i,j)\n",
    "        dataondevice(i,j)\n",
    "        print()"
   ]
  }
 ],
 "metadata": {
  "kernelspec": {
   "display_name": "Python 3",
   "language": "python",
   "name": "python3"
  },
  "language_info": {
   "codemirror_mode": {
    "name": "ipython",
    "version": 3
   },
   "file_extension": ".py",
   "mimetype": "text/x-python",
   "name": "python",
   "nbconvert_exporter": "python",
   "pygments_lexer": "ipython3",
   "version": "3.6.7"
  }
 },
 "nbformat": 4,
 "nbformat_minor": 2
}
