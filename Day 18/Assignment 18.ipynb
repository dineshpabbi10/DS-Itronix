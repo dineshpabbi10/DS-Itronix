{
 "cells": [
  {
   "cell_type": "markdown",
   "metadata": {},
   "source": [
    "## Assignment"
   ]
  },
  {
   "cell_type": "markdown",
   "metadata": {},
   "source": [
    "- Longest Phone call\n",
    "- How many seconds of phone call recorded total\n",
    "- Entry in each month\n",
    "- First Entry of each Month\n",
    "- Sum of the durations of per month\n",
    "- Sum of duration of call to each network\n",
    "- How many calls,sms,data in each month\n",
    "- Call, sms , Data spit by network type per Month\n"
   ]
  },
  {
   "cell_type": "code",
   "execution_count": 1,
   "metadata": {},
   "outputs": [],
   "source": [
    "import numpy as np"
   ]
  },
  {
   "cell_type": "code",
   "execution_count": 2,
   "metadata": {},
   "outputs": [],
   "source": [
    "data = np.genfromtxt(\"phone_data.csv\",delimiter=\",\",dtype=str)"
   ]
  },
  {
   "cell_type": "code",
   "execution_count": 3,
   "metadata": {},
   "outputs": [
    {
     "name": "stdout",
     "output_type": "stream",
     "text": [
      "[['index' 'date' 'duration' 'item' 'month' 'network' 'network_type']\n",
      " ['0' '15/10/14 06:58' '34.429' 'data' '2014-11' 'data' 'data']\n",
      " ['1' '15/10/14 06:58' '13' 'call' '2014-11' 'Vodafone' 'mobile']\n",
      " ['2' '15/10/14 14:46' '23' 'call' '2014-11' 'Meteor' 'mobile']\n",
      " ['3' '15/10/14 14:48' '4' 'call' '2014-11' 'Tesco' 'mobile']]\n"
     ]
    }
   ],
   "source": [
    "print(data[:5])"
   ]
  },
  {
   "cell_type": "code",
   "execution_count": 4,
   "metadata": {},
   "outputs": [],
   "source": [
    "data = data[1:]"
   ]
  },
  {
   "cell_type": "code",
   "execution_count": 17,
   "metadata": {},
   "outputs": [
    {
     "name": "stdout",
     "output_type": "stream",
     "text": [
      "['816' '04/03/15 12:29' '10528' 'call' '2015-03' 'landline' 'landline']\n"
     ]
    }
   ],
   "source": [
    "temp = data[data[:,3]==\"call\"]\n",
    "temp2 = np.array(temp[:,2],dtype=float)\n",
    "print(temp[np.argmax(temp2)])"
   ]
  },
  {
   "cell_type": "code",
   "execution_count": 18,
   "metadata": {},
   "outputs": [
    {
     "name": "stdout",
     "output_type": "stream",
     "text": [
      "Total time spent on call is  92321.0\n"
     ]
    }
   ],
   "source": [
    "print(\"Total time spent on call is \",np.sum(temp2))"
   ]
  },
  {
   "cell_type": "code",
   "execution_count": 37,
   "metadata": {},
   "outputs": [],
   "source": [
    "import pandas as pd"
   ]
  },
  {
   "cell_type": "code",
   "execution_count": 73,
   "metadata": {},
   "outputs": [
    {
     "name": "stdout",
     "output_type": "stream",
     "text": [
      "DatetimeIndex(['2014-10-15 06:58:00', '2014-10-15 06:58:00',\n",
      "               '2014-10-15 14:46:00', '2014-10-15 14:48:00',\n",
      "               '2014-10-15 17:27:00', '2014-10-15 18:55:00',\n",
      "               '2014-10-16 06:58:00', '2014-10-16 15:01:00',\n",
      "               '2014-10-16 15:12:00', '2014-10-16 15:30:00',\n",
      "               ...\n",
      "               '2015-08-03 06:58:00', '2015-09-03 06:58:00',\n",
      "               '2015-10-03 06:58:00', '2015-11-03 06:58:00',\n",
      "               '2015-12-03 06:58:00', '2015-03-13 00:38:00',\n",
      "               '2015-03-13 00:39:00', '2015-03-13 06:58:00',\n",
      "               '2015-03-14 00:13:00', '2015-03-14 00:16:00'],\n",
      "              dtype='datetime64[ns]', length=830, freq=None)\n",
      "(830,)\n",
      "(830,)\n",
      "['2014-01' '2014-02' '2014-03' '2014-04' '2014-05' '2014-06' '2014-07'\n",
      " '2014-08' '2014-09' '2014-10' '2014-11' '2014-12' '2015-01' '2015-02'\n",
      " '2015-03' '2015-04' '2015-05' '2015-06' '2015-07' '2015-08' '2015-09'\n",
      " '2015-10' '2015-11' '2015-12']\n"
     ]
    }
   ],
   "source": [
    "months = data[:,1]\n",
    "months = pd.to_datetime(months)\n",
    "print(months)\n",
    "months = np.array(months, dtype=np.datetime64)\n",
    "print(months.shape)\n",
    "m = months.astype('datetime64[M]')\n",
    "print(m.shape)\n",
    "u = np.unique(m)\n",
    "print(u)"
   ]
  },
  {
   "cell_type": "code",
   "execution_count": 67,
   "metadata": {},
   "outputs": [],
   "source": [
    "d = {}\n",
    "for i in u:\n",
    "    d[i] = data[m==i]"
   ]
  },
  {
   "cell_type": "code",
   "execution_count": 70,
   "metadata": {},
   "outputs": [
    {
     "name": "stdout",
     "output_type": "stream",
     "text": [
      "[['111' '01/11/14 06:58' '34.429' 'data' '2014-11' 'data' 'data']\n",
      " ['112' '01/11/14 15:13' '955' 'call' '2014-11' 'Vodafone' 'mobile']\n",
      " ['113' '01/11/14 17:54' '4' 'call' '2014-11' 'Tesco' 'mobile']\n",
      " ['338' '01/12/14 06:58' '34.429' 'data' '2014-12' 'data' 'data']\n",
      " ['339' '01/12/14 12:51' '1' 'sms' '2014-12' 'Three' 'mobile']\n",
      " ['340' '01/12/14 12:59' '1' 'sms' '2014-12' 'Three' 'mobile']]\n"
     ]
    }
   ],
   "source": [
    "print(d[u[0]])"
   ]
  },
  {
   "cell_type": "code",
   "execution_count": 75,
   "metadata": {},
   "outputs": [
    {
     "ename": "ValueError",
     "evalue": "Error parsing datetime string \"14/03/15 00:16\" at position 2",
     "output_type": "error",
     "traceback": [
      "\u001b[1;31m---------------------------------------------------------------------------\u001b[0m",
      "\u001b[1;31mValueError\u001b[0m                                Traceback (most recent call last)",
      "\u001b[1;32m<ipython-input-75-05e6e2eac91b>\u001b[0m in \u001b[0;36m<module>\u001b[1;34m\u001b[0m\n\u001b[0;32m      1\u001b[0m \u001b[0mdata2\u001b[0m \u001b[1;33m=\u001b[0m \u001b[0mdata\u001b[0m\u001b[1;33m\u001b[0m\u001b[1;33m\u001b[0m\u001b[0m\n\u001b[1;32m----> 2\u001b[1;33m \u001b[0mdata2\u001b[0m\u001b[1;33m[\u001b[0m\u001b[1;33m...\u001b[0m\u001b[1;33m,\u001b[0m\u001b[1;36m1\u001b[0m\u001b[1;33m]\u001b[0m \u001b[1;33m=\u001b[0m \u001b[0mdata2\u001b[0m\u001b[1;33m[\u001b[0m\u001b[1;33m...\u001b[0m\u001b[1;33m,\u001b[0m\u001b[1;36m1\u001b[0m\u001b[1;33m]\u001b[0m\u001b[1;33m.\u001b[0m\u001b[0mastype\u001b[0m\u001b[1;33m(\u001b[0m\u001b[1;34m\"datetime64[M]\"\u001b[0m\u001b[1;33m)\u001b[0m\u001b[1;33m\u001b[0m\u001b[1;33m\u001b[0m\u001b[0m\n\u001b[0m",
      "\u001b[1;31mValueError\u001b[0m: Error parsing datetime string \"14/03/15 00:16\" at position 2"
     ]
    }
   ],
   "source": [
    "data2 = data\n",
    "months = data[:,1]\n",
    "months = pd.to_datetime(months)\n",
    "data2[...,1] = data2[...,1].astype(\"datetime64[M]\")"
   ]
  },
  {
   "cell_type": "code",
   "execution_count": null,
   "metadata": {},
   "outputs": [],
   "source": []
  }
 ],
 "metadata": {
  "kernelspec": {
   "display_name": "Python 3",
   "language": "python",
   "name": "python3"
  },
  "language_info": {
   "codemirror_mode": {
    "name": "ipython",
    "version": 3
   },
   "file_extension": ".py",
   "mimetype": "text/x-python",
   "name": "python",
   "nbconvert_exporter": "python",
   "pygments_lexer": "ipython3",
   "version": "3.6.8"
  }
 },
 "nbformat": 4,
 "nbformat_minor": 2
}
