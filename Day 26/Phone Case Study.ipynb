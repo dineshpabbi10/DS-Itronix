{
 "cells": [
  {
   "cell_type": "code",
   "execution_count": 10,
   "metadata": {},
   "outputs": [],
   "source": [
    "import pandas as pd\n",
    "import numpy as np\n",
    "import dateutil"
   ]
  },
  {
   "cell_type": "code",
   "execution_count": 11,
   "metadata": {},
   "outputs": [
    {
     "name": "stdout",
     "output_type": "stream",
     "text": [
      "   index            date  duration  item    month   network network_type\n",
      "0      0  15/10/14 06:58    34.429  data  2014-11      data         data\n",
      "1      1  15/10/14 06:58    13.000  call  2014-11  Vodafone       mobile\n",
      "2      2  15/10/14 14:46    23.000  call  2014-11    Meteor       mobile\n",
      "3      3  15/10/14 14:48     4.000  call  2014-11     Tesco       mobile\n",
      "4      4  15/10/14 17:27     4.000  call  2014-11     Tesco       mobile\n"
     ]
    }
   ],
   "source": [
    "# Load data from csv file\n",
    "data = pd.read_csv('phone_data.csv')\n",
    "print (data.head())"
   ]
  },
  {
   "cell_type": "code",
   "execution_count": 12,
   "metadata": {},
   "outputs": [
    {
     "name": "stdout",
     "output_type": "stream",
     "text": [
      "   index                date  duration  item    month   network network_type\n",
      "0      0 2014-10-15 06:58:00    34.429  data  2014-11      data         data\n",
      "1      1 2014-10-15 06:58:00    13.000  call  2014-11  Vodafone       mobile\n",
      "2      2 2014-10-15 14:46:00    23.000  call  2014-11    Meteor       mobile\n",
      "3      3 2014-10-15 14:48:00     4.000  call  2014-11     Tesco       mobile\n",
      "4      4 2014-10-15 17:27:00     4.000  call  2014-11     Tesco       mobile\n"
     ]
    }
   ],
   "source": [
    "# Convert date from string to date times\n",
    "data['date'] = data['date'].apply(dateutil.parser.parse, dayfirst=True)\n",
    "print (data.head())\n"
   ]
  },
  {
   "cell_type": "code",
   "execution_count": 17,
   "metadata": {},
   "outputs": [
    {
     "name": "stdout",
     "output_type": "stream",
     "text": [
      "Total Rows 830\n",
      "(830, 7)\n"
     ]
    }
   ],
   "source": [
    "# How many rows the dataset\n",
    "print (\"Total Rows\",data['item'].count())\n",
    "print (data.shape)"
   ]
  },
  {
   "cell_type": "code",
   "execution_count": 18,
   "metadata": {},
   "outputs": [
    {
     "name": "stdout",
     "output_type": "stream",
     "text": [
      "Longest Phone Call 10528.0\n"
     ]
    }
   ],
   "source": [
    "# What was the longest phone call / data entry?\n",
    "print (\"Longest Phone Call\",data['duration'].max())"
   ]
  },
  {
   "cell_type": "code",
   "execution_count": 19,
   "metadata": {},
   "outputs": [
    {
     "name": "stdout",
     "output_type": "stream",
     "text": [
      "92321.0\n"
     ]
    }
   ],
   "source": [
    "# How many seconds of phone calls are recorded in total?\n",
    "print (data['duration'][data['item'] == 'call'].sum())"
   ]
  },
  {
   "cell_type": "code",
   "execution_count": 20,
   "metadata": {},
   "outputs": [
    {
     "name": "stdout",
     "output_type": "stream",
     "text": [
      "2014-11    230\n",
      "2015-01    205\n",
      "2014-12    157\n",
      "2015-02    137\n",
      "2015-03    101\n",
      "Name: month, dtype: int64\n"
     ]
    }
   ],
   "source": [
    "# How many entries are there for each month?\n",
    "print (data['month'].value_counts())"
   ]
  },
  {
   "cell_type": "code",
   "execution_count": 21,
   "metadata": {},
   "outputs": [
    {
     "name": "stdout",
     "output_type": "stream",
     "text": [
      "         index                date  duration  item   network network_type\n",
      "month                                                                    \n",
      "2014-11      0 2014-10-15 06:58:00    34.429  data      data         data\n",
      "2014-12    228 2014-11-13 06:58:00    34.429  data      data         data\n",
      "2015-01    381 2014-12-13 06:58:00    34.429  data      data         data\n",
      "2015-02    577 2015-01-13 06:58:00    34.429  data      data         data\n",
      "2015-03    729 2015-02-12 20:15:00    69.000  call  landline     landline\n"
     ]
    }
   ],
   "source": [
    "# Get the first entry for each month\n",
    "print (data.groupby('month').first())"
   ]
  },
  {
   "cell_type": "code",
   "execution_count": 22,
   "metadata": {},
   "outputs": [
    {
     "name": "stdout",
     "output_type": "stream",
     "text": [
      "month\n",
      "2014-11    26639.441\n",
      "2014-12    14641.870\n",
      "2015-01    18223.299\n",
      "2015-02    15522.299\n",
      "2015-03    22750.441\n",
      "Name: duration, dtype: float64\n"
     ]
    }
   ],
   "source": [
    "# Get the sum of the durations per month\n",
    "print (data.groupby('month')['duration'].sum())"
   ]
  },
  {
   "cell_type": "code",
   "execution_count": 31,
   "metadata": {},
   "outputs": [
    {
     "name": "stdout",
     "output_type": "stream",
     "text": [
      "network\n",
      "Meteor        7200.0\n",
      "Tesco        13828.0\n",
      "Three        36464.0\n",
      "Vodafone     14621.0\n",
      "landline     18433.0\n",
      "voicemail     1775.0\n",
      "Name: duration, dtype: float64\n"
     ]
    }
   ],
   "source": [
    "# What is the sum of durations, for calls only, to each network\n",
    "print (data[data['item'] == 'call'].groupby('network')['duration'].sum())"
   ]
  },
  {
   "cell_type": "code",
   "execution_count": 24,
   "metadata": {},
   "outputs": [
    {
     "name": "stdout",
     "output_type": "stream",
     "text": [
      "month    item\n",
      "2014-11  call    107\n",
      "         data     29\n",
      "         sms      94\n",
      "2014-12  call     79\n",
      "         data     30\n",
      "         sms      48\n",
      "2015-01  call     88\n",
      "         data     31\n",
      "         sms      86\n",
      "2015-02  call     67\n",
      "         data     31\n",
      "         sms      39\n",
      "2015-03  call     47\n",
      "         data     29\n",
      "         sms      25\n",
      "Name: date, dtype: int64\n"
     ]
    }
   ],
   "source": [
    "# How many calls, sms, and data entries are in each month?\n",
    "print (data.groupby(['month', 'item'])['date'].count())"
   ]
  },
  {
   "cell_type": "code",
   "execution_count": 32,
   "metadata": {},
   "outputs": [
    {
     "name": "stdout",
     "output_type": "stream",
     "text": [
      "month    network_type\n",
      "2014-11  landline         5\n",
      "         mobile          96\n",
      "         voicemail        6\n",
      "2014-12  landline         7\n",
      "         mobile          64\n",
      "         voicemail        8\n",
      "2015-01  landline        11\n",
      "         mobile          74\n",
      "         voicemail        3\n",
      "2015-02  landline         8\n",
      "         mobile          53\n",
      "         voicemail        6\n",
      "2015-03  landline        11\n",
      "         mobile          32\n",
      "         voicemail        4\n",
      "Name: date, dtype: int64\n"
     ]
    }
   ],
   "source": [
    "# How many calls, texts, and data are sent per month, split by network_type?\n",
    "print (data.groupby(['month', 'network_type'])['date'].count())"
   ]
  },
  {
   "cell_type": "code",
   "execution_count": 26,
   "metadata": {},
   "outputs": [
    {
     "name": "stdout",
     "output_type": "stream",
     "text": [
      "               duration  network_type                date\n",
      "month   item                                             \n",
      "2014-11 call  25547.000           107 2014-10-15 06:58:00\n",
      "        data    998.441            29 2014-10-15 06:58:00\n",
      "        sms      94.000            94 2014-10-16 22:18:00\n",
      "2014-12 call  13561.000            79 2014-11-14 17:24:00\n",
      "        data   1032.870            30 2014-11-13 06:58:00\n",
      "        sms      48.000            48 2014-11-14 17:28:00\n",
      "2015-01 call  17070.000            88 2014-12-15 20:03:00\n",
      "        data   1067.299            31 2014-12-13 06:58:00\n",
      "        sms      86.000            86 2014-12-15 19:56:00\n",
      "2015-02 call  14416.000            67 2015-01-15 10:36:00\n",
      "        data   1067.299            31 2015-01-13 06:58:00\n",
      "        sms      39.000            39 2015-01-15 12:23:00\n",
      "2015-03 call  21727.000            47 2015-02-12 20:15:00\n",
      "        data    998.441            29 2015-02-13 06:58:00\n",
      "        sms      25.000            25 2015-02-19 18:46:00\n"
     ]
    }
   ],
   "source": [
    "# Group the data frame by month and item and extract a number of stats from each group\n",
    "# find the sum of the durations for each group\n",
    "# find the number of network type entries\n",
    "# get the first date per group\n",
    "print (data.groupby(['month', 'item']).agg({'duration':sum,\n",
    "                                     'network_type': \"count\",\n",
    "                                     'date': 'first'}))   "
   ]
  },
  {
   "cell_type": "code",
   "execution_count": 28,
   "metadata": {},
   "outputs": [
    {
     "data": {
      "text/html": [
       "<div>\n",
       "<style scoped>\n",
       "    .dataframe tbody tr th:only-of-type {\n",
       "        vertical-align: middle;\n",
       "    }\n",
       "\n",
       "    .dataframe tbody tr th {\n",
       "        vertical-align: top;\n",
       "    }\n",
       "\n",
       "    .dataframe thead tr th {\n",
       "        text-align: left;\n",
       "    }\n",
       "\n",
       "    .dataframe thead tr:last-of-type th {\n",
       "        text-align: right;\n",
       "    }\n",
       "</style>\n",
       "<table border=\"1\" class=\"dataframe\">\n",
       "  <thead>\n",
       "    <tr>\n",
       "      <th></th>\n",
       "      <th></th>\n",
       "      <th colspan=\"3\" halign=\"left\">duration</th>\n",
       "      <th>network_type</th>\n",
       "      <th colspan=\"3\" halign=\"left\">date</th>\n",
       "    </tr>\n",
       "    <tr>\n",
       "      <th></th>\n",
       "      <th></th>\n",
       "      <th>min</th>\n",
       "      <th>max</th>\n",
       "      <th>sum</th>\n",
       "      <th>count</th>\n",
       "      <th>min</th>\n",
       "      <th>first</th>\n",
       "      <th>nunique</th>\n",
       "    </tr>\n",
       "    <tr>\n",
       "      <th>month</th>\n",
       "      <th>item</th>\n",
       "      <th></th>\n",
       "      <th></th>\n",
       "      <th></th>\n",
       "      <th></th>\n",
       "      <th></th>\n",
       "      <th></th>\n",
       "      <th></th>\n",
       "    </tr>\n",
       "  </thead>\n",
       "  <tbody>\n",
       "    <tr>\n",
       "      <th rowspan=\"3\" valign=\"top\">2014-11</th>\n",
       "      <th>call</th>\n",
       "      <td>1.000</td>\n",
       "      <td>1940.000</td>\n",
       "      <td>25547.000</td>\n",
       "      <td>107</td>\n",
       "      <td>2014-10-15 06:58:00</td>\n",
       "      <td>2014-10-15 06:58:00</td>\n",
       "      <td>104</td>\n",
       "    </tr>\n",
       "    <tr>\n",
       "      <th>data</th>\n",
       "      <td>34.429</td>\n",
       "      <td>34.429</td>\n",
       "      <td>998.441</td>\n",
       "      <td>29</td>\n",
       "      <td>2014-10-15 06:58:00</td>\n",
       "      <td>2014-10-15 06:58:00</td>\n",
       "      <td>29</td>\n",
       "    </tr>\n",
       "    <tr>\n",
       "      <th>sms</th>\n",
       "      <td>1.000</td>\n",
       "      <td>1.000</td>\n",
       "      <td>94.000</td>\n",
       "      <td>94</td>\n",
       "      <td>2014-10-16 22:18:00</td>\n",
       "      <td>2014-10-16 22:18:00</td>\n",
       "      <td>79</td>\n",
       "    </tr>\n",
       "    <tr>\n",
       "      <th rowspan=\"3\" valign=\"top\">2014-12</th>\n",
       "      <th>call</th>\n",
       "      <td>2.000</td>\n",
       "      <td>2120.000</td>\n",
       "      <td>13561.000</td>\n",
       "      <td>79</td>\n",
       "      <td>2014-11-14 17:24:00</td>\n",
       "      <td>2014-11-14 17:24:00</td>\n",
       "      <td>76</td>\n",
       "    </tr>\n",
       "    <tr>\n",
       "      <th>data</th>\n",
       "      <td>34.429</td>\n",
       "      <td>34.429</td>\n",
       "      <td>1032.870</td>\n",
       "      <td>30</td>\n",
       "      <td>2014-11-13 06:58:00</td>\n",
       "      <td>2014-11-13 06:58:00</td>\n",
       "      <td>30</td>\n",
       "    </tr>\n",
       "    <tr>\n",
       "      <th>sms</th>\n",
       "      <td>1.000</td>\n",
       "      <td>1.000</td>\n",
       "      <td>48.000</td>\n",
       "      <td>48</td>\n",
       "      <td>2014-11-14 17:28:00</td>\n",
       "      <td>2014-11-14 17:28:00</td>\n",
       "      <td>41</td>\n",
       "    </tr>\n",
       "    <tr>\n",
       "      <th rowspan=\"3\" valign=\"top\">2015-01</th>\n",
       "      <th>call</th>\n",
       "      <td>2.000</td>\n",
       "      <td>1859.000</td>\n",
       "      <td>17070.000</td>\n",
       "      <td>88</td>\n",
       "      <td>2014-12-15 20:03:00</td>\n",
       "      <td>2014-12-15 20:03:00</td>\n",
       "      <td>84</td>\n",
       "    </tr>\n",
       "    <tr>\n",
       "      <th>data</th>\n",
       "      <td>34.429</td>\n",
       "      <td>34.429</td>\n",
       "      <td>1067.299</td>\n",
       "      <td>31</td>\n",
       "      <td>2014-12-13 06:58:00</td>\n",
       "      <td>2014-12-13 06:58:00</td>\n",
       "      <td>31</td>\n",
       "    </tr>\n",
       "    <tr>\n",
       "      <th>sms</th>\n",
       "      <td>1.000</td>\n",
       "      <td>1.000</td>\n",
       "      <td>86.000</td>\n",
       "      <td>86</td>\n",
       "      <td>2014-12-15 19:56:00</td>\n",
       "      <td>2014-12-15 19:56:00</td>\n",
       "      <td>58</td>\n",
       "    </tr>\n",
       "    <tr>\n",
       "      <th rowspan=\"3\" valign=\"top\">2015-02</th>\n",
       "      <th>call</th>\n",
       "      <td>1.000</td>\n",
       "      <td>1863.000</td>\n",
       "      <td>14416.000</td>\n",
       "      <td>67</td>\n",
       "      <td>2015-01-15 10:36:00</td>\n",
       "      <td>2015-01-15 10:36:00</td>\n",
       "      <td>67</td>\n",
       "    </tr>\n",
       "    <tr>\n",
       "      <th>data</th>\n",
       "      <td>34.429</td>\n",
       "      <td>34.429</td>\n",
       "      <td>1067.299</td>\n",
       "      <td>31</td>\n",
       "      <td>2015-01-13 06:58:00</td>\n",
       "      <td>2015-01-13 06:58:00</td>\n",
       "      <td>31</td>\n",
       "    </tr>\n",
       "    <tr>\n",
       "      <th>sms</th>\n",
       "      <td>1.000</td>\n",
       "      <td>1.000</td>\n",
       "      <td>39.000</td>\n",
       "      <td>39</td>\n",
       "      <td>2015-01-15 12:23:00</td>\n",
       "      <td>2015-01-15 12:23:00</td>\n",
       "      <td>27</td>\n",
       "    </tr>\n",
       "    <tr>\n",
       "      <th rowspan=\"3\" valign=\"top\">2015-03</th>\n",
       "      <th>call</th>\n",
       "      <td>2.000</td>\n",
       "      <td>10528.000</td>\n",
       "      <td>21727.000</td>\n",
       "      <td>47</td>\n",
       "      <td>2015-02-12 20:15:00</td>\n",
       "      <td>2015-02-12 20:15:00</td>\n",
       "      <td>47</td>\n",
       "    </tr>\n",
       "    <tr>\n",
       "      <th>data</th>\n",
       "      <td>34.429</td>\n",
       "      <td>34.429</td>\n",
       "      <td>998.441</td>\n",
       "      <td>29</td>\n",
       "      <td>2015-02-13 06:58:00</td>\n",
       "      <td>2015-02-13 06:58:00</td>\n",
       "      <td>29</td>\n",
       "    </tr>\n",
       "    <tr>\n",
       "      <th>sms</th>\n",
       "      <td>1.000</td>\n",
       "      <td>1.000</td>\n",
       "      <td>25.000</td>\n",
       "      <td>25</td>\n",
       "      <td>2015-02-19 18:46:00</td>\n",
       "      <td>2015-02-19 18:46:00</td>\n",
       "      <td>17</td>\n",
       "    </tr>\n",
       "  </tbody>\n",
       "</table>\n",
       "</div>"
      ],
      "text/plain": [
       "             duration                       network_type                date  \\\n",
       "                  min        max        sum        count                 min   \n",
       "month   item                                                                   \n",
       "2014-11 call    1.000   1940.000  25547.000          107 2014-10-15 06:58:00   \n",
       "        data   34.429     34.429    998.441           29 2014-10-15 06:58:00   \n",
       "        sms     1.000      1.000     94.000           94 2014-10-16 22:18:00   \n",
       "2014-12 call    2.000   2120.000  13561.000           79 2014-11-14 17:24:00   \n",
       "        data   34.429     34.429   1032.870           30 2014-11-13 06:58:00   \n",
       "        sms     1.000      1.000     48.000           48 2014-11-14 17:28:00   \n",
       "2015-01 call    2.000   1859.000  17070.000           88 2014-12-15 20:03:00   \n",
       "        data   34.429     34.429   1067.299           31 2014-12-13 06:58:00   \n",
       "        sms     1.000      1.000     86.000           86 2014-12-15 19:56:00   \n",
       "2015-02 call    1.000   1863.000  14416.000           67 2015-01-15 10:36:00   \n",
       "        data   34.429     34.429   1067.299           31 2015-01-13 06:58:00   \n",
       "        sms     1.000      1.000     39.000           39 2015-01-15 12:23:00   \n",
       "2015-03 call    2.000  10528.000  21727.000           47 2015-02-12 20:15:00   \n",
       "        data   34.429     34.429    998.441           29 2015-02-13 06:58:00   \n",
       "        sms     1.000      1.000     25.000           25 2015-02-19 18:46:00   \n",
       "\n",
       "                                          \n",
       "                           first nunique  \n",
       "month   item                              \n",
       "2014-11 call 2014-10-15 06:58:00     104  \n",
       "        data 2014-10-15 06:58:00      29  \n",
       "        sms  2014-10-16 22:18:00      79  \n",
       "2014-12 call 2014-11-14 17:24:00      76  \n",
       "        data 2014-11-13 06:58:00      30  \n",
       "        sms  2014-11-14 17:28:00      41  \n",
       "2015-01 call 2014-12-15 20:03:00      84  \n",
       "        data 2014-12-13 06:58:00      31  \n",
       "        sms  2014-12-15 19:56:00      58  \n",
       "2015-02 call 2015-01-15 10:36:00      67  \n",
       "        data 2015-01-13 06:58:00      31  \n",
       "        sms  2015-01-15 12:23:00      27  \n",
       "2015-03 call 2015-02-12 20:15:00      47  \n",
       "        data 2015-02-13 06:58:00      29  \n",
       "        sms  2015-02-19 18:46:00      17  "
      ]
     },
     "execution_count": 28,
     "metadata": {},
     "output_type": "execute_result"
    }
   ],
   "source": [
    "# Group the data frame by month and item and extract a number of stats from each group\n",
    "# find the min, max, and sum of the duration column\n",
    "# find the number of network type entries\n",
    "# get the min, first, and number of unique dates per group\n",
    "\n",
    "data.groupby(['month', 'item']).agg({'duration': [min, max, sum],      \n",
    "                                     'network_type': \"count\", \n",
    "                                     'date': [min, 'first', 'nunique']})"
   ]
  },
  {
   "cell_type": "code",
   "execution_count": null,
   "metadata": {},
   "outputs": [],
   "source": []
  }
 ],
 "metadata": {
  "kernelspec": {
   "display_name": "Python 3",
   "language": "python",
   "name": "python3"
  },
  "language_info": {
   "codemirror_mode": {
    "name": "ipython",
    "version": 3
   },
   "file_extension": ".py",
   "mimetype": "text/x-python",
   "name": "python",
   "nbconvert_exporter": "python",
   "pygments_lexer": "ipython3",
   "version": "3.6.8"
  }
 },
 "nbformat": 4,
 "nbformat_minor": 2
}
