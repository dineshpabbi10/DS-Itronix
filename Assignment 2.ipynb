{
 "cells": [
  {
   "cell_type": "markdown",
   "metadata": {},
   "source": [
    "## Assignment 2\n",
    "- adding attachment and subject\n",
    "- making signup , login , otp verification before accessing api"
   ]
  },
  {
   "cell_type": "markdown",
   "metadata": {},
   "source": [
    "#### EMAIL"
   ]
  },
  {
   "cell_type": "code",
   "execution_count": 11,
   "metadata": {},
   "outputs": [],
   "source": [
    "from email.mime.text import MIMEText\n",
    "from email.mime.multipart import MIMEMultipart\n",
    "from email.mime.base import MIMEBase\n",
    "from email import encoders"
   ]
  },
  {
   "cell_type": "code",
   "execution_count": 10,
   "metadata": {},
   "outputs": [],
   "source": [
    "def bulkmail():\n",
    "    from smtplib import SMTP\n",
    "    reciever = \"dineshpabbi10@gmail.com\"\n",
    "    sender = \"swiftsnoop@gmail.com\"\n",
    "    server = SMTP('smtp.gmail.com',587)\n",
    "    server.starttls()\n",
    "    server.login(\"swiftsnoop@gmail.com\",\"cohesiveforce\")\n",
    "    message = MIMEMultipart(\"alternate\")\n",
    "    message[\"To\"] = reciever\n",
    "    message[\"From\"] = sender\n",
    "    message[\"Subject\"] = \"test Mail\"\n",
    "    body = MIMEText(\"This email is to inform that i have completed all documentation\\nRegards\\nDinesh\",\"plain\")\n",
    "    html = \"\"\"\n",
    "    <body>\n",
    "    <a href=\"https://www.linkedin.com/in/dineshpabbi10/\">LinkedIn</a>\n",
    "    </body>\n",
    "    \"\"\"\n",
    "    html = MIMEText(html,\"html\")\n",
    "    message.attach(body)\n",
    "    message.attach(html)\n",
    "    server.sendmail(sender,reciever,message.as_string())\n",
    "    server.quit()\n",
    "bulkmail()"
   ]
  },
  {
   "cell_type": "code",
   "execution_count": 16,
   "metadata": {},
   "outputs": [],
   "source": [
    "def attachment():\n",
    "    from smtplib import SMTP\n",
    "    reciever = \"dineshpabbi10@gmail.com\"\n",
    "    sender = \"swiftsnoop@gmail.com\"\n",
    "    filename = \"Title.pdf\"\n",
    "    server = SMTP('smtp.gmail.com',587)\n",
    "    server.starttls()\n",
    "    server.login(\"swiftsnoop@gmail.com\",\"cohesiveforce\")\n",
    "    message = MIMEMultipart(\"alternate\")\n",
    "    message[\"To\"] = reciever\n",
    "    message[\"From\"] = sender\n",
    "    message[\"Subject\"] = \"test Mail\"\n",
    "    body = MIMEText(\"This email is to inform that i have completed all documentation\\nRegards\\nDinesh\",\"plain\")\n",
    "    html = \"\"\"\n",
    "    <body>\n",
    "    <a href=\"https://www.linkedin.com/in/dineshpabbi10/\">LinkedIn</a>\n",
    "    </body>\n",
    "    \"\"\"\n",
    "    html = MIMEText(html,\"html\")\n",
    "    message.attach(body)\n",
    "    message.attach(html)\n",
    "    \n",
    "    ## Attach file \n",
    "    with open(\"Title.pdf\", \"rb\") as attachment:\n",
    "    # Add file as application/octet-stream\n",
    "    # Email client can usually download this automatically as attachment\n",
    "        part = MIMEBase(\"application\", \"octet-stream\")\n",
    "        part.set_payload(attachment.read())\n",
    "        \n",
    "    part.add_header('Content-Disposition', \"attachment; filename= %s\" % filename) \n",
    "\n",
    "    # Encode file in ASCII characters to send by email    \n",
    "    encoders.encode_base64(part)\n",
    "    message.attach(part)\n",
    "    \n",
    "    server.sendmail(sender,reciever,message.as_string())\n",
    "    server.quit()\n",
    "attachment()"
   ]
  },
  {
   "cell_type": "markdown",
   "metadata": {},
   "source": [
    "#### OTP Assignment"
   ]
  },
  {
   "cell_type": "code",
   "execution_count": 39,
   "metadata": {},
   "outputs": [],
   "source": [
    "def sendOTP():\n",
    "    import random\n",
    "    a = random.randint(1000,9999)\n",
    "    otp = \"Your OTP is \"+ str(a)\n",
    "    from twilio.rest import Client\n",
    "\n",
    "    # Your Account SID from twilio.com/console\n",
    "    account_sid = \"ACb86e5e98a88a7f04aaab4adc8320c3bc\"\n",
    "    # Your Auth Token from twilio.com/console\n",
    "    auth_token  = \"d5618944ff5724070623fcaf478ed1cc\"\n",
    "\n",
    "    client = Client(account_sid, auth_token)\n",
    "\n",
    "    message = client.messages.create(\n",
    "        to=\"+917009253106\", \n",
    "        from_=\"+18646893493\",\n",
    "        body=otp)\n",
    "\n",
    "    print(message.sid)\n",
    "    return a\n",
    "\n",
    "def call():\n",
    "    from twilio.rest import Client\n",
    "\n",
    "    # Your Account SID from twilio.com/console\n",
    "    account_sid = \"ACb86e5e98a88a7f04aaab4adc8320c3bc\"\n",
    "    # Your Auth Token from twilio.com/console\n",
    "    auth_token  = \"d5618944ff5724070623fcaf478ed1cc\"\n",
    "    client = Client(account_sid, auth_token)\n",
    "\n",
    "    call = client.calls.create(\n",
    "        to=\"+917009253106\", \n",
    "        from_=\"+18646893493\",\n",
    "        url=\"http://demo.twilio.com/docs/voice.xml\"\n",
    "    )\n",
    "\n",
    "    print(call.sid)\n"
   ]
  },
  {
   "cell_type": "code",
   "execution_count": 40,
   "metadata": {},
   "outputs": [],
   "source": [
    "account = {}\n",
    "def signup():\n",
    "    email = input(\"Enter the email to signup\\n\")\n",
    "    password = input(\"Enter your password\\n\")\n",
    "    mobile = input(\"Enter your mobile number\\n\")\n",
    "    account[email] = [password,mobile]\n",
    "    print(\"SignUp Successfull !\")\n",
    "\n",
    "        \n",
    "    \n",
    "    "
   ]
  },
  {
   "cell_type": "code",
   "execution_count": 45,
   "metadata": {},
   "outputs": [],
   "source": [
    "\n",
    "def signin():\n",
    "    email = input(\"Enter the email to sigin\\n\")\n",
    "    password = input(\"Enter your password\\n\")\n",
    "    if password == account[email][0]:\n",
    "        print(\"OTP has been sent to your phone\")\n",
    "        sotp = sendOTP()\n",
    "        print(sotp)\n",
    "        otp = int(input(\"Enter the otp you recieved\\n\"))\n",
    "        if(sotp == otp):\n",
    "            print(\"You logged in successfully !\")\n",
    "            call()\n",
    "        else:\n",
    "            print(\"Enter correct OTP\")\n",
    "    else:\n",
    "        print(\"Wrong Password\")"
   ]
  },
  {
   "cell_type": "code",
   "execution_count": 41,
   "metadata": {},
   "outputs": [
    {
     "name": "stdout",
     "output_type": "stream",
     "text": [
      "Enter the email to signup\n",
      "dineshpabbi10@gmail.com\n",
      "Enter your password\n",
      "welcome\n",
      "Enter your mobile number\n",
      "7009253106\n",
      "SignUp Successfull !\n"
     ]
    }
   ],
   "source": [
    "signup()"
   ]
  },
  {
   "cell_type": "code",
   "execution_count": 47,
   "metadata": {},
   "outputs": [
    {
     "name": "stdout",
     "output_type": "stream",
     "text": [
      "Enter the email to sigin\n",
      "dineshpabbi10@gmail.com\n",
      "Enter your password\n",
      "welcome\n",
      "OTP has been sent to your phone\n",
      "SM03291f5e3d304a0baae5c4cd4cb16fa8\n",
      "9070\n",
      "Enter the otp you recieved\n",
      "9070\n",
      "You logged in successfully !\n",
      "CA95b7539b36557f9d3f4e9e93a1d9dbc7\n"
     ]
    }
   ],
   "source": [
    "signin()"
   ]
  }
 ],
 "metadata": {
  "kernelspec": {
   "display_name": "Python 3",
   "language": "python",
   "name": "python3"
  },
  "language_info": {
   "codemirror_mode": {
    "name": "ipython",
    "version": 3
   },
   "file_extension": ".py",
   "mimetype": "text/x-python",
   "name": "python",
   "nbconvert_exporter": "python",
   "pygments_lexer": "ipython3",
   "version": "3.6.8"
  }
 },
 "nbformat": 4,
 "nbformat_minor": 2
}
