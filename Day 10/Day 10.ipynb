{
 "cells": [
  {
   "cell_type": "markdown",
   "metadata": {},
   "source": [
    "## Day 10"
   ]
  },
  {
   "cell_type": "code",
   "execution_count": 18,
   "metadata": {},
   "outputs": [],
   "source": [
    "from tkinter import *"
   ]
  },
  {
   "cell_type": "code",
   "execution_count": 19,
   "metadata": {},
   "outputs": [],
   "source": [
    "root = Tk()\n",
    "menubar = Menu(root)\n",
    "filemenu = Menu(menubar,tearoff=0)\n",
    "editmenu = Menu(menubar,tearoff = 0)\n",
    "helpmenu = Menu(menubar,tearoff = 0)"
   ]
  },
  {
   "cell_type": "code",
   "execution_count": 20,
   "metadata": {},
   "outputs": [],
   "source": [
    "menubar.add_cascade(label=\"File\", menu=filemenu)\n",
    "menubar.add_cascade(label=\"Edit\", menu=editmenu)\n",
    "menubar.add_cascade(label=\"Help\", menu=helpmenu)"
   ]
  },
  {
   "cell_type": "code",
   "execution_count": 21,
   "metadata": {},
   "outputs": [],
   "source": [
    "def donothing():\n",
    "    lol = Toplevel(root)\n",
    "    button = Button(lol, text=\"Do nothing button\")\n",
    "    button.pack()\n",
    "   "
   ]
  },
  {
   "cell_type": "code",
   "execution_count": 22,
   "metadata": {},
   "outputs": [],
   "source": [
    "filemenu.add_command(label=\"New\", command=donothing)\n",
    "filemenu.add_command(label=\"Open\", command=donothing)\n",
    "filemenu.add_command(label=\"Save\", command=donothing)\n",
    "filemenu.add_command(label=\"Save as...\", command=donothing)\n",
    "filemenu.add_command(label=\"Close\", command=donothing)\n",
    "filemenu.add_separator()\n",
    "filemenu.add_command(label=\"Exit\", command=root.quit)\n",
    "\n",
    "\n",
    "editmenu.add_command(label=\"Undo\", command=donothing)\n",
    "editmenu.add_separator()\n",
    "editmenu.add_command(label=\"Cut\", command=donothing)\n",
    "editmenu.add_command(label=\"Copy\", command=donothing)\n",
    "editmenu.add_command(label=\"Paste\", command=donothing)\n",
    "editmenu.add_command(label=\"Delete\", command=donothing)\n",
    "editmenu.add_command(label=\"Select All\", command=donothing)\n",
    "\n",
    "helpmenu.add_command(label=\"Help Index\", command=donothing)\n",
    "helpmenu.add_command(label=\"About...\", command=donothing)"
   ]
  },
  {
   "cell_type": "code",
   "execution_count": 23,
   "metadata": {},
   "outputs": [],
   "source": [
    "root.config(menu=menubar)\n",
    "root.mainloop()"
   ]
  },
  {
   "cell_type": "code",
   "execution_count": null,
   "metadata": {},
   "outputs": [],
   "source": []
  }
 ],
 "metadata": {
  "kernelspec": {
   "display_name": "Python 3",
   "language": "python",
   "name": "python3"
  },
  "language_info": {
   "codemirror_mode": {
    "name": "ipython",
    "version": 3
   },
   "file_extension": ".py",
   "mimetype": "text/x-python",
   "name": "python",
   "nbconvert_exporter": "python",
   "pygments_lexer": "ipython3",
   "version": "3.6.8"
  }
 },
 "nbformat": 4,
 "nbformat_minor": 2
}
