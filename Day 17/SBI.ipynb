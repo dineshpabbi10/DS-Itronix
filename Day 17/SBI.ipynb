{
 "cells": [
  {
   "cell_type": "code",
   "execution_count": 2,
   "metadata": {},
   "outputs": [
    {
     "name": "stdout",
     "output_type": "stream",
     "text": [
      "[['1/4/2019' '292.1' '299' ... '297.65' '19514041' '57796.86']\n",
      " ['1/3/2019' '295' '295.55' ... '291.1' '17548347' '51393.24']\n",
      " ['1/2/2019' '299.1' '302.5' ... '293.9' '25559853' '76220.1']\n",
      " ...\n",
      " ['3/25/1998' '285' '290.25' ... '289.15' '3632600' '10436.93']\n",
      " ['3/24/1998' '282' '288.4' ... '284.35' '4979900' '14231.55']\n",
      " ['3/23/1998' '278.45' '280.9' ... '279.95' '591700' '1654.91']]\n"
     ]
    }
   ],
   "source": [
    "import numpy as np\n",
    "a = np.genfromtxt('NSE-SBIN.csv', delimiter=',', dtype=str)\n",
    "data=a[1:,:] # Remove the first row\n",
    "print(data)"
   ]
  },
  {
   "cell_type": "code",
   "execution_count": 3,
   "metadata": {},
   "outputs": [
    {
     "name": "stdout",
     "output_type": "stream",
     "text": [
      "Sum of all OPEN Stock Price : 5068877.600000004\n",
      "Maximum Open Stock Price : 3505.0\n",
      "Minimum Open Stock Price : 142.85\n"
     ]
    }
   ],
   "source": [
    "print(\"Sum of all OPEN Stock Price :\",sum(np.array(data[...,1],dtype=float)))\n",
    "print(\"Maximum Open Stock Price :\",max(np.array(data[...,1],dtype=float)))\n",
    "print(\"Minimum Open Stock Price :\",min(np.array(data[...,1],dtype=float)))\n"
   ]
  },
  {
   "cell_type": "code",
   "execution_count": 4,
   "metadata": {},
   "outputs": [
    {
     "name": "stdout",
     "output_type": "stream",
     "text": [
      "Maximum Trade Quantity : 262677081\n",
      "Minimum Trade Quantity : 3633\n"
     ]
    }
   ],
   "source": [
    "print(\"Maximum Trade Quantity :\",max(np.array(data[...,6],dtype=int)))\n",
    "print(\"Minimum Trade Quantity :\",min(np.array(data[...,6],dtype=int)))"
   ]
  },
  {
   "cell_type": "code",
   "execution_count": 5,
   "metadata": {},
   "outputs": [
    {
     "name": "stdout",
     "output_type": "stream",
     "text": [
      "Maximum Trade Quantity Date :  10/25/2017\n"
     ]
    }
   ],
   "source": [
    "maxT=np.array(data[...,6],dtype=int)\n",
    "np.where(maxT==maxT.max())\n",
    "#print(\"Maximum Trade Quantity : \",data[296])\n",
    "print(\"Maximum Trade Quantity Date : \",data[296][0])"
   ]
  },
  {
   "cell_type": "code",
   "execution_count": 6,
   "metadata": {},
   "outputs": [
    {
     "name": "stdout",
     "output_type": "stream",
     "text": [
      "Minimum Trade Quantity Date :  7/23/2001\n"
     ]
    }
   ],
   "source": [
    "maxT=np.array(data[...,6],dtype=int)\n",
    "np.where(maxT==maxT.min())\n",
    "#print(\"Maximum Trade Quantity : \",data[296])\n",
    "print(\"Minimum Trade Quantity Date : \",data[4342][0])"
   ]
  },
  {
   "cell_type": "code",
   "execution_count": 7,
   "metadata": {},
   "outputs": [
    {
     "name": "stdout",
     "output_type": "stream",
     "text": [
      "Maximum Share Price Date :  11/8/2010\n"
     ]
    }
   ],
   "source": [
    "maxT=np.array(data[...,2],dtype=float)\n",
    "np.where(maxT==maxT.max())\n",
    "#print(\"Maximum Trade Quantity : \",data[296])\n",
    "print(\"Maximum Share Price Date : \",data[2022][0])"
   ]
  },
  {
   "cell_type": "code",
   "execution_count": 8,
   "metadata": {},
   "outputs": [
    {
     "name": "stdout",
     "output_type": "stream",
     "text": [
      "Minimum Share Price Date :  9/21/2001\n"
     ]
    }
   ],
   "source": [
    "maxT=np.array(data[...,3],dtype=float)\n",
    "np.where(maxT==maxT.min())\n",
    "#print(\"Maximum Trade Quantity : \",data[296])\n",
    "print(\"Minimum Share Price Date : \",data[4300][0])"
   ]
  },
  {
   "cell_type": "code",
   "execution_count": 9,
   "metadata": {},
   "outputs": [
    {
     "name": "stdout",
     "output_type": "stream",
     "text": [
      "[['1/4/2019' '292.1' '299' '291.5' '297.3' '297.65' '19514041' '57796.86']\n",
      " ['1/3/2019' '295' '295.55' '290.1' '291.05' '291.1' '17548347'\n",
      "  '51393.24']\n",
      " ['1/2/2019' '299.1' '302.5' '293.1' '293.8' '293.9' '25559853' '76220.1']\n",
      " ['1/1/2019' '297.5' '300.7' '293.85' '300.7' '299.6' '11837127'\n",
      "  '35128.77']]\n"
     ]
    }
   ],
   "source": [
    "year=np.array(data[...,0])\n",
    "#print(year)\n",
    "\n",
    "def fun(a):\n",
    "    temp=a.split('/')\n",
    "    return temp[2] \n",
    "\n",
    "Ydata=np.vectorize(fun)\n",
    "year=Ydata(year)\n",
    "\n",
    "print(data[np.where(year=='2019')])"
   ]
  },
  {
   "cell_type": "markdown",
   "metadata": {},
   "source": [
    "### **Get indices of N maximum values in a NumPy array?**"
   ]
  },
  {
   "cell_type": "code",
   "execution_count": 10,
   "metadata": {},
   "outputs": [
    {
     "name": "stdout",
     "output_type": "stream",
     "text": [
      "[1 3 2 4 5]\n",
      "[0 2 1 3 4]\n",
      "[1 3 4]\n",
      "[4 3 1]\n",
      "5 4 3 "
     ]
    }
   ],
   "source": [
    "arr = np.array([1, 3, 2, 4, 5])\n",
    "print(arr)\n",
    "print(arr.argsort())\n",
    "print(arr.argsort()[-3:])\n",
    "print(arr.argsort()[-3:][::-1])  #Reverse Logic\n",
    "a=arr.argsort()[-3:][::-1]\n",
    "for i in a:\n",
    "    print (arr[i],end=\" \")"
   ]
  },
  {
   "cell_type": "code",
   "execution_count": 16,
   "metadata": {},
   "outputs": [
    {
     "data": {
      "text/plain": [
       "[4, 2, 1]"
      ]
     },
     "execution_count": 16,
     "metadata": {},
     "output_type": "execute_result"
    }
   ],
   "source": [
    "import heapq\n",
    "a = np.array([12, 53, 62, 34, 95])\n",
    "heapq.nlargest(3, range(len(a)), a.take)"
   ]
  },
  {
   "cell_type": "code",
   "execution_count": 91,
   "metadata": {},
   "outputs": [
    {
     "name": "stdout",
     "output_type": "stream",
     "text": [
      "Original array:  [11 22 43 84 95 46]\n",
      "Maximum Values:  4\n",
      "Minimum Values:  0\n"
     ]
    }
   ],
   "source": [
    "x = np.array([11, 22, 43, 84, 95, 46])\n",
    "print(\"Original array: \",x)\n",
    "print(\"Maximum Values: \",np.argmax(x))\n",
    "print(\"Minimum Values: \",np.argmin(x))"
   ]
  },
  {
   "cell_type": "code",
   "execution_count": 92,
   "metadata": {},
   "outputs": [
    {
     "name": "stdout",
     "output_type": "stream",
     "text": [
      "Original array: \n",
      " [[10 32 45]\n",
      " [33  3 54]\n",
      " [ 4 56 39]]\n",
      "Maximum Values:  1\n",
      "Maximum Values:  2\n",
      "Maximum Values:  1\n",
      "Minimum Values:  2\n",
      "Minimum Values:  1\n",
      "Minimum Values:  2\n"
     ]
    }
   ],
   "source": [
    "x = np.array([[10,32,45],[33,3,54],[4,56,39]])\n",
    "print(\"Original array: \\n\",x)\n",
    "print(\"Maximum Values: \",np.argmax(x[...,0]))\n",
    "print(\"Maximum Values: \",np.argmax(x[...,1]))\n",
    "print(\"Maximum Values: \",np.argmax(x[...,2]))\n",
    "\n",
    "print(\"Minimum Values: \",np.argmin(x[...,0]))\n",
    "print(\"Minimum Values: \",np.argmin(x[...,1]))\n",
    "print(\"Minimum Values: \",np.argmin(x[...,2]))\n"
   ]
  },
  {
   "cell_type": "code",
   "execution_count": 93,
   "metadata": {},
   "outputs": [
    {
     "name": "stdout",
     "output_type": "stream",
     "text": [
      "['11/8/2010' '3505' '3515' '3413.25' '3425.8' '3425.15' '1752791'\n",
      " '60462.49']\n",
      "['9/24/2001' '142.85' '147.95' '142.85' '146.9' '146.4' '415435' '606.1']\n"
     ]
    }
   ],
   "source": [
    "#print(\"Maximum Values: \",np.argmax(np.array(data[...,1],dtype=float)))\n",
    "\n",
    "print (data[np.argmax(np.array(data[...,1],dtype=float))])\n",
    "print (data[np.argmin(np.array(data[...,1],dtype=float))])"
   ]
  },
  {
   "cell_type": "code",
   "execution_count": 98,
   "metadata": {},
   "outputs": [
    {
     "name": "stdout",
     "output_type": "stream",
     "text": [
      "[['2019' '292.1' '299' ... '297.65' '19514041' '57796.86']\n",
      " ['2019' '295' '295.55' ... '291.1' '17548347' '51393.24']\n",
      " ['2019' '299.1' '302.5' ... '293.9' '25559853' '76220.1']\n",
      " ...\n",
      " ['1998' '285' '290.25' ... '289.15' '3632600' '10436.93']\n",
      " ['1998' '282' '288.4' ... '284.35' '4979900' '14231.55']\n",
      " ['1998' '278.45' '280.9' ... '279.95' '591700' '1654.91']]\n",
      "[['2019' '292.1' '299' ... '297.65' '19514041' '57796.86']\n",
      " ['2019' '295' '295.55' ... '291.1' '17548347' '51393.24']\n",
      " ['2019' '299.1' '302.5' ... '293.9' '25559853' '76220.1']\n",
      " ...\n",
      " ['1998' '285' '290.25' ... '289.15' '3632600' '10436.93']\n",
      " ['1998' '282' '288.4' ... '284.35' '4979900' '14231.55']\n",
      " ['1998' '278.45' '280.9' ... '279.95' '591700' '1654.91']]\n",
      "[['2010' '2754' '2827.45' ... '2811.9' '1962414' '54881.76']\n",
      " ['2010' '2751' '2780.45' ... '2749.65' '2106254' '58124.18']\n",
      " ['2010' '2735' '2763.2' ... '2755.2' '924155' '25404.92']\n",
      " ...\n",
      " ['2010' '2297' '2315' ... '2305.8' '1452793' '33439.2']\n",
      " ['2010' '2308' '2310' ... '2292.05' '1161374' '26627.76']\n",
      " ['2010' '2275' '2300' ... '2291.2' '1103147' '25275.99']]\n",
      "['2010' '3505' '3515' '3413.25' '3425.8' '3425.15' '1752791' '60462.49']\n"
     ]
    }
   ],
   "source": [
    "print(data)\n",
    "import pandas as pd\n",
    "import collections\n",
    "a=pd.to_datetime(data[...,0])\n",
    "date = np.array(a, dtype=np.datetime64)\n",
    "#date.astype('datetime64[Y]')\n",
    "#date.astype('datetime64[M]')\n",
    "#date.astype('datetime64[D]')\n",
    "data[...,0]=date.astype('datetime64[Y]')\n",
    "print(data)\n",
    "\n",
    "print (data[np.where(data[...,0]==\"2010\")])\n",
    "data2010=data[np.where(data[...,0]==\"2010\")]\n",
    "print (data2010[np.argmax(np.array(data2010[...,1],dtype=float))])"
   ]
  },
  {
   "cell_type": "code",
   "execution_count": null,
   "metadata": {},
   "outputs": [],
   "source": []
  }
 ],
 "metadata": {
  "kernelspec": {
   "display_name": "Python 3",
   "language": "python",
   "name": "python3"
  },
  "language_info": {
   "codemirror_mode": {
    "name": "ipython",
    "version": 3
   },
   "file_extension": ".py",
   "mimetype": "text/x-python",
   "name": "python",
   "nbconvert_exporter": "python",
   "pygments_lexer": "ipython3",
   "version": "3.6.8"
  }
 },
 "nbformat": 4,
 "nbformat_minor": 2
}
