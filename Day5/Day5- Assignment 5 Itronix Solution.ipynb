{
 "cells": [
  {
   "cell_type": "markdown",
   "metadata": {},
   "source": [
    "# Random Module"
   ]
  },
  {
   "cell_type": "markdown",
   "metadata": {},
   "source": [
    "### random.random()-> returns any float between 0-1\n",
    "### random.randrange(a), random.randrange(a,b), random.randrange(a,b,mutiple)\n",
    "### random.choice(list[])-> returns random element\n",
    "### random.uniform(a,b)\n",
    "### random.shuffle(list[])\n",
    "\n"
   ]
  },
  {
   "cell_type": "code",
   "execution_count": 12,
   "metadata": {},
   "outputs": [
    {
     "name": "stdout",
     "output_type": "stream",
     "text": [
      "0.2576660312786788\n",
      "547\n",
      "2688\n",
      "3769\n",
      "1\n",
      "18.089349867888586\n",
      "[3, 2, 1, 6, 4, 5]\n"
     ]
    }
   ],
   "source": [
    "import random\n",
    "\n",
    "print(random.random())\n",
    "print(random.randrange(1000))\n",
    "print(random.randrange(1000,10000))\n",
    "print(random.randrange(1000,10000,13))\n",
    "print(random.choice([1,2,3,4,5,6]))\n",
    "print(random.uniform(10,20))\n",
    "l=[1,2,3,4,5,6]\n",
    "random.shuffle(l)\n",
    "print(l)"
   ]
  },
  {
   "cell_type": "markdown",
   "metadata": {},
   "source": [
    "# Operating System Module"
   ]
  },
  {
   "cell_type": "code",
   "execution_count": 17,
   "metadata": {},
   "outputs": [
    {
     "data": {
      "text/plain": [
       "0"
      ]
     },
     "execution_count": 17,
     "metadata": {},
     "output_type": "execute_result"
    }
   ],
   "source": [
    "import os\n",
    "os.system(\"mkdir tempDir\")\n",
    "os.system(\"cd tempDir\")   ## not working yet in ubuntu\n",
    "os.system(\"mkdir newDir\")\n",
    "\n",
    "\"\"\"\n",
    "Executing a shell command\n",
    "os.system()    \n",
    "\n",
    "Get the users environment \n",
    "os.environ()   \n",
    "\n",
    "#Returns the current working directory.\n",
    "os.getcwd()   \n",
    "\n",
    "Return the real group id of the current process.\n",
    "os.getgid()       \n",
    "\n",
    "Return the current process’s user id.\n",
    "os.getuid()    \n",
    "\n",
    "Returns the real process ID of the current process.\n",
    "os.getpid()     \n",
    "\n",
    "Set the current numeric umask and return the previous umask.\n",
    "os.umask(mask)   \n",
    "\n",
    "Return information identifying the current operating system.\n",
    "os.uname()     \n",
    "\n",
    "Change the root directory of the current process to path.\n",
    "os.chroot(path)   \n",
    "\n",
    "Return a list of the entries in the directory given by path.\n",
    "os.listdir(path) \n",
    "\n",
    "Create a directory named path with numeric mode mode.\n",
    "os.mkdir(path)    \n",
    "\n",
    "Recursive directory creation function.\n",
    "os.makedirs(path)  \n",
    "\n",
    "Remove (delete) the file path.\n",
    "os.remove(path)    \n",
    "\n",
    "Remove directories recursively.\n",
    "os.removedirs(path) \n",
    "\n",
    "Rename the file or directory src to dst.\n",
    "os.rename(src, dst)  \n",
    "\n",
    "Remove (delete) the directory path.\n",
    "os.rmdir(path)\n",
    "\n",
    "\"\"\"\n",
    "### cmd basic commands can be executed using os library"
   ]
  },
  {
   "cell_type": "markdown",
   "metadata": {},
   "source": [
    "# Maths Module"
   ]
  },
  {
   "cell_type": "code",
   "execution_count": 18,
   "metadata": {},
   "outputs": [
    {
     "name": "stdout",
     "output_type": "stream",
     "text": [
      "-145\n",
      "146\n",
      "-146\n",
      "145\n",
      "5\n",
      "3\n",
      "625.0\n",
      "7.0\n"
     ]
    }
   ],
   "source": [
    "import math\n",
    "print(math.ceil(-145.67))\n",
    "print(math.ceil(145.17))\n",
    "print(math.floor(-145.67))\n",
    "print(math.floor(145.67))\n",
    "print(max(1,2,3,4,5))\n",
    "print(min(12,3,4,5))\n",
    "print(math.pow(5,4))\n",
    "print(math.sqrt(49))"
   ]
  },
  {
   "cell_type": "code",
   "execution_count": 19,
   "metadata": {},
   "outputs": [
    {
     "name": "stdout",
     "output_type": "stream",
     "text": [
      "a is 12 and b is 45\n"
     ]
    }
   ],
   "source": [
    "a=12\n",
    "b=45\n",
    "print (\"a is %d and b is %d\"%(a,b))"
   ]
  },
  {
   "cell_type": "markdown",
   "metadata": {},
   "source": [
    "# String Operations."
   ]
  },
  {
   "cell_type": "code",
   "execution_count": 29,
   "metadata": {},
   "outputs": [
    {
     "name": "stdout",
     "output_type": "stream",
     "text": [
      "Hello mr. johny\n",
      "HELLO MR. JOHNY\n",
      "hello mr. johny\n",
      "--------------------------------hello mr. johny---------------------------------\n",
      "True\n",
      "True\n",
      "3\n",
      "This was a string\n",
      "tHIS IS A sTRING\n"
     ]
    }
   ],
   "source": [
    "a=\"hello mr. johny\"\n",
    "print(a.capitalize())\n",
    "print(a.upper())\n",
    "print(a.lower())\n",
    "print(a.center(80,\"-\")) ## To decorate the String \n",
    "\n",
    "b='1234'\n",
    "c='1234.5'\n",
    "\n",
    "print(b.isdigit())\n",
    "print(b.isdigit())\n",
    "\n",
    "\n",
    "s=\"This is a string\"\n",
    "print(s.count('i'))\n",
    "\n",
    "d=\"this is a string\"\n",
    "print(s.replace(' is',\" was\"))\n",
    "\n",
    "f=\"This is a String\"\n",
    "print(f.swapcase())\n"
   ]
  },
  {
   "cell_type": "markdown",
   "metadata": {},
   "source": [
    "# List Operation\n",
    "\n",
    "#### del list[index]\n",
    "#### list.append()\n",
    "#### cmp(list1,lis2)\n",
    "#### list.index(element)\n",
    "#### list.insert(index,value)\n",
    "#### list.count(element)\n",
    "#### len(list)\n",
    "#### max(list) ->  return max element\n",
    "#### list.remove(element)\n",
    "#### list.reverse()\n",
    "#### list.sort()\n",
    "\n",
    "#### a=list(tupple) ->  conver tupple into list  Mutable\n",
    "#### b=tupple(list) ->  convert list into tupple Immutabe\n",
    "\n",
    "#### \n"
   ]
  },
  {
   "cell_type": "code",
   "execution_count": 29,
   "metadata": {},
   "outputs": [
    {
     "name": "stdout",
     "output_type": "stream",
     "text": [
      "[1, 2, 3, 4, 6, 7]\n",
      "[1, 2, 3, 4, 6, 7, 8]\n",
      "1\n",
      "[1, 2, 3, 4, 5, 6, 7, 8]\n",
      "1\n",
      "8\n",
      "8\n",
      "1\n",
      "[1, 2, 3, 4, 5, 6, 7]\n",
      "[7, 6, 5, 4, 3, 2, 1]\n",
      "[1, 2, 3, 4, 5, 6, 7]\n",
      "(1, 2, 3, 4, 5, 6, 7)\n",
      "[1, 2, 3, 4, 5, 6, 7]\n"
     ]
    }
   ],
   "source": [
    "myList=[1,2,3,4,5,6,7]\n",
    "newList=[1,2,3,4,5,6,7]\n",
    "del myList[4]\n",
    "print(myList)\n",
    "\n",
    "myList.append(8)\n",
    "print(myList)\n",
    "\n",
    "#print(cmp(myList,newList)) only in python2\n",
    "\n",
    "print(myList.index(2))\n",
    "\n",
    "myList.insert(4,5)\n",
    "print(myList)\n",
    "\n",
    "print(myList.count(2))\n",
    "print(len(myList))\n",
    "\n",
    "print(max(myList))\n",
    "print(min(myList))\n",
    "\n",
    "myList.remove(8)\n",
    "print(myList)\n",
    "\n",
    "myList.reverse()\n",
    "print(myList)\n",
    "\n",
    "myList.sort()\n",
    "print(myList)\n",
    "\n",
    "tup=tuple(myList)\n",
    "print(tup)\n",
    "\n",
    "l=list(tup)\n",
    "print(l)"
   ]
  }
 ],
 "metadata": {
  "kernelspec": {
   "display_name": "Python 3",
   "language": "python",
   "name": "python3"
  },
  "language_info": {
   "codemirror_mode": {
    "name": "ipython",
    "version": 3
   },
   "file_extension": ".py",
   "mimetype": "text/x-python",
   "name": "python",
   "nbconvert_exporter": "python",
   "pygments_lexer": "ipython3",
   "version": "3.6.7"
  }
 },
 "nbformat": 4,
 "nbformat_minor": 2
}
