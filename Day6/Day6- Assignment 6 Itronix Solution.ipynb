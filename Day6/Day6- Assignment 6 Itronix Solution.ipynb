{
 "cells": [
  {
   "cell_type": "markdown",
   "metadata": {},
   "source": [
    "# DBMS Connectivity using python"
   ]
  },
  {
   "cell_type": "code",
   "execution_count": 3,
   "metadata": {},
   "outputs": [],
   "source": [
    "#Libraries are imported here.\n",
    "import MySQLdb"
   ]
  },
  {
   "cell_type": "code",
   "execution_count": 6,
   "metadata": {},
   "outputs": [],
   "source": [
    "db=MySQLdb.connect(host='localhost',user='kunalverma',passwd='12345')"
   ]
  },
  {
   "cell_type": "code",
   "execution_count": 7,
   "metadata": {},
   "outputs": [
    {
     "data": {
      "text/plain": [
       "1"
      ]
     },
     "execution_count": 7,
     "metadata": {},
     "output_type": "execute_result"
    }
   ],
   "source": [
    "mycursor=db.cursor()\n",
    "mycursor.execute(\"CREATE DATABASE Sudent\")"
   ]
  },
  {
   "cell_type": "code",
   "execution_count": 9,
   "metadata": {},
   "outputs": [
    {
     "data": {
      "text/plain": [
       "0"
      ]
     },
     "execution_count": 9,
     "metadata": {},
     "output_type": "execute_result"
    }
   ],
   "source": [
    "db=MySQLdb.connect(host='localhost',user='kunalverma',passwd='12345', db='Sudent')\n",
    "mycursor=db.cursor()\n",
    "mycursor.execute(\"Create table studentdetails(FirstName varchar(20),LastName varchar(20))\")"
   ]
  },
  {
   "cell_type": "code",
   "execution_count": 15,
   "metadata": {},
   "outputs": [],
   "source": [
    "db=MySQLdb.connect(host='localhost',user='kunalverma',passwd='12345', db='Sudent')\n",
    "mycursor=db.cursor()\n",
    "\n",
    "mycursor.execute(\"Insert into studentdetails values('Parul','Verma')\")\n",
    "db.commit()\n"
   ]
  },
  {
   "cell_type": "code",
   "execution_count": 16,
   "metadata": {},
   "outputs": [
    {
     "name": "stdout",
     "output_type": "stream",
     "text": [
      "(('Kunal', 'Verma'), ('Parul', 'Verma'))\n",
      "Kunal\n",
      "Parul\n"
     ]
    }
   ],
   "source": [
    "db=MySQLdb.connect(host='localhost',user='kunalverma',passwd='12345', db='Sudent')\n",
    "mycursor=db.cursor()\n",
    "\n",
    "mycursor.execute(\"select * from studentdetails\")\n",
    "\n",
    "mydata=mycursor.fetchall()\n",
    "\n",
    "print(mydata)\n",
    "\n",
    "for x in mydata:\n",
    "    print(x[0])  #print 0th column of table\n"
   ]
  },
  {
   "cell_type": "code",
   "execution_count": 17,
   "metadata": {},
   "outputs": [
    {
     "name": "stdout",
     "output_type": "stream",
     "text": [
      "()\n"
     ]
    }
   ],
   "source": [
    "db=MySQLdb.connect(host='localhost',user='kunalverma',passwd='12345', db='Sudent')\n",
    "mycursor=db.cursor()\n",
    "\n",
    "mycursor.execute(\"update studentdetails set FirstName='kunal' where FirstName='Kunal'\")\n",
    "db.commit()\n",
    "mydata=mycursor.fetchall()\n",
    "\n",
    "print(mydata)\n",
    "\n",
    "for x in mydata:\n",
    "    print(x[0])  #print 0th column of table"
   ]
  },
  {
   "cell_type": "code",
   "execution_count": 21,
   "metadata": {},
   "outputs": [
    {
     "name": "stdout",
     "output_type": "stream",
     "text": [
      "(('Parul', 'Verma'),)\n",
      "Parul\n"
     ]
    }
   ],
   "source": [
    "db=MySQLdb.connect(host='localhost',user='kunalverma',passwd='12345', db='Sudent')\n",
    "mycursor=db.cursor()\n",
    "\n",
    "mycursor.execute(\"delete from studentdetails where FirstName='kunal'\")\n",
    "mydata=mycursor.fetchall()\n",
    "db.commit()\n",
    "mycursor.execute(\"select * from studentdetails\")\n",
    "mydata=mycursor.fetchall()\n",
    "print(mydata)\n",
    "\n",
    "for x in mydata:\n",
    "    print(x[0])  #print 0th column of table"
   ]
  },
  {
   "cell_type": "code",
   "execution_count": 27,
   "metadata": {},
   "outputs": [
    {
     "name": "stdout",
     "output_type": "stream",
     "text": [
      "A\n",
      "B\n",
      "C\n",
      "\n"
     ]
    }
   ],
   "source": [
    "l=['A','B','C']\n",
    "it=iter(l)\n",
    "try:\n",
    "    while True:\n",
    "        print(next(it))vb\n",
    "except StopIteration:\n",
    "    print(\"\")"
   ]
  },
  {
   "cell_type": "markdown",
   "metadata": {},
   "source": [
    "# Assignment - Login Module using dbms in python"
   ]
  },
  {
   "cell_type": "code",
   "execution_count": null,
   "metadata": {},
   "outputs": [],
   "source": [
    "import MySQLdb\n",
    "import random\n",
    "from twilio.rest import Client"
   ]
  },
  {
   "cell_type": "markdown",
   "metadata": {},
   "source": [
    "#### Creating Database"
   ]
  },
  {
   "cell_type": "code",
   "execution_count": 44,
   "metadata": {},
   "outputs": [
    {
     "data": {
      "text/plain": [
       "1"
      ]
     },
     "execution_count": 44,
     "metadata": {},
     "output_type": "execute_result"
    }
   ],
   "source": [
    "db=MySQLdb.connect(host=\"localhost\",user=\"kunalverma\",passwd=\"12345\")\n",
    "\n",
    "mycursor=db.cursor()\n",
    "mycursor.execute('Create Database LoginModule')"
   ]
  },
  {
   "cell_type": "markdown",
   "metadata": {},
   "source": [
    "#### Creating table logindetails."
   ]
  },
  {
   "cell_type": "code",
   "execution_count": 47,
   "metadata": {},
   "outputs": [],
   "source": [
    "db=MySQLdb.connect(host=\"localhost\",user=\"kunalverma\",passwd=\"12345\",db=\"LoginModule\")\n",
    "\n",
    "mycursor=db.cursor()\n",
    "mycursor.execute(\"create table logindetails(Name varchar(50),Email varchar(50),Password varchar(100),Phone varchar(15),City varchar(20))\")\n",
    "db.commit()"
   ]
  },
  {
   "cell_type": "markdown",
   "metadata": {},
   "source": [
    "#### Inserting Details into database"
   ]
  },
  {
   "cell_type": "code",
   "execution_count": 1,
   "metadata": {},
   "outputs": [],
   "source": [
    "def insertdata(name,email,passwd,phone,city):\n",
    "    db=MySQLdb.connect(host=\"localhost\",user=\"kunalverma\",passwd=\"12345\",db=\"LoginModule\")\n",
    "    mycursor=db.cursor()\n",
    "    sql=\"Select * from logindetails where Email=%s\"\n",
    "    values=email\n",
    "    mycursor.execute(sql,[values])\n",
    "    details=mycursor.fetchall()\n",
    "    if not details:\n",
    "        sql=\"Insert into logindetails values(%s,%s,%s,%s,%s)\"\n",
    "        values=(name,email,passwd,phone,city)\n",
    "        mycursor.execute(sql,values)\n",
    "        db.commit()\n",
    "        print(\"Sign Up SuccesFull\")\n",
    "    else:\n",
    "        print(\"Email is already Registered\")\n",
    "    "
   ]
  },
  {
   "cell_type": "markdown",
   "metadata": {},
   "source": [
    "#### OTP Generation"
   ]
  },
  {
   "cell_type": "code",
   "execution_count": 2,
   "metadata": {},
   "outputs": [],
   "source": [
    "def sendotp():\n",
    "    a=random.randint(1000,9999)\n",
    "    otp=\"Your Otp is \"+str(a)\n",
    "    print(a)\n",
    "    account_sid = 'AC2b08c61d97f3d464d4aac842d88d3233'\n",
    "    auth_token = 'c6ad75fd7a1dc89e50c0df942d140958'\n",
    "    client = Client(account_sid, auth_token)\n",
    "    message = client.messages.create(\n",
    "              body=otp,\n",
    "              from_='+14403067092',\n",
    "              to='+918699973170',\n",
    "        )\n",
    "\n",
    "    print(\"OTP Sent\")\n",
    "    return a"
   ]
  },
  {
   "cell_type": "markdown",
   "metadata": {},
   "source": [
    "#### Login Module of the application"
   ]
  },
  {
   "cell_type": "code",
   "execution_count": 3,
   "metadata": {},
   "outputs": [],
   "source": [
    "def login():\n",
    "    email=input(\"Enter Email :\")\n",
    "    passwd=input(\"Enter Password: \")\n",
    "    \n",
    "    #opening connection again : \n",
    "    db=MySQLdb.connect(host=\"localhost\",user=\"kunalverma\",passwd=\"12345\",db=\"LoginModule\")\n",
    "    mycursor=db.cursor()\n",
    "    sql=\"Select * from logindetails where Email=%s and Password=%s\"\n",
    "    values=(email,passwd)\n",
    "    mycursor.execute(sql,values)\n",
    "    details=mycursor.fetchall()\n",
    "    if not details:\n",
    "        print(\"Invalid Username or Password \")\n",
    "    else:\n",
    "        otp=sendotp()\n",
    "        print(\"OTP is \"+str(otp))\n",
    "        verifyotp=int(input(\"Please Enter OTP sent to registered Phone\"))\n",
    "        i=3\n",
    "        while i>=1:\n",
    "            if verifyotp == otp:\n",
    "                print(\"Login SuccessFull\")\n",
    "                headerd=[\"Name\",\"Email\",\"Passwd\",\"Phone\",\"City\"]\n",
    "                for x in details:\n",
    "                    for j in range(5):\n",
    "                        print(headerd[j]+\" = \"+details[0][j],end=\" \")\n",
    "                break\n",
    "            else:\n",
    "                i-=1\n",
    "                print(\"Invalid OTP\")\n",
    "                verifyotp=int(input(\"Please Enter OTP sent to registered Phone\"))\n",
    "        if i==0:\n",
    "            print(\"Otp Authentication Failed! Login Denied\")\n",
    "            \n",
    "    print()   \n",
    "    return 0"
   ]
  },
  {
   "cell_type": "markdown",
   "metadata": {},
   "source": [
    "#### Sign Up Module of the Application"
   ]
  },
  {
   "cell_type": "code",
   "execution_count": 4,
   "metadata": {},
   "outputs": [],
   "source": [
    "def signup():\n",
    "    \n",
    "    name=input(\"Enter Name     : \")\n",
    "    if not name:\n",
    "        print(\"Please Enter Valid Name \")\n",
    "        while not name:\n",
    "            name=input(\"Enter Name     : \")\n",
    "   \n",
    "    email=input(\"Enter Email   : \")\n",
    "    if not email:\n",
    "        print(\"Please Enter Valid Email\")\n",
    "        while not email:\n",
    "            email=input(\"Enter Email   : \")\n",
    "\n",
    "    passwd=input(\"Enter Passwd : \")\n",
    "    if not passwd:\n",
    "        print(\"Please Enter Valid Password\")\n",
    "        while not passwd:\n",
    "            passwd=input(\"Enter Passwd : \")\n",
    "            \n",
    "    phone=input(\"Enter Phone   : \")\n",
    "    if not phone:\n",
    "        print(\"Please Enter the Phone\")\n",
    "        while not phone:\n",
    "            phone=input(\"Enter Phone   : \")\n",
    "            \n",
    "    city=input(\"Enter City     : \")\n",
    "    if not city:\n",
    "        print(\"Please Enter City\")\n",
    "        while not city:\n",
    "            city=input(\"Enter City     : \")\n",
    "    \n",
    "    ## Calling Insert method to insert data into the database \n",
    "    \n",
    "    insertdata(name,email,passwd,phone,city)\n",
    "    \n"
   ]
  },
  {
   "cell_type": "markdown",
   "metadata": {},
   "source": [
    "#### Forget Password Module"
   ]
  },
  {
   "cell_type": "code",
   "execution_count": 29,
   "metadata": {},
   "outputs": [],
   "source": [
    "def forgetpass():\n",
    "    email=input(\"Enter Email   : \")\n",
    "    if not email:\n",
    "        print(\"Please Enter Valid Email\")\n",
    "        while not email:\n",
    "            email=input(\"Enter Email   : \")\n",
    "            \n",
    "    phone=input(\"Enter Phone   : \")\n",
    "    if not phone:\n",
    "        print(\"Please Enter the Phone\")\n",
    "        while not phone:\n",
    "            phone=input(\"Enter Phone   : \")\n",
    "            \n",
    "    ##Opening Connection\n",
    "    db=MySQLdb.connect(host=\"localhost\",user=\"kunalverma\",passwd=\"12345\",db=\"LoginModule\")\n",
    "    mycursor=db.cursor()\n",
    "    sql=\"Select * from logindetails where Email=%s and Phone=%s\"\n",
    "    values=(email,phone)\n",
    "    mycursor.execute(sql,values)\n",
    "    details=mycursor.fetchall()\n",
    "\n",
    "    if not details:\n",
    "         print(\"No user Details Found!!\")\n",
    "\n",
    "    else:\n",
    "        otp=sendotp()\n",
    "        verifyotp=int(input(\"Please Enter the Otp Sent to Registered Phone Number\"))\n",
    "        i=2\n",
    "        while i>1:\n",
    "            if otp != verifyotp:\n",
    "                i-=1\n",
    "                print(\"Invalid OTP\")\n",
    "                verifyotp=int(input(\"Please Enter the Otp Sent to Registered Phone Number\"))\n",
    "            elif otp==verifyotp:\n",
    "                passwd=input(\"Enter new Password \")\n",
    "                sql=\"Update logindetails set Password=%s where Email=%s\"\n",
    "               # values=(email,passwd)\n",
    "                mycursor.execute(sql,[passwd,email])\n",
    "                db.commit()\n",
    "                print(\"Password Changed Successfully\")\n",
    "                break;\n",
    "        if i==0:\n",
    "            print(\"Authentcation Failed ! Exiting\")\n",
    "    \n",
    "    print()\n",
    "            \n",
    "    return 0"
   ]
  },
  {
   "cell_type": "code",
   "execution_count": 32,
   "metadata": {},
   "outputs": [
    {
     "name": "stdout",
     "output_type": "stream",
     "text": [
      "------------------------------------------------Please Enter your Choice------------------------------------------------\n",
      "1. Login \n",
      "2. Signup \n",
      "3. Forget \n",
      "4. Exit\n",
      ">>2\n",
      "Enter Name     : Kunal Verma\n",
      "Enter Email   : vkunal1996@gmail.com\n",
      "Enter Passwd : abcdefg\n",
      "Enter Phone   : 8699973170\n",
      "Enter City     : Jalandhar\n",
      "Sign Up SuccesFull\n",
      "------------------------------------------------Please Enter your Choice------------------------------------------------\n",
      "1. Login \n",
      "2. Signup \n",
      "3. Forget \n",
      "4. Exit\n",
      ">>1\n",
      "Enter Email :vkunal1996@gmail.com\n",
      "Enter Password: abcdefg\n",
      "5337\n",
      "OTP Sent\n",
      "OTP is 5337\n",
      "Please Enter OTP sent to registered Phone5337\n",
      "Login SuccessFull\n",
      "Name = Kunal Verma Email = vkunal1996@gmail.com Passwd = abcdefg Phone = 8699973170 City = Jalandhar \n",
      "------------------------------------------------Please Enter your Choice------------------------------------------------\n",
      "1. Login \n",
      "2. Signup \n",
      "3. Forget \n",
      "4. Exit\n",
      ">>3\n",
      "Enter Email   : vkunal1996@gmail.com\n",
      "Enter Phone   : 8699973170\n",
      "5904\n",
      "OTP Sent\n",
      "Please Enter the Otp Sent to Registered Phone Number5904\n",
      "Enter new Password 12345\n",
      "Password Changed Successfully\n",
      "\n",
      "------------------------------------------------Please Enter your Choice------------------------------------------------\n",
      "1. Login \n",
      "2. Signup \n",
      "3. Forget \n",
      "4. Exit\n",
      ">>1\n",
      "Enter Email :vkunal1996@gmail.com\n",
      "Enter Password: 12345\n",
      "8371\n",
      "OTP Sent\n",
      "OTP is 8371\n",
      "Please Enter OTP sent to registered Phone8371\n",
      "Login SuccessFull\n",
      "Name = Kunal Verma Email = vkunal1996@gmail.com Passwd = 12345 Phone = 8699973170 City = Jalandhar \n",
      "------------------------------------------------Please Enter your Choice------------------------------------------------\n",
      "1. Login \n",
      "2. Signup \n",
      "3. Forget \n",
      "4. Exit\n",
      ">>4\n",
      "Exiting Application\n"
     ]
    }
   ],
   "source": [
    "while True:\n",
    "    print(\"Please Enter your Choice\".center(120,\"-\"))\n",
    "    print(\"1. Login \")\n",
    "    print(\"2. Signup \")\n",
    "    print(\"3. Forget \")\n",
    "    print(\"4. Exit\")\n",
    "\n",
    "    choice=input(\">>\")\n",
    "    if choice == \"1\":\n",
    "        login()\n",
    "    elif choice == \"2\":\n",
    "        signup()\n",
    "    elif choice == \"3\":\n",
    "        forgetpass()\n",
    "    elif choice ==\"4\":\n",
    "        print(\"Exiting Application\")\n",
    "        exit(1)\n",
    "        break\n",
    "    else:\n",
    "        print(\"Invalid Choice !\")\n"
   ]
  }
 ],
 "metadata": {
  "kernelspec": {
   "display_name": "Python 3",
   "language": "python",
   "name": "python3"
  }
 },
 "nbformat": 4,
 "nbformat_minor": 2
}
