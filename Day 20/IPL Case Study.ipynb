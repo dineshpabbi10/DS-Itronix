{
 "cells": [
  {
   "cell_type": "code",
   "execution_count": 1,
   "metadata": {},
   "outputs": [],
   "source": [
    "import numpy as np\n",
    "import collections"
   ]
  },
  {
   "cell_type": "code",
   "execution_count": 2,
   "metadata": {},
   "outputs": [],
   "source": [
    "playerrecords = np.genfromtxt('/home/kunalverma/Itronix Solutions/dummy/IPL/Player.csv',delimiter=',', dtype=str)"
   ]
  },
  {
   "cell_type": "code",
   "execution_count": 3,
   "metadata": {},
   "outputs": [],
   "source": [
    "ballrecords  = np.genfromtxt('/home/kunalverma/Itronix Solutions/dummy/IPL/Ball_by_Ball.csv',delimiter=',', dtype=str)"
   ]
  },
  {
   "cell_type": "code",
   "execution_count": 4,
   "metadata": {},
   "outputs": [],
   "source": [
    "player_match_records  = np.genfromtxt('/home/kunalverma/Itronix Solutions/dummy/IPL/Player_Match.csv',delimiter=',', dtype=str)"
   ]
  },
  {
   "cell_type": "code",
   "execution_count": 5,
   "metadata": {},
   "outputs": [],
   "source": [
    "seasonrecords = np.genfromtxt('/home/kunalverma/Itronix Solutions/dummy/IPL/Season.csv',delimiter=',', dtype=str)   "
   ]
  },
  {
   "cell_type": "code",
   "execution_count": 6,
   "metadata": {},
   "outputs": [],
   "source": [
    "team_records = np.genfromtxt('/home/kunalverma/Itronix Solutions/dummy/IPL/Team.csv',delimiter=',', dtype=str)"
   ]
  },
  {
   "cell_type": "code",
   "execution_count": 32,
   "metadata": {},
   "outputs": [],
   "source": [
    "#match_records = ballrecords  = np.genfromtxt('/home/kunalverma/Itronix Solutions/dummy/IPL/Match.csv',delimiter=',', dtype=str)"
   ]
  },
  {
   "cell_type": "code",
   "execution_count": 7,
   "metadata": {},
   "outputs": [
    {
     "name": "stdout",
     "output_type": "stream",
     "text": [
      "[['Player_Id' 'Player_Name' 'DOB' ... 'Country' 'Is_Umpire' '']\n",
      " ['1' 'SC Ganguly' '8-Jul-72' ... 'India' '0' '']\n",
      " ['2' 'BB McCullum' '27-Sep-81' ... 'New Zealand' '0' '']\n",
      " ...\n",
      " ['521' 'VK Sharma' 'NULL' ... 'India' '1' '']\n",
      " ['523' 'AV Wankhade' '14-Mar-92' ... 'India' '0' '']\n",
      " ['524' 'B Aparajith' '8-Jul-94' ... 'India' '0' '']]\n"
     ]
    }
   ],
   "source": [
    "print(playerrecords)"
   ]
  },
  {
   "cell_type": "code",
   "execution_count": 8,
   "metadata": {},
   "outputs": [
    {
     "name": "stdout",
     "output_type": "stream",
     "text": [
      "[['Match_Id' 'Innings_Id' 'Over_Id' ... 'Player_dissimal_Id'\n",
      "  'Dissimal_Type' 'Fielder_Id']\n",
      " ['335987' '1' '1' ... ' ' ' ' '']\n",
      " ['335987' '1' '1' ... ' ' ' ' '']\n",
      " ...\n",
      " ['981024' '2' '20' ... ' ' ' ' '']\n",
      " ['981024' '2' '20' ... ' ' ' ' '']\n",
      " ['981024' '2' '20' ... ' ' ' ' '']]\n"
     ]
    }
   ],
   "source": [
    "print(ballrecords)"
   ]
  },
  {
   "cell_type": "code",
   "execution_count": 9,
   "metadata": {},
   "outputs": [
    {
     "name": "stdout",
     "output_type": "stream",
     "text": [
      "[['Match_Id' 'Player_Id' 'Team_Id' 'Is_Keeper' 'Is_Captain']\n",
      " ['335987' '1' '1' '0' '1']\n",
      " ['335987' '2' '1' '0' '0']\n",
      " ...\n",
      " ['829762' '378' '2' '0' '0']\n",
      " ['829762' '140' '2' '0' '0']\n",
      " ['829762' '296' '2' '0' '0']]\n"
     ]
    }
   ],
   "source": [
    "print(player_match_records)"
   ]
  },
  {
   "cell_type": "code",
   "execution_count": 10,
   "metadata": {},
   "outputs": [
    {
     "name": "stdout",
     "output_type": "stream",
     "text": [
      "[['Season_Id' 'Season_Year' 'Orange_Cap_Id' 'Purple_Cap_Id'\n",
      "  'Man_of_the_Series_Id']\n",
      " ['1' '2008' '100' '102' '32']\n",
      " ['2' '2009' '18' '61' '53']\n",
      " ['3' '2010' '133' '131' '133']\n",
      " ['4' '2011' '162' '194' '162']\n",
      " ['5' '2012' '162' '190' '315']\n",
      " ['6' '2013' '19' '71' '32']\n",
      " ['7' '2014' '46' '364' '305']\n",
      " ['8' '2015' '187' '71' '334']\n",
      " ['9' '2016' '8' '299' '8']]\n"
     ]
    }
   ],
   "source": [
    "print(seasonrecords)"
   ]
  },
  {
   "cell_type": "code",
   "execution_count": 11,
   "metadata": {},
   "outputs": [
    {
     "name": "stdout",
     "output_type": "stream",
     "text": [
      "[['Team_Id' 'Team_Name' 'Team_Short_Code']\n",
      " ['1' 'Kolkata Knight Riders' 'KKR']\n",
      " ['2' 'Royal Challengers Bangalore' 'RCB']\n",
      " ['3' 'Chennai Super Kings' 'CSK']\n",
      " ['4' 'Kings XI Punjab' 'KXIP']\n",
      " ['5' 'Rajasthan Royals' 'RR']\n",
      " ['6' 'Delhi Daredevils' 'DD']\n",
      " ['7' 'Mumbai Indians' 'MI']\n",
      " ['8' 'Deccan Chargers' 'DC']\n",
      " ['9' 'Kochi Tuskers Kerala' 'KTK']\n",
      " ['10' 'Pune Warriors' 'PW']\n",
      " ['11' 'Sunrisers Hyderabad' 'SRH']\n",
      " ['12' 'Rising Pune Supergiants' 'RPS']\n",
      " ['13' 'Gujarat Lions' 'GL']]\n"
     ]
    }
   ],
   "source": [
    "print(team_records)"
   ]
  },
  {
   "cell_type": "code",
   "execution_count": 12,
   "metadata": {},
   "outputs": [
    {
     "name": "stdout",
     "output_type": "stream",
     "text": [
      "[['335987' '1' '1' ... ' ' ' ' '']\n",
      " ['335987' '1' '1' ... ' ' ' ' '']\n",
      " ['335987' '1' '1' ... ' ' ' ' '']\n",
      " ...\n",
      " ['981024' '2' '20' ... ' ' ' ' '']\n",
      " ['981024' '2' '20' ... ' ' ' ' '']\n",
      " ['981024' '2' '20' ... ' ' ' ' '']]\n"
     ]
    }
   ],
   "source": [
    "ballrecordsdata=ballrecords[1:,]\n",
    "print(ballrecordsdata)"
   ]
  },
  {
   "cell_type": "markdown",
   "metadata": {},
   "source": [
    "## Bowler With Maximum Wickets.."
   ]
  },
  {
   "cell_type": "code",
   "execution_count": 68,
   "metadata": {},
   "outputs": [
    {
     "name": "stdout",
     "output_type": "stream",
     "text": [
      "[['335987' '1' '6' ... '1' 'caught' '9']\n",
      " ['335987' '1' '13' ... '3' 'caught' '14']\n",
      " ['335987' '1' '18' ... '4' 'caught' '10']\n",
      " ...\n",
      " ['981024' '2' '14' ... '110' 'caught' '163']\n",
      " ['981024' '2' '16' ... '354' 'bowled' '']\n",
      " ['981024' '2' '17' ... '32' 'caught' '163']]\n",
      "\n",
      "Total Wickets Taken :  4941\n"
     ]
    }
   ],
   "source": [
    "index=np.where(np.logical_and(np.logical_and(ballrecordsdata[...,14]!=' ',ballrecordsdata[...,14]!='retired hurt'),ballrecordsdata[...,14]!='run out'))\n",
    "filtered_data=ballrecordsdata[index,...][0]\n",
    "print(filtered_data)\n",
    "print()\n",
    "print(\"Total Wickets Taken : \",len(filtered_data))"
   ]
  },
  {
   "cell_type": "code",
   "execution_count": 69,
   "metadata": {},
   "outputs": [
    {
     "name": "stdout",
     "output_type": "stream",
     "text": [
      "[ 15   9  13 ... 228 385 460]\n",
      "[1, 4, 5, 8, 9, 10, 12, 13, 14, 15, 16, 21, 22, 25, 27, 29, 31, 32, 35, 37, 38, 39, 41, 42, 44, 45, 48, 49, 50, 53, 54, 56, 57, 58, 59, 60, 61, 63, 66, 67, 68, 70, 71, 72, 73, 75, 77, 78, 80, 81, 82, 83, 84, 85, 86, 87, 89, 90, 91, 94, 98, 99, 102, 104, 105, 106, 108, 109, 112, 115, 116, 117, 118, 119, 120, 121, 122, 124, 126, 131, 135, 136, 137, 140, 142, 143, 144, 147, 148, 149, 151, 153, 154, 155, 156, 157, 158, 159, 160, 161, 162, 163, 165, 166, 167, 174, 175, 177, 178, 179, 180, 181, 182, 184, 186, 188, 189, 190, 191, 192, 193, 194, 196, 198, 199, 201, 206, 209, 210, 213, 215, 217, 218, 220, 221, 222, 223, 226, 228, 232, 233, 234, 235, 238, 241, 242, 243, 244, 245, 246, 248, 253, 255, 256, 258, 259, 266, 267, 268, 269, 270, 273, 274, 275, 276, 278, 280, 282, 283, 284, 286, 291, 293, 294, 296, 297, 298, 299, 302, 305, 309, 310, 311, 314, 315, 316, 321, 322, 324, 325, 329, 333, 334, 335, 342, 344, 346, 347, 348, 349, 350, 352, 356, 357, 358, 359, 362, 363, 364, 366, 367, 368, 369, 370, 371, 372, 374, 375, 376, 377, 378, 381, 382, 383, 385, 386, 387, 388, 389, 390, 391, 392, 394, 395, 398, 399, 400, 401, 403, 404, 405, 406, 408, 409, 412, 413, 416, 418, 422, 425, 429, 430, 432, 434, 435, 436, 437, 438, 439, 441, 446, 448, 451, 452, 453, 456, 457, 458, 459, 460, 461, 462, 463, 464]\n"
     ]
    }
   ],
   "source": [
    "bowler_id=np.array(filtered_data[...,9],dtype=int)\n",
    "print(bowler_id)\n",
    "bowler_id_list=list(set(bowler_id))\n",
    "bowler_id_list.sort()\n",
    "print(bowler_id_list)"
   ]
  },
  {
   "cell_type": "code",
   "execution_count": 94,
   "metadata": {},
   "outputs": [
    {
     "name": "stdout",
     "output_type": "stream",
     "text": [
      "Maximum Wickets Taken are :  120\n",
      "Maximum Wickets Taken by Player has id : 194\n"
     ]
    }
   ],
   "source": [
    "dic=collections.Counter(bowler_id)\n",
    "keys=[]\n",
    "values=[]\n",
    "#print(dic)\n",
    "for k,v in dic.items():\n",
    "    keys.append(k)\n",
    "    values.append(v)\n",
    "print(\"Maximum Wickets Taken are : \",max(values))\n",
    "index = values.index(max(values))\n",
    "print(\"Maximum Wickets Taken by Player has id :\" ,keys[index])"
   ]
  },
  {
   "cell_type": "code",
   "execution_count": 95,
   "metadata": {},
   "outputs": [
    {
     "name": "stdout",
     "output_type": "stream",
     "text": [
      "[['1' 'SC Ganguly' '8-Jul-72' ... 'India' '0' '']\n",
      " ['2' 'BB McCullum' '27-Sep-81' ... 'New Zealand' '0' '']\n",
      " ['3' 'RT Ponting' '19-Dec-74' ... 'Australia' '0' '']\n",
      " ...\n",
      " ['521' 'VK Sharma' 'NULL' ... 'India' '1' '']\n",
      " ['523' 'AV Wankhade' '14-Mar-92' ... 'India' '0' '']\n",
      " ['524' 'B Aparajith' '8-Jul-94' ... 'India' '0' '']]\n",
      "\n",
      "Record Of Bowler Who took Maximum Wickets: \n",
      "\n",
      "SL Malinga  has taken  120 Wickets\n"
     ]
    }
   ],
   "source": [
    "playerrecordsdata=playerrecords[1:,]\n",
    "print(playerrecordsdata)\n",
    "bowler_with_max_wickets=np.where(playerrecordsdata[...,0]==str(keys[index]))\n",
    "print()\n",
    "print(\"Record Of Bowler Who took Maximum Wickets: \\n\")\n",
    "print(playerrecordsdata[bowler_with_max_wickets][0][1],\" has taken \",max(values),\"Wickets\")\n"
   ]
  },
  {
   "cell_type": "markdown",
   "metadata": {},
   "source": [
    "## Record of Each Bowler"
   ]
  },
  {
   "cell_type": "code",
   "execution_count": 97,
   "metadata": {},
   "outputs": [
    {
     "name": "stdout",
     "output_type": "stream",
     "text": [
      "Total Wickets Taken :  120  Player :  SL Malinga\n",
      "Total Wickets Taken :  107  Player :  Harbhajan Singh\n",
      "Total Wickets Taken :  101  Player :  PP Chawla\n",
      "Total Wickets Taken :  100  Player :  A Mishra\n",
      "Total Wickets Taken :  98  Player :  DJ Bravo\n",
      "Total Wickets Taken :  81  Player :  A Nehra\n",
      "Total Wickets Taken :  79  Player :  R Ashwin\n",
      "Total Wickets Taken :  76  Player :  PP Ojha\n",
      "Total Wickets Taken :  75  Player :  Z Khan\n",
      "Total Wickets Taken :  74  Player :  RP Singh\n",
      "Total Wickets Taken :  73  Player :  SR Watson\n",
      "Total Wickets Taken :  71  Player :  JA Morkel\n",
      "Total Wickets Taken :  71  Player :  R Vinay Kumar\n",
      "Total Wickets Taken :  69  Player :  IK Pathan\n",
      "Total Wickets Taken :  69  Player :  B Kumar\n",
      "Total Wickets Taken :  68  Player :  P Kumar\n",
      "Total Wickets Taken :  67  Player :  DS Kulkarni\n",
      "Total Wickets Taken :  67  Player :  MM Sharma\n",
      "Total Wickets Taken :  66  Player :  DW Steyn\n",
      "Total Wickets Taken :  61  Player :  L Balaji\n",
      "Total Wickets Taken :  59  Player :  RA Jadeja\n",
      "Total Wickets Taken :  57  Player :  SK Warne\n",
      "Total Wickets Taken :  56  Player :  YS Chahal\n",
      "Total Wickets Taken :  55  Player :  MM Patel\n",
      "Total Wickets Taken :  54  Player :  AB Dinda\n",
      "Total Wickets Taken :  54  Player :  Sandeep Sharma\n",
      "Total Wickets Taken :  52  Player :  R Bhatia\n",
      "Total Wickets Taken :  50  Player :  I Sharma\n",
      "Total Wickets Taken :  50  Player :  M Morkel\n",
      "Total Wickets Taken :  50  Player :  SP Narine\n",
      "Total Wickets Taken :  48  Player :  M Muralitharan\n",
      "Total Wickets Taken :  48  Player :  UT Yadav\n",
      "Total Wickets Taken :  46  Player :  SK Trivedi\n",
      "Total Wickets Taken :  46  Player :  MG Johnson\n",
      "Total Wickets Taken :  45  Player :  A Kumble\n",
      "Total Wickets Taken :  44  Player :  JH Kallis\n",
      "Total Wickets Taken :  43  Player :  AR Patel\n",
      "Total Wickets Taken :  42  Player :  JP Faulkner\n",
      "Total Wickets Taken :  40  Player :  S Aravind\n",
      "Total Wickets Taken :  38  Player :  SB Jakati\n",
      "Total Wickets Taken :  37  Player :  KA Pollard\n",
      "Total Wickets Taken :  36  Player :  S Sreesanth\n",
      "Total Wickets Taken :  36  Player :  YK Pathan\n",
      "Total Wickets Taken :  36  Player :  RJ Harris\n",
      "Total Wickets Taken :  35  Player :  MJ McClenaghan\n",
      "Total Wickets Taken :  34  Player :  Iqbal Abdulla\n",
      "Total Wickets Taken :  34  Player :  MA Starc\n",
      "Total Wickets Taken :  33  Player :  MC Henriques\n",
      "Total Wickets Taken :  33  Player :  CH Morris\n",
      "Total Wickets Taken :  32  Player :  KV Sharma\n",
      "Total Wickets Taken :  31  Player :  Shakib Al Hasan\n",
      "Total Wickets Taken :  30  Player :  MS Gony\n",
      "Total Wickets Taken :  30  Player :  Yuvraj Singh\n",
      "Total Wickets Taken :  30  Player :  DE Bollinger\n",
      "Total Wickets Taken :  30  Player :  AD Russell\n",
      "Total Wickets Taken :  29  Player :  PJ Sangwan\n",
      "Total Wickets Taken :  29  Player :  Imran Tahir\n",
      "Total Wickets Taken :  28  Player :  PV Tambe\n",
      "Total Wickets Taken :  27  Player :  MF Maharoof\n",
      "Total Wickets Taken :  27  Player :  JD Unadkat\n",
      "Total Wickets Taken :  26  Player :  AB Agarkar\n",
      "Total Wickets Taken :  25  Player :  M Kartik\n",
      "Total Wickets Taken :  24  Player :  DP Nannes\n",
      "Total Wickets Taken :  24  Player :  R Sharma\n",
      "Total Wickets Taken :  23  Player :  DL Vettori\n",
      "Total Wickets Taken :  23  Player :  NLTC Perera\n",
      "Total Wickets Taken :  23  Player :  VR Aaron\n",
      "Total Wickets Taken :  23  Player :  JJ Bumrah\n",
      "Total Wickets Taken :  22  Player :  Sohail Tanvir\n",
      "Total Wickets Taken :  22  Player :  DR Smith\n",
      "Total Wickets Taken :  22  Player :  SK Raina\n",
      "Total Wickets Taken :  22  Player :  JP Duminy\n",
      "Total Wickets Taken :  22  Player :  WD Parnell\n",
      "Total Wickets Taken :  22  Player :  HV Patel\n",
      "Total Wickets Taken :  21  Player :  NM Coulter-Nile\n",
      "Total Wickets Taken :  20  Player :  RE van der Merwe\n",
      "Total Wickets Taken :  20  Player :  A Symonds\n",
      "Total Wickets Taken :  19  Player :  Harmeet Singh\n",
      "Total Wickets Taken :  19  Player :  AD Mathews\n",
      "Total Wickets Taken :  19  Player :  TG Southee\n",
      "Total Wickets Taken :  18  Player :  WPUJC Vaas\n",
      "Total Wickets Taken :  18  Player :  VY Mahesh\n",
      "Total Wickets Taken :  18  Player :  CH Gayle\n",
      "Total Wickets Taken :  18  Player :  A Singh\n",
      "Total Wickets Taken :  18  Player :  KW Richardson\n",
      "Total Wickets Taken :  18  Player :  IC Pandey\n",
      "Total Wickets Taken :  18  Player :  R Dhawan\n",
      "Total Wickets Taken :  17  Player :  CRD Fernando\n",
      "Total Wickets Taken :  17  Player :  Anureet Singh\n",
      "Total Wickets Taken :  17  Player :  S Nadeem\n",
      "Total Wickets Taken :  17  Player :  P Awana\n",
      "Total Wickets Taken :  17  Player :  Mustafizur Rahman\n",
      "Total Wickets Taken :  16  Player :  BJ Hodge\n",
      "Total Wickets Taken :  16  Player :  SW Tait\n",
      "Total Wickets Taken :  16  Player :  MR Marsh\n",
      "Total Wickets Taken :  16  Player :  D Wiese\n",
      "Total Wickets Taken :  15  Player :  B Lee\n",
      "Total Wickets Taken :  15  Player :  RG Sharma\n",
      "Total Wickets Taken :  15  Player :  YA Abdulla\n",
      "Total Wickets Taken :  14  Player :  JR Hopes\n",
      "Total Wickets Taken :  14  Player :  J Botha\n",
      "Total Wickets Taken :  14  Player :  Bipul Sharma\n",
      "Total Wickets Taken :  14  Player :  SJ Srivastava\n",
      "Total Wickets Taken :  14  Player :  KK Cooper\n",
      "Total Wickets Taken :  14  Player :  BB Sran\n",
      "Total Wickets Taken :  13  Player :  LR Shukla\n",
      "Total Wickets Taken :  13  Player :  ST Jayasuriya\n",
      "Total Wickets Taken :  13  Player :  RR Powar\n",
      "Total Wickets Taken :  13  Player :  CK Langeveldt\n",
      "Total Wickets Taken :  13  Player :  Mohammed Shami\n",
      "Total Wickets Taken :  13  Player :  GB Hogg\n",
      "Total Wickets Taken :  12  Player :  Joginder Sharma\n",
      "Total Wickets Taken :  12  Player :  GD McGrath\n",
      "Total Wickets Taken :  12  Player :  VRV Singh\n",
      "Total Wickets Taken :  12  Player :  Umar Gul\n",
      "Total Wickets Taken :  12  Player :  AD Mascarenhas\n",
      "Total Wickets Taken :  12  Player :  AN Ahmed\n",
      "Total Wickets Taken :  12  Player :  STR Binny\n",
      "Total Wickets Taken :  12  Player :  Karanveer Singh\n",
      "Total Wickets Taken :  12  Player :  A Zampa\n",
      "Total Wickets Taken :  11  Player :  SM Pollock\n",
      "Total Wickets Taken :  11  Player :  R McLaren\n",
      "Total Wickets Taken :  11  Player :  RS Bopara\n",
      "Total Wickets Taken :  11  Player :  AC Thomas\n",
      "Total Wickets Taken :  11  Player :  DT Christian\n",
      "Total Wickets Taken :  11  Player :  DJG Sammy\n",
      "Total Wickets Taken :  11  Player :  CJ Jordan\n",
      "Total Wickets Taken :  10  Player :  Kamran Khan\n",
      "Total Wickets Taken :  10  Player :  BA Bhatt\n",
      "Total Wickets Taken :  10  Player :  TA Boult\n",
      "Total Wickets Taken :  10  Player :  J Suchith\n",
      "Total Wickets Taken :  9  Player :  Shahid Afridi\n",
      "Total Wickets Taken :  9  Player :  JDP Oram\n",
      "Total Wickets Taken :  9  Player :  AG Murtaza\n",
      "Total Wickets Taken :  9  Player :  SE Bond\n",
      "Total Wickets Taken :  9  Player :  J Theron\n",
      "Total Wickets Taken :  9  Player :  R Rampaul\n",
      "Total Wickets Taken :  9  Player :  BE Hendricks\n",
      "Total Wickets Taken :  8  Player :  SC Ganguly\n",
      "Total Wickets Taken :  8  Player :  Mohammad Asif\n",
      "Total Wickets Taken :  8  Player :  SB Styris\n",
      "Total Wickets Taken :  8  Player :  AM Nayar\n",
      "Total Wickets Taken :  8  Player :  T Thushara\n",
      "Total Wickets Taken :  8  Player :  BW Hilfenhaus\n",
      "Total Wickets Taken :  8  Player :  Ankit Sharma\n",
      "Total Wickets Taken :  8  Player :  MP Stoinis\n",
      "Total Wickets Taken :  7  Player :  P Amarnath\n",
      "Total Wickets Taken :  7  Player :  M Ntini\n",
      "Total Wickets Taken :  7  Player :  BAW Mendis\n",
      "Total Wickets Taken :  7  Player :  JD Ryder\n",
      "Total Wickets Taken :  7  Player :  AM Salvi\n",
      "Total Wickets Taken :  7  Player :  KP Pietersen\n",
      "Total Wickets Taken :  7  Player :  A Mithun\n",
      "Total Wickets Taken :  7  Player :  PC Valthaty\n",
      "Total Wickets Taken :  7  Player :  Azhar Mahmood\n",
      "Total Wickets Taken :  7  Player :  S Gopal\n",
      "Total Wickets Taken :  7  Player :  P Negi\n",
      "Total Wickets Taken :  7  Player :  M Ashwin\n",
      "Total Wickets Taken :  7  Player :  CR Brathwaite\n",
      "Total Wickets Taken :  6  Player :  B Akhil\n",
      "Total Wickets Taken :  6  Player :  V Sehwag\n",
      "Total Wickets Taken :  6  Player :  RR Raje\n",
      "Total Wickets Taken :  6  Player :  Y Venugopal Rao\n",
      "Total Wickets Taken :  6  Player :  VS Malik\n",
      "Total Wickets Taken :  6  Player :  S Tyagi\n",
      "Total Wickets Taken :  6  Player :  TL Suman\n",
      "Total Wickets Taken :  6  Player :  Jaskaran Singh\n",
      "Total Wickets Taken :  6  Player :  S Randiv\n",
      "Total Wickets Taken :  6  Player :  J Syed Mohammad\n",
      "Total Wickets Taken :  6  Player :  JE Taylor\n",
      "Total Wickets Taken :  6  Player :  S Kaul\n",
      "Total Wickets Taken :  6  Player :  BCJ Cutting\n",
      "Total Wickets Taken :  6  Player :  Kuldeep Yadav\n",
      "Total Wickets Taken :  6  Player :  KH Pandya\n",
      "Total Wickets Taken :  6  Player :  S Kaushik\n",
      "Total Wickets Taken :  5  Player :  DJ Hussey\n",
      "Total Wickets Taken :  5  Player :  Shoaib Akhtar\n",
      "Total Wickets Taken :  5  Player :  TM Dilshan\n",
      "Total Wickets Taken :  5  Player :  FH Edwards\n",
      "Total Wickets Taken :  5  Player :  Shoaib Ahmed\n",
      "Total Wickets Taken :  5  Player :  S Ladda\n",
      "Total Wickets Taken :  5  Player :  S Narwal\n",
      "Total Wickets Taken :  5  Player :  AB McDonald\n",
      "Total Wickets Taken :  5  Player :  PD Collingwood\n",
      "Total Wickets Taken :  5  Player :  SB Wagh\n",
      "Total Wickets Taken :  5  Player :  AP Dole\n",
      "Total Wickets Taken :  5  Player :  RV Gomez\n",
      "Total Wickets Taken :  5  Player :  SMSM Senanayake\n",
      "Total Wickets Taken :  5  Player :  JO Holder\n",
      "Total Wickets Taken :  5  Player :  CJ Anderson\n",
      "Total Wickets Taken :  5  Player :  Gurkeerat Singh\n",
      "Total Wickets Taken :  4  Player :  WA Mota\n",
      "Total Wickets Taken :  4  Player :  SB Bangar\n",
      "Total Wickets Taken :  4  Player :  V Kohli\n",
      "Total Wickets Taken :  4  Player :  DP Vijaykumar\n",
      "Total Wickets Taken :  4  Player :  Pankaj Singh\n",
      "Total Wickets Taken :  4  Player :  D du Preez\n",
      "Total Wickets Taken :  4  Player :  Y Nagar\n",
      "Total Wickets Taken :  4  Player :  JEC Franklin\n",
      "Total Wickets Taken :  4  Player :  P Parameswaran\n",
      "Total Wickets Taken :  4  Player :  Anand Rajan\n",
      "Total Wickets Taken :  4  Player :  A Chandila\n",
      "Total Wickets Taken :  4  Player :  Parvez Rasool\n",
      "Total Wickets Taken :  4  Player :  Shivam Sharma\n",
      "Total Wickets Taken :  4  Player :  DJ Muthuswami\n",
      "Total Wickets Taken :  4  Player :  KC Cariappa\n",
      "Total Wickets Taken :  4  Player :  A Ashish Reddy\n",
      "Total Wickets Taken :  4  Player :  DJ Hooda\n",
      "Total Wickets Taken :  4  Player :  HH Pandya\n",
      "Total Wickets Taken :  4  Player :  J Yadav\n",
      "Total Wickets Taken :  3  Player :  Gagandeep Singh\n",
      "Total Wickets Taken :  3  Player :  DJ Thornely\n",
      "Total Wickets Taken :  3  Player :  KP Appanna\n",
      "Total Wickets Taken :  3  Player :  SM Harwood\n",
      "Total Wickets Taken :  3  Player :  R Sathish\n",
      "Total Wickets Taken :  3  Player :  JM Kemp\n",
      "Total Wickets Taken :  3  Player :  L Ablish\n",
      "Total Wickets Taken :  3  Player :  R Ninan\n",
      "Total Wickets Taken :  3  Player :  JJ van der Wath\n",
      "Total Wickets Taken :  3  Player :  GJ Maxwell\n",
      "Total Wickets Taken :  3  Player :  R Tewatia\n",
      "Total Wickets Taken :  3  Player :  K Santokie\n",
      "Total Wickets Taken :  3  Player :  JW Hastings\n",
      "Total Wickets Taken :  3  Player :  P Sahu\n",
      "Total Wickets Taken :  3  Player :  T Shamsi\n",
      "Total Wickets Taken :  3  Player :  AS Rajpoot\n",
      "Total Wickets Taken :  2  Player :  Mohammad Hafeez\n",
      "Total Wickets Taken :  2  Player :  MA Khote\n",
      "Total Wickets Taken :  2  Player :  D Kalyankrishna\n",
      "Total Wickets Taken :  2  Player :  DNT Zoysa\n",
      "Total Wickets Taken :  2  Player :  Shoaib Malik\n",
      "Total Wickets Taken :  2  Player :  SD Chitnis\n",
      "Total Wickets Taken :  2  Player :  A Flintoff\n",
      "Total Wickets Taken :  2  Player :  C Nanda\n",
      "Total Wickets Taken :  2  Player :  A Uniyal\n",
      "Total Wickets Taken :  2  Player :  ND Doshi\n",
      "Total Wickets Taken :  2  Player :  AL Menaria\n",
      "Total Wickets Taken :  2  Player :  LJ Wright\n",
      "Total Wickets Taken :  2  Player :  P Suyal\n",
      "Total Wickets Taken :  2  Player :  R Shukla\n",
      "Total Wickets Taken :  2  Player :  S Badree\n",
      "Total Wickets Taken :  2  Player :  PJ Cummins\n",
      "Total Wickets Taken :  2  Player :  M de Lange\n",
      "Total Wickets Taken :  2  Player :  KJ Abbott\n",
      "Total Wickets Taken :  2  Player :  SM Boland\n",
      "Total Wickets Taken :  2  Player :  Sachin Baby\n",
      "Total Wickets Taken :  1  Player :  AA Noffke\n",
      "Total Wickets Taken :  1  Player :  D Salunkhe\n",
      "Total Wickets Taken :  1  Player :  SB Joshi\n",
      "Total Wickets Taken :  1  Player :  DB Ravi Teja\n",
      "Total Wickets Taken :  1  Player :  S Vidyut\n",
      "Total Wickets Taken :  1  Player :  B Geeves\n",
      "Total Wickets Taken :  1  Player :  A Nel\n",
      "Total Wickets Taken :  1  Player :  PM Sarvesh Kumar\n",
      "Total Wickets Taken :  1  Player :  T Henderson\n",
      "Total Wickets Taken :  1  Player :  GR Napier\n",
      "Total Wickets Taken :  1  Player :  LA Carseldine\n",
      "Total Wickets Taken :  1  Player :  AM Rahane\n",
      "Total Wickets Taken :  1  Player :  SS Sarkar\n",
      "Total Wickets Taken :  1  Player :  MK Tiwary\n",
      "Total Wickets Taken :  1  Player :  S Dhawan\n",
      "Total Wickets Taken :  1  Player :  KMDN Kulasekara\n",
      "Total Wickets Taken :  1  Player :  SS Mundhe\n",
      "Total Wickets Taken :  1  Player :  AA Chavan\n",
      "Total Wickets Taken :  1  Player :  BMAJ Mendis\n",
      "Total Wickets Taken :  1  Player :  CL White\n",
      "Total Wickets Taken :  1  Player :  AC Gilchrist\n",
      "Total Wickets Taken :  1  Player :  JDS Neesham\n",
      "Total Wickets Taken :  1  Player :  LMP Simmons\n",
      "Total Wickets Taken :  1  Player :  RN ten Doeschate\n",
      "Total Wickets Taken :  1  Player :  RG More\n",
      "Total Wickets Taken :  1  Player :  SN Thakur\n",
      "Total Wickets Taken :  1  Player :  GS Sandhu\n",
      "Total Wickets Taken :  1  Player :  AF Milne\n"
     ]
    }
   ],
   "source": [
    "def findBowler(ids,wickets):\n",
    "    bowler_with_max_wickets=np.where(playerrecordsdata[...,0]==str(ids))\n",
    "    print(\"Total Wickets Taken : \",wickets,\" Player : \",playerrecordsdata[bowler_with_max_wickets][0][1])\n",
    "l=[]\n",
    "for keys,values in dic.items():\n",
    "    l.append((keys,values))\n",
    "l=sorted(l,key=lambda x:x[1],reverse=True)\n",
    "j=0\n",
    "for i in range(len(l)):\n",
    "    findBowler(l[i][j],l[i][j+1])\n",
    "        "
   ]
  },
  {
   "cell_type": "markdown",
   "metadata": {},
   "source": [
    "## Record Of Score Made By Each Player"
   ]
  },
  {
   "cell_type": "code",
   "execution_count": 168,
   "metadata": {},
   "outputs": [],
   "source": [
    "def scorerecord(ids):\n",
    "    scores=np.where(np.logical_and(np.logical_and(np.logical_and(ballrecordsdata[...,6]==ids , ballrecordsdata[...,10]!='0'),ballrecordsdata[...,10]!=' '),ballrecordsdata[...,10]!='Do_nothing'))\n",
    "    totalscores=np.array(ballrecordsdata[scores,10],dtype=int)\n",
    "    player_name=np.where(playerrecordsdata[...,0]==ids)\n",
    "    #print(\"{}\".format(playerrecordsdata[player_name][0][1])+\"\\nTotal Score : {}\".format(np.sum(totalscores)))\n",
    "    li.append((playerrecordsdata[player_name][0][1],np.sum(totalscores)))"
   ]
  },
  {
   "cell_type": "code",
   "execution_count": 171,
   "metadata": {},
   "outputs": [
    {
     "name": "stdout",
     "output_type": "stream",
     "text": [
      "Maximum Runs Are Scored by  :  SK Raina  with total Score :  4106\n"
     ]
    }
   ],
   "source": [
    "striker_id=np.array(ballrecordsdata[...,6],dtype=int)\n",
    "s=list(set(striker_id))\n",
    "s.sort()\n",
    "li=[]\n",
    "for i in range(len(s)):\n",
    "    scorerecord(str(s[i]))\n",
    "li=sorted(li,key=lambda x:x[1],reverse=True)\n",
    "#print(li)\n",
    "print(\"Maximum Runs Are Scored by  : \",li[0][0],\" with total Score : \",li[0][1])"
   ]
  },
  {
   "cell_type": "markdown",
   "metadata": {},
   "source": [
    "## Maximum 4's"
   ]
  },
  {
   "cell_type": "code",
   "execution_count": 192,
   "metadata": {},
   "outputs": [],
   "source": [
    "def findmax4(ids):\n",
    "    fours=np.where(np.logical_and(ballrecordsdata[...,6]==ids , ballrecordsdata[...,10]=='4'))\n",
    "    player_name=np.where(playerrecordsdata[...,0]==ids)\n",
    "    lf.append((playerrecordsdata[player_name][0][1],len(fours[0])))"
   ]
  },
  {
   "cell_type": "code",
   "execution_count": 198,
   "metadata": {},
   "outputs": [
    {
     "name": "stdout",
     "output_type": "stream",
     "text": [
      "Maximum 4's are Scored by :  G Gambhir  Total 4's :  422\n"
     ]
    }
   ],
   "source": [
    "lf=[]\n",
    "for i in range(len(s)):\n",
    "    findmax4(str(s[i]))\n",
    "lf=sorted(lf,key=lambda x:x[1],reverse=True)\n",
    "#print(lf) # Print all players Record 4's\n",
    "print(\"Maximum 4's are Scored by : \",lf[0][0],\" Total 4's : \",lf[0][1])"
   ]
  },
  {
   "cell_type": "markdown",
   "metadata": {},
   "source": [
    "## Maximum 6's"
   ]
  },
  {
   "cell_type": "code",
   "execution_count": 194,
   "metadata": {},
   "outputs": [],
   "source": [
    "def findmax6(ids):\n",
    "    six=np.where(np.logical_and(ballrecordsdata[...,6]==ids , ballrecordsdata[...,10]=='6'))\n",
    "    player_name=np.where(playerrecordsdata[...,0]==ids)\n",
    "    ls.append((playerrecordsdata[player_name][0][1],len(six[0])))"
   ]
  },
  {
   "cell_type": "code",
   "execution_count": 199,
   "metadata": {},
   "outputs": [
    {
     "name": "stdout",
     "output_type": "stream",
     "text": [
      "Maximum 6's are Scored by :  CH Gayle  Total 4's :  252\n"
     ]
    }
   ],
   "source": [
    "ls=[]\n",
    "for i in range(len(s)):\n",
    "    findmax6(str(s[i]))\n",
    "ls=sorted(ls,key=lambda x:x[1],reverse=True)\n",
    "#print(ls) # Print all players Record 6's\n",
    "print(\"Maximum 6's are Scored by : \",ls[0][0],\" Total 4's : \",ls[0][1])"
   ]
  }
 ],
 "metadata": {
  "kernelspec": {
   "display_name": "Python 3",
   "language": "python",
   "name": "python3"
  },
  "language_info": {
   "codemirror_mode": {
    "name": "ipython",
    "version": 3
   },
   "file_extension": ".py",
   "mimetype": "text/x-python",
   "name": "python",
   "nbconvert_exporter": "python",
   "pygments_lexer": "ipython3",
   "version": "3.6.7"
  }
 },
 "nbformat": 4,
 "nbformat_minor": 2
}
