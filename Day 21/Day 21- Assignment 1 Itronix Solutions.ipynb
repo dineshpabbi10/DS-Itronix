{
 "cells": [
  {
   "cell_type": "markdown",
   "metadata": {},
   "source": [
    "<center> <h1>Introduction to Pandas</h1></center>"
   ]
  },
  {
   "cell_type": "code",
   "execution_count": 6,
   "metadata": {},
   "outputs": [],
   "source": [
    "import pandas as pd\n",
    "import numpy as np"
   ]
  },
  {
   "cell_type": "code",
   "execution_count": 7,
   "metadata": {},
   "outputs": [
    {
     "name": "stdout",
     "output_type": "stream",
     "text": [
      "Series([], dtype: float64)\n"
     ]
    }
   ],
   "source": [
    "s=pd.Series()\n",
    "print(s)"
   ]
  },
  {
   "cell_type": "markdown",
   "metadata": {},
   "source": [
    "### Series through Arrays."
   ]
  },
  {
   "cell_type": "code",
   "execution_count": 9,
   "metadata": {},
   "outputs": [
    {
     "name": "stdout",
     "output_type": "stream",
     "text": [
      "0    a\n",
      "1    b\n",
      "2    c\n",
      "3    d\n",
      "dtype: object\n"
     ]
    }
   ],
   "source": [
    "data=np.array(['a','b','c','d'])\n",
    "s=pd.Series(data)\n",
    "print(s)"
   ]
  },
  {
   "cell_type": "code",
   "execution_count": 11,
   "metadata": {},
   "outputs": [
    {
     "name": "stdout",
     "output_type": "stream",
     "text": [
      "100    a\n",
      "101    b\n",
      "102    c\n",
      "103    d\n",
      "dtype: object\n",
      "\n",
      "a\n"
     ]
    }
   ],
   "source": [
    "s=pd.Series(data,index=[100,101,102,103])\n",
    "print(s)\n",
    "print()\n",
    "print(s[100])"
   ]
  },
  {
   "cell_type": "code",
   "execution_count": 27,
   "metadata": {},
   "outputs": [
    {
     "name": "stdout",
     "output_type": "stream",
     "text": [
      "a    2.302919\n",
      "b    1.255157\n",
      "c    0.242294\n",
      "d   -0.147121\n",
      "e   -0.351085\n",
      "dtype: float64\n",
      "0.24229353146101432\n"
     ]
    }
   ],
   "source": [
    "s=pd.Series(np.random.randn(5),index=['a','b','c','d','e'])\n",
    "print(s)\n",
    "print(s['c'])"
   ]
  },
  {
   "cell_type": "code",
   "execution_count": 16,
   "metadata": {},
   "outputs": [
    {
     "name": "stdout",
     "output_type": "stream",
     "text": [
      "Index(['a', 'b', 'c', 'd', 'e'], dtype='object')\n"
     ]
    }
   ],
   "source": [
    "print(s.index)"
   ]
  },
  {
   "cell_type": "markdown",
   "metadata": {},
   "source": [
    "### Series through Dictionary"
   ]
  },
  {
   "cell_type": "code",
   "execution_count": 29,
   "metadata": {},
   "outputs": [
    {
     "name": "stdout",
     "output_type": "stream",
     "text": [
      "x    10.0\n",
      "y    20.0\n",
      "z    30.0\n",
      "dtype: float64\n"
     ]
    }
   ],
   "source": [
    "data={'x':10.,'y':20.,'z':30.}\n",
    "s=pd.Series(data)\n",
    "print(s)"
   ]
  },
  {
   "cell_type": "code",
   "execution_count": 23,
   "metadata": {},
   "outputs": [
    {
     "name": "stdout",
     "output_type": "stream",
     "text": [
      "x    10.0\n",
      "y    20.0\n",
      "z    30.0\n",
      "dtype: float64\n",
      "x    10.0\n",
      "y    20.0\n",
      "z    30.0\n",
      "dtype: float64\n",
      "x    10.0\n",
      "dtype: float64\n",
      "10.0\n"
     ]
    }
   ],
   "source": [
    "print(s['x':'z']) ## Slicing of the Series \n",
    "print(s['x':])\n",
    "print(s[:'x'])\n",
    "print(s[0])"
   ]
  },
  {
   "cell_type": "code",
   "execution_count": 31,
   "metadata": {},
   "outputs": [
    {
     "name": "stdout",
     "output_type": "stream",
     "text": [
      "x    10.0\n",
      "y    20.0\n",
      "z    30.0\n",
      "f     NaN\n",
      "dtype: float64\n",
      "NaN is becuase there is no index f in the dictionary\n"
     ]
    }
   ],
   "source": [
    "s=pd.Series(data,index=['x','y','z','f'])\n",
    "print(s)\n",
    "print(\"NaN is becuase there is no index f in the dictionary\")"
   ]
  },
  {
   "cell_type": "code",
   "execution_count": 34,
   "metadata": {},
   "outputs": [
    {
     "name": "stdout",
     "output_type": "stream",
     "text": [
      "1    5\n",
      "2    5\n",
      "3    5\n",
      "4    5\n",
      "5    5\n",
      "dtype: int64\n"
     ]
    }
   ],
   "source": [
    "s=pd.Series(5,index=[1,2,3,4,5])\n",
    "print(s)"
   ]
  },
  {
   "cell_type": "code",
   "execution_count": 45,
   "metadata": {},
   "outputs": [
    {
     "name": "stdout",
     "output_type": "stream",
     "text": [
      "a    1\n",
      "b    2\n",
      "dtype: int64\n",
      "c    3\n",
      "d    4\n",
      "e    5\n",
      "dtype: int64\n",
      "Unknown Index throw error in case of List bu NaN in case of dictionary\n"
     ]
    }
   ],
   "source": [
    "s=pd.Series([1,2,3,4,5],index=['a','b','c','d','e'])\n",
    "print(s[:-3])\n",
    "print(s[-3:])\n",
    "print(\"Unknown Index throw error in case of List bu NaN in case of dictionary\")"
   ]
  },
  {
   "cell_type": "markdown",
   "metadata": {},
   "source": [
    "## Data-Frames"
   ]
  },
  {
   "cell_type": "code",
   "execution_count": 46,
   "metadata": {},
   "outputs": [
    {
     "name": "stdout",
     "output_type": "stream",
     "text": [
      "Empty DataFrame\n",
      "Columns: []\n",
      "Index: []\n"
     ]
    }
   ],
   "source": [
    "df=pd.DataFrame()\n",
    "print(df)"
   ]
  },
  {
   "cell_type": "code",
   "execution_count": 48,
   "metadata": {},
   "outputs": [
    {
     "name": "stdout",
     "output_type": "stream",
     "text": [
      "[1, 2, 3, 4, 5]\n",
      "   0\n",
      "0  1\n",
      "1  2\n",
      "2  3\n",
      "3  4\n",
      "4  5\n"
     ]
    }
   ],
   "source": [
    "data=[1,2,3,4,5]\n",
    "print(data)\n",
    "\n",
    "df=pd.DataFrame(data)\n",
    "print(df)"
   ]
  },
  {
   "cell_type": "code",
   "execution_count": 50,
   "metadata": {},
   "outputs": [
    {
     "name": "stdout",
     "output_type": "stream",
     "text": [
      "[['Robin', 26], ['Kumar', 25], ['Rohit', 22]]\n",
      "       0   1\n",
      "0  Robin  26\n",
      "1  Kumar  25\n",
      "2  Rohit  22\n"
     ]
    }
   ],
   "source": [
    "data=[['Robin',26],['Kumar',25],['Rohit',22]]\n",
    "print(data)\n",
    "df=pd.DataFrame(data)\n",
    "print(df)"
   ]
  },
  {
   "cell_type": "code",
   "execution_count": 54,
   "metadata": {},
   "outputs": [
    {
     "name": "stdout",
     "output_type": "stream",
     "text": [
      "    Name  Age\n",
      "0  Robin   26\n",
      "1  Kumar   25\n",
      "2  Rohit   22\n"
     ]
    }
   ],
   "source": [
    "df=pd.DataFrame(data,columns=['Name','Age'])\n",
    "print(df)"
   ]
  },
  {
   "cell_type": "code",
   "execution_count": 55,
   "metadata": {},
   "outputs": [
    {
     "name": "stdout",
     "output_type": "stream",
     "text": [
      "    Name  Age  Marks\n",
      "0  Robin   26    100\n",
      "1  Kumar   25     98\n",
      "2  Rohit   22     99\n"
     ]
    }
   ],
   "source": [
    "data=[['Robin',26,100],['Kumar',25,98],['Rohit',22,99]]\n",
    "df=pd.DataFrame(data,columns=['Name','Age','Marks'])\n",
    "print(df)"
   ]
  },
  {
   "cell_type": "code",
   "execution_count": 57,
   "metadata": {},
   "outputs": [
    {
     "name": "stdout",
     "output_type": "stream",
     "text": [
      "0    Robin\n",
      "1    Kumar\n",
      "2    Rohit\n",
      "Name: Name, dtype: object\n",
      "0    26\n",
      "1    25\n",
      "2    22\n",
      "Name: Age, dtype: int64\n",
      "0    100\n",
      "1     98\n",
      "2     99\n",
      "Name: Marks, dtype: int64\n"
     ]
    }
   ],
   "source": [
    "print(df.Name)\n",
    "print(df.Age)\n",
    "print(df.Marks)"
   ]
  },
  {
   "cell_type": "code",
   "execution_count": 59,
   "metadata": {},
   "outputs": [
    {
     "name": "stdout",
     "output_type": "stream",
     "text": [
      "    Name  Marks\n",
      "0  Robin    100\n",
      "1  Kumar     98\n",
      "2  Rohit     99\n"
     ]
    }
   ],
   "source": [
    "print(df[['Name','Marks']])"
   ]
  },
  {
   "cell_type": "markdown",
   "metadata": {},
   "source": [
    "### Data-Frame using Dictionary"
   ]
  },
  {
   "cell_type": "code",
   "execution_count": 62,
   "metadata": {},
   "outputs": [
    {
     "name": "stdout",
     "output_type": "stream",
     "text": [
      "    Name  Age\n",
      "0  Kunal   21\n",
      "1  Kumar   23\n"
     ]
    }
   ],
   "source": [
    "data={'Name':['Kunal','Kumar'],'Age':[21,23]}\n",
    "df=pd.DataFrame(data)\n",
    "print(df)"
   ]
  },
  {
   "cell_type": "code",
   "execution_count": 64,
   "metadata": {},
   "outputs": [
    {
     "name": "stdout",
     "output_type": "stream",
     "text": [
      "    a   b     c\n",
      "0   1  20   NaN\n",
      "1  30  40  50.0\n"
     ]
    }
   ],
   "source": [
    "data=[{'a':1,'b':20},{'a':30,'b':40,'c':50}]\n",
    "df=pd.DataFrame(data)\n",
    "print(df)"
   ]
  },
  {
   "cell_type": "code",
   "execution_count": 66,
   "metadata": {},
   "outputs": [
    {
     "name": "stdout",
     "output_type": "stream",
     "text": [
      "    a   b\n",
      "1   1  20\n",
      "2  30  40\n"
     ]
    }
   ],
   "source": [
    "df=pd.DataFrame(data,index=[1,2],columns=['a','b'])\n",
    "print(df)"
   ]
  },
  {
   "cell_type": "markdown",
   "metadata": {},
   "source": [
    "### Data-Frame from Dictionary of A Series"
   ]
  },
  {
   "cell_type": "code",
   "execution_count": 82,
   "metadata": {},
   "outputs": [
    {
     "name": "stdout",
     "output_type": "stream",
     "text": [
      "   one  two\n",
      "a    1  1.0\n",
      "b    2  2.0\n",
      "c    3  3.0\n",
      "d    4  NaN\n"
     ]
    }
   ],
   "source": [
    "d={'one':pd.Series([1,2,3,4],index=['a','b','c','d']),'two':pd.Series([1,2,3],index=['a','b','c'])}\n",
    "df=pd.DataFrame(d)\n",
    "print(df)"
   ]
  },
  {
   "cell_type": "code",
   "execution_count": 83,
   "metadata": {},
   "outputs": [
    {
     "name": "stdout",
     "output_type": "stream",
     "text": [
      "   one  two  three\n",
      "a    1  1.0      1\n",
      "b    2  2.0      2\n",
      "c    3  3.0      3\n",
      "d    4  NaN      4\n"
     ]
    }
   ],
   "source": [
    "df['three']=pd.Series([1,2,3,4],index=['a','b','c','d'])\n",
    "print(df)"
   ]
  },
  {
   "cell_type": "code",
   "execution_count": 84,
   "metadata": {},
   "outputs": [
    {
     "name": "stdout",
     "output_type": "stream",
     "text": [
      "   one  two  three  four\n",
      "a    1  1.0      1   2.0\n",
      "b    2  2.0      2   4.0\n",
      "c    3  3.0      3   6.0\n",
      "d    4  NaN      4   NaN\n"
     ]
    }
   ],
   "source": [
    "df['four']=df['one']+df['two']\n",
    "print(df)"
   ]
  },
  {
   "cell_type": "code",
   "execution_count": 85,
   "metadata": {},
   "outputs": [
    {
     "name": "stdout",
     "output_type": "stream",
     "text": [
      "   two  three  four\n",
      "a  1.0      1   2.0\n",
      "b  2.0      2   4.0\n",
      "c  3.0      3   6.0\n",
      "d  NaN      4   NaN\n",
      "a    1.0\n",
      "b    2.0\n",
      "c    3.0\n",
      "d    NaN\n",
      "Name: two, dtype: float64\n",
      "   three  four\n",
      "a      1   2.0\n",
      "b      2   4.0\n",
      "c      3   6.0\n",
      "d      4   NaN\n"
     ]
    }
   ],
   "source": [
    "## Deleting Column\n",
    "del df['one']\n",
    "print(df)\n",
    "\n",
    "print(df.pop('two'))\n",
    "print(df)\n"
   ]
  },
  {
   "cell_type": "code",
   "execution_count": 94,
   "metadata": {},
   "outputs": [
    {
     "name": "stdout",
     "output_type": "stream",
     "text": [
      "   three  four\n",
      "a      1   2.0\n",
      "c      3   6.0\n",
      "d      4   NaN\n"
     ]
    }
   ],
   "source": [
    "## droping Row\n",
    "df=df.drop('b')\n",
    "print(df)"
   ]
  },
  {
   "cell_type": "code",
   "execution_count": null,
   "metadata": {},
   "outputs": [],
   "source": []
  },
  {
   "cell_type": "code",
   "execution_count": null,
   "metadata": {},
   "outputs": [],
   "source": []
  }
 ],
 "metadata": {
  "kernelspec": {
   "display_name": "Python 3",
   "language": "python",
   "name": "python3"
  },
  "language_info": {
   "codemirror_mode": {
    "name": "ipython",
    "version": 3
   },
   "file_extension": ".py",
   "mimetype": "text/x-python",
   "name": "python",
   "nbconvert_exporter": "python",
   "pygments_lexer": "ipython3",
   "version": "3.6.7"
  }
 },
 "nbformat": 4,
 "nbformat_minor": 2
}
