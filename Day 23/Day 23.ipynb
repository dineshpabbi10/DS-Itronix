{
 "cells": [
  {
   "cell_type": "markdown",
   "metadata": {},
   "source": [
    "## Day 23"
   ]
  },
  {
   "cell_type": "code",
   "execution_count": 1,
   "metadata": {},
   "outputs": [],
   "source": [
    "import pandas as pd\n",
    "import numpy as np"
   ]
  },
  {
   "cell_type": "code",
   "execution_count": 6,
   "metadata": {},
   "outputs": [
    {
     "name": "stdout",
     "output_type": "stream",
     "text": [
      "        one       two     three\n",
      "a -1.233977  0.649843 -0.030105\n",
      "c -1.098515 -2.274116  1.544095\n",
      "e -0.333700  0.094030  0.452237\n",
      "f  1.080810  0.196696 -0.537987\n",
      "h -0.421683 -0.064890 -0.981550\n",
      "        one       two     three\n",
      "a -1.233977  0.649843 -0.030105\n",
      "b       NaN       NaN       NaN\n",
      "c -1.098515 -2.274116  1.544095\n",
      "d       NaN       NaN       NaN\n",
      "e -0.333700  0.094030  0.452237\n",
      "f  1.080810  0.196696 -0.537987\n",
      "g       NaN       NaN       NaN\n",
      "h -0.421683 -0.064890 -0.981550\n",
      "a    False\n",
      "b     True\n",
      "c    False\n",
      "d     True\n",
      "e    False\n",
      "f    False\n",
      "g     True\n",
      "h    False\n",
      "Name: one, dtype: bool\n",
      "a     True\n",
      "b    False\n",
      "c     True\n",
      "d    False\n",
      "e     True\n",
      "f     True\n",
      "g    False\n",
      "h     True\n",
      "Name: one, dtype: bool\n",
      "-2.0070649776618184\n",
      "NaN replaced with '0':\n",
      "        one       two     three\n",
      "a -1.233977  0.649843 -0.030105\n",
      "b  0.000000  0.000000  0.000000\n",
      "c -1.098515 -2.274116  1.544095\n",
      "d  0.000000  0.000000  0.000000\n",
      "e -0.333700  0.094030  0.452237\n",
      "f  1.080810  0.196696 -0.537987\n",
      "g  0.000000  0.000000  0.000000\n",
      "h -0.421683 -0.064890 -0.981550\n",
      "        one       two     three\n",
      "a -1.233977  0.649843 -0.030105\n",
      "c -1.098515 -2.274116  1.544095\n",
      "e -0.333700  0.094030  0.452237\n",
      "f  1.080810  0.196696 -0.537987\n",
      "h -0.421683 -0.064890 -0.981550\n"
     ]
    }
   ],
   "source": [
    "df = pd.DataFrame(np.random.randn(5, 3), index=['a', 'c', 'e', 'f',\n",
    "'h'],columns=['one', 'two', 'three'])\n",
    "print (df)\n",
    "\n",
    "df = df.reindex(['a', 'b', 'c', 'd', 'e', 'f', 'g', 'h'])\n",
    "print (df)\n",
    "print (df['one'].isnull())\n",
    "print (df['one'].notnull())\n",
    "print (df['one'].sum())\n",
    "\"\"\"When summing data, NA will be treated as Zero\n",
    "If the data are all NA, then the result will be NA\"\"\"\n",
    "print (\"NaN replaced with '0':\")\n",
    "print (df.fillna(0))\n",
    "print (df.dropna())\n",
    "\n"
   ]
  },
  {
   "cell_type": "code",
   "execution_count": 14,
   "metadata": {},
   "outputs": [],
   "source": [
    "df = pd.read_csv('https://query.data.world/s/Hfu_PsEuD1Z_yJHmGaxWTxvkz7W_b0')"
   ]
  },
  {
   "cell_type": "code",
   "execution_count": 62,
   "metadata": {},
   "outputs": [
    {
     "data": {
      "text/html": [
       "<div>\n",
       "<style scoped>\n",
       "    .dataframe tbody tr th:only-of-type {\n",
       "        vertical-align: middle;\n",
       "    }\n",
       "\n",
       "    .dataframe tbody tr th {\n",
       "        vertical-align: top;\n",
       "    }\n",
       "\n",
       "    .dataframe thead th {\n",
       "        text-align: right;\n",
       "    }\n",
       "</style>\n",
       "<table border=\"1\" class=\"dataframe\">\n",
       "  <thead>\n",
       "    <tr style=\"text-align: right;\">\n",
       "      <th></th>\n",
       "      <th>Team</th>\n",
       "      <th>Rank</th>\n",
       "      <th>Year</th>\n",
       "      <th>Points</th>\n",
       "    </tr>\n",
       "  </thead>\n",
       "  <tbody>\n",
       "    <tr>\n",
       "      <th>2</th>\n",
       "      <td>Devils</td>\n",
       "      <td>2</td>\n",
       "      <td>2014</td>\n",
       "      <td>863</td>\n",
       "    </tr>\n",
       "    <tr>\n",
       "      <th>3</th>\n",
       "      <td>Devils</td>\n",
       "      <td>3</td>\n",
       "      <td>2015</td>\n",
       "      <td>673</td>\n",
       "    </tr>\n",
       "    <tr>\n",
       "      <th>4</th>\n",
       "      <td>Kings</td>\n",
       "      <td>3</td>\n",
       "      <td>2014</td>\n",
       "      <td>741</td>\n",
       "    </tr>\n",
       "    <tr>\n",
       "      <th>5</th>\n",
       "      <td>kings</td>\n",
       "      <td>4</td>\n",
       "      <td>2015</td>\n",
       "      <td>812</td>\n",
       "    </tr>\n",
       "    <tr>\n",
       "      <th>6</th>\n",
       "      <td>Kings</td>\n",
       "      <td>1</td>\n",
       "      <td>2016</td>\n",
       "      <td>756</td>\n",
       "    </tr>\n",
       "    <tr>\n",
       "      <th>7</th>\n",
       "      <td>Kings</td>\n",
       "      <td>1</td>\n",
       "      <td>2017</td>\n",
       "      <td>788</td>\n",
       "    </tr>\n",
       "    <tr>\n",
       "      <th>8</th>\n",
       "      <td>Riders</td>\n",
       "      <td>2</td>\n",
       "      <td>2016</td>\n",
       "      <td>694</td>\n",
       "    </tr>\n",
       "    <tr>\n",
       "      <th>9</th>\n",
       "      <td>Royals</td>\n",
       "      <td>4</td>\n",
       "      <td>2014</td>\n",
       "      <td>701</td>\n",
       "    </tr>\n",
       "    <tr>\n",
       "      <th>10</th>\n",
       "      <td>Royals</td>\n",
       "      <td>1</td>\n",
       "      <td>2015</td>\n",
       "      <td>804</td>\n",
       "    </tr>\n",
       "    <tr>\n",
       "      <th>11</th>\n",
       "      <td>Riders</td>\n",
       "      <td>2</td>\n",
       "      <td>2017</td>\n",
       "      <td>690</td>\n",
       "    </tr>\n",
       "  </tbody>\n",
       "</table>\n",
       "</div>"
      ],
      "text/plain": [
       "      Team  Rank  Year  Points\n",
       "2   Devils     2  2014     863\n",
       "3   Devils     3  2015     673\n",
       "4    Kings     3  2014     741\n",
       "5    kings     4  2015     812\n",
       "6    Kings     1  2016     756\n",
       "7    Kings     1  2017     788\n",
       "8   Riders     2  2016     694\n",
       "9   Royals     4  2014     701\n",
       "10  Royals     1  2015     804\n",
       "11  Riders     2  2017     690"
      ]
     },
     "execution_count": 62,
     "metadata": {},
     "output_type": "execute_result"
    }
   ],
   "source": [
    "df.tail(n=10)"
   ]
  },
  {
   "cell_type": "code",
   "execution_count": 20,
   "metadata": {},
   "outputs": [
    {
     "name": "stdout",
     "output_type": "stream",
     "text": [
      "Ord_id                   0\n",
      "Prod_id                  0\n",
      "Ship_id                  0\n",
      "Cust_id                  0\n",
      "Sales                   20\n",
      "Discount                55\n",
      "Order_Quantity          55\n",
      "Profit                  55\n",
      "Shipping_Cost           55\n",
      "Product_Base_Margin    109\n",
      "dtype: int64\n"
     ]
    }
   ],
   "source": [
    "print(np.sum(df.isnull()))\n"
   ]
  },
  {
   "cell_type": "code",
   "execution_count": 25,
   "metadata": {},
   "outputs": [
    {
     "name": "stdout",
     "output_type": "stream",
     "text": [
      "Ord_id                 0.00\n",
      "Prod_id                0.00\n",
      "Ship_id                0.00\n",
      "Cust_id                0.00\n",
      "Sales                  0.24\n",
      "Discount               0.65\n",
      "Order_Quantity         0.65\n",
      "Profit                 0.65\n",
      "Shipping_Cost          0.65\n",
      "Product_Base_Margin    1.30\n",
      "dtype: float64\n"
     ]
    }
   ],
   "source": [
    "print(round((df.isnull().sum() *100)/len(df),2))"
   ]
  },
  {
   "cell_type": "code",
   "execution_count": 28,
   "metadata": {},
   "outputs": [],
   "source": [
    "df = df.dropna(thresh = 5)"
   ]
  },
  {
   "cell_type": "code",
   "execution_count": 29,
   "metadata": {},
   "outputs": [
    {
     "name": "stdout",
     "output_type": "stream",
     "text": [
      "Ord_id                 0.00\n",
      "Prod_id                0.00\n",
      "Ship_id                0.00\n",
      "Cust_id                0.00\n",
      "Sales                  0.00\n",
      "Discount               0.42\n",
      "Order_Quantity         0.42\n",
      "Profit                 0.42\n",
      "Shipping_Cost          0.42\n",
      "Product_Base_Margin    1.06\n",
      "dtype: float64\n"
     ]
    }
   ],
   "source": [
    "print(round((df.isnull().sum() *100)/len(df),2))"
   ]
  },
  {
   "cell_type": "markdown",
   "metadata": {},
   "source": [
    "### Group BY"
   ]
  },
  {
   "cell_type": "code",
   "execution_count": 32,
   "metadata": {},
   "outputs": [
    {
     "name": "stdout",
     "output_type": "stream",
     "text": [
      "      Team  Rank  Year  Points\n",
      "0   Riders     1  2014     876\n",
      "1   Riders     2  2015     789\n",
      "2   Devils     2  2014     863\n",
      "3   Devils     3  2015     673\n",
      "4    Kings     3  2014     741\n",
      "5    kings     4  2015     812\n",
      "6    Kings     1  2016     756\n",
      "7    Kings     1  2017     788\n",
      "8   Riders     2  2016     694\n",
      "9   Royals     4  2014     701\n",
      "10  Royals     1  2015     804\n",
      "11  Riders     2  2017     690\n"
     ]
    }
   ],
   "source": [
    "ipl_data = {'Team': ['Riders', 'Riders', 'Devils', 'Devils', 'Kings','kings', 'Kings', 'Kings', 'Riders', 'Royals', 'Royals', 'Riders'],\n",
    "'Rank': [1, 2, 2, 3, 3,4 ,1 ,1,2 , 4,1,2],\n",
    "'Year': [2014,2015,2014,2015,2014,2015,2016,2017,2016,2014,2015,2017],\n",
    "'Points':[876,789,863,673,741,812,756,788,694,701,804,690]}\n",
    "df = pd.DataFrame(ipl_data)\n",
    "\n",
    "print( df)\n"
   ]
  },
  {
   "cell_type": "code",
   "execution_count": 34,
   "metadata": {},
   "outputs": [
    {
     "name": "stdout",
     "output_type": "stream",
     "text": [
      "2014\n",
      "     Team  Rank  Year  Points\n",
      "0  Riders     1  2014     876\n",
      "2  Devils     2  2014     863\n",
      "4   Kings     3  2014     741\n",
      "9  Royals     4  2014     701\n",
      "2015\n",
      "      Team  Rank  Year  Points\n",
      "1   Riders     2  2015     789\n",
      "3   Devils     3  2015     673\n",
      "5    kings     4  2015     812\n",
      "10  Royals     1  2015     804\n",
      "2016\n",
      "     Team  Rank  Year  Points\n",
      "6   Kings     1  2016     756\n",
      "8  Riders     2  2016     694\n",
      "2017\n",
      "      Team  Rank  Year  Points\n",
      "7    Kings     1  2017     788\n",
      "11  Riders     2  2017     690\n"
     ]
    }
   ],
   "source": [
    "grouped = df.groupby('Year')\n",
    "for name,group in grouped:\n",
    "    print (name)\n",
    "    print (group)\n"
   ]
  },
  {
   "cell_type": "code",
   "execution_count": 35,
   "metadata": {},
   "outputs": [
    {
     "name": "stdout",
     "output_type": "stream",
     "text": [
      "\n",
      "2014 Data\n",
      "      Team  Rank  Year  Points\n",
      "0  Riders     1  2014     876\n",
      "2  Devils     2  2014     863\n",
      "4   Kings     3  2014     741\n",
      "9  Royals     4  2014     701\n"
     ]
    }
   ],
   "source": [
    "print (\"\\n2014 Data\\n\",grouped.get_group(2014))"
   ]
  },
  {
   "cell_type": "code",
   "execution_count": 36,
   "metadata": {},
   "outputs": [],
   "source": [
    "grouped = df.groupby('Year')"
   ]
  },
  {
   "cell_type": "code",
   "execution_count": 37,
   "metadata": {},
   "outputs": [
    {
     "name": "stdout",
     "output_type": "stream",
     "text": [
      "Year\n",
      "2014    795.25\n",
      "2015    769.50\n",
      "2016    725.00\n",
      "2017    739.00\n",
      "Name: Points, dtype: float64\n",
      "Year\n",
      "2014    3181\n",
      "2015    3078\n",
      "2016    1450\n",
      "2017    1478\n",
      "Name: Points, dtype: int64\n",
      "Year\n",
      "2014    795.25\n",
      "2015    769.50\n",
      "2016    725.00\n",
      "2017    739.00\n",
      "Name: Points, dtype: float64\n"
     ]
    }
   ],
   "source": [
    "print (grouped['Points'].agg(np.mean))\n",
    "print (grouped['Points'].agg(np.sum))\n",
    "print (grouped['Points'].agg(np.average))"
   ]
  },
  {
   "cell_type": "code",
   "execution_count": 38,
   "metadata": {},
   "outputs": [
    {
     "name": "stdout",
     "output_type": "stream",
     "text": [
      "Year\n",
      "2014    3181\n",
      "2015    3078\n",
      "2016    1450\n",
      "2017    1478\n",
      "Name: Points, dtype: int64\n"
     ]
    }
   ],
   "source": [
    "print(df.groupby(\"Year\").Points.sum())"
   ]
  },
  {
   "cell_type": "code",
   "execution_count": 39,
   "metadata": {},
   "outputs": [
    {
     "name": "stdout",
     "output_type": "stream",
     "text": [
      "Year\n",
      "2014    3181\n",
      "2015    3078\n",
      "2016    1450\n",
      "2017    1478\n",
      "Name: Points, dtype: int64\n"
     ]
    }
   ],
   "source": [
    "print(grouped[\"Points\"].sum())"
   ]
  },
  {
   "cell_type": "markdown",
   "metadata": {},
   "source": [
    "## Merge"
   ]
  },
  {
   "cell_type": "code",
   "execution_count": 41,
   "metadata": {},
   "outputs": [
    {
     "name": "stdout",
     "output_type": "stream",
     "text": [
      "\n",
      "Data Frame 1\n",
      "    id      Name subject_id\n",
      "0   1    Piyush       sub1\n",
      "1   2    Gautam       sub2\n",
      "2   3     Garry       sub4\n",
      "3   4  Abhishek       sub6\n",
      "4   5     Ankit       sub5\n",
      "\n",
      "Data Frame 2\n",
      "    id     Name subject_id\n",
      "0   1  Saurabh       sub2\n",
      "1   2   Akshay       sub4\n",
      "2   3    Rajat       sub3\n",
      "3   4   Ankush       sub6\n",
      "4   5      Sam       sub5\n"
     ]
    }
   ],
   "source": [
    "df1 = pd.DataFrame({\n",
    "         'id':[1,2,3,4,5],\n",
    "         'Name': ['Piyush', 'Gautam', 'Garry', 'Abhishek', 'Ankit'],\n",
    "         'subject_id':['sub1','sub2','sub4','sub6','sub5']})\n",
    "df2 = pd.DataFrame(\n",
    "         {'id':[1,2,3,4,5],\n",
    "         'Name': ['Saurabh', 'Akshay', 'Rajat', 'Ankush', 'Sam'],\n",
    "         'subject_id':['sub2','sub4','sub3','sub6','sub5']})\n",
    "print (\"\\nData Frame 1\\n\",df1)\n",
    "print (\"\\nData Frame 2\\n\",df2)"
   ]
  },
  {
   "cell_type": "code",
   "execution_count": 43,
   "metadata": {},
   "outputs": [
    {
     "name": "stdout",
     "output_type": "stream",
     "text": [
      "\n",
      "    id    Name_x subject_id_x   Name_y subject_id_y\n",
      "0   1    Piyush         sub1  Saurabh         sub2\n",
      "1   2    Gautam         sub2   Akshay         sub4\n",
      "2   3     Garry         sub4    Rajat         sub3\n",
      "3   4  Abhishek         sub6   Ankush         sub6\n",
      "4   5     Ankit         sub5      Sam         sub5\n"
     ]
    }
   ],
   "source": [
    "print (\"\\n\",pd.merge(df1,df2,on='id'))\n"
   ]
  },
  {
   "cell_type": "code",
   "execution_count": 44,
   "metadata": {},
   "outputs": [
    {
     "name": "stdout",
     "output_type": "stream",
     "text": [
      "\n",
      "    id    Name_x subject_id  Name_y\n",
      "0   4  Abhishek       sub6  Ankush\n",
      "1   5     Ankit       sub5     Sam\n"
     ]
    }
   ],
   "source": [
    "print (\"\\n\",pd.merge(df1,df2,on=['id','subject_id']))\n"
   ]
  },
  {
   "cell_type": "code",
   "execution_count": 45,
   "metadata": {},
   "outputs": [
    {
     "name": "stdout",
     "output_type": "stream",
     "text": [
      "\n",
      "    id_x    Name_x subject_id  id_y   Name_y\n",
      "0     1    Piyush       sub1   NaN      NaN\n",
      "1     2    Gautam       sub2   1.0  Saurabh\n",
      "2     3     Garry       sub4   2.0   Akshay\n",
      "3     4  Abhishek       sub6   4.0   Ankush\n",
      "4     5     Ankit       sub5   5.0      Sam\n"
     ]
    }
   ],
   "source": [
    "print (\"\\n\",pd.merge(df1,df2, on='subject_id', how='left'))\n"
   ]
  },
  {
   "cell_type": "code",
   "execution_count": 46,
   "metadata": {},
   "outputs": [
    {
     "name": "stdout",
     "output_type": "stream",
     "text": [
      "\n",
      "    id_x    Name_x subject_id  id_y   Name_y\n",
      "0   2.0    Gautam       sub2     1  Saurabh\n",
      "1   3.0     Garry       sub4     2   Akshay\n",
      "2   4.0  Abhishek       sub6     4   Ankush\n",
      "3   5.0     Ankit       sub5     5      Sam\n",
      "4   NaN       NaN       sub3     3    Rajat\n"
     ]
    }
   ],
   "source": [
    "print (\"\\n\",pd.merge(df1,df2, on='subject_id', how='right'))\n"
   ]
  },
  {
   "cell_type": "code",
   "execution_count": 47,
   "metadata": {},
   "outputs": [
    {
     "name": "stdout",
     "output_type": "stream",
     "text": [
      "\n",
      "    id_x    Name_x subject_id  id_y   Name_y\n",
      "0   1.0    Piyush       sub1   NaN      NaN\n",
      "1   2.0    Gautam       sub2   1.0  Saurabh\n",
      "2   3.0     Garry       sub4   2.0   Akshay\n",
      "3   4.0  Abhishek       sub6   4.0   Ankush\n",
      "4   5.0     Ankit       sub5   5.0      Sam\n",
      "5   NaN       NaN       sub3   3.0    Rajat\n"
     ]
    }
   ],
   "source": [
    "print (\"\\n\",pd.merge(df1,df2, on='subject_id', how='outer'))"
   ]
  },
  {
   "cell_type": "code",
   "execution_count": 48,
   "metadata": {},
   "outputs": [
    {
     "name": "stdout",
     "output_type": "stream",
     "text": [
      "\n",
      "    id_x    Name_x subject_id  id_y   Name_y\n",
      "0     2    Gautam       sub2     1  Saurabh\n",
      "1     3     Garry       sub4     2   Akshay\n",
      "2     4  Abhishek       sub6     4   Ankush\n",
      "3     5     Ankit       sub5     5      Sam\n"
     ]
    }
   ],
   "source": [
    "print (\"\\n\",pd.merge(df1,df2, on='subject_id', how='inner'))"
   ]
  },
  {
   "cell_type": "markdown",
   "metadata": {},
   "source": [
    "## Concatenation"
   ]
  },
  {
   "cell_type": "code",
   "execution_count": 49,
   "metadata": {},
   "outputs": [],
   "source": [
    "one = pd.DataFrame({\n",
    "         'Name': ['Akash', 'Abhishek', 'Arpit', 'aayush', 'Ankit'],\n",
    "         'subject':['sub1','sub2','sub4','sub6','sub5'],\n",
    "         'Marks':[98,90,87,69,78]},\n",
    "         index=[1,2,3,4,5])\n",
    "two = pd.DataFrame({\n",
    "         'Name': ['Bobby', 'Bhavnish', 'Bhavya', 'Bonny', 'Brett'],\n",
    "         'subject':['sub2','sub4','sub3','sub6','sub5'],\n",
    "         'Marks':[89,80,79,97,88]},\n",
    "         index=[1,2,3,4,5])"
   ]
  },
  {
   "cell_type": "code",
   "execution_count": 50,
   "metadata": {},
   "outputs": [
    {
     "name": "stdout",
     "output_type": "stream",
     "text": [
      "\n",
      "        Name subject  Marks\n",
      "1     Akash    sub1     98\n",
      "2  Abhishek    sub2     90\n",
      "3     Arpit    sub4     87\n",
      "4    aayush    sub6     69\n",
      "5     Ankit    sub5     78\n",
      "1     Bobby    sub2     89\n",
      "2  Bhavnish    sub4     80\n",
      "3    Bhavya    sub3     79\n",
      "4     Bonny    sub6     97\n",
      "5     Brett    sub5     88\n"
     ]
    }
   ],
   "source": [
    "print (\"\\n\",pd.concat([one,two]))"
   ]
  },
  {
   "cell_type": "code",
   "execution_count": 51,
   "metadata": {},
   "outputs": [
    {
     "name": "stdout",
     "output_type": "stream",
     "text": [
      "       Name subject  Marks\n",
      "1     Akash    sub1     98\n",
      "2  Abhishek    sub2     90\n",
      "3     Arpit    sub4     87\n",
      "4    aayush    sub6     69\n",
      "5     Ankit    sub5     78\n",
      "       Name subject  Marks\n",
      "1     Bobby    sub2     89\n",
      "2  Bhavnish    sub4     80\n",
      "3    Bhavya    sub3     79\n",
      "4     Bonny    sub6     97\n",
      "5     Brett    sub5     88\n"
     ]
    }
   ],
   "source": [
    "print(one)\n",
    "print(two)"
   ]
  },
  {
   "cell_type": "code",
   "execution_count": 53,
   "metadata": {},
   "outputs": [
    {
     "name": "stdout",
     "output_type": "stream",
     "text": [
      "\n",
      "        Name subject  Marks\n",
      "0     Akash    sub1     98\n",
      "1  Abhishek    sub2     90\n",
      "2     Arpit    sub4     87\n",
      "3    aayush    sub6     69\n",
      "4     Ankit    sub5     78\n",
      "5     Bobby    sub2     89\n",
      "6  Bhavnish    sub4     80\n",
      "7    Bhavya    sub3     79\n",
      "8     Bonny    sub6     97\n",
      "9     Brett    sub5     88\n"
     ]
    }
   ],
   "source": [
    "print (\"\\n\",pd.concat([one,two],ignore_index = True))"
   ]
  },
  {
   "cell_type": "code",
   "execution_count": 54,
   "metadata": {},
   "outputs": [
    {
     "name": "stdout",
     "output_type": "stream",
     "text": [
      "\n",
      "        Name subject  Marks      Name subject  Marks\n",
      "1     Akash    sub1     98     Bobby    sub2     89\n",
      "2  Abhishek    sub2     90  Bhavnish    sub4     80\n",
      "3     Arpit    sub4     87    Bhavya    sub3     79\n",
      "4    aayush    sub6     69     Bonny    sub6     97\n",
      "5     Ankit    sub5     78     Brett    sub5     88\n"
     ]
    }
   ],
   "source": [
    "print (\"\\n\",pd.concat([one,two],axis = 1))"
   ]
  },
  {
   "cell_type": "code",
   "execution_count": 55,
   "metadata": {},
   "outputs": [
    {
     "name": "stdout",
     "output_type": "stream",
     "text": [
      "       Name subject  Marks\n",
      "1     Akash    sub1     98\n",
      "2  Abhishek    sub2     90\n",
      "3     Arpit    sub4     87\n",
      "4    aayush    sub6     69\n",
      "5     Ankit    sub5     78\n",
      "1     Bobby    sub2     89\n",
      "2  Bhavnish    sub4     80\n",
      "3    Bhavya    sub3     79\n",
      "4     Bonny    sub6     97\n",
      "5     Brett    sub5     88\n"
     ]
    }
   ],
   "source": [
    "print( one.append(two))"
   ]
  },
  {
   "cell_type": "code",
   "execution_count": 59,
   "metadata": {},
   "outputs": [
    {
     "name": "stdout",
     "output_type": "stream",
     "text": [
      "       Name subject  Marks\n",
      "1     Akash    sub1     98\n",
      "2  Abhishek    sub2     90\n",
      "3     Arpit    sub4     87\n",
      "4    aayush    sub6     69\n",
      "5     Ankit    sub5     78\n",
      "1     Akash    sub1     98\n",
      "2  Abhishek    sub2     90\n",
      "3     Arpit    sub4     87\n",
      "4    aayush    sub6     69\n",
      "5     Ankit    sub5     78\n",
      "1     Bobby    sub2     89\n",
      "2  Bhavnish    sub4     80\n",
      "3    Bhavya    sub3     79\n",
      "4     Bonny    sub6     97\n",
      "5     Brett    sub5     88\n",
      "1     Akash    sub1     98\n",
      "2  Abhishek    sub2     90\n",
      "3     Arpit    sub4     87\n",
      "4    aayush    sub6     69\n",
      "5     Ankit    sub5     78\n"
     ]
    }
   ],
   "source": [
    "print(one.append([one,two,one]))"
   ]
  },
  {
   "cell_type": "code",
   "execution_count": 60,
   "metadata": {},
   "outputs": [
    {
     "name": "stdout",
     "output_type": "stream",
     "text": [
      "\n",
      "          Name subject  Marks\n",
      "x 1     Akash    sub1     98\n",
      "  2  Abhishek    sub2     90\n",
      "  3     Arpit    sub4     87\n",
      "  4    aayush    sub6     69\n",
      "  5     Ankit    sub5     78\n",
      "y 1     Bobby    sub2     89\n",
      "  2  Bhavnish    sub4     80\n",
      "  3    Bhavya    sub3     79\n",
      "  4     Bonny    sub6     97\n",
      "  5     Brett    sub5     88\n"
     ]
    }
   ],
   "source": [
    "print (\"\\n\",pd.concat([one,two],keys=['x','y']))"
   ]
  },
  {
   "cell_type": "code",
   "execution_count": null,
   "metadata": {},
   "outputs": [],
   "source": []
  }
 ],
 "metadata": {
  "kernelspec": {
   "display_name": "Python 3",
   "language": "python",
   "name": "python3"
  },
  "language_info": {
   "codemirror_mode": {
    "name": "ipython",
    "version": 3
   },
   "file_extension": ".py",
   "mimetype": "text/x-python",
   "name": "python",
   "nbconvert_exporter": "python",
   "pygments_lexer": "ipython3",
   "version": "3.6.8"
  }
 },
 "nbformat": 4,
 "nbformat_minor": 2
}
