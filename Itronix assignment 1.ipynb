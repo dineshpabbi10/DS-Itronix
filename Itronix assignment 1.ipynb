{
 "cells": [
  {
   "cell_type": "markdown",
   "metadata": {},
   "source": [
    "# Positive or Negative Number"
   ]
  },
  {
   "cell_type": "code",
   "execution_count": 1,
   "metadata": {},
   "outputs": [
    {
     "name": "stdout",
     "output_type": "stream",
     "text": [
      "Enter a number\n",
      "10\n",
      "The number is positive\n"
     ]
    }
   ],
   "source": [
    "i = int(input(\"Enter a number\\n\"))\n",
    "if(i>0):\n",
    "    print(\"The number is positive\")\n",
    "elif(i==0):\n",
    "    print(\"The number is neither positive nor negative\")\n",
    "else:\n",
    "    print(\"The number is negative\")\n"
   ]
  },
  {
   "cell_type": "markdown",
   "metadata": {},
   "source": [
    "# Greatest between two numbers"
   ]
  },
  {
   "cell_type": "code",
   "execution_count": 2,
   "metadata": {},
   "outputs": [
    {
     "name": "stdout",
     "output_type": "stream",
     "text": [
      "Enter the first number\n",
      "10\n",
      "Enter the second number\n",
      "20\n",
      "20 is the greatest number\n"
     ]
    }
   ],
   "source": [
    "a = int(input(\"Enter the first number\\n\"))\n",
    "b = int(input(\"Enter the second number\\n\"))\n",
    "\n",
    "if(a>b):\n",
    "    print(a,\" is the greatest number\")\n",
    "elif(b>a):\n",
    "    print(b, \"is the greatest number\")\n"
   ]
  },
  {
   "cell_type": "markdown",
   "metadata": {},
   "source": [
    "# Greatest Between Three Numbers"
   ]
  },
  {
   "cell_type": "code",
   "execution_count": 12,
   "metadata": {},
   "outputs": [
    {
     "name": "stdout",
     "output_type": "stream",
     "text": [
      "Enter three numbers\n",
      "1 2 3\n",
      "----------------------------------------------------\n",
      "3  is the greatest number\n"
     ]
    }
   ],
   "source": [
    "i,j,k = (int(x) for x in str(input(\"Enter three numbers\\n\")).split())\n",
    "\n",
    "print(\"----------------------------------------------------\")\n",
    "if (i>j and i>k):\n",
    "    print(i,\" is the greatest number\")\n",
    "elif(j>k):\n",
    "    print(j,\" is the greatest number\")\n",
    "else:\n",
    "    print(k,\" is the greatest number\")"
   ]
  },
  {
   "cell_type": "markdown",
   "metadata": {},
   "source": [
    "# Even and Odd with Arithematic"
   ]
  },
  {
   "cell_type": "code",
   "execution_count": 16,
   "metadata": {},
   "outputs": [
    {
     "name": "stdout",
     "output_type": "stream",
     "text": [
      "Enter a number\n",
      "23\n",
      "23  is an odd number\n"
     ]
    }
   ],
   "source": [
    "def evenodd():\n",
    "    i = int(input(\"Enter a number\\n\"))\n",
    "    if(i%2 == 0):\n",
    "        print(i,\" is an even number\")\n",
    "    else:\n",
    "        print(i,\" is an odd number\")\n",
    "        \n",
    "evenodd()"
   ]
  },
  {
   "cell_type": "markdown",
   "metadata": {},
   "source": [
    "# Even Odd without Arithematic Operator"
   ]
  },
  {
   "cell_type": "code",
   "execution_count": 19,
   "metadata": {},
   "outputs": [
    {
     "name": "stdout",
     "output_type": "stream",
     "text": [
      "Enter a Number\n",
      "22\n",
      "22  is an even number\n"
     ]
    }
   ],
   "source": [
    "def eo():\n",
    "    i = int(input(\"Enter a Number\\n\"))\n",
    "    if((i&1)==1):\n",
    "        print(i, \" is an odd number\")\n",
    "    else:\n",
    "        print(i, \" is an even number\")\n",
    "eo()"
   ]
  },
  {
   "cell_type": "markdown",
   "metadata": {},
   "source": [
    "# Even Odd check when number greater than 6"
   ]
  },
  {
   "cell_type": "code",
   "execution_count": 21,
   "metadata": {},
   "outputs": [
    {
     "name": "stdout",
     "output_type": "stream",
     "text": [
      "Enter a Number\n",
      "2\n",
      "Enter a number greater than 6 !\n"
     ]
    }
   ],
   "source": [
    "def eo():\n",
    "    i = int(input(\"Enter a Number\\n\"))\n",
    "    if(i > 6):\n",
    "        if((i&1)==1):\n",
    "            print(i, \" is an odd number\")\n",
    "        else:\n",
    "            print(i, \" is an even number\")\n",
    "    else:\n",
    "        print(\"Enter a number greater than 6 !\")\n",
    "eo()"
   ]
  },
  {
   "cell_type": "code",
   "execution_count": null,
   "metadata": {},
   "outputs": [],
   "source": []
  }
 ],
 "metadata": {
  "kernelspec": {
   "display_name": "Python 3",
   "language": "python",
   "name": "python3"
  },
  "language_info": {
   "codemirror_mode": {
    "name": "ipython",
    "version": 3
   },
   "file_extension": ".py",
   "mimetype": "text/x-python",
   "name": "python",
   "nbconvert_exporter": "python",
   "pygments_lexer": "ipython3",
   "version": "3.6.8"
  }
 },
 "nbformat": 4,
 "nbformat_minor": 2
}
