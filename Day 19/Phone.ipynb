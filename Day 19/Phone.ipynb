{
 "cells": [
  {
   "cell_type": "code",
   "execution_count": 5,
   "metadata": {},
   "outputs": [
    {
     "name": "stdout",
     "output_type": "stream",
     "text": [
      "[['0' '15/10/14 06:58' '34.429' ... '2014-11' 'data' 'data']\n",
      " ['1' '15/10/14 06:58' '13' ... '2014-11' 'Vodafone' 'mobile']\n",
      " ['2' '15/10/14 14:46' '23' ... '2014-11' 'Meteor' 'mobile']\n",
      " ...\n",
      " ['827' '13/03/15 06:58' '34.429' ... '2015-03' 'data' 'data']\n",
      " ['828' '14/03/15 00:13' '1' ... '2015-03' 'world' 'world']\n",
      " ['829' '14/03/15 00:16' '1' ... '2015-03' 'world' 'world']]\n"
     ]
    }
   ],
   "source": [
    "import numpy as np\n",
    "a = np.genfromtxt('phone_data.csv', delimiter=',', dtype=str)\n",
    "data=a[1:,:] # Remove the first row\n",
    "print(data)"
   ]
  },
  {
   "cell_type": "code",
   "execution_count": 10,
   "metadata": {},
   "outputs": [
    {
     "name": "stdout",
     "output_type": "stream",
     "text": [
      "Longest phone call / data entry? 10528.0\n"
     ]
    }
   ],
   "source": [
    "#What was the longest phone call / data entry?\n",
    "print (\"Longest phone call / data entry?\",max(np.array(data[...,2],dtype=float)))"
   ]
  },
  {
   "cell_type": "code",
   "execution_count": 22,
   "metadata": {},
   "outputs": [
    {
     "data": {
      "text/plain": [
       "92321.0"
      ]
     },
     "execution_count": 22,
     "metadata": {},
     "output_type": "execute_result"
    }
   ],
   "source": [
    "#How many seconds of phone calls are recorded in total?\n",
    "a=data[np.where(data[...,3]==\"call\")]\n",
    "sum(np.array(a[...,2],dtype=float))\n",
    "\n"
   ]
  },
  {
   "cell_type": "code",
   "execution_count": 33,
   "metadata": {},
   "outputs": [
    {
     "name": "stdout",
     "output_type": "stream",
     "text": [
      "Counter({'2014-11': 230, '2015-01': 205, '2014-12': 157, '2015-02': 137, '2015-03': 101})\n"
     ]
    }
   ],
   "source": [
    "# How many entries are there for each month?\n",
    "import collections\n",
    "b=collections.Counter(data[...,4])\n",
    "print(b)\n"
   ]
  },
  {
   "cell_type": "code",
   "execution_count": 41,
   "metadata": {},
   "outputs": [
    {
     "name": "stdout",
     "output_type": "stream",
     "text": [
      "dict_values([230, 157, 205, 137, 101])\n",
      "['0' '15/10/14 06:58' '34.429' 'data' '2014-11' 'data' 'data']\n",
      "['230' '13/11/14 22:31' '1' 'sms' '2014-11' 'Vodafone' 'mobile']\n",
      "['387' '14/12/14 15:28' '59' 'call' '2014-12' 'voicemail' 'voicemail']\n",
      "['592' '14/01/15 23:35' '1' 'sms' '2015-01' 'Three' 'mobile']\n",
      "['729' '12/02/15 20:15' '69' 'call' '2015-03' 'landline' 'landline']\n"
     ]
    }
   ],
   "source": [
    "# Get the first entry for each month\n",
    "#Works only if the data was sort.\n",
    "c=dict(b)\n",
    "print(c.values())\n",
    "count=0\n",
    "for i in c.values():\n",
    "    print(data[count])\n",
    "    count=count+i"
   ]
  },
  {
   "cell_type": "code",
   "execution_count": 21,
   "metadata": {},
   "outputs": [
    {
     "name": "stdout",
     "output_type": "stream",
     "text": [
      "2014-11 : 25547.0\n",
      "2014-12 : 13561.0\n",
      "2015-01 : 17070.0\n",
      "2015-02 : 14416.0\n",
      "2015-03 : 21727.0\n",
      "2014-11 : 25547.0\n",
      "2014-12 : 13561.0\n",
      "2015-01 : 17070.0\n",
      "2015-02 : 14416.0\n",
      "2015-03 : 21727.0\n"
     ]
    }
   ],
   "source": [
    "# Get the sum of the durations per month\n",
    "for i in np.unique(data[...,4]):\n",
    "    print(i,\":\",sum(np.array(data[np.where((data[...,3]==\"call\") & (data[...,4]==i))][...,2],dtype=float)))\n",
    "\n",
    "for i in np.unique(data[...,4]):    \n",
    "    a=data[np.where((data[...,3]==\"call\") & (data[...,4]==i))]\n",
    "    print(i,\":\",sum(np.array(a[...,2],dtype=float)))"
   ]
  },
  {
   "cell_type": "code",
   "execution_count": 61,
   "metadata": {},
   "outputs": [
    {
     "name": "stdout",
     "output_type": "stream",
     "text": [
      "Meteor : 7200.0\n",
      "Tesco : 13828.0\n",
      "Three : 36464.0\n",
      "Vodafone : 14621.0\n",
      "data : 0\n",
      "landline : 18433.0\n",
      "special : 0\n",
      "voicemail : 1775.0\n",
      "world : 0\n"
     ]
    }
   ],
   "source": [
    "# What is the sum of durations, for calls only, to each network\n",
    "for i in np.unique(data[...,5]):\n",
    "    print(i,\":\",sum(np.array(data[np.where((data[...,3]==\"call\") & (data[...,5]==i))][...,2],dtype=float)))"
   ]
  },
  {
   "cell_type": "code",
   "execution_count": 27,
   "metadata": {},
   "outputs": [
    {
     "name": "stdout",
     "output_type": "stream",
     "text": [
      "call : 2014-11 - 25547.0\n",
      "call : 2014-12 - 13561.0\n",
      "call : 2015-01 - 17070.0\n",
      "call : 2015-02 - 14416.0\n",
      "call : 2015-03 - 21727.0\n",
      "data : 2014-11 - 998.4409999999995\n",
      "data : 2014-12 - 1032.8699999999994\n",
      "data : 2015-01 - 1067.2989999999995\n",
      "data : 2015-02 - 1067.2989999999995\n",
      "data : 2015-03 - 998.4409999999995\n",
      "sms : 2014-11 - 94.0\n",
      "sms : 2014-12 - 48.0\n",
      "sms : 2015-01 - 86.0\n",
      "sms : 2015-02 - 39.0\n",
      "sms : 2015-03 - 25.0\n"
     ]
    }
   ],
   "source": [
    "# How many calls, sms, and data entries are in each month?\n",
    "#for i in np.unique(data[...,3]):\n",
    "#    for j in np.unique(data[...,4]):\n",
    "#            print(i,\"on\",j,\":\",sum(np.array(data[np.where((data[...,3]==i) & (data[...,4]==j))][...,2],dtype=float)))\n",
    "            \n",
    "for i in np.unique(data[...,3]):      \n",
    "    for j in np.unique(data[...,4]):\n",
    "        a=data[np.where((data[...,3]==i) & (data[...,4]==j))]\n",
    "        print(i,\":\",j,\"-\",sum(np.array(a[...,2],dtype=float)))"
   ]
  },
  {
   "cell_type": "code",
   "execution_count": 72,
   "metadata": {},
   "outputs": [
    {
     "name": "stdout",
     "output_type": "stream",
     "text": [
      "call on 2014-11 to Meteor : 1521.0\n",
      "call on 2014-11 to Tesco : 4045.0\n",
      "call on 2014-11 to Three : 12458.0\n",
      "call on 2014-11 to Vodafone : 4316.0\n",
      "call on 2014-11 to data : 0\n",
      "call on 2014-11 to landline : 2906.0\n",
      "call on 2014-11 to special : 0\n",
      "call on 2014-11 to voicemail : 301.0\n",
      "call on 2014-11 to world : 0\n",
      "call on 2014-12 to Meteor : 2010.0\n",
      "call on 2014-12 to Tesco : 1819.0\n",
      "call on 2014-12 to Three : 6316.0\n",
      "call on 2014-12 to Vodafone : 1302.0\n",
      "call on 2014-12 to data : 0\n",
      "call on 2014-12 to landline : 1424.0\n",
      "call on 2014-12 to special : 0\n",
      "call on 2014-12 to voicemail : 690.0\n",
      "call on 2014-12 to world : 0\n",
      "call on 2015-01 to Meteor : 2207.0\n",
      "call on 2015-01 to Tesco : 2904.0\n",
      "call on 2015-01 to Three : 6445.0\n",
      "call on 2015-01 to Vodafone : 3626.0\n",
      "call on 2015-01 to data : 0\n",
      "call on 2015-01 to landline : 1603.0\n",
      "call on 2015-01 to special : 0\n",
      "call on 2015-01 to voicemail : 285.0\n",
      "call on 2015-01 to world : 0\n",
      "call on 2015-02 to Meteor : 1188.0\n",
      "call on 2015-02 to Tesco : 4087.0\n",
      "call on 2015-02 to Three : 6279.0\n",
      "call on 2015-02 to Vodafone : 1864.0\n",
      "call on 2015-02 to data : 0\n",
      "call on 2015-02 to landline : 730.0\n",
      "call on 2015-02 to special : 0\n",
      "call on 2015-02 to voicemail : 268.0\n",
      "call on 2015-02 to world : 0\n",
      "call on 2015-03 to Meteor : 274.0\n",
      "call on 2015-03 to Tesco : 973.0\n",
      "call on 2015-03 to Three : 4966.0\n",
      "call on 2015-03 to Vodafone : 3513.0\n",
      "call on 2015-03 to data : 0\n",
      "call on 2015-03 to landline : 11770.0\n",
      "call on 2015-03 to special : 0\n",
      "call on 2015-03 to voicemail : 231.0\n",
      "call on 2015-03 to world : 0\n",
      "data on 2014-11 to Meteor : 0\n",
      "data on 2014-11 to Tesco : 0\n",
      "data on 2014-11 to Three : 0\n",
      "data on 2014-11 to Vodafone : 0\n",
      "data on 2014-11 to data : 998.4409999999995\n",
      "data on 2014-11 to landline : 0\n",
      "data on 2014-11 to special : 0\n",
      "data on 2014-11 to voicemail : 0\n",
      "data on 2014-11 to world : 0\n",
      "data on 2014-12 to Meteor : 0\n",
      "data on 2014-12 to Tesco : 0\n",
      "data on 2014-12 to Three : 0\n",
      "data on 2014-12 to Vodafone : 0\n",
      "data on 2014-12 to data : 1032.8699999999994\n",
      "data on 2014-12 to landline : 0\n",
      "data on 2014-12 to special : 0\n",
      "data on 2014-12 to voicemail : 0\n",
      "data on 2014-12 to world : 0\n",
      "data on 2015-01 to Meteor : 0\n",
      "data on 2015-01 to Tesco : 0\n",
      "data on 2015-01 to Three : 0\n",
      "data on 2015-01 to Vodafone : 0\n",
      "data on 2015-01 to data : 1067.2989999999995\n",
      "data on 2015-01 to landline : 0\n",
      "data on 2015-01 to special : 0\n",
      "data on 2015-01 to voicemail : 0\n",
      "data on 2015-01 to world : 0\n",
      "data on 2015-02 to Meteor : 0\n",
      "data on 2015-02 to Tesco : 0\n",
      "data on 2015-02 to Three : 0\n",
      "data on 2015-02 to Vodafone : 0\n",
      "data on 2015-02 to data : 1067.2989999999995\n",
      "data on 2015-02 to landline : 0\n",
      "data on 2015-02 to special : 0\n",
      "data on 2015-02 to voicemail : 0\n",
      "data on 2015-02 to world : 0\n",
      "data on 2015-03 to Meteor : 0\n",
      "data on 2015-03 to Tesco : 0\n",
      "data on 2015-03 to Three : 0\n",
      "data on 2015-03 to Vodafone : 0\n",
      "data on 2015-03 to data : 998.4409999999995\n",
      "data on 2015-03 to landline : 0\n",
      "data on 2015-03 to special : 0\n",
      "data on 2015-03 to voicemail : 0\n",
      "data on 2015-03 to world : 0\n",
      "sms on 2014-11 to Meteor : 10.0\n",
      "sms on 2014-11 to Tesco : 3.0\n",
      "sms on 2014-11 to Three : 25.0\n",
      "sms on 2014-11 to Vodafone : 55.0\n",
      "sms on 2014-11 to data : 0\n",
      "sms on 2014-11 to landline : 0\n",
      "sms on 2014-11 to special : 1.0\n",
      "sms on 2014-11 to voicemail : 0\n",
      "sms on 2014-11 to world : 0\n",
      "sms on 2014-12 to Meteor : 12.0\n",
      "sms on 2014-12 to Tesco : 1.0\n",
      "sms on 2014-12 to Three : 13.0\n",
      "sms on 2014-12 to Vodafone : 18.0\n",
      "sms on 2014-12 to data : 0\n",
      "sms on 2014-12 to landline : 0\n",
      "sms on 2014-12 to special : 0\n",
      "sms on 2014-12 to voicemail : 0\n",
      "sms on 2014-12 to world : 4.0\n",
      "sms on 2015-01 to Meteor : 10.0\n",
      "sms on 2015-01 to Tesco : 3.0\n",
      "sms on 2015-01 to Three : 33.0\n",
      "sms on 2015-01 to Vodafone : 40.0\n",
      "sms on 2015-01 to data : 0\n",
      "sms on 2015-01 to landline : 0\n",
      "sms on 2015-01 to special : 0\n",
      "sms on 2015-01 to voicemail : 0\n",
      "sms on 2015-01 to world : 0\n",
      "sms on 2015-02 to Meteor : 1.0\n",
      "sms on 2015-02 to Tesco : 2.0\n",
      "sms on 2015-02 to Three : 11.0\n",
      "sms on 2015-02 to Vodafone : 23.0\n",
      "sms on 2015-02 to data : 0\n",
      "sms on 2015-02 to landline : 0\n",
      "sms on 2015-02 to special : 2.0\n",
      "sms on 2015-02 to voicemail : 0\n",
      "sms on 2015-02 to world : 0\n",
      "sms on 2015-03 to Meteor : 0\n",
      "sms on 2015-03 to Tesco : 4.0\n",
      "sms on 2015-03 to Three : 5.0\n",
      "sms on 2015-03 to Vodafone : 13.0\n",
      "sms on 2015-03 to data : 0\n",
      "sms on 2015-03 to landline : 0\n",
      "sms on 2015-03 to special : 0\n",
      "sms on 2015-03 to voicemail : 0\n",
      "sms on 2015-03 to world : 3.0\n"
     ]
    }
   ],
   "source": [
    "# How many calls, texts, and data are sent per month, split by network?\n",
    "for i in np.unique(data[...,3]):\n",
    "    for j in np.unique(data[...,4]):\n",
    "        for k in np.unique(data[...,5]):\n",
    "            print(i,\"on\",j,\"to\",k,\":\",sum(np.array(data[np.where((data[...,3]==i) & (data[...,4]==j) & (data[...,5]==k))][...,2],dtype=float)))"
   ]
  },
  {
   "cell_type": "code",
   "execution_count": null,
   "metadata": {},
   "outputs": [],
   "source": []
  }
 ],
 "metadata": {
  "kernelspec": {
   "display_name": "Python 3",
   "language": "python",
   "name": "python3"
  },
  "language_info": {
   "codemirror_mode": {
    "name": "ipython",
    "version": 3
   },
   "file_extension": ".py",
   "mimetype": "text/x-python",
   "name": "python",
   "nbconvert_exporter": "python",
   "pygments_lexer": "ipython3",
   "version": "3.6.8"
  }
 },
 "nbformat": 4,
 "nbformat_minor": 2
}
