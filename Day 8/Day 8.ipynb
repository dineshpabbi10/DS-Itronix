{
 "cells": [
  {
   "cell_type": "markdown",
   "metadata": {},
   "source": [
    "## Day 8 GUI ( place() )"
   ]
  },
  {
   "cell_type": "code",
   "execution_count": 1,
   "metadata": {},
   "outputs": [],
   "source": [
    "def student(age,name,roll):\n",
    "    print(age,\" \",name,\" \",roll)"
   ]
  },
  {
   "cell_type": "code",
   "execution_count": 2,
   "metadata": {},
   "outputs": [
    {
     "name": "stdout",
     "output_type": "stream",
     "text": [
      "Dinesh   22   53\n"
     ]
    }
   ],
   "source": [
    "student(\"Dinesh\",22,53)"
   ]
  },
  {
   "cell_type": "code",
   "execution_count": 3,
   "metadata": {},
   "outputs": [],
   "source": [
    "def student(*args):\n",
    "    for i in args:\n",
    "        print(i)"
   ]
  },
  {
   "cell_type": "code",
   "execution_count": 5,
   "metadata": {},
   "outputs": [
    {
     "name": "stdout",
     "output_type": "stream",
     "text": [
      "Dinesh\n",
      "Pabbi\n",
      "22\n",
      "53\n",
      "9.2 CGPA\n"
     ]
    }
   ],
   "source": [
    "student(\"Dinesh\",\"Pabbi\",22,53,\"9.2 CGPA\")"
   ]
  },
  {
   "cell_type": "code",
   "execution_count": 9,
   "metadata": {},
   "outputs": [],
   "source": [
    "def student2(**Kwargs):\n",
    "    key = Kwargs.keys()\n",
    "    for i in key:\n",
    "        print(i,\" : \",Kwargs[i])"
   ]
  },
  {
   "cell_type": "code",
   "execution_count": 13,
   "metadata": {},
   "outputs": [
    {
     "name": "stdout",
     "output_type": "stream",
     "text": [
      "Name  :  Dinesh\n",
      "LastName  :  Pabbi\n",
      "Age  :  22\n",
      "Roll  :  53\n"
     ]
    }
   ],
   "source": [
    "student2(Name=\"Dinesh\",LastName=\"Pabbi\",Age=22,Roll =53)\n",
    "st = {\"Name\":\"Dinesh\",\"LastName\":\"Pabbi\",\"Age\":22,\"Roll\":53}\n",
    "st2 = [1,2,3,4,5]"
   ]
  },
  {
   "cell_type": "code",
   "execution_count": 14,
   "metadata": {},
   "outputs": [],
   "source": [
    "def master(normal,*args,**kwargs):\n",
    "    print(normal)\n",
    "    for i in args:\n",
    "        print(i)\n",
    "    for key,value in kwargs.items():\n",
    "        print(key,value)"
   ]
  },
  {
   "cell_type": "code",
   "execution_count": 15,
   "metadata": {},
   "outputs": [
    {
     "name": "stdout",
     "output_type": "stream",
     "text": [
      "hello\n",
      "1\n",
      "2\n",
      "3\n",
      "4\n",
      "5\n",
      "Name Dinesh\n",
      "LastName Pabbi\n",
      "Age 22\n",
      "Roll 53\n"
     ]
    }
   ],
   "source": [
    "master(\"hello\",*st2,**st)"
   ]
  },
  {
   "cell_type": "markdown",
   "metadata": {},
   "source": [
    "## TKINTER"
   ]
  },
  {
   "cell_type": "code",
   "execution_count": 27,
   "metadata": {},
   "outputs": [],
   "source": [
    "from tkinter import *\n",
    "import webbrowser"
   ]
  },
  {
   "cell_type": "code",
   "execution_count": 34,
   "metadata": {},
   "outputs": [],
   "source": [
    "a = Tk()\n",
    "a.geometry(\"500x500+0+0\")\n",
    "a.title(\"Hello World\")\n",
    "CheckVar1 = IntVar()\n",
    "CheckVar2 = IntVar()\n",
    "def sel():\n",
    "    i = C3.get()\n",
    "    s = \"You have selected the option: \"+str(i)\n",
    "    label.config(text=s)\n",
    "def check1():\n",
    "    a = CheckVar1.get()\n",
    "    if a==1:\n",
    "        webbrowser.open(\"news.google.com\")\n",
    "    else:\n",
    "        print(\"Music Off\")\n",
    "def check2():\n",
    "    a = CheckVar2.get()\n",
    "    if a ==1:\n",
    "        webbrowser.open(\"news.yahoo.com\")\n",
    "    else:\n",
    "        print(\"Video Off\")\n",
    "# C3 = IntVar()    \n",
    "C1 =  Checkbutton(a,text = \"Music\",variable = CheckVar1,onvalue = 1,offvalue=0,command=check1)\n",
    "C2 =  Checkbutton(a,text = \"Video\",variable = CheckVar2,onvalue = 1,offvalue=0,command=check2)\n",
    "# R1 = Radiobutton(a,text=\"Music\",variable=C3,value = 1,command = sel)\n",
    "# R2 = Radiobutton(a,text=\"Video\",variable=C3,value = 2,command = sel)\n",
    "# R3 = Radiobutton(a,text=\"Image\",variable=C3,value = 3,command = sel)\n",
    "# label = Label(a,text=\"Select an option\")\n",
    "# label.pack()\n",
    "# R1.pack()\n",
    "# R2.pack()\n",
    "# R3.pack()\n",
    "C1.pack()\n",
    "C2.pack()\n",
    "a.mainloop()"
   ]
  },
  {
   "cell_type": "markdown",
   "metadata": {},
   "source": [
    "# RadioButton\n"
   ]
  },
  {
   "cell_type": "code",
   "execution_count": 57,
   "metadata": {},
   "outputs": [
    {
     "ename": "TclError",
     "evalue": "image \"pyimage20\" doesn't exist",
     "output_type": "error",
     "traceback": [
      "\u001b[1;31m---------------------------------------------------------------------------\u001b[0m",
      "\u001b[1;31mTclError\u001b[0m                                  Traceback (most recent call last)",
      "\u001b[1;32m<ipython-input-57-064cec5c349e>\u001b[0m in \u001b[0;36m<module>\u001b[1;34m\u001b[0m\n\u001b[0;32m      2\u001b[0m \u001b[0ma\u001b[0m\u001b[1;33m.\u001b[0m\u001b[0mgeometry\u001b[0m\u001b[1;33m(\u001b[0m\u001b[1;34m\"500x500+0+0\"\u001b[0m\u001b[1;33m)\u001b[0m\u001b[1;33m\u001b[0m\u001b[1;33m\u001b[0m\u001b[0m\n\u001b[0;32m      3\u001b[0m \u001b[0mfilename\u001b[0m \u001b[1;33m=\u001b[0m \u001b[0mPhotoImage\u001b[0m\u001b[1;33m(\u001b[0m\u001b[0mfile\u001b[0m \u001b[1;33m=\u001b[0m \u001b[1;34m\"C:\\\\Users\\\\dell\\\\Itronix\\\\12.png\"\u001b[0m\u001b[1;33m)\u001b[0m\u001b[1;33m\u001b[0m\u001b[1;33m\u001b[0m\u001b[0m\n\u001b[1;32m----> 4\u001b[1;33m \u001b[0mbackground_label\u001b[0m \u001b[1;33m=\u001b[0m \u001b[0mLabel\u001b[0m\u001b[1;33m(\u001b[0m\u001b[0ma\u001b[0m\u001b[1;33m,\u001b[0m \u001b[0mimage\u001b[0m\u001b[1;33m=\u001b[0m\u001b[0mfilename\u001b[0m\u001b[1;33m)\u001b[0m\u001b[1;33m\u001b[0m\u001b[1;33m\u001b[0m\u001b[0m\n\u001b[0m\u001b[0;32m      5\u001b[0m \u001b[0mbackground_label\u001b[0m\u001b[1;33m.\u001b[0m\u001b[0mplace\u001b[0m\u001b[1;33m(\u001b[0m\u001b[0mx\u001b[0m\u001b[1;33m=\u001b[0m\u001b[1;36m0\u001b[0m\u001b[1;33m,\u001b[0m \u001b[0my\u001b[0m\u001b[1;33m=\u001b[0m\u001b[1;36m0\u001b[0m\u001b[1;33m,\u001b[0m \u001b[0mrelwidth\u001b[0m\u001b[1;33m=\u001b[0m\u001b[1;36m1\u001b[0m\u001b[1;33m,\u001b[0m \u001b[0mrelheight\u001b[0m\u001b[1;33m=\u001b[0m\u001b[1;36m1\u001b[0m\u001b[1;33m)\u001b[0m\u001b[1;33m\u001b[0m\u001b[1;33m\u001b[0m\u001b[0m\n\u001b[0;32m      6\u001b[0m \u001b[0mbackground_label\u001b[0m\u001b[1;33m.\u001b[0m\u001b[0mpack\u001b[0m\u001b[1;33m(\u001b[0m\u001b[1;33m)\u001b[0m\u001b[1;33m\u001b[0m\u001b[1;33m\u001b[0m\u001b[0m\n",
      "\u001b[1;32mc:\\users\\dell\\appdata\\local\\programs\\python\\python36\\lib\\tkinter\\__init__.py\u001b[0m in \u001b[0;36m__init__\u001b[1;34m(self, master, cnf, **kw)\u001b[0m\n\u001b[0;32m   2764\u001b[0m \u001b[1;33m\u001b[0m\u001b[0m\n\u001b[0;32m   2765\u001b[0m         \"\"\"\n\u001b[1;32m-> 2766\u001b[1;33m         \u001b[0mWidget\u001b[0m\u001b[1;33m.\u001b[0m\u001b[0m__init__\u001b[0m\u001b[1;33m(\u001b[0m\u001b[0mself\u001b[0m\u001b[1;33m,\u001b[0m \u001b[0mmaster\u001b[0m\u001b[1;33m,\u001b[0m \u001b[1;34m'label'\u001b[0m\u001b[1;33m,\u001b[0m \u001b[0mcnf\u001b[0m\u001b[1;33m,\u001b[0m \u001b[0mkw\u001b[0m\u001b[1;33m)\u001b[0m\u001b[1;33m\u001b[0m\u001b[1;33m\u001b[0m\u001b[0m\n\u001b[0m\u001b[0;32m   2767\u001b[0m \u001b[1;33m\u001b[0m\u001b[0m\n\u001b[0;32m   2768\u001b[0m \u001b[1;32mclass\u001b[0m \u001b[0mListbox\u001b[0m\u001b[1;33m(\u001b[0m\u001b[0mWidget\u001b[0m\u001b[1;33m,\u001b[0m \u001b[0mXView\u001b[0m\u001b[1;33m,\u001b[0m \u001b[0mYView\u001b[0m\u001b[1;33m)\u001b[0m\u001b[1;33m:\u001b[0m\u001b[1;33m\u001b[0m\u001b[1;33m\u001b[0m\u001b[0m\n",
      "\u001b[1;32mc:\\users\\dell\\appdata\\local\\programs\\python\\python36\\lib\\tkinter\\__init__.py\u001b[0m in \u001b[0;36m__init__\u001b[1;34m(self, master, widgetName, cnf, kw, extra)\u001b[0m\n\u001b[0;32m   2297\u001b[0m             \u001b[1;32mdel\u001b[0m \u001b[0mcnf\u001b[0m\u001b[1;33m[\u001b[0m\u001b[0mk\u001b[0m\u001b[1;33m]\u001b[0m\u001b[1;33m\u001b[0m\u001b[1;33m\u001b[0m\u001b[0m\n\u001b[0;32m   2298\u001b[0m         self.tk.call(\n\u001b[1;32m-> 2299\u001b[1;33m             (widgetName, self._w) + extra + self._options(cnf))\n\u001b[0m\u001b[0;32m   2300\u001b[0m         \u001b[1;32mfor\u001b[0m \u001b[0mk\u001b[0m\u001b[1;33m,\u001b[0m \u001b[0mv\u001b[0m \u001b[1;32min\u001b[0m \u001b[0mclasses\u001b[0m\u001b[1;33m:\u001b[0m\u001b[1;33m\u001b[0m\u001b[1;33m\u001b[0m\u001b[0m\n\u001b[0;32m   2301\u001b[0m             \u001b[0mk\u001b[0m\u001b[1;33m.\u001b[0m\u001b[0mconfigure\u001b[0m\u001b[1;33m(\u001b[0m\u001b[0mself\u001b[0m\u001b[1;33m,\u001b[0m \u001b[0mv\u001b[0m\u001b[1;33m)\u001b[0m\u001b[1;33m\u001b[0m\u001b[1;33m\u001b[0m\u001b[0m\n",
      "\u001b[1;31mTclError\u001b[0m: image \"pyimage20\" doesn't exist"
     ]
    }
   ],
   "source": [
    "a = Tk()\n",
    "a.geometry(\"500x500+0+0\")\n",
    "filename = PhotoImage(file = \"C:\\\\Users\\\\dell\\\\Itronix\\\\12.png\")\n",
    "background_label = Label(a, image=filename)\n",
    "background_label.place(x=0, y=0, relwidth=1, relheight=1)\n",
    "background_label.pack()\n",
    "a.title(\"Hello World\")\n",
    "CheckVar1 = IntVar()\n",
    "CheckVar2 = IntVar()\n",
    "def sel():\n",
    "    i = C3.get()\n",
    "    s = \"You have selected the option: \"+str(i)\n",
    "    label.config(text=s)\n",
    "def check1():\n",
    "    a = CheckVar1.get()\n",
    "    if a==1:\n",
    "        webbrowser.open(\"news.google.com\")\n",
    "    else:\n",
    "        print(\"Music Off\")\n",
    "def check2():\n",
    "    a = CheckVar2.get()\n",
    "    if a ==1:\n",
    "        webbrowser.open(\"news.yahoo.com\")\n",
    "    else:\n",
    "        print(\"Video Off\")\n",
    "C3 = IntVar()    \n",
    "# C1 =  Checkbutton(a,text = \"Music\",variable = CheckVar1,onvalue = 1,offvalue=0,command=check1)\n",
    "# C2 =  Checkbutton(a,text = \"Video\",variable = CheckVar2,onvalue = 1,offvalue=0,command=check2)\n",
    "R1 = Radiobutton(a,text=\"Music\",variable=C3,value = 1,command = sel)\n",
    "R2 = Radiobutton(a,text=\"Video\",variable=C3,value = 2,command = sel)\n",
    "R3 = Radiobutton(a,text=\"Image\",variable=C3,value = 3,command = sel)\n",
    "label = Label(a,text=\"Select an option\")\n",
    "label.pack()\n",
    "R1.pack()\n",
    "R2.pack()\n",
    "R3.pack()\n",
    "\n",
    "# C1.pack()\n",
    "# C2.pack()\n",
    "a.mainloop()"
   ]
  },
  {
   "cell_type": "code",
   "execution_count": 59,
   "metadata": {},
   "outputs": [],
   "source": [
    "from tkinter import *\n",
    "from tkinter import messagebox\n",
    "top = Toplevel()\n",
    "filename = PhotoImage(file = \"C:\\\\Users\\\\dell\\\\Itronix\\\\12.png\")\n",
    "background_label = Label(top, image=filename)\n",
    "background_label.place(x=0, y=0, relwidth=1, relheight=1)\n",
    "background_label.pack()\n",
    "top.mainloop()"
   ]
  },
  {
   "cell_type": "code",
   "execution_count": null,
   "metadata": {},
   "outputs": [],
   "source": []
  }
 ],
 "metadata": {
  "kernelspec": {
   "display_name": "Python 3",
   "language": "python",
   "name": "python3"
  },
  "language_info": {
   "codemirror_mode": {
    "name": "ipython",
    "version": 3
   },
   "file_extension": ".py",
   "mimetype": "text/x-python",
   "name": "python",
   "nbconvert_exporter": "python",
   "pygments_lexer": "ipython3",
   "version": "3.6.8"
  }
 },
 "nbformat": 4,
 "nbformat_minor": 2
}
