{
 "cells": [
  {
   "cell_type": "code",
   "execution_count": 33,
   "metadata": {},
   "outputs": [],
   "source": [
    "from tkinter import *\n",
    "import MySQLdb\n",
    "import time\n",
    "from tkinter import messagebox"
   ]
  },
  {
   "cell_type": "code",
   "execution_count": 83,
   "metadata": {},
   "outputs": [],
   "source": [
    "root = Tk()\n",
    "root.title(\"Assignment Day 8\")\n",
    "root.geometry(\"270x180+600+350\")\n",
    "root.config(bg=\"palegreen\")\n",
    "root.resizable(False,False)\n",
    "### Function to be called when submit is clicked\n",
    "def check():\n",
    "    global root\n",
    "    user = c1.get()\n",
    "    passwd = c2.get()\n",
    "    db = MySQLdb.connect(host=\"localhost\",user = \"root\",passwd=\"\",db=\"pratice\")\n",
    "    cursor = db.cursor()\n",
    "    cursor.execute(\"SELECT * FROM ASSIGNMENT WHERE email = %s and password = %s\",(user,passwd))\n",
    "    x = cursor.fetchall()\n",
    "    if len(x)==0:\n",
    "        label3.config(text=\"Invalid Details\")\n",
    "    else:\n",
    "        messagebox.showinfo(\"Alert!\", \"Access Granted !\")\n",
    "        root.destroy()\n",
    "        wel = Tk()\n",
    "        wel.resizable(False,False)\n",
    "        wel.config(bg=\"palegreen\")\n",
    "        wel.geometry(\"270x180+600+350\")\n",
    "        wel.title(\"Data Access\")\n",
    "        s = \"Welcome to Portal\\n\"+user+\"\\n\"\n",
    "        label = Label(wel,text=s,bg=\"palegreen\")\n",
    "        label.config(font=(\"System\",16))\n",
    "        label.grid(row=0,pady=50,padx=30)\n",
    "        wel.mainloop()\n",
    "        \n",
    "        \n",
    "        \n",
    "        \n",
    "\n",
    "## Components of Application\n",
    "\n",
    "label1 = Label(root,text = \"Email:\",bg=\"palegreen\")\n",
    "label2 = Label(root,text = \"Password\",bg=\"palegreen\")\n",
    "label3 = Label(root,text= \"Please enter your details\",bg=\"palegreen\")\n",
    "label3.config(font=(\"Fixedsys\",10))\n",
    "c1 = StringVar()\n",
    "c2 = StringVar()\n",
    "e1 = Entry(root,textvariable = c1)\n",
    "e2 = Entry(root,textvariable = c2,show=\"*\",)\n",
    "b1 = Button(root,text = \"Submit\",command = check,bg=\"#bcf4fc\")\n",
    "\n",
    "label1.grid(row=1,padx=20)\n",
    "label2.grid(row=2,padx=20)\n",
    "e1.grid(row=1,column=1,columnspan =2,padx=(20,0),pady=10)\n",
    "e2.grid(row=2,column=1,columnspan=2,padx=(20,0),pady=10)\n",
    "b1.grid(row=3,column =1,pady=10)\n",
    "label3.grid(row=0,columnspan=3,pady=(10),padx =(30,0))\n",
    "root.mainloop()"
   ]
  },
  {
   "cell_type": "code",
   "execution_count": 5,
   "metadata": {},
   "outputs": [],
   "source": []
  }
 ],
 "metadata": {
  "kernelspec": {
   "display_name": "Python 3",
   "language": "python",
   "name": "python3"
  },
  "language_info": {
   "codemirror_mode": {
    "name": "ipython",
    "version": 3
   },
   "file_extension": ".py",
   "mimetype": "text/x-python",
   "name": "python",
   "nbconvert_exporter": "python",
   "pygments_lexer": "ipython3",
   "version": "3.6.8"
  }
 },
 "nbformat": 4,
 "nbformat_minor": 2
}
