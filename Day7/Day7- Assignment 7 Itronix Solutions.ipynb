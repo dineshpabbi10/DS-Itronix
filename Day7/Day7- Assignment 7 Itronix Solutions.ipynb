{
 "cells": [
  {
   "cell_type": "markdown",
   "metadata": {},
   "source": [
    "# Classes and Objects.."
   ]
  },
  {
   "cell_type": "code",
   "execution_count": 5,
   "metadata": {},
   "outputs": [
    {
     "name": "stdout",
     "output_type": "stream",
     "text": [
      "<class '__main__.Employee'>\n",
      "<__main__.Employee object at 0x7fea38310c18> <__main__.Employee object at 0x7fea38310be0>\n"
     ]
    }
   ],
   "source": [
    "class Employee:\n",
    "    pass # works similar to continue in other languages\n",
    "\n",
    "robin= Employee()\n",
    "rajat= Employee()\n",
    " \n",
    "print(Employee)\n",
    "print(robin,rajat)"
   ]
  },
  {
   "cell_type": "code",
   "execution_count": 8,
   "metadata": {},
   "outputs": [
    {
     "name": "stdout",
     "output_type": "stream",
     "text": [
      "Robin Mahajan\n"
     ]
    }
   ],
   "source": [
    "## Attributes of the object\n",
    "robin.fname=\"Robin\"\n",
    "robin.lname=\"Mahajan\"\n",
    "robin.age=\"21\"\n",
    "\n",
    "print(robin.fname, robin.lname)"
   ]
  },
  {
   "cell_type": "code",
   "execution_count": 12,
   "metadata": {},
   "outputs": [
    {
     "name": "stdout",
     "output_type": "stream",
     "text": [
      "Robin Mahajan 21\n"
     ]
    }
   ],
   "source": [
    "#Optimze Classs\n",
    "\n",
    "class Employeeee:                         ## __init__() is default constructor\n",
    "    def __init__(self,fname,lname,age): ## Work as Default Constructor\n",
    "        self.fname=fname                ## Self keyword work as this operator\n",
    "        self.lname=lname\n",
    "        self.age=age\n",
    "robin=Employeeee(\"Robin\",\"Mahajan\",\"21\")\n",
    "rajat=Employeeee(\"Rajat\",\"Kumar\",\"22\")\n",
    "\n",
    "print(robin.fname,robin.lname,robin.age)"
   ]
  },
  {
   "cell_type": "code",
   "execution_count": 17,
   "metadata": {},
   "outputs": [
    {
     "name": "stdout",
     "output_type": "stream",
     "text": [
      "Robin Mahajan 21\n",
      "None\n"
     ]
    }
   ],
   "source": [
    "class Employeeee:       \n",
    "    increment=1.5                       ## __init__() is default constructor\n",
    "    def __init__(self,fname,lname,age,salary): ## Work as Default Constructor\n",
    "        self.fname=fname                ## Self keyword work as this operator\n",
    "        self.lname=lname\n",
    "        self.age=age\n",
    "        self.salary=salary\n",
    "    def increase(self):\n",
    "        pass\n",
    "robin=Employeeee(\"Robin\",\"Mahajan\",\"21\",1234)\n",
    "rajat=Employeeee(\"Rajat\",\"Kumar\",\"22\",1234)\n",
    "\n",
    "print(robin.fname,robin.lname,robin.age)\n",
    "print(robin.increase())\n"
   ]
  },
  {
   "cell_type": "code",
   "execution_count": 23,
   "metadata": {},
   "outputs": [
    {
     "name": "stdout",
     "output_type": "stream",
     "text": [
      "Robin Mahajan 21\n",
      "None\n",
      "2776\n",
      "{'fname': 'Robin', 'lname': 'Mahajan', 'age': '21', 'salary': 2776}\n",
      "{'fname': 'Robin', 'lname': 'Mahajan', 'age': '21', 'salary': 2776, 'dept': 'Sales'}\n",
      "{'__module__': '__main__', 'increment': 1.5, '__init__': <function Employeeee.__init__ at 0x7fea38297e18>, 'increase': <function Employeeee.increase at 0x7fea30f22a60>, '__dict__': <attribute '__dict__' of 'Employeeee' objects>, '__weakref__': <attribute '__weakref__' of 'Employeeee' objects>, '__doc__': None}\n"
     ]
    }
   ],
   "source": [
    "class Employeeee:       \n",
    "    increment=1.5                       ## __init__() is default constructor\n",
    "    def __init__(self,fname,lname,age,salary): ## Work as Default Constructor\n",
    "        self.fname=fname                ## Self keyword work as this operator\n",
    "        self.lname=lname\n",
    "        self.age=age\n",
    "        self.salary=salary\n",
    "    def increase(self):\n",
    "        #self.salary=int(self.salary * increment)  It will generate Error\n",
    "        self.salary=int(self.salary * Employeeee.increment) # find the class variable\n",
    "        self.salary=int(self.salary * self.increment) # find the variable in constructor then find the class variable\n",
    "        \n",
    "robin=Employeeee(\"Robin\",\"Mahajan\",\"21\",1234)\n",
    "rajat=Employeeee(\"Rajat\",\"Kumar\",\"22\",1234)\n",
    "\n",
    "print(robin.fname,robin.lname,robin.age)\n",
    "print(robin.increase())\n",
    "print(robin.salary)\n",
    "print(robin.__dict__)\n",
    "robin.dept=\"Sales\"\n",
    "print(robin.__dict__)\n",
    "print(Employeeee.__dict__)"
   ]
  },
  {
   "cell_type": "code",
   "execution_count": 25,
   "metadata": {},
   "outputs": [
    {
     "name": "stdout",
     "output_type": "stream",
     "text": [
      "1851\n",
      "5553\n"
     ]
    }
   ],
   "source": [
    "class Employeeee:       \n",
    "    increment=1.5                       ## __init__() is default constructor\n",
    "    def __init__(self,fname,lname,age,salary): ## Work as Default Constructor\n",
    "        self.fname=fname                ## Self keyword work as this operator\n",
    "        self.lname=lname\n",
    "        self.age=age\n",
    "        self.salary=salary\n",
    "    def increase(self):\n",
    "        #self.salary=int(self.salary * increment)  It will generate Error\n",
    "        #self.salary=int(self.salary * Employeeee.increment) # find the class variable\n",
    "        self.salary=int(self.salary * self.increment) # find the variable in constructor then find the class variable\n",
    "    @classmethod\n",
    "    def __increase_amount__(cls,amount):\n",
    "        cls.increment=amount\n",
    "\n",
    "robin=Employeeee(\"Robin\",\"Mahajan\",\"21\",1234)\n",
    "rajat=Employeeee(\"Rajat\",\"Kumar\",\"22\",1234)\n",
    "\n",
    "robin.increase()\n",
    "print(robin.salary)\n",
    "robin.__increase_amount__(3)\n",
    "robin.increase()\n",
    "print(robin.salary)\n",
    "\n"
   ]
  },
  {
   "cell_type": "code",
   "execution_count": 31,
   "metadata": {},
   "outputs": [
    {
     "name": "stdout",
     "output_type": "stream",
     "text": [
      "Akshay Khanna 21 6700\n"
     ]
    }
   ],
   "source": [
    "## USE Class method as an alternative Constructor\n",
    "class Employeeee:       \n",
    "    increment=1.5                       ## __init__() is default constructor\n",
    "    def __init__(self,fname,lname,age,salary): ## Work as Default Constructor\n",
    "        self.fname=fname                ## Self keyword work as this operator\n",
    "        self.lname=lname\n",
    "        self.age=age\n",
    "        self.salary=salary\n",
    "    def increase(self):\n",
    "        #self.salary=int(self.salary * increment)  It will generate Error\n",
    "        #self.salary=int(self.salary * Employeeee.increment) # find the class variable\n",
    "        self.salary=int(self.salary * self.increment) # find the variable in constructor then find the class variable\n",
    "    @classmethod\n",
    "    def __increase_amount__(cls,amount):\n",
    "        cls.increment=amount\n",
    "    @classmethod\n",
    "    def from_str(cls,details):\n",
    "        fname,lname,age,salary=details.split(\"-\")\n",
    "        return cls(fname,lname,age,salary)\n",
    "\n",
    "\n",
    "akshay=Employeeee.from_str(\"Akshay-Khanna-21-6700\")\n",
    "print(akshay.fname,akshay.lname,akshay.age,akshay.salary)"
   ]
  },
  {
   "cell_type": "code",
   "execution_count": 33,
   "metadata": {},
   "outputs": [
    {
     "name": "stdout",
     "output_type": "stream",
     "text": [
      "Akshay Khanna 21 6700\n",
      "False\n",
      "True\n"
     ]
    }
   ],
   "source": [
    "##Static Methods.....\n",
    "\n",
    "## USE Class method as an alternative Constructor\n",
    "class Employeeee:       \n",
    "    increment=1.5                       ## __init__() is default constructor\n",
    "    def __init__(self,fname,lname,age,salary): ## Work as Default Constructor\n",
    "        self.fname=fname                ## Self keyword work as this operator\n",
    "        self.lname=lname\n",
    "        self.age=age\n",
    "        self.salary=salary\n",
    "    def increase(self):\n",
    "        #self.salary=int(self.salary * increment)  It will generate Error\n",
    "        #self.salary=int(self.salary * Employeeee.increment) # find the class variable\n",
    "        self.salary=int(self.salary * self.increment) # find the variable in constructor then find the class variable\n",
    "    @classmethod\n",
    "    def __increase_amount__(cls,amount):\n",
    "        cls.increment=amount\n",
    "    @classmethod\n",
    "    def from_str(cls,details):\n",
    "        fname,lname,age,salary=details.split(\"-\")\n",
    "        return cls(fname,lname,age,salary)\n",
    "    @staticmethod\n",
    "    def isopen(day):\n",
    "        if day == \"sunday\":\n",
    "            return False\n",
    "        else:\n",
    "            return True\n",
    "\n",
    "akshay=Employeeee.from_str(\"Akshay-Khanna-21-6700\")\n",
    "print(akshay.fname,akshay.lname,akshay.age,akshay.salary)\n",
    "print(Employeeee.isopen('sunday'))\n",
    "print(akshay.isopen('monday'))"
   ]
  },
  {
   "cell_type": "markdown",
   "metadata": {},
   "source": [
    "## Inheritance"
   ]
  },
  {
   "cell_type": "code",
   "execution_count": 41,
   "metadata": {},
   "outputs": [
    {
     "name": "stdout",
     "output_type": "stream",
     "text": [
      "Kunal python\n",
      "100000\n"
     ]
    }
   ],
   "source": [
    "##Static Methods.....\n",
    "\n",
    "## USE Class method as an alternative Constructor\n",
    "class Employeeee:       \n",
    "    increment=1.5                       ## __init__() is default constructor\n",
    "    def __init__(self,fname,lname,age,salary): ## Work as Default Constructor\n",
    "        self.fname=fname                ## Self keyword work as this operator\n",
    "        self.lname=lname\n",
    "        self.age=age\n",
    "        self.salary=salary\n",
    "    def increase(self):\n",
    "        #self.salary=int(self.salary * increment)  It will generate Error\n",
    "        #self.salary=int(self.salary * Employeeee.increment) # find the class variable\n",
    "        self.salary=int(self.salary * self.increment) # find the variable in constructor then find the class variable\n",
    "    @classmethod\n",
    "    def __increase_amount__(cls,amount):\n",
    "        cls.increment=amount\n",
    "    @classmethod\n",
    "    def from_str(cls,details):\n",
    "        fname,lname,age,salary=details.split(\"-\")\n",
    "        return cls(fname,lname,age,salary)\n",
    "    @staticmethod\n",
    "    def isopen(day):\n",
    "        if day == \"sunday\":\n",
    "            return False\n",
    "        else:\n",
    "            return True\n",
    "    def __add__(self,other):\n",
    "        return self.salary + other.salary\n",
    "\n",
    "class Programmer(Employeeee):\n",
    "    def __init__(self,fname,lname,age,salary,lang,exp):\n",
    "        super().__init__(fname,lname,age,salary)\n",
    "        self.lang=lang\n",
    "        self.exp=exp\n",
    "\n",
    "kunal=Programmer(\"Kunal\",\"Verma\",\"22\",50000,\"python\",\"2 years\")\n",
    "parul=Programmer(\"Parul\",\"Verma\",\"22\",50000,\"python\",\"2 years\")\n",
    "print(kunal.fname,kunal.lang)\n",
    "print(kunal+parul)"
   ]
  },
  {
   "cell_type": "markdown",
   "metadata": {},
   "source": [
    "# Graphics"
   ]
  },
  {
   "cell_type": "code",
   "execution_count": 45,
   "metadata": {},
   "outputs": [],
   "source": [
    "from tkinter import *\n",
    "a= Tk()\n",
    "a.title(\"shopping Cart\")\n",
    "#a.geometry(\"500x500+0+0\")\n",
    "def func1():\n",
    "    print(\"Hello\")\n",
    "B1=Button(a,text=\"Hello\",width=15,height=5,fg=\"blue\",bg=\"yellow\",command=func1,relief=GROOVE)\n",
    "B2=Button(a,text=\"Hello\",width=15,height=5,fg=\"blue\",bg=\"yellow\",command=func1,relief=RIDGE)\n",
    "B3=Button(a,text=\"Hello\",width=15,height=5,fg=\"blue\",bg=\"yellow\",command=func1,relief=FLAT)\n",
    "B4=Button(a,text=\"Hello\",width=15,height=5,fg=\"blue\",bg=\"yellow\",command=func1,relief=SUNKEN)\n",
    "B5=Button(a,text=\"Hello\",width=15,height=5,fg=\"blue\",bg=\"yellow\",command=func1,relief=RAISED)\n",
    "\n",
    "B1.pack()\n",
    "B2.pack()\n",
    "B3.pack()\n",
    "B4.pack()\n",
    "B5.pack()\n",
    "a=mainloop()"
   ]
  },
  {
   "cell_type": "code",
   "execution_count": 46,
   "metadata": {},
   "outputs": [],
   "source": [
    "from tkinter import *\n",
    "a= Tk()\n",
    "a.title(\"shopping Cart\")\n",
    "#a.geometry(\"200*200+0+0\")\n",
    "def func1():\n",
    "    print(\"Hello\")\n",
    "B1=Button(a,text=\"Hello\",width=15,height=5,fg=\"blue\",bg=\"yellow\",command=func1,relief=GROOVE)\n",
    "B2=Button(a,text=\"Hello\",width=15,height=5,fg=\"blue\",bg=\"yellow\",command=func1,relief=RIDGE)\n",
    "B3=Button(a,text=\"Hello\",width=15,height=5,fg=\"blue\",bg=\"yellow\",command=func1,relief=FLAT)\n",
    "B4=Button(a,text=\"Hello\",width=15,height=5,fg=\"blue\",bg=\"yellow\",command=func1,relief=SUNKEN)\n",
    "B5=Button(a,text=\"Hello\",width=15,height=5,fg=\"blue\",bg=\"yellow\",command=func1,relief=RAISED)\n",
    "\n",
    "B1.pack(side=TOP)\n",
    "B2.pack(side=TOP)\n",
    "B3.pack(side=TOP)\n",
    "B4.pack(side=LEFT)\n",
    "B5.pack(side=RIGHT)\n",
    "a=mainloop()"
   ]
  },
  {
   "cell_type": "code",
   "execution_count": 54,
   "metadata": {},
   "outputs": [],
   "source": [
    "from tkinter import *\n",
    "a= Tk()\n",
    "a.title(\"shopping Cart\")\n",
    "a.geometry(\"500x500+0+0\")\n",
    "def func1():\n",
    "    print(\"Hello\")\n",
    "B1=Button(a,text=\"Hello\",width=15,height=5,fg=\"blue\",bg=\"yellow\",command=func1,relief=GROOVE)\n",
    "B2=Button(a,text=\"Hello\",width=15,height=5,fg=\"blue\",bg=\"red\",command=func1,relief=RIDGE)\n",
    "B3=Button(a,text=\"Hello\",width=15,height=5,fg=\"blue\",bg=\"yellow\",command=func1,relief=FLAT)\n",
    "B4=Button(a,text=\"Hello\",width=15,height=5,fg=\"blue\",bg=\"yellow\",command=func1,relief=SUNKEN)\n",
    "B5=Button(a,text=\"Hello\",width=15,height=5,fg=\"blue\",bg=\"yellow\",command=func1,relief=RAISED)\n",
    "\n",
    "B1.pack(side=TOP,fill=X,padx=10,ipadx=40,ipady=30) # fille whole width with button color, padx is for padding ipad is for internal padding\n",
    "B2.pack(side=TOP,fill=BOTH,expand=1) # for expanding the button, By defualt expnd is 0\n",
    "B3.pack(side=TOP)\n",
    "B4.pack(side=LEFT)\n",
    "B5.pack(side=RIGHT)\n",
    "a=mainloop()"
   ]
  },
  {
   "cell_type": "code",
   "execution_count": 61,
   "metadata": {},
   "outputs": [],
   "source": [
    "from tkinter import *\n",
    "from tkinter import messagebox\n",
    "#import tkMessageBox\n",
    "a= Tk()\n",
    "a.title(\"shopping Cart\")\n",
    "a.geometry(\"500x500+450+100\")\n",
    "def func1():\n",
    "    messagebox.showinfo(\"Say hello\",\" Hellow World\")\n",
    "B1=Button(a,text=\"Hello\",width=15,height=5,fg=\"blue\",bg=\"yellow\",command=func1,relief=GROOVE)\n",
    "B2=Button(a,text=\"Hello\",width=15,height=5,fg=\"blue\",bg=\"red\",command=func1,relief=RIDGE)\n",
    "B3=Button(a,text=\"Hello\",width=15,height=5,fg=\"blue\",bg=\"yellow\",command=func1,relief=FLAT)\n",
    "B4=Button(a,text=\"Hello\",width=15,height=5,fg=\"blue\",bg=\"yellow\",command=func1,relief=SUNKEN)\n",
    "B5=Button(a,text=\"Hello\",width=15,height=5,fg=\"blue\",bg=\"yellow\",command=func1,relief=RAISED)\n",
    "\n",
    "B1.pack(side=TOP,fill=X,padx=10,ipadx=40,ipady=30) # fille whole width with button color, padx is for padding ipad is for internal padding\n",
    "B2.pack(side=TOP,fill=BOTH,expand=1) # for expanding the button, By defualt expnd is 0\n",
    "B3.pack(side=TOP)\n",
    "B4.pack(side=LEFT)\n",
    "B5.pack(side=RIGHT)\n",
    "a=mainloop()"
   ]
  },
  {
   "cell_type": "markdown",
   "metadata": {},
   "source": [
    "## GUI in rows and column wise"
   ]
  },
  {
   "cell_type": "code",
   "execution_count": 87,
   "metadata": {},
   "outputs": [],
   "source": [
    "from tkinter import *\n",
    "from tkinter import messagebox\n",
    "i=0\n",
    "def newwindow():\n",
    "\n",
    "    global a\n",
    "    a1.destroy()\n",
    "    a= Tk()\n",
    "    a.title(\"Page2\")\n",
    "    a.geometry(\"500x500+450+100\")\n",
    "    B2=Button(a,text=\"Hello\",width=15,height=5,fg=\"blue\",bg=\"yellow\",command=home1,relief=GROOVE)\n",
    "    B2.pack(side=TOP,fill=X,padx=10,ipadx=40,ipady=30) # fille whole width with button color, padx is for padding ipad is for internal padding\n",
    "    a.mainloop()\n",
    "\n",
    "def home1():\n",
    "    global a1\n",
    "    global i\n",
    "    i=i+1\n",
    "    if i>1:\n",
    "        a.destroy()\n",
    "    a1= Tk()\n",
    "    a1.title(\"Page1\")\n",
    "    a1.geometry(\"500x500+450+100\")\n",
    "    B1=Button(a1,text=\"Hello\",width=15,height=5,fg=\"blue\",bg=\"yellow\",command=newwindow,relief=GROOVE)\n",
    "    B1.pack(side=TOP,fill=X,padx=10,ipadx=40,ipady=30) # fille whole width with button color, padx is for padding ipad is for internal padding\n",
    "    a1.mainloop()"
   ]
  },
  {
   "cell_type": "code",
   "execution_count": 88,
   "metadata": {},
   "outputs": [],
   "source": [
    "home1()"
   ]
  },
  {
   "cell_type": "markdown",
   "metadata": {},
   "source": [
    "### Grid View"
   ]
  },
  {
   "cell_type": "code",
   "execution_count": 29,
   "metadata": {},
   "outputs": [],
   "source": [
    "from tkinter import *\n",
    "from tkinter import messagebox\n",
    "#import tkMessageBox\n",
    "a= Tk()\n",
    "a.title(\"shopping Cart\")\n",
    "a.geometry(\"700x500+450+100\")\n",
    "def func1():\n",
    "    messagebox.showinfo(\"Say hello\",\" Hellow World\")\n",
    "B1=Button(a,text=\"Hello\",width=15,height=5,fg=\"blue\",bg=\"yellow\",command=func1,relief=GROOVE)\n",
    "B2=Button(a,text=\"Hello\",width=15,height=5,fg=\"blue\",bg=\"red\",command=func1,relief=RIDGE)\n",
    "B3=Button(a,text=\"Hello\",width=15,height=5,fg=\"blue\",bg=\"yellow\",command=func1,relief=FLAT)\n",
    "B4=Button(a,text=\"Hello\",width=15,height=5,fg=\"blue\",bg=\"yellow\",command=func1,relief=SUNKEN)\n",
    "B5=Button(a,text=\"Hello\",width=15,height=5,fg=\"blue\",bg=\"yellow\",command=func1,relief=RAISED)\n",
    "B6=Button(a,text=\"Hello\",width=15,height=5,fg=\"blue\",bg=\"yellow\",command=func1,relief=GROOVE)\n",
    "B7=Button(a,text=\"Hello\",width=15,height=5,fg=\"blue\",bg=\"red\",command=func1,relief=RIDGE)\n",
    "B8=Button(a,text=\"Hello\",width=15,height=5,fg=\"blue\",bg=\"yellow\",command=func1,relief=FLAT)\n",
    "B9=Button(a,text=\"Hello\",width=15,height=5,fg=\"blue\",bg=\"yellow\",command=func1,relief=SUNKEN)\n",
    "B10=Button(a,text=\"Hello\",width=15,height=5,fg=\"blue\",bg=\"yellow\",command=func1,relief=RAISED)\n",
    "B11=Button(a,text=\"Hello\",width=15,height=5,fg=\"blue\",bg=\"yellow\",command=func1,relief=GROOVE)\n",
    "B12=Button(a,text=\"Hello\",width=15,height=5,fg=\"blue\",bg=\"red\",command=func1,relief=RIDGE)\n",
    "B13=Button(a,text=\"Hello\",width=15,height=5,fg=\"blue\",bg=\"yellow\",command=func1,relief=FLAT)\n",
    "\n",
    "B1.grid(row=0,column=0,rowspan=2)\n",
    "B2.grid(row=0,column=1,columnspan=2)\n",
    "B3.grid(row=0,column=3,rowspan=2)\n",
    "B4.grid(row=1,column=1)\n",
    "B5.grid(row=1,column=2)\n",
    "B6.grid(row=2,column=0)\n",
    "B7.grid(row=2,column=1)\n",
    "B8.grid(row=2,column=2)\n",
    "B9.grid(row=2,column=3)\n",
    "B10.grid(row=3,column=0)\n",
    "B11.grid(row=3,column=1)\n",
    "B12.grid(row=3,column=2)\n",
    "B13.grid(row=3,column=3)\n",
    "\n",
    "a=mainloop()"
   ]
  },
  {
   "cell_type": "markdown",
   "metadata": {},
   "source": [
    "# Assignment -> Table using GUI grid in python"
   ]
  },
  {
   "cell_type": "code",
   "execution_count": 127,
   "metadata": {},
   "outputs": [],
   "source": [
    "from tkinter import *\n",
    "from tkinter import messagebox\n",
    "\n",
    "window=Tk()\n",
    "window.geometry(\"700x900+300+100\")\n",
    "window.title(\"Assigment\") \n",
    "\n",
    "def message():\n",
    "    messagebox.showinfo(\"Hello\",\"Under Construction\")\n",
    "    \n",
    "   \n",
    "\n",
    "B1=Button(window,text=\"Hello\",width=10,height=15,fg=\"blue\",bg=\"yellow\",command=message,relief=GROOVE)\n",
    "B2=Button(window,text=\"Hello\",width=54,height=4,fg=\"blue\",bg=\"yellow\",command=message,relief=GROOVE)\n",
    "B3=Button(window,text=\"Hello\",width=40,height=4,fg=\"blue\",bg=\"yellow\",command=message,relief=GROOVE)\n",
    "B4=Button(window,text=\"Hello\",width=18,height=5,fg=\"blue\",bg=\"yellow\",command=message,relief=GROOVE)\n",
    "B5=Button(window,text=\"Hello\",width=18,height=5,fg=\"blue\",bg=\"yellow\",command=message,relief=GROOVE)\n",
    "B6=Button(window,text=\"Hello\",width=10,height=10,fg=\"blue\",bg=\"yellow\",command=message,relief=GROOVE)\n",
    "B7=Button(window,text=\"Hello\",width=10,height=7,fg=\"blue\",bg=\"yellow\",command=message,relief=GROOVE)\n",
    "B8=Button(window,text=\"Hello\",width=18,height=7,fg=\"blue\",bg=\"yellow\",command=message,relief=GROOVE)\n",
    "B9=Button(window,text=\"Hello\",width=18,height=7,fg=\"blue\",bg=\"yellow\",command=message,relief=GROOVE)\n",
    "B10=Button(window,text=\"Hello\",width=10,height=3,fg=\"blue\",bg=\"yellow\",command=message,relief=GROOVE)\n",
    "B11=Button(window,text=\"Hello\",width=10,height=3,fg=\"blue\",bg=\"yellow\",command=message,relief=GROOVE)\n",
    "B12=Button(window,text=\"Hello\",width=10,height=17,fg=\"blue\",bg=\"yellow\",command=message,relief=GROOVE)\n",
    "B13=Button(window,text=\"Hello\",width=18,height=5,fg=\"blue\",bg=\"yellow\",command=message,relief=GROOVE)\n",
    "B14=Button(window,text=\"Hello\",width=18,height=5,fg=\"blue\",bg=\"yellow\",command=message,relief=GROOVE)\n",
    "B15=Button(window,text=\"Hello\",width=10,height=11,fg=\"blue\",bg=\"yellow\",command=message,relief=GROOVE)\n",
    "B16=Button(window,text=\"Hello\",width=18,height=5,fg=\"blue\",bg=\"yellow\",command=message,relief=GROOVE)\n",
    "B17=Button(window,text=\"Hello\",width=18,height=5,fg=\"blue\",bg=\"yellow\",command=message,relief=GROOVE)\n",
    "B18=Button(window,text=\"Hello\",width=18,height=5,fg=\"blue\",bg=\"yellow\",command=message,relief=GROOVE)\n",
    "B19=Button(window,text=\"Hello\",width=18,height=5,fg=\"blue\",bg=\"yellow\",command=message,relief=GROOVE)\n",
    "B20=Button(window,text=\"Hello\",width=10,height=6,fg=\"blue\",bg=\"yellow\",command=message,relief=GROOVE)\n",
    "\n",
    "\n",
    "\n",
    "B1.grid(row=0,column=0,rowspan=3)\n",
    "B2.grid(row=0,column=1,columnspan=4)\n",
    "B3.grid(row=1,column=1,columnspan=2)\n",
    "B4.grid(row=2,column=1)\n",
    "B5.grid(row=2,column=2)\n",
    "B6.grid(row=1,column=3,columnspan=2,rowspan=2)\n",
    "B7.grid(row=3,column=0,rowspan=2)\n",
    "B8.grid(row=3,column=1,rowspan=2)\n",
    "B9.grid(row=3,column=2,rowspan=2)\n",
    "B10.grid(row=3,column=3,columnspan=2)\n",
    "B11.grid(row=4,column=3,columnspan=2)\n",
    "B12.grid(row=5,column=0,rowspan=6)\n",
    "B13.grid(row=5,column=1,rowspan=1)\n",
    "B14.grid(row=5,column=2,rowspan=1)\n",
    "B15.grid(row=5,column=3,columnspan=2,rowspan=3)\n",
    "B16.grid(row=7,column=1,rowspan=1)\n",
    "B17.grid(row=7,column=2,rowspan=1)\n",
    "B18.grid(row=8,column=1,rowspan=2)\n",
    "B19.grid(row=8,column=2,rowspan=2)\n",
    "B20.grid(row=8,column=3,columnspan=2,rowspan=3)\n",
    "window.mainloop()\n",
    "    \n",
    "    "
   ]
  },
  {
   "cell_type": "code",
   "execution_count": null,
   "metadata": {},
   "outputs": [],
   "source": []
  }
 ],
 "metadata": {
  "kernelspec": {
   "display_name": "Python 3",
   "language": "python",
   "name": "python3"
  },
  "language_info": {
   "codemirror_mode": {
    "name": "ipython",
    "version": 3
   },
   "file_extension": ".py",
   "mimetype": "text/x-python",
   "name": "python",
   "nbconvert_exporter": "python",
   "pygments_lexer": "ipython3",
   "version": "3.6.7"
  }
 },
 "nbformat": 4,
 "nbformat_minor": 2
}
