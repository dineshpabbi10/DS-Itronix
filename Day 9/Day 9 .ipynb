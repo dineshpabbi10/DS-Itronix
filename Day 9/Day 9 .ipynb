{
 "cells": [
  {
   "cell_type": "markdown",
   "metadata": {},
   "source": [
    "## Day 9: BackGround Image\n"
   ]
  },
  {
   "cell_type": "code",
   "execution_count": 50,
   "metadata": {},
   "outputs": [],
   "source": [
    "from tkinter import *\n",
    "import numpy as np"
   ]
  },
  {
   "cell_type": "code",
   "execution_count": 46,
   "metadata": {},
   "outputs": [],
   "source": [
    "a = Tk()\n",
    "a.geometry(\"800x500\")\n",
    "# a.wm_attributes(\"-transparentcolor\",'black')\n",
    "a.title(\"Weather Forecast\")\n",
    "photo = PhotoImage(file=\"C:\\\\Users\\\\dell\\\\Itronix\\\\12.png\")\n",
    "label = Label(a,image=photo)\n",
    "label.place(x=0,y=0,relwidth=1,relheight=1)\n",
    "\n",
    "l1 = Label(a,text=\"Current Weather and Weather Forecast WorldWide\",font=(\"Helvetica\",15,\"bold\"))\n",
    "l2 = Label(a,text=\"Location\",font=(\"Helvetica\",12,\"bold\"))\n",
    "l3 = Label(a,text=\"Country\",font=(\"Helvetica\",12,\"bold\"))\n",
    "e1= Entry(a,bd=5)\n",
    "e2= Entry(a,bd=5)\n",
    "\n",
    "b1 = Button(a,text=\"Submit\",command=\"set\")\n",
    "\n",
    "l1.place(relx=.2,rely=0)\n",
    "l2.place(relx=.1,rely=0.2)\n",
    "l3.place(relx=.1,rely=0.3)\n",
    "e1.place(relx=.2,rely=.2)\n",
    "e2.place(relx=.2,rely=.3)\n",
    "b1.place(relx=.2,rely=.4,width=130)\n",
    "a.mainloop()"
   ]
  },
  {
   "cell_type": "markdown",
   "metadata": {},
   "source": [
    "## Remaining Concepts"
   ]
  },
  {
   "cell_type": "code",
   "execution_count": 110,
   "metadata": {},
   "outputs": [],
   "source": [
    "l = [1,2,3,4,5,6,7,8,9,10,12,11,12,13,14,15,16,17,18,19,20,21,22,23,24]\n",
    "l = np.array(l)\n",
    "import time"
   ]
  },
  {
   "cell_type": "code",
   "execution_count": 111,
   "metadata": {},
   "outputs": [
    {
     "name": "stdout",
     "output_type": "stream",
     "text": [
      "[ 3  6  9 12 12 15 18 21 24]\n",
      "0.0\n"
     ]
    }
   ],
   "source": [
    "start=time.time()\n",
    "a = l[(l%3)==0]\n",
    "print(a)\n",
    "end=time.time()\n",
    "print(end-start)"
   ]
  },
  {
   "cell_type": "code",
   "execution_count": 112,
   "metadata": {},
   "outputs": [
    {
     "name": "stdout",
     "output_type": "stream",
     "text": [
      "[3, 6, 9, 12, 12, 15, 18, 21, 24]\n"
     ]
    }
   ],
   "source": [
    "print([i for i in l if i%3==0])"
   ]
  },
  {
   "cell_type": "code",
   "execution_count": 113,
   "metadata": {},
   "outputs": [
    {
     "name": "stdout",
     "output_type": "stream",
     "text": [
      "{1, 2, 3, 4, 5}\n"
     ]
    }
   ],
   "source": [
    "l = [1,1,2,3,4,5,3,3]\n",
    "l = set(l)\n",
    "print(l)"
   ]
  },
  {
   "cell_type": "code",
   "execution_count": null,
   "metadata": {},
   "outputs": [],
   "source": []
  }
 ],
 "metadata": {
  "kernelspec": {
   "display_name": "Python 3",
   "language": "python",
   "name": "python3"
  },
  "language_info": {
   "codemirror_mode": {
    "name": "ipython",
    "version": 3
   },
   "file_extension": ".py",
   "mimetype": "text/x-python",
   "name": "python",
   "nbconvert_exporter": "python",
   "pygments_lexer": "ipython3",
   "version": "3.6.8"
  }
 },
 "nbformat": 4,
 "nbformat_minor": 2
}
