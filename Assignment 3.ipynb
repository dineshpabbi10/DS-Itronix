{
 "cells": [
  {
   "cell_type": "markdown",
   "metadata": {},
   "source": [
    "## Assignment 3"
   ]
  },
  {
   "cell_type": "code",
   "execution_count": 2,
   "metadata": {},
   "outputs": [],
   "source": [
    "def sendOTP():\n",
    "    import random\n",
    "    a = random.randint(1000,9999)\n",
    "    otp = \"Your OTP is \"+ str(a)\n",
    "    from twilio.rest import Client\n",
    "\n",
    "    # Your Account SID from twilio.com/console\n",
    "    account_sid = \"ACb86e5e98a88a7f04aaab4adc8320c3bc\"\n",
    "    # Your Auth Token from twilio.com/console\n",
    "    auth_token  = \"d5618944ff5724070623fcaf478ed1cc\"\n",
    "\n",
    "    client = Client(account_sid, auth_token)\n",
    "\n",
    "    message = client.messages.create(\n",
    "        to=\"+917009253106\", \n",
    "        from_=\"+18646893493\",\n",
    "        body=otp)\n",
    "\n",
    "    print(message.sid)\n",
    "    return a\n",
    "\n",
    "def call():\n",
    "    from twilio.rest import Client\n",
    "\n",
    "    # Your Account SID from twilio.com/console\n",
    "    account_sid = \"ACb86e5e98a88a7f04aaab4adc8320c3bc\"\n",
    "    # Your Auth Token from twilio.com/console\n",
    "    auth_token  = \"d5618944ff5724070623fcaf478ed1cc\"\n",
    "    client = Client(account_sid, auth_token)\n",
    "\n",
    "    call = client.calls.create(\n",
    "        to=\"+917009253106\", \n",
    "        from_=\"+18646893493\",\n",
    "        url=\"http://demo.twilio.com/docs/voice.xml\"\n",
    "    )\n",
    "\n",
    "    print(call.sid)"
   ]
  },
  {
   "cell_type": "code",
   "execution_count": 3,
   "metadata": {},
   "outputs": [],
   "source": [
    "def signup():\n",
    "    name = input(\"Enter your name\\n\")\n",
    "    email = input(\"Enter the email\\n\")\n",
    "    password = input(\"Enter the password\\n\")\n",
    "    phone = input(\"Enter your phone number\")\n",
    "    city = input(\"Enter your ciy\\n\")\n",
    "    file = email+\".txt\"\n",
    "    with open(file,\"w\") as f:\n",
    "        f.write(name+\"\\n\"+email+\"\\n\"+password+\"\\n\"+phone+\"\\n\"+city)\n",
    "        print(\"\\nSignup Done!\")\n",
    "    "
   ]
  },
  {
   "cell_type": "code",
   "execution_count": 4,
   "metadata": {},
   "outputs": [
    {
     "name": "stdout",
     "output_type": "stream",
     "text": [
      "Enter your name\n",
      "Dinesh\n",
      "Enter the email\n",
      "dineshpabbi10@gmail.com\n",
      "Enter the password\n",
      "welcome\n",
      "Enter your phone number7009253106\n",
      "Enter your ciy\n",
      "Phagwara\n"
     ]
    }
   ],
   "source": [
    "signup()"
   ]
  },
  {
   "cell_type": "code",
   "execution_count": 7,
   "metadata": {},
   "outputs": [],
   "source": [
    "def signin():\n",
    "    t = 0\n",
    "    x= True\n",
    "    while x:\n",
    "        email = input(\"Enter the email\\n\")\n",
    "        password = input(\"Enter the password\\n\")\n",
    "        file = email+\".txt\"\n",
    "        l = []\n",
    "        with open(file,\"r\") as f:\n",
    "            l = f.read()\n",
    "            l = l.split(\"\\n\")\n",
    "        if email == l[1] and password == l[2]:\n",
    "            print(\"You entered correct email and password please check otp!\\n\")\n",
    "            otp = sendOTP()\n",
    "            print(otp)\n",
    "            o = int(input(\"Enter the OTP please\\n\"))\n",
    "            if otp == o:\n",
    "                print(\"Login successfull\")\n",
    "                x = False\n",
    "            else:\n",
    "                print(\"Incorrect OTP entered\")\n",
    "                        \n",
    "        else:\n",
    "            print(\"You entered wrong email or password\")\n",
    "            t+=1\n",
    "            if(t>=3):\n",
    "                m = input(\"Have you forgot password? Enter yes or no\")\n",
    "                if m == \"yes\":\n",
    "                    forgot()\n",
    "                    x = False\n",
    "                else:\n",
    "                    print(\"Do you wish to try again?\")\n",
    "                    m = input()\n",
    "                    if m == \"yes\":\n",
    "                        x = True\n",
    "                    else:\n",
    "                        x = False"
   ]
  },
  {
   "cell_type": "code",
   "execution_count": 19,
   "metadata": {},
   "outputs": [],
   "source": [
    "def forgot():\n",
    "    email = input(\"Enter your Email\\n\")\n",
    "    phone = input(\"Enter your Phone\\n\")\n",
    "    file = email+\".txt\"\n",
    "    l = []\n",
    "    print(\"enter the OTP you recieved\")\n",
    "    otp = sendOTP()\n",
    "    print(otp)\n",
    "    o = int(input())\n",
    "    if o == otp:\n",
    "        print(\"OTP is correct\")\n",
    "        password = input(\"Enter new password\\n\")\n",
    "        print(\"Password Changed!\")\n",
    "        with open(file,'r') as f:\n",
    "            l = f.readlines()\n",
    "            l[2] = password+\"\\n\"\n",
    "        l = \"\".join(l)\n",
    "        with open(file,\"w\") as f:\n",
    "            f.write(l)\n",
    "    else:\n",
    "        print(\"Wrong OTP entered\")\n",
    "        "
   ]
  },
  {
   "cell_type": "code",
   "execution_count": 18,
   "metadata": {},
   "outputs": [
    {
     "name": "stdout",
     "output_type": "stream",
     "text": [
      "Enter your Email\n",
      "dineshpabbi10@gmail.com\n",
      "Enter your Phone\n",
      "7009253106\n",
      "enter the OTP you recieved\n",
      "SM8a11da686c7f4ed8a2ce5c4208d0c5d2\n",
      "5799\n",
      "5799\n",
      "OTP is correct\n",
      "Enter new password\n",
      "nishant123\n"
     ]
    }
   ],
   "source": [
    "forgot()"
   ]
  },
  {
   "cell_type": "code",
   "execution_count": 23,
   "metadata": {},
   "outputs": [],
   "source": [
    "def welcome():\n",
    "    print(\"Plese enter your choice:\")\n",
    "    print(\"1: Login\")\n",
    "    print(\"2: Signup\")\n",
    "    print(\"3: Forget Password\")\n",
    "    i = input(\"\\n\")\n",
    "    if i == \"1\":\n",
    "        signin()\n",
    "    elif i==\"2\":\n",
    "        signuo()\n",
    "    elif i==\"3\":\n",
    "        forgot()\n",
    "    else:\n",
    "        print(\"Wrong choice entered\")\n",
    "    "
   ]
  },
  {
   "cell_type": "code",
   "execution_count": 24,
   "metadata": {},
   "outputs": [
    {
     "name": "stdout",
     "output_type": "stream",
     "text": [
      "Plese enter your choice:\n",
      "1: Login\n",
      "2: Signup\n",
      "3: Forget Password\n",
      "\n",
      "1\n",
      "Enter the email\n",
      "dineshpabbi10@gmail.com\n",
      "Enter the password\n",
      "welcome\n",
      "You entered wrong email or password\n",
      "Enter the email\n",
      "dineshpabbi10@gmail.com\n",
      "Enter the password\n",
      "nishant123\n",
      "You entered correct email and password please check otp!\n",
      "\n",
      "SMe2bed9a7f6e14f4880e4e3e41d7164e1\n",
      "9645\n",
      "Enter the OTP please\n",
      "9645\n",
      "Login successfull\n"
     ]
    }
   ],
   "source": [
    "welcome()"
   ]
  }
 ],
 "metadata": {
  "kernelspec": {
   "display_name": "Python 3",
   "language": "python",
   "name": "python3"
  },
  "language_info": {
   "codemirror_mode": {
    "name": "ipython",
    "version": 3
   },
   "file_extension": ".py",
   "mimetype": "text/x-python",
   "name": "python",
   "nbconvert_exporter": "python",
   "pygments_lexer": "ipython3",
   "version": "3.6.8"
  }
 },
 "nbformat": 4,
 "nbformat_minor": 2
}
