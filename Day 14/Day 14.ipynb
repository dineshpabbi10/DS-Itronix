{
 "cells": [
  {
   "cell_type": "markdown",
   "metadata": {},
   "source": [
    "# Day 14"
   ]
  },
  {
   "cell_type": "code",
   "execution_count": 3,
   "metadata": {},
   "outputs": [],
   "source": [
    "import numpy as np\n",
    "# import collections"
   ]
  },
  {
   "cell_type": "code",
   "execution_count": 4,
   "metadata": {},
   "outputs": [],
   "source": [
    "a = np.genfromtxt(\"suicide.csv\",delimiter = ',',dtype=str)\n",
    "a = a[1:,:]"
   ]
  },
  {
   "cell_type": "code",
   "execution_count": 5,
   "metadata": {},
   "outputs": [
    {
     "name": "stdout",
     "output_type": "stream",
     "text": [
      "(237519, 7)\n"
     ]
    }
   ],
   "source": [
    "print(a.shape)"
   ]
  },
  {
   "cell_type": "code",
   "execution_count": 6,
   "metadata": {},
   "outputs": [
    {
     "name": "stdout",
     "output_type": "stream",
     "text": [
      "A & N Islands\n",
      "Andhra Pradesh\n",
      "Arunachal Pradesh\n",
      "Assam\n",
      "Bihar\n",
      "Chandigarh\n",
      "Chhattisgarh\n",
      "D & N Haveli\n",
      "Daman & Diu\n",
      "Delhi (Ut)\n",
      "Goa\n",
      "Gujarat\n",
      "Haryana\n",
      "Himachal Pradesh\n",
      "Jammu & Kashmir\n",
      "Jharkhand\n",
      "Karnataka\n",
      "Kerala\n",
      "Lakshadweep\n",
      "Madhya Pradesh\n",
      "Maharashtra\n",
      "Manipur\n",
      "Meghalaya\n",
      "Mizoram\n",
      "Nagaland\n",
      "Odisha\n",
      "Puducherry\n",
      "Punjab\n",
      "Rajasthan\n",
      "Sikkim\n",
      "Tamil Nadu\n",
      "Total (All India)\n",
      "Total (States)\n",
      "Total (Uts)\n",
      "Tripura\n",
      "Uttar Pradesh\n",
      "Uttarakhand\n",
      "West Bengal\n"
     ]
    }
   ],
   "source": [
    "states = np.unique(a[1::,0])\n",
    "for i in states:\n",
    "    print(i)"
   ]
  },
  {
   "cell_type": "code",
   "execution_count": 7,
   "metadata": {},
   "outputs": [
    {
     "name": "stdout",
     "output_type": "stream",
     "text": [
      "(237519,)\n"
     ]
    }
   ],
   "source": [
    "no = np.array(a[:,6],dtype = int)\n",
    "print(no.shape)"
   ]
  },
  {
   "cell_type": "code",
   "execution_count": 8,
   "metadata": {},
   "outputs": [
    {
     "data": {
      "text/plain": [
       "array([ 0,  0,  0, ..., 28,  0,  0])"
      ]
     },
     "execution_count": 8,
     "metadata": {},
     "output_type": "execute_result"
    }
   ],
   "source": [
    "no[a[:,0]==states[0]]"
   ]
  },
  {
   "cell_type": "code",
   "execution_count": 9,
   "metadata": {},
   "outputs": [],
   "source": [
    "cond3  = a[a[:,0]=='Punjab']"
   ]
  },
  {
   "cell_type": "code",
   "execution_count": 10,
   "metadata": {},
   "outputs": [],
   "source": [
    "# def extract(a,state,year):\n",
    "#     if a[0] == state and a[1] == str(year):\n",
    "#         return True\n",
    "#     else:\n",
    "#         return False"
   ]
  },
  {
   "cell_type": "code",
   "execution_count": 11,
   "metadata": {},
   "outputs": [],
   "source": [
    "def find(a,state,year):\n",
    "    j = filter(lambda x:x[0]==state and x[1] == year,a)\n",
    "    j = np.array(list(j))\n",
    "    return j"
   ]
  },
  {
   "cell_type": "code",
   "execution_count": 12,
   "metadata": {},
   "outputs": [],
   "source": [
    "punjab = find(a,'Punjab','2001')"
   ]
  },
  {
   "cell_type": "code",
   "execution_count": 13,
   "metadata": {},
   "outputs": [
    {
     "name": "stdout",
     "output_type": "stream",
     "text": [
      "[['Punjab' '2001' 'Causes' ... 'Female' '0-14' '0']\n",
      " ['Punjab' '2001' 'Causes' ... 'Female' '0-14' '0']\n",
      " ['Punjab' '2001' 'Causes' ... 'Female' '0-14' '0']\n",
      " ...\n",
      " ['Punjab' '2001' 'Social_Status' ... 'Male' '0-100+' '234']\n",
      " ['Punjab' '2001' 'Social_Status' ... 'Male' '0-100+' '110']\n",
      " ['Punjab' '2001' 'Social_Status' ... 'Male' '0-100+' '25']]\n"
     ]
    }
   ],
   "source": [
    "print(punjab)"
   ]
  },
  {
   "cell_type": "code",
   "execution_count": 14,
   "metadata": {},
   "outputs": [],
   "source": [
    "# Method 2 to filter\n",
    "pun2 = a[np.where((a[:,0]=='Punjab') & (a[:,1]=='2001'))]"
   ]
  },
  {
   "cell_type": "code",
   "execution_count": 15,
   "metadata": {},
   "outputs": [
    {
     "name": "stdout",
     "output_type": "stream",
     "text": [
      "[['Punjab' '2001' 'Causes' ... 'Female' '0-14' '0']\n",
      " ['Punjab' '2001' 'Causes' ... 'Female' '0-14' '0']\n",
      " ['Punjab' '2001' 'Causes' ... 'Female' '0-14' '0']\n",
      " ...\n",
      " ['Punjab' '2001' 'Social_Status' ... 'Male' '0-100+' '234']\n",
      " ['Punjab' '2001' 'Social_Status' ... 'Male' '0-100+' '110']\n",
      " ['Punjab' '2001' 'Social_Status' ... 'Male' '0-100+' '25']]\n"
     ]
    }
   ],
   "source": [
    "print(pun2)"
   ]
  },
  {
   "cell_type": "code",
   "execution_count": 16,
   "metadata": {},
   "outputs": [
    {
     "name": "stdout",
     "output_type": "stream",
     "text": [
      "[['Punjab' '2001' 'Causes' ... 'Female' '0-14' '0']\n",
      " ['Punjab' '2001' 'Causes' ... 'Female' '0-14' '0']\n",
      " ['Punjab' '2001' 'Causes' ... 'Female' '0-14' '0']\n",
      " ...\n",
      " ['Punjab' '2001' 'Social_Status' ... 'Male' '0-100+' '234']\n",
      " ['Punjab' '2001' 'Social_Status' ... 'Male' '0-100+' '110']\n",
      " ['Punjab' '2001' 'Social_Status' ... 'Male' '0-100+' '25']]\n"
     ]
    }
   ],
   "source": [
    "#Method 3\n",
    "w = np.where(np.logical_and(a[:,0]==\"Punjab\", a[:,1]=='2001'))\n",
    "print(a[w])"
   ]
  },
  {
   "cell_type": "code",
   "execution_count": 17,
   "metadata": {},
   "outputs": [],
   "source": [
    "n = np.sum(np.array(punjab[:,6],dtype=int))"
   ]
  },
  {
   "cell_type": "code",
   "execution_count": 18,
   "metadata": {},
   "outputs": [
    {
     "name": "stdout",
     "output_type": "stream",
     "text": [
      "3240\n"
     ]
    }
   ],
   "source": [
    "print(n)"
   ]
  },
  {
   "cell_type": "code",
   "execution_count": 19,
   "metadata": {},
   "outputs": [],
   "source": [
    "def FindYearWise():\n",
    "    j = input(\"Enter the Year\\n\")\n",
    "    for i in states:\n",
    "        x = find(a,i,'2001')\n",
    "        n = np.sum(np.array(x[:,6],dtype=int))\n",
    "        print(\"Suicides in State: \",i,\" \",n)"
   ]
  },
  {
   "cell_type": "code",
   "execution_count": 20,
   "metadata": {},
   "outputs": [
    {
     "name": "stdout",
     "output_type": "stream",
     "text": [
      "Enter the Year\n",
      "2009\n",
      "Suicides in State:  A & N Islands   645\n",
      "Suicides in State:  Andhra Pradesh   52610\n",
      "Suicides in State:  Arunachal Pradesh   555\n",
      "Suicides in State:  Assam   13230\n",
      "Suicides in State:  Bihar   3015\n",
      "Suicides in State:  Chandigarh   350\n",
      "Suicides in State:  Chhattisgarh   20051\n",
      "Suicides in State:  D & N Haveli   250\n",
      "Suicides in State:  Daman & Diu   69\n",
      "Suicides in State:  Delhi (Ut)   6195\n",
      "Suicides in State:  Goa   1280\n",
      "Suicides in State:  Gujarat   23955\n",
      "Suicides in State:  Haryana   10031\n",
      "Suicides in State:  Himachal Pradesh   1535\n",
      "Suicides in State:  Jammu & Kashmir   765\n",
      "Suicides in State:  Jharkhand   1250\n",
      "Suicides in State:  Karnataka   59405\n",
      "Suicides in State:  Kerala   47860\n",
      "Suicides in State:  Lakshadweep   0\n",
      "Suicides in State:  Madhya Pradesh   34300\n",
      "Suicides in State:  Maharashtra   73090\n",
      "Suicides in State:  Manipur   205\n",
      "Suicides in State:  Meghalaya   435\n",
      "Suicides in State:  Mizoram   270\n",
      "Suicides in State:  Nagaland   200\n",
      "Suicides in State:  Odisha   20254\n",
      "Suicides in State:  Puducherry   2645\n",
      "Suicides in State:  Punjab   3240\n",
      "Suicides in State:  Rajasthan   15975\n",
      "Suicides in State:  Sikkim   470\n",
      "Suicides in State:  Tamil Nadu   56450\n",
      "Suicides in State:  Total (All India)   217012\n",
      "Suicides in State:  Total (States)   212950\n",
      "Suicides in State:  Total (Uts)   4062\n",
      "Suicides in State:  Tripura   4270\n",
      "Suicides in State:  Uttar Pradesh   17580\n",
      "Suicides in State:  Uttarakhand   1555\n",
      "Suicides in State:  West Bengal   68450\n"
     ]
    }
   ],
   "source": [
    "FindYearWise()"
   ]
  },
  {
   "cell_type": "code",
   "execution_count": 21,
   "metadata": {},
   "outputs": [
    {
     "name": "stdout",
     "output_type": "stream",
     "text": [
      "['0-100+' '0-14' '15-29' '30-44' '45-59' '60+']\n",
      "['Bankruptcy or Sudden change in Economic'\n",
      " 'Bankruptcy or Sudden change in Economic Status'\n",
      " 'By Consuming Insecticides' 'By Consuming Other Poison' 'By Drowning'\n",
      " 'By Fire-Arms' 'By Fire/Self Immolation' 'By Hanging'\n",
      " 'By Jumping from (Building)' 'By Jumping from (Other sites)'\n",
      " 'By Jumping off Moving Vehicles/Trains' 'By Machine' 'By Other means'\n",
      " 'By Other means (please specify)' 'By Over Alcoholism'\n",
      " 'By Overdose of sleeping pills' 'By Self Infliction of injury'\n",
      " 'By coming under running vehicles/trains' 'By touching electric wires'\n",
      " 'Cancellation/Non-Settlement of Marriage' 'Cancer' 'Causes Not known'\n",
      " 'Death of Dear Person' 'Diploma' 'Divorce' 'Divorcee' 'Dowry Dispute'\n",
      " 'Drug Abuse/Addiction' 'Failure in Examination'\n",
      " 'Fall in Social Reputation' 'Family Problems'\n",
      " 'Farming/Agriculture Activity' 'Graduate' 'House Wife'\n",
      " 'Hr. Secondary/Intermediate/Pre-Universit'\n",
      " 'Ideological Causes/Hero Worshipping' 'Illegitimate Pregnancy'\n",
      " 'Illness (Aids/STD)' 'Insanity/Mental Illness' 'Love Affairs' 'Married'\n",
      " 'Matriculate/Secondary' 'Middle' 'Never Married' 'No Education'\n",
      " 'Not having Children (Barrenness/Impotency'\n",
      " 'Not having Children(Barrenness/Impotency'\n",
      " 'Other Causes (Please Specity)' 'Other Prolonged Illness'\n",
      " 'Others (Please Specify)' 'Paralysis' 'Physical Abuse (Rape/Incest Etc.)'\n",
      " 'Post Graduate and Above' 'Poverty' 'Primary' 'Professional Activity'\n",
      " 'Professional/Career Problem' 'Property Dispute'\n",
      " 'Public Sector Undertaking' 'Retired Person'\n",
      " 'Self-employed (Business activity)' 'Seperated' 'Service (Government)'\n",
      " 'Service (Private)' 'Student' 'Suspected/Illicit Relation' 'Unemployed'\n",
      " 'Unemployment' 'Widowed/Widower']\n"
     ]
    }
   ],
   "source": [
    "years = np.unique(a[:,1])\n",
    "age = np.unique(a[:,5])\n",
    "types = np.unique(a[:,3])\n",
    "print(age)\n",
    "print(types)"
   ]
  },
  {
   "cell_type": "code",
   "execution_count": 22,
   "metadata": {},
   "outputs": [
    {
     "name": "stdout",
     "output_type": "stream",
     "text": [
      "2001\n",
      "2002\n",
      "2003\n",
      "2004\n",
      "2005\n",
      "2006\n",
      "2007\n",
      "2008\n",
      "2009\n",
      "2010\n",
      "2011\n",
      "2012\n"
     ]
    }
   ],
   "source": [
    "for i in years:\n",
    "    print(i)"
   ]
  },
  {
   "cell_type": "code",
   "execution_count": 23,
   "metadata": {},
   "outputs": [
    {
     "name": "stdout",
     "output_type": "stream",
     "text": [
      "[['A & N Islands' '2001' 'Means_adopted' ... 'Male' '0-14' '0']\n",
      " ['A & N Islands' '2001' 'Means_adopted' ... 'Male' '15-29' '0']\n",
      " ['A & N Islands' '2001' 'Means_adopted' ... 'Male' '30-44' '1']\n",
      " ...\n",
      " ['West Bengal' '2001' 'Means_adopted' ... 'Male' '30-44' '74']\n",
      " ['West Bengal' '2001' 'Means_adopted' ... 'Male' '45-59' '95']\n",
      " ['West Bengal' '2001' 'Means_adopted' ... 'Male' '60+' '32']]\n",
      "4695\n"
     ]
    }
   ],
   "source": [
    "# Find by Gender and Reason of Suicide an Year\n",
    "gen = a[np.where((a[:,4]=='Male') & (a[:,3]==types[4]) & (a[:,1]=='2001'))]\n",
    "print(gen)\n",
    "print(np.sum(np.array(gen[:,6],dtype=int)))"
   ]
  },
  {
   "cell_type": "code",
   "execution_count": 24,
   "metadata": {},
   "outputs": [
    {
     "name": "stdout",
     "output_type": "stream",
     "text": [
      "993648\n"
     ]
    }
   ],
   "source": [
    "d = a[a[:,1]=='2002']\n",
    "ss = np.sum(np.array(d[:,6],dtype=int))\n",
    "print(ss)"
   ]
  },
  {
   "cell_type": "code",
   "execution_count": 25,
   "metadata": {},
   "outputs": [],
   "source": [
    "# How many Males died in Punjab In 2009 due to Love Affairs\n",
    "p = a[np.where((a[:,0]=='Punjab') & (a[:,1]=='2009') & (a[:,3]=='Love Affairs') )]"
   ]
  },
  {
   "cell_type": "code",
   "execution_count": 36,
   "metadata": {},
   "outputs": [],
   "source": [
    "temp = a[np.where( (a[:,0]=='Punjab') & (np.isin(a[:,1],'2001')))]"
   ]
  },
  {
   "cell_type": "code",
   "execution_count": 37,
   "metadata": {},
   "outputs": [
    {
     "name": "stdout",
     "output_type": "stream",
     "text": [
      "[['Punjab' '2001' 'Causes' ... 'Female' '0-14' '0']\n",
      " ['Punjab' '2001' 'Causes' ... 'Female' '0-14' '0']\n",
      " ['Punjab' '2001' 'Causes' ... 'Female' '0-14' '0']\n",
      " ...\n",
      " ['Punjab' '2001' 'Social_Status' ... 'Male' '0-100+' '234']\n",
      " ['Punjab' '2001' 'Social_Status' ... 'Male' '0-100+' '110']\n",
      " ['Punjab' '2001' 'Social_Status' ... 'Male' '0-100+' '25']]\n"
     ]
    }
   ],
   "source": [
    "print(temp)"
   ]
  },
  {
   "cell_type": "markdown",
   "metadata": {},
   "source": [
    "# General Method for All Queries !!"
   ]
  },
  {
   "cell_type": "code",
   "execution_count": 44,
   "metadata": {},
   "outputs": [],
   "source": [
    "def que(x = a,state=states,year = years,t = types,group = age,gender = [\"Male\",\"Female\"]):\n",
    "    result = x[np.where( (np.isin(x[:,0],state)) & (np.isin(x[:,1],year)) & (np.isin(x[:,3],t)) & (np.isin(x[:,5],group)) & (np.isin(x[:,4],gender)) )]\n",
    "    return result"
   ]
  },
  {
   "cell_type": "code",
   "execution_count": 45,
   "metadata": {},
   "outputs": [],
   "source": [
    "op = que(state = \"Punjab\",year = \"2009\")"
   ]
  },
  {
   "cell_type": "code",
   "execution_count": 43,
   "metadata": {},
   "outputs": [
    {
     "name": "stdout",
     "output_type": "stream",
     "text": [
      "[['Punjab' '2009' 'Causes' ... 'Female' '0-14' '0']\n",
      " ['Punjab' '2009' 'Causes' ... 'Female' '0-14' '1']\n",
      " ['Punjab' '2009' 'Causes' ... 'Female' '0-14' '0']\n",
      " ...\n",
      " ['Punjab' '2009' 'Social_Status' ... 'Male' '0-100+' '392']\n",
      " ['Punjab' '2009' 'Social_Status' ... 'Male' '0-100+' '218']\n",
      " ['Punjab' '2009' 'Social_Status' ... 'Male' '0-100+' '8']]\n"
     ]
    }
   ],
   "source": [
    "print(op)"
   ]
  },
  {
   "cell_type": "code",
   "execution_count": 47,
   "metadata": {},
   "outputs": [
    {
     "name": "stdout",
     "output_type": "stream",
     "text": [
      "[['Punjab' '2009' 'Causes' 'Love Affairs' 'Male' '0-14' '0']\n",
      " ['Punjab' '2009' 'Causes' 'Love Affairs' 'Male' '15-29' '6']\n",
      " ['Punjab' '2009' 'Causes' 'Love Affairs' 'Male' '30-44' '4']\n",
      " ['Punjab' '2009' 'Causes' 'Love Affairs' 'Male' '45-59' '1']\n",
      " ['Punjab' '2009' 'Causes' 'Love Affairs' 'Male' '60+' '0']]\n"
     ]
    }
   ],
   "source": [
    "op = que(state = \"Punjab\",year = \"2009\",gender = \"Male\",t=\"Love Affairs\")\n",
    "print(op)"
   ]
  },
  {
   "cell_type": "code",
   "execution_count": null,
   "metadata": {},
   "outputs": [],
   "source": []
  }
 ],
 "metadata": {
  "kernelspec": {
   "display_name": "Python 3",
   "language": "python",
   "name": "python3"
  },
  "language_info": {
   "codemirror_mode": {
    "name": "ipython",
    "version": 3
   },
   "file_extension": ".py",
   "mimetype": "text/x-python",
   "name": "python",
   "nbconvert_exporter": "python",
   "pygments_lexer": "ipython3",
   "version": "3.6.8"
  }
 },
 "nbformat": 4,
 "nbformat_minor": 2
}
