{
 "cells": [
  {
   "cell_type": "markdown",
   "metadata": {},
   "source": [
    " <img src=\"https://scontent.fixc2-1.fna.fbcdn.net/v/t31.0-8/14712829_1801910116719114_4272577980738802404_o.png?_nc_cat=105&_nc_ht=scontent.fixc2-1.fna&oh=df664e1abc6250fa71e5918b389bae93&oe=5CBF1474\" alt=\"Smiley face\"> "
   ]
  },
  {
   "cell_type": "markdown",
   "metadata": {},
   "source": [
    "# Assignemnt No 1: Python Basics : ITRONIX SOLUTIONS : Dinesh Pabbi"
   ]
  },
  {
   "cell_type": "markdown",
   "metadata": {},
   "source": [
    "#### Question No 1: \n",
    "Input : Welcome.to.Itronix.Solutions.Jalandhar\n",
    "<br>Output : Welcome to Itronix Solutions Jalandhar"
   ]
  },
  {
   "cell_type": "code",
   "execution_count": 36,
   "metadata": {},
   "outputs": [
    {
     "name": "stdout",
     "output_type": "stream",
     "text": [
      "Enter The string with dots\n",
      "dinesh.is.a.student\n",
      "dinesh is a student\n"
     ]
    }
   ],
   "source": [
    "s = input(\"Enter The string with dots\\n\")\n",
    "s = \" \".join(s.split(\".\"))\n",
    "print(s)"
   ]
  },
  {
   "cell_type": "markdown",
   "metadata": {},
   "source": [
    "#### Question No 2: Conver list to the Power of 2 : Without using for loop\n",
    "first_list = [2, 4, 5]\n",
    "<br>print(first_list**2)\n"
   ]
  },
  {
   "cell_type": "code",
   "execution_count": 37,
   "metadata": {},
   "outputs": [
    {
     "name": "stdout",
     "output_type": "stream",
     "text": [
      "[4, 16, 25]\n"
     ]
    }
   ],
   "source": [
    "first_list = [2, 4, 5] \n",
    "out= list(map(lambda x:x**2,first_list))\n",
    "print(out)\n",
    "#Write your code here ( Output: [4, 16, 25])"
   ]
  },
  {
   "cell_type": "markdown",
   "metadata": {},
   "source": [
    "#### Question No 3: Join the given 2 list\n",
    "Expected Output : ['Nikola Tesla', 'James Watt', 'Albert Einstein']\n"
   ]
  },
  {
   "cell_type": "code",
   "execution_count": 38,
   "metadata": {},
   "outputs": [
    {
     "name": "stdout",
     "output_type": "stream",
     "text": [
      "['nikola', 'james', 'albert', 'tesla', 'watt', 'einstein']\n"
     ]
    }
   ],
   "source": [
    "list_of_names = ['nikola', 'james', 'albert']\n",
    "list_of_names2 = ['tesla','watt','einstein']\n",
    "out = list_of_names + list_of_names2\n",
    "print(out)#Write your code here"
   ]
  },
  {
   "cell_type": "markdown",
   "metadata": {},
   "source": [
    "#### Question No 4: Join the given 2 list\n",
    "list_of_nums = [22,45,32,20,87,94,30]\n",
    "<br>Find the largest element int the list using reduce function: \n",
    "<br>Use of any loop will lead to penalty"
   ]
  },
  {
   "cell_type": "code",
   "execution_count": 6,
   "metadata": {},
   "outputs": [],
   "source": [
    "from functools import reduce"
   ]
  },
  {
   "cell_type": "code",
   "execution_count": 39,
   "metadata": {},
   "outputs": [
    {
     "name": "stdout",
     "output_type": "stream",
     "text": [
      "94\n"
     ]
    }
   ],
   "source": [
    "list_of_nums = [22,45,32,20,87,94,30]\n",
    "out = reduce(lambda a,b: a if a>b else b,list_of_nums)\n",
    "print(out)#Write your code here"
   ]
  },
  {
   "cell_type": "markdown",
   "metadata": {},
   "source": [
    "#### Question No 5: \n",
    "a_sentence = \"Hi Karan, this is to inform you that I'm not well today.\"\n",
    "<br>Task 5.1 : ['Hi', 'Karan,', 'this', 'is', 'to', 'inform', 'you', 'that', \"I'm\", 'not', 'well', 'today.']\n",
    "__________________________________________\n",
    "a_mail = \"Hi Karan, this is to inform you that I'm not well today. I won't be coming to office, but I'm available on call. Thanks\"\n",
    "<br>Task 5.2 : Hi Karan, this is to inform you that I'm not well today & I won't be coming to office, but I'm available on call &  Thanks"
   ]
  },
  {
   "cell_type": "code",
   "execution_count": 40,
   "metadata": {},
   "outputs": [
    {
     "name": "stdout",
     "output_type": "stream",
     "text": [
      "['Hi', 'Karan', ',', 'this', 'is', 'to', 'inform', 'you', 'that', \"I'm\", 'not', 'well', 'today.']\n"
     ]
    }
   ],
   "source": [
    "a_sentence = \"Hi Karan , this is to inform you that I'm not well today.\" \n",
    "print([i for i in a_sentence.split()])"
   ]
  },
  {
   "cell_type": "code",
   "execution_count": 41,
   "metadata": {},
   "outputs": [
    {
     "name": "stdout",
     "output_type": "stream",
     "text": [
      "Hi Karan, this is to inform you that I'm not well today &  I won't be coming to office, but I'm available on call &  Thanks\n"
     ]
    }
   ],
   "source": [
    "a_mail = \"Hi Karan, this is to inform you that I'm not well today. I won't be coming to office, but I'm available on call. Thanks\" \n",
    "print(\" & \".join(a_mail.split(\".\")))"
   ]
  },
  {
   "cell_type": "markdown",
   "metadata": {},
   "source": [
    "#### Question No6 : Pattern to print- Using Single For Loop"
   ]
  },
  {
   "cell_type": "code",
   "execution_count": null,
   "metadata": {},
   "outputs": [],
   "source": [
    "\n",
    "*\n",
    "* *\n",
    "* * *\n",
    "* * * * \n",
    "* * * * *\n",
    "* * * *\n",
    "* * *\n",
    "* *\n",
    "*\n"
   ]
  },
  {
   "cell_type": "code",
   "execution_count": 57,
   "metadata": {},
   "outputs": [
    {
     "name": "stdout",
     "output_type": "stream",
     "text": [
      "Enter the number of lines\n",
      "4\n",
      "\n",
      "* \n",
      "* * \n",
      "* * * \n",
      "* * * * \n",
      "* * * \n",
      "* * \n",
      "* \n",
      "\n"
     ]
    }
   ],
   "source": [
    "j = int(input(\"Enter the number of lines\\n\"))\n",
    "print()\n",
    "k = j+1\n",
    "for i in range(1,2*j +1):\n",
    "    if i<=j:\n",
    "        temp = i%k\n",
    "        st = \"* \"*temp\n",
    "        print(st)\n",
    "    else:\n",
    "        temp = (2*j -i)%k\n",
    "        st = \"* \"*temp\n",
    "        print(st)"
   ]
  },
  {
   "cell_type": "markdown",
   "metadata": {},
   "source": [
    "### Question No 7 : Print the #Hashtag Without the '#'\n",
    "tweet = 'Welcome to #Itronix #Solutions Jalandhar'\n",
    "#### Output: Itronix Solutions"
   ]
  },
  {
   "cell_type": "code",
   "execution_count": 53,
   "metadata": {},
   "outputs": [
    {
     "name": "stdout",
     "output_type": "stream",
     "text": [
      "#Itronix #Solutions\n"
     ]
    }
   ],
   "source": [
    "tweet = 'Welcome to #Itronix #Solutions Jalandhar'\n",
    "Out = tweet.split(\" \")\n",
    "result = list(filter(lambda x: x[0]=='#',Out))\n",
    "print(\" \".join(result))\n",
    "#Write your code here"
   ]
  },
  {
   "cell_type": "markdown",
   "metadata": {},
   "source": [
    "### Question No 8 : Print the word that starts from a vowel.\n",
    "paragraph = [\"There was a fox.\" , 'It was brown in color.', \"It was seen near that farm sometime back\"]\n",
    "### Output :['a', 'It', 'in', 'It']"
   ]
  },
  {
   "cell_type": "code",
   "execution_count": 54,
   "metadata": {},
   "outputs": [
    {
     "name": "stdout",
     "output_type": "stream",
     "text": [
      "['a', 'It', 'in', 'It']\n"
     ]
    }
   ],
   "source": [
    "paragraph = [\"There was a fox.\" , 'It was brown in color.', \"It was seen near that farm sometime back\"]\n",
    "result = []\n",
    "for i in paragraph:\n",
    "    temp = list(filter(lambda x:x[0].lower() in ['a','e','i','o','u'],i.split(\" \")))\n",
    "    result += temp\n",
    "print(result)\n",
    "# out=list(#Write your code here"
   ]
  },
  {
   "cell_type": "markdown",
   "metadata": {},
   "source": [
    "### Question No 9 : Write a program which will find all such numbers which are divisible by 7 but are not a multiple of 5,between 2000 and 3200 (both included).\n",
    "The numbers obtained should be printed in a comma-separated sequence on a single line."
   ]
  },
  {
   "cell_type": "code",
   "execution_count": 49,
   "metadata": {},
   "outputs": [
    {
     "name": "stdout",
     "output_type": "stream",
     "text": [
      "2002,2009,2016,2023,2037,2044,2051,2058,2072,2079,2086,2093,2107,2114,2121,2128,2142,2149,2156,2163,2177,2184,2191,2198,2212,2219,2226,2233,2247,2254,2261,2268,2282,2289,2296,2303,2317,2324,2331,2338,2352,2359,2366,2373,2387,2394,2401,2408,2422,2429,2436,2443,2457,2464,2471,2478,2492,2499,2506,2513,2527,2534,2541,2548,2562,2569,2576,2583,2597,2604,2611,2618,2632,2639,2646,2653,2667,2674,2681,2688,2702,2709,2716,2723,2737,2744,2751,2758,2772,2779,2786,2793,2807,2814,2821,2828,2842,2849,2856,2863,2877,2884,2891,2898,2912,2919,2926,2933,2947,2954,2961,2968,2982,2989,2996,3003,3017,3024,3031,3038,3052,3059,3066,3073,3087,3094,3101,3108,3122,3129,3136,3143,3157,3164,3171,3178,3192,3199\n"
     ]
    }
   ],
   "source": [
    "result = []\n",
    "for i in range(2000,3201):\n",
    "#     if i < 3200:\n",
    "#         if i%7 == 0 and i%5 != 0 :\n",
    "#             print(\"{},\".format(i),end=\"\")\n",
    "#     else:\n",
    "#         if i%7 == 0 and i%5 != 0 :\n",
    "#             print(\"{}\".format(i),end=\"\")\n",
    "    if i%7 == 0 and i%5 != 0 :\n",
    "        result.append(i.__str__())\n",
    "        \n",
    "print(\",\".join(result))\n",
    "        \n",
    "    "
   ]
  },
  {
   "cell_type": "markdown",
   "metadata": {},
   "source": [
    "###  Question no 10 : What will be the Oupput :?\n"
   ]
  },
  {
   "cell_type": "code",
   "execution_count": 50,
   "metadata": {},
   "outputs": [
    {
     "data": {
      "text/plain": [
       "\"\\nx = ['ab', 'cd']\\nfor i in x:\\n    x.append(i.upper())\\nprint(x)\\na) [‘AB’, ‘CD’].\\nb) [‘ab’, ‘cd’, ‘AB’, ‘CD’].\\nc) [‘ab’, ‘cd’].\\nd) none of the mentioned\\n\""
      ]
     },
     "execution_count": 50,
     "metadata": {},
     "output_type": "execute_result"
    }
   ],
   "source": [
    "\"\"\"\n",
    "x = ['ab', 'cd']\n",
    "for i in x:\n",
    "    x.append(i.upper())\n",
    "print(x)\n",
    "a) [‘AB’, ‘CD’].\n",
    "b) [‘ab’, ‘cd’, ‘AB’, ‘CD’].\n",
    "c) [‘ab’, ‘cd’].\n",
    "d) none of the mentioned\n",
    "\"\"\""
   ]
  },
  {
   "cell_type": "code",
   "execution_count": 58,
   "metadata": {},
   "outputs": [
    {
     "name": "stdout",
     "output_type": "stream",
     "text": [
      "Answer is None of the mentioned\n"
     ]
    }
   ],
   "source": [
    "print(\"Answer is None of the mentioned\",)"
   ]
  },
  {
   "cell_type": "code",
   "execution_count": 60,
   "metadata": {},
   "outputs": [
    {
     "name": "stdout",
     "output_type": "stream",
     "text": [
      "Enter the number : 4\n",
      "* \n",
      "* * \n",
      "* * * \n",
      "* * * * \n",
      "* * * \n",
      "* * \n",
      "* \n"
     ]
    }
   ],
   "source": [
    "k = int(input(\"Enter the number : \"))\n",
    "d = 2*k\n",
    "\n",
    "for i in range(1,d):\n",
    "    if i <= k:\n",
    "        print(\"* \"*i)\n",
    "    else:\n",
    "        temp = k*2 - i\n",
    "        print(\"* \"*temp)"
   ]
  },
  {
   "cell_type": "code",
   "execution_count": null,
   "metadata": {},
   "outputs": [],
   "source": []
  }
 ],
 "metadata": {
  "kernelspec": {
   "display_name": "Python 3",
   "language": "python",
   "name": "python3"
  },
  "language_info": {
   "codemirror_mode": {
    "name": "ipython",
    "version": 3
   },
   "file_extension": ".py",
   "mimetype": "text/x-python",
   "name": "python",
   "nbconvert_exporter": "python",
   "pygments_lexer": "ipython3",
   "version": "3.6.8"
  }
 },
 "nbformat": 4,
 "nbformat_minor": 2
}
